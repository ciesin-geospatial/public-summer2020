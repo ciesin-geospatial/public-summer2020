{
 "cells": [
  {
   "cell_type": "markdown",
   "metadata": {},
   "source": [
    "This notebook could be used to detect potential facility types in the facility name that cannot extracted by the General Name Cleaning & Type Mapping Notebook. The overall approach is to filter most frequent words that appear in the `CLEAN_NAME_FINAL` column and identify potential types via manual inspection of sampled rows containing those words. The assumption is that facility type keywords will appear a lot of times in the `CLEAN_NAME_FINAL` column which is the output  after removing type information using existing type dictionary."
   ]
  },
  {
   "cell_type": "code",
   "execution_count": 1,
   "metadata": {},
   "outputs": [],
   "source": [
    "import numpy as np\n",
    "import pandas as pd\n",
    "import os\n",
    "from symspellpy import SymSpell\n",
    "from itertools import islice"
   ]
  },
  {
   "cell_type": "code",
   "execution_count": 2,
   "metadata": {},
   "outputs": [],
   "source": [
    "pd.set_option('display.max_columns', None)\n",
    "pd.set_option('display.max_rows', None)\n",
    "pd.set_option('mode.chained_assignment', None)"
   ]
  },
  {
   "cell_type": "code",
   "execution_count": 3,
   "metadata": {},
   "outputs": [],
   "source": [
    "# data import\n",
    "# import dataset as df\n",
    "path = r\"C:\\Users\\DUANYUEYUN\\Documents\\GRID3\\Health facilities\\Data\\Africa\\healthsites_cleaned.csv\"\n",
    "df = pd.read_csv(path)\n",
    "# import existing type dictionary as type_dict\n",
    "dataDir = r\"C:\\Users\\DUANYUEYUN\\Documents\\GRID3\\Health facilities\\Data\\Africa\"\n",
    "type_dict = pd.read_csv(dataDir + \"//type_dict_1210.csv\")"
   ]
  },
  {
   "cell_type": "code",
   "execution_count": 4,
   "metadata": {},
   "outputs": [],
   "source": [
    "# facility name column\n",
    "FACILITY_NAME = 'name'\n",
    "# country column\n",
    "COUNTRY = 'country'\n",
    "# final clean name after removing type information\n",
    "CLEAN_NAME_FINAL = 'clean_name_final' \n",
    "# type information extracted\n",
    "EXTRACT_TYPE = 'type_extract' \n",
    "# columns to sample for inspection\n",
    "cols = [COUNTRY, FACILITY_NAME, CLEAN_NAME_FINAL]\n",
    "# columns of type dictionary\n",
    "type_dict_cols = ['Country', 'Type', 'Abbreviation', 'count']"
   ]
  },
  {
   "cell_type": "code",
   "execution_count": 5,
   "metadata": {},
   "outputs": [],
   "source": [
    "# obtain rows with NA in extract_type\n",
    "sample = df[(pd.isna(df[EXTRACT_TYPE]))]"
   ]
  },
  {
   "cell_type": "code",
   "execution_count": 6,
   "metadata": {},
   "outputs": [
    {
     "name": "stdout",
     "output_type": "stream",
     "text": [
      "Number of data points: 3068\n"
     ]
    }
   ],
   "source": [
    "print(\"Number of data points:\", sample.shape[0])"
   ]
  },
  {
   "cell_type": "code",
   "execution_count": 7,
   "metadata": {},
   "outputs": [
    {
     "name": "stdout",
     "output_type": "stream",
     "text": [
      "Distribution of data points by country:\n"
     ]
    },
    {
     "data": {
      "text/plain": [
       "Ghana                               752\n",
       "Democratic Republic of the Congo    494\n",
       "Ethiopia                            431\n",
       "Kenya                               401\n",
       "Burkina Faso                        312\n",
       "Sierra Leone                        173\n",
       "Nigeria                             124\n",
       "Mozambique                           92\n",
       "Namibia                              92\n",
       "Zimbabwe                             74\n",
       "Rwanda                               45\n",
       "Zambia                               44\n",
       "Somalia                              21\n",
       "South Sudan                          13\n",
       "Name: country, dtype: int64"
      ]
     },
     "execution_count": 7,
     "metadata": {},
     "output_type": "execute_result"
    }
   ],
   "source": [
    "print(\"Distribution of data points by country:\")\n",
    "ctr_counts = sample[COUNTRY].value_counts()\n",
    "ctr_counts"
   ]
  },
  {
   "cell_type": "code",
   "execution_count": 8,
   "metadata": {},
   "outputs": [],
   "source": [
    "def get_countries(ctr_counts, threshold):\n",
    "    \"\"\"return a list of countries with number of data points greater than the threshold\"\"\"\n",
    "    return list(ctr_counts[ctr_counts>threshold].index)"
   ]
  },
  {
   "cell_type": "code",
   "execution_count": 9,
   "metadata": {},
   "outputs": [],
   "source": [
    "def gen_word_freq_dict(df, country_col, country_name, clean_name_final, freq_threshold):\n",
    "    \"\"\"return a keyword frequency dictionary of words that appear in clean_name_final\n",
    "    and the frequency is above freq_threshold\"\"\"\n",
    "    \n",
    "    # obtain country df with no NAs in clean_name_final\n",
    "    tmp = df[(df[country_col].str.upper()==country_name.upper())&(~pd.isna(df[clean_name_final]))]\n",
    "    \n",
    "    # write list of words that appear in clean_name_final into a  text  file\n",
    "    filename = country_name+\".txt\"\n",
    "    file1 = open(filename,\"w\")\n",
    "    names_word = list(tmp[clean_name_final].str.lower())\n",
    "    file1.write(' '.join(names_word)) \n",
    "    file1.close() \n",
    "    \n",
    "    # create a word frequency dictionary\n",
    "    sym_spell = SymSpell()\n",
    "    sym_spell.create_dictionary(filename)\n",
    "    d = sym_spell.words\n",
    "    \n",
    "    # sort in decreasing frequency\n",
    "    sorted_d = {k: v for k, v in sorted(d.items(), key=lambda item: -item[1])}\n",
    "    # filter by frequency threshold\n",
    "    sorted_d = {k: v for k, v in sorted_d.items() if v>freq_threshold}\n",
    "    \n",
    "    os.remove(filename)\n",
    "    \n",
    "    return sorted_d"
   ]
  },
  {
   "cell_type": "code",
   "execution_count": 10,
   "metadata": {},
   "outputs": [],
   "source": [
    "def sample_rows(df, country_col, country_name, words, sample_size, clean_name_final, cols):\n",
    "    \"\"\"for each word, sample rows from the df where clean_name_final contains the word\"\"\"\n",
    "    \n",
    "    results = pd.DataFrame()\n",
    "    ctr_df = df[(df[country_col].str.upper()==country_name.upper())]\n",
    "    for word in words:\n",
    "        tmp = ctr_df[ctr_df[clean_name_final].str.contains(word, case=False, na=False)][cols]\n",
    "        if tmp.shape[0]>sample_size:\n",
    "            tmp = tmp.sample(sample_size)\n",
    "        tmp['keyword'] = word\n",
    "        results = pd.concat([results, tmp])\n",
    "        ctr_df = ctr_df[~ctr_df[clean_name_final].str.contains(word, case=False, na=False)]\n",
    "    return results"
   ]
  },
  {
   "cell_type": "code",
   "execution_count": 23,
   "metadata": {},
   "outputs": [],
   "source": [
    "def add_rows(additions, type_dict, type_dict_cols):\n",
    "    \n",
    "    \"\"\"add new rows to existing type dictionary.\n",
    "    additions: dictionary with keys being countries and values being pairs of facility type and abbreviation.\n",
    "    e.g. {'Ghana':[('Pharmacy', 'PHARMACY'), ('Chemist', 'CHEMIST')]}\"\"\"\n",
    "    \n",
    "    rows=[]\n",
    "    \n",
    "    for country in additions.keys():\n",
    "        new_types = additions[country]\n",
    "        for new_type in new_types:\n",
    "            rows.append([country, new_type[0], new_type[1], np.nan])\n",
    "\n",
    "    new_rows = pd.DataFrame(rows, columns=type_dict_cols)\n",
    "    print(\"Number of new rows added:\", new_rows.shape[0])\n",
    "    # Add new rows to type dictionary\n",
    "    type_dict = pd.concat([type_dict, new_rows])\n",
    "    type_dict.sort_values(by=['Country', 'Type', 'Abbreviation'], inplace=True)\n",
    "    \n",
    "    return type_dict"
   ]
  },
  {
   "cell_type": "code",
   "execution_count": 12,
   "metadata": {},
   "outputs": [
    {
     "name": "stdout",
     "output_type": "stream",
     "text": [
      "['Ghana', 'Democratic Republic of the Congo', 'Ethiopia', 'Kenya', 'Burkina Faso', 'Sierra Leone', 'Nigeria']\n"
     ]
    }
   ],
   "source": [
    "countries = get_countries(ctr_counts, threshold=100)\n",
    "print(countries)"
   ]
  },
  {
   "cell_type": "code",
   "execution_count": 13,
   "metadata": {},
   "outputs": [],
   "source": [
    "results = pd.DataFrame()\n",
    "for country in countries:\n",
    "    keyword_dict = gen_word_freq_dict(df=sample, country_col=COUNTRY, \n",
    "                                    country_name=country, clean_name_final=CLEAN_NAME_FINAL,\n",
    "                                       freq_threshold=20)\n",
    "    \n",
    "    keywords = list(keyword_dict.keys())\n",
    "    \n",
    "    ctr_results = sample_rows(df=sample, country_col=COUNTRY, country_name=country, \n",
    "                      words=keywords, sample_size=10, clean_name_final=CLEAN_NAME_FINAL, \n",
    "                      cols=cols)\n",
    "    \n",
    "    results = pd.concat([results, ctr_results])"
   ]
  },
  {
   "cell_type": "code",
   "execution_count": 14,
   "metadata": {},
   "outputs": [
    {
     "data": {
      "text/plain": [
       "(150, 4)"
      ]
     },
     "execution_count": 14,
     "metadata": {},
     "output_type": "execute_result"
    }
   ],
   "source": [
    "results.shape"
   ]
  },
  {
   "cell_type": "code",
   "execution_count": 30,
   "metadata": {},
   "outputs": [
    {
     "data": {
      "text/html": [
       "<div>\n",
       "<style scoped>\n",
       "    .dataframe tbody tr th:only-of-type {\n",
       "        vertical-align: middle;\n",
       "    }\n",
       "\n",
       "    .dataframe tbody tr th {\n",
       "        vertical-align: top;\n",
       "    }\n",
       "\n",
       "    .dataframe thead th {\n",
       "        text-align: right;\n",
       "    }\n",
       "</style>\n",
       "<table border=\"1\" class=\"dataframe\">\n",
       "  <thead>\n",
       "    <tr style=\"text-align: right;\">\n",
       "      <th></th>\n",
       "      <th>country</th>\n",
       "      <th>name</th>\n",
       "      <th>clean_name_final</th>\n",
       "      <th>keyword</th>\n",
       "    </tr>\n",
       "  </thead>\n",
       "  <tbody>\n",
       "    <tr>\n",
       "      <th>3435</th>\n",
       "      <td>Ghana</td>\n",
       "      <td>Ashgin Pharmacy</td>\n",
       "      <td>Ashgin Pharmacy</td>\n",
       "      <td>pharmacy</td>\n",
       "    </tr>\n",
       "    <tr>\n",
       "      <th>3185</th>\n",
       "      <td>Ghana</td>\n",
       "      <td>Adepaa Pharmacy</td>\n",
       "      <td>Adepaa Pharmacy</td>\n",
       "      <td>pharmacy</td>\n",
       "    </tr>\n",
       "    <tr>\n",
       "      <th>3514</th>\n",
       "      <td>Ghana</td>\n",
       "      <td>Manu Yaa pharmacy</td>\n",
       "      <td>Manu Yaa Pharmacy</td>\n",
       "      <td>pharmacy</td>\n",
       "    </tr>\n",
       "    <tr>\n",
       "      <th>3836</th>\n",
       "      <td>Ghana</td>\n",
       "      <td>Jinlet Pharmacy</td>\n",
       "      <td>Jinlet Pharmacy</td>\n",
       "      <td>pharmacy</td>\n",
       "    </tr>\n",
       "    <tr>\n",
       "      <th>3187</th>\n",
       "      <td>Ghana</td>\n",
       "      <td>Biolink Pharmacy</td>\n",
       "      <td>Biolink Pharmacy</td>\n",
       "      <td>pharmacy</td>\n",
       "    </tr>\n",
       "  </tbody>\n",
       "</table>\n",
       "</div>"
      ],
      "text/plain": [
       "     country               name   clean_name_final   keyword\n",
       "3435   Ghana    Ashgin Pharmacy    Ashgin Pharmacy  pharmacy\n",
       "3185   Ghana    Adepaa Pharmacy    Adepaa Pharmacy  pharmacy\n",
       "3514   Ghana  Manu Yaa pharmacy  Manu Yaa Pharmacy  pharmacy\n",
       "3836   Ghana    Jinlet Pharmacy    Jinlet Pharmacy  pharmacy\n",
       "3187   Ghana   Biolink Pharmacy   Biolink Pharmacy  pharmacy"
      ]
     },
     "execution_count": 30,
     "metadata": {},
     "output_type": "execute_result"
    }
   ],
   "source": [
    "results.head()"
   ]
  },
  {
   "cell_type": "code",
   "execution_count": 16,
   "metadata": {},
   "outputs": [],
   "source": [
    "# write additions after manual inspection\n",
    "additions = {'Ghana':[('Pharmacy', 'PHARMACY'), ('Chemist', 'CHEMIST')]}"
   ]
  },
  {
   "cell_type": "code",
   "execution_count": 24,
   "metadata": {},
   "outputs": [
    {
     "name": "stdout",
     "output_type": "stream",
     "text": [
      "Number of new rows added: 2\n"
     ]
    }
   ],
   "source": [
    "new_type_dict = add_rows(additions, type_dict, type_dict_cols)"
   ]
  },
  {
   "cell_type": "code",
   "execution_count": 25,
   "metadata": {},
   "outputs": [
    {
     "name": "stdout",
     "output_type": "stream",
     "text": [
      "{'pharmacy': 320, 'limited': 40, 'chemist': 31}\n"
     ]
    }
   ],
   "source": [
    "# example of keyword_dict\n",
    "keyword_dict = gen_word_freq_dict(df=sample, country_col=COUNTRY, \n",
    "                                    country_name='Ghana', clean_name_final=CLEAN_NAME_FINAL,\n",
    "                                 freq_threshold=20)\n",
    "\n",
    "print(keyword_dict)"
   ]
  }
 ],
 "metadata": {
  "kernelspec": {
   "display_name": "Python 3",
   "language": "python",
   "name": "python3"
  },
  "language_info": {
   "codemirror_mode": {
    "name": "ipython",
    "version": 3
   },
   "file_extension": ".py",
   "mimetype": "text/x-python",
   "name": "python",
   "nbconvert_exporter": "python",
   "pygments_lexer": "ipython3",
   "version": "3.7.6"
  }
 },
 "nbformat": 4,
 "nbformat_minor": 4
}
