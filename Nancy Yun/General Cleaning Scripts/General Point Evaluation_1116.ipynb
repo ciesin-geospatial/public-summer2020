{
 "cells": [
  {
   "cell_type": "code",
   "execution_count": 1,
   "metadata": {},
   "outputs": [],
   "source": [
    "import numpy as np\n",
    "import pandas as pd\n",
    "import fiona\n",
    "import geopandas as gpd\n",
    "import os\n",
    "from fuzzywuzzy import fuzz\n",
    "from fuzzywuzzy import process\n",
    "import matplotlib.pyplot as plt\n",
    "pd.options.mode.chained_assignment = None"
   ]
  },
  {
   "cell_type": "markdown",
   "metadata": {},
   "source": [
    "For first round cleaning, the input dataset should have the following columns:\n",
    "\n",
    "- `FACILITY_NAME`: facility name\n",
    "- `CLEAN_NAME`: cleaned facility name\n",
    "- `CLUSTER1`: feature sequence (found using 100m radius)\n",
    "- `DATE`: date\n",
    "- `FACILITY_TYPE`: facility type \n",
    "\n",
    "For second round cleaning, the input dataset should have the following columns:\n",
    "- `CLUSTER2`: feature sequence (found using 1km radius and match name)"
   ]
  },
  {
   "cell_type": "markdown",
   "metadata": {},
   "source": [
    "There are 4 resulting files:\n",
    "\n",
    "- decision1: data with 1st round evaluation, the decision column is defined using `EVAL1`\n",
    "- dropped1: data after dropping points based on evaluation results\n",
    "- decision2: data with 1st round evaluation, the decision column is defined using `EVAL2`\n",
    "- dropped2: data after dropping points based on evaluation results   "
   ]
  },
  {
   "cell_type": "code",
   "execution_count": 4,
   "metadata": {},
   "outputs": [],
   "source": [
    "# data import\n",
    "dataDir = r\"C:\\Users\\DUANYUEYUN\\Documents\\ArcGIS\\Projects\\WHO_ISS\"\n",
    "df = gpd.read_file(dataDir+\"\\\\WHO_ISS.gdb\", driver='FileGDB', layer= 'ISS_1020')\n",
    "dataDir = r\"C:\\Users\\DUANYUEYUN\\Documents\\GRID3\\Health facilities\\Data\\Africa\\Cleaned\"\n",
    "filename = \"clean_names_types_1109.csv\"\n",
    "path = os.path.join(dataDir, filename)\n",
    "new_cols = pd.read_csv(path)\n",
    "\n",
    "# get index\n",
    "df.reset_index(inplace=True)"
   ]
  },
  {
   "cell_type": "code",
   "execution_count": 5,
   "metadata": {},
   "outputs": [],
   "source": [
    "# merge with new columns including 'clean_name_final'\n",
    "df = df.merge(new_cols, on='index')\n",
    "df = df[df['Country']=='DEMOCRATIC REPUBLIC OF THE CONGO']"
   ]
  },
  {
   "cell_type": "code",
   "execution_count": 6,
   "metadata": {},
   "outputs": [],
   "source": [
    "# INPUT\n",
    "FACILITY_NAME = 'clean_name'\n",
    "CLEAN_NAME = 'clean_name_final'\n",
    "CLUSTER1 = 'FEAT_SEQ'\n",
    "CLUSTER2 = 'FEAT_SEQ'\n",
    "DATE = 'date_of_visit'\n",
    "FACILITY_TYPE = 'type_of_facility_visited'\n",
    "\n",
    "# PARAMETERS\n",
    "# match score thresholds for two names to be considered a match\n",
    "SIMPLE_SCORE, SIMPLE_SCORE_MIN, PARTIAL_SCORE, PARTIAL_SCORE2 =80, 50, 80, 90\n",
    "\n",
    "# OUTPUT COLUMNS\n",
    "EVAL1 = 'eval'\n",
    "EVAL2 = 'eval2'\n",
    "\n",
    "# path to save results\n",
    "SAVE_PATH = r\"C:\\Users\\DUANYUEYUN\\Documents\\GRID3\\Health facilities\\Data\\Africa\"\n",
    "# resulting file names\n",
    "decision1 = \"decisions1.csv\"\n",
    "dropped1 = \"results1.csv\"\n",
    "decision2 = \"decision2.csv\"\n",
    "dropped2 = \"results2.csv\""
   ]
  },
  {
   "cell_type": "markdown",
   "metadata": {},
   "source": [
    "# Define functions"
   ]
  },
  {
   "cell_type": "code",
   "execution_count": 7,
   "metadata": {},
   "outputs": [],
   "source": [
    "def find_subclusters(df, name, clean_name, cluster, date, fac_type,\n",
    "                     simple_score=80, simple_score_min=50, \n",
    "                     partial_score=80, partial_score2=90):\n",
    "    \"\"\"\n",
    "    Obtain subclusters: data points within 1km, matched to the same name and have the same facility type.\n",
    "    \"\"\"\n",
    "    \n",
    "    # reformat the date column\n",
    "    df[date] = pd.to_datetime(df[date])\n",
    "    \n",
    "    # if the cleaned short name is missing, just use original facility name instead\n",
    "    names = []\n",
    "    for idx, row in df.iterrows():\n",
    "        if isinstance(row[clean_name], str):\n",
    "            names.append(row[clean_name])\n",
    "        else:\n",
    "            names.append(row[name])\n",
    "    df['name_for_matching'] = names \n",
    "    # replace the missing values with 'NA'\n",
    "    df['name_for_matching'].fillna('NA', inplace=True)\n",
    "    \n",
    "    # sort values based on feature sequence, name_for_matching and date\n",
    "    df.sort_values(by=[cluster, 'name_for_matching', date], inplace=True)\n",
    "    # group by feature sequence\n",
    "    df_grouped = df.groupby(cluster)\n",
    "\n",
    "    # store the matched name\n",
    "    match_names = []\n",
    "    # store count of subclusters\n",
    "    sub_counts = []\n",
    "    # store score of matching\n",
    "    match_scores = []\n",
    "    # store types of matching\n",
    "    match_types = []\n",
    "\n",
    "    for group_name, df_group in df_grouped:\n",
    "        # obtain list of names in a cluster\n",
    "        names = df_group['name_for_matching'].to_list()\n",
    "        \n",
    "        # use the first name as the potential candidate for finding a match\n",
    "        match_candidates = [names[0]]\n",
    "        match_names.append(names[0])\n",
    "        match_scores.append(np.nan)\n",
    "        match_types.append('Self')\n",
    "\n",
    "        # for the remaining names\n",
    "        for i in range(1, len(names)):\n",
    "\n",
    "            name = names[i]\n",
    "\n",
    "            # use match candidates to find best match and compute match score\n",
    "            match_name1, score1 = process.extractOne(name, match_candidates, scorer = fuzz.ratio)\n",
    "            match_name2, score2 = process.extractOne(name, match_candidates, scorer = fuzz.partial_ratio)\n",
    "\n",
    "            # score based on simple ratio\n",
    "            # or for very short strings, a single letter difference will result in low score\n",
    "            # consider two short strings as a match if there's only 1 letter difference\n",
    "            if score1>=simple_score or (1-score1/100) * len(name) <= 1:\n",
    "                # append match name and score\n",
    "                match_names.append(match_name1)\n",
    "                match_scores.append(score1)\n",
    "                match_types.append('Simple match')\n",
    "\n",
    "            # if simple ratio not that high, check partial ratio\n",
    "            elif score1>=simple_score_min and score2>=partial_score:\n",
    "                # append match name and score\n",
    "                match_names.append(match_name2)\n",
    "                match_scores.append(score2)\n",
    "                match_types.append('Partial match')\n",
    "\n",
    "            elif score1>=simple_score_min:\n",
    "                # check scores again after sorting the letters in names individually\n",
    "                match_candidates2 = [''.join(sorted(candidate)) for candidate in match_candidates]\n",
    "                match_name3, score3 = process.extractOne(''.join(sorted(name)), match_candidates2, \n",
    "                                                         scorer = fuzz.ratio)\n",
    "                match_name4, score4 = process.extractOne(''.join(sorted(name)), match_candidates2, \n",
    "                                                         scorer = fuzz.partial_ratio)\n",
    "\n",
    "                # or for very short strings, a single letter difference will result in low score\n",
    "                # consider two short strings as a match if there's only 1 letter difference\n",
    "                if score3>=simple_score or (1-score3/100) * len(name) <= 1:\n",
    "                    # append match name and score\n",
    "                    index = match_candidates2.index(match_name3)\n",
    "                    match_names.append(match_candidates[index])\n",
    "                    match_scores.append(score3)\n",
    "                    match_types.append('Sorted simple match')\n",
    "\n",
    "                # if simple ratio not that high, check partial ratio\n",
    "                elif score3>=simple_score_min and score4>=partial_score2:\n",
    "                    # append match name and score\n",
    "                    index = match_candidates2.index(match_name4)\n",
    "                    match_names.append(match_candidates[index])\n",
    "                    match_scores.append(score4)\n",
    "                    match_types.append('Sorted partial match')\n",
    "\n",
    "                # if nothing above works, add the name to match candidates\n",
    "                else:\n",
    "                    match_candidates.append(name)\n",
    "                    match_names.append(name)\n",
    "                    match_scores.append(np.nan)\n",
    "                    match_types.append('Self')\n",
    "\n",
    "            # the match score based on simple ratio is lower than the minimum required\n",
    "            # just match the name to itself and add it to match candidates\n",
    "            else:\n",
    "                match_candidates.append(name)\n",
    "                match_names.append(name)\n",
    "                match_scores.append(np.nan)\n",
    "                match_types.append('Self')\n",
    "    \n",
    "    df['match_name'] = match_names\n",
    "    df['match_score'] = match_scores\n",
    "    df['match_type'] = match_types\n",
    "    \n",
    "    def rank(s):\n",
    "        return s.rank(method='dense')\n",
    "    \n",
    "    # assign a sub sequence number\n",
    "    \n",
    "    df['name_seq'] = df.groupby(cluster)['match_name'].apply(rank)\n",
    "    df['name_seq'].fillna(0, inplace=True)\n",
    "    df['name_seq'] = df['name_seq'].astype('int')\n",
    "    \n",
    "    df['type_seq'] = df.groupby([cluster, 'name_seq'])[fac_type].apply(rank)\n",
    "    df['type_seq'].fillna(0, inplace=True)\n",
    "    df['type_seq'] = df['type_seq'].astype('int')\n",
    "    \n",
    "    # generate cluster ID\n",
    "    df['clusterID'] = df[cluster].astype('str').str.cat([df['name_seq'].astype('str'),\n",
    "                                                        df['type_seq'].astype('str')], sep='-')\n",
    "    # sort by subcluster\n",
    "    df.sort_values(by=[cluster, 'name_seq', 'type_seq'], inplace=True)"
   ]
  },
  {
   "cell_type": "code",
   "execution_count": 8,
   "metadata": {},
   "outputs": [],
   "source": [
    "def cal_cluster_ratio(df, subcluster=['FEAT_SEQ','name_seq','type_seq'], \n",
    "                      cluster='FEAT_SEQ', clusterID='clusterID', date = 'date'):\n",
    "    \"\"\"\n",
    "    Calculate cluster ratio after fuzzy match.\n",
    "    \"\"\"\n",
    "    # obtain cluster size\n",
    "    counts = df.groupby(cluster).agg(n_subclusters=(clusterID, 'nunique'),\n",
    "                                    freq_count=(clusterID, 'count'))\n",
    "    counts.reset_index(inplace=True)\n",
    "    # join back to the original dataframe\n",
    "    df = df.merge(counts, on =[cluster])\n",
    "\n",
    "    # obtain subcluster size\n",
    "    res = df.groupby(clusterID)\\\n",
    "    .agg(cluster_size=('freq_count', 'max'), subcluster_size=('freq_count','count'))\n",
    "    # calculate cluster ratio\n",
    "    res['cluster_ratio'] = res['subcluster_size']/res['cluster_size']\n",
    "    res.reset_index(inplace=True)\n",
    "    \n",
    "    # join back to original dataframe\n",
    "    df = df.merge(res, on=clusterID)\n",
    "    # sort values\n",
    "    df = df.sort_values(by=subcluster + ['cluster_ratio', date])\n",
    "    df.drop(columns=['freq_count'], inplace=True)\n",
    "    \n",
    "    return df"
   ]
  },
  {
   "cell_type": "code",
   "execution_count": 9,
   "metadata": {},
   "outputs": [],
   "source": [
    "def eval_points(df, cluster = 'FEAT_SEQ', cluster_size = 'cluster_size', \n",
    "                subcluster_size = 'subcluster_size', num_subclusters = 'n_subclusters', \n",
    "                ratio = 'cluster_ratio', new_col='eval'):\n",
    "    \"\"\"Implement a decision tree to evalute subclusters and create an `eval` column.\n",
    "    Possible values include 0 (to be dropped), 1 (good point to be kept) and\n",
    "    2 (point that needs further examination)\n",
    "    \"\"\"\n",
    "\n",
    "    evaluation = []\n",
    "\n",
    "    # group by cluster\n",
    "    clusters = df.groupby(cluster)\n",
    "\n",
    "    for group_name, group_df in clusters:\n",
    "\n",
    "        # number of points in the cluster\n",
    "        N = group_df[cluster_size].iloc[0]\n",
    "        # number of subclusters within the cluster\n",
    "        m = group_df[num_subclusters].iloc[0]\n",
    "\n",
    "        # Single point clusters => eval=2\n",
    "        if N==1:\n",
    "            evaluation.append(2)\n",
    "\n",
    "        # Two point clusters\n",
    "        elif N==2:\n",
    "            for idx, row in group_df.iterrows():\n",
    "                # two points agree => eval=1\n",
    "                if row[ratio]==1:\n",
    "                    evaluation.append(1)\n",
    "                # otherwise, eval=2\n",
    "                else:\n",
    "                    evaluation.append(2)\n",
    "                    \n",
    "        # Three point clusters\n",
    "        elif N==3:\n",
    "            for idx, row in group_df.iterrows():\n",
    "                # for points with ratio >= 2/3, eval=1\n",
    "                if row[ratio]>0.66:\n",
    "                    evaluation.append(1)\n",
    "                # otherwise, eval=2\n",
    "                else:\n",
    "                    evaluation.append(2)   \n",
    "                    \n",
    "        # Four point clusters\n",
    "        elif N==4:\n",
    "            # every point disagrees, eval=2\n",
    "            if m==4:\n",
    "                for idx, row in group_df.iterrows():\n",
    "                    evaluation.append(2)\n",
    "            \n",
    "            else:\n",
    "                for idx, row in group_df.iterrows():\n",
    "                    # for points with ratio greater than or equal to 0.5, eval=1\n",
    "                    if row[ratio]>=0.5:\n",
    "                        evaluation.append(1)\n",
    "                    # otherwise, discard points, eval=0\n",
    "                    else:\n",
    "                        evaluation.append(0)\n",
    "        # For clusters with size greater than 4\n",
    "        else:\n",
    "            for idx, row in group_df.iterrows():\n",
    "                # for points with ratio smaller than or equal to 0.2, eval=0\n",
    "                if row[ratio]<=0.2:\n",
    "                    evaluation.append(0)\n",
    "                # for points with ratio between 0.2 and 0.5, eval=2\n",
    "                elif row[ratio]>0.2 and row[ratio]<0.5:\n",
    "                    evaluation.append(2)\n",
    "                # for points with ratio greater than or equal to 0.5, eval=1\n",
    "                else:\n",
    "                    evaluation.append(1)\n",
    "\n",
    "    df[new_col] = evaluation     "
   ]
  },
  {
   "cell_type": "code",
   "execution_count": 10,
   "metadata": {},
   "outputs": [],
   "source": [
    "def drop_points(df, decision = 'eval', clusterID = 'clusterID'):\n",
    "    \"\"\"Drop subclusters with eval of 0,\n",
    "    keep the last point in subclusters with eval of 1 or 2.\n",
    "    decision: column name that contains evaluation of points.\"\"\"\n",
    "    \n",
    "    df = df[df[decision]!=0]\n",
    "    \n",
    "    # keep the most recent entry for each subcluster\n",
    "    df_dropped = df.drop_duplicates(subset=[clusterID], keep='last')\n",
    "    \n",
    "    return df_dropped"
   ]
  },
  {
   "cell_type": "code",
   "execution_count": 11,
   "metadata": {},
   "outputs": [],
   "source": [
    "def eval_phase2(df, cluster='FEAT_SEQ', decision='eval',\n",
    "               subcluster_size='subcluster_size', new_decision = 'eval2'):\n",
    "    \n",
    "    \"\"\"Evaluate points within the new cluster.\n",
    "    0 means drop and 1 means keep.\n",
    "    decision: column name for first phase evaluation.\n",
    "    new_decision: column name for second phase evaluation.\"\"\"\n",
    "    \n",
    "    drop = []\n",
    "    df.sort_values([cluster, decision, subcluster_size], inplace=True)\n",
    "    df_grouped = df.groupby(cluster)\n",
    "    \n",
    "    for name, df_group in df_grouped:\n",
    "        max_subcluster = df_group[subcluster_size].max()\n",
    "        \n",
    "        # There are points with both eval=1 and eval=2 in the cluster\n",
    "        if df_group[decision].nunique()>1:\n",
    "            # If there are more than 1 point with eval=1, keep the point with max sublcuster size\n",
    "            if df_group[df_group[decision]==1].shape[0]>1:\n",
    "                for idx, row in df_group.iterrows():\n",
    "                    # Keep only points with eval=1\n",
    "                    if row[decision]==1 and row[subcluster_size]==max_subcluster:\n",
    "                        drop.append(1)\n",
    "                    # Drop points with eval=2  \n",
    "                    else:\n",
    "                        drop.append(0)\n",
    "            # There is only 1 point with eval=1, just keep that point and drop the rest\n",
    "            else:\n",
    "                for idx, row in df_group.iterrows():\n",
    "                    # Keep only points with eval=1\n",
    "                    if row[decision]==1:\n",
    "                        drop.append(1)\n",
    "                    # Drop points with eval=2  \n",
    "                    else:\n",
    "                        drop.append(0)\n",
    "        # There are either points with eval=1 or points with eval=2 (exclusive)       \n",
    "        else:\n",
    "            for idx, row in df_group.iterrows():\n",
    "                # Keep only points with the maximum subcluster size\n",
    "                if row[subcluster_size]==max_subcluster:\n",
    "                    drop.append(1)\n",
    "                # Drop all other points   \n",
    "                else:\n",
    "                    drop.append(0)\n",
    "                 \n",
    "    df[new_decision] = drop\n",
    "    df_dropped = df[df[new_decision]==1]\n",
    "    \n",
    "    return df, df_dropped    "
   ]
  },
  {
   "cell_type": "markdown",
   "metadata": {},
   "source": [
    "# 1st round cleaning"
   ]
  },
  {
   "cell_type": "code",
   "execution_count": 12,
   "metadata": {},
   "outputs": [],
   "source": [
    "# find subclusters\n",
    "find_subclusters(df, name=FACILITY_NAME, clean_name=CLEAN_NAME, \n",
    "                 date=DATE, cluster=CLUSTER1, fac_type=FACILITY_TYPE,\n",
    "                simple_score=SIMPLE_SCORE, simple_score_min=SIMPLE_SCORE_MIN, \n",
    "                 partial_score=PARTIAL_SCORE, partial_score2=PARTIAL_SCORE2)\n",
    "\n",
    "# calculate cluster ratio\n",
    "df_ratio = cal_cluster_ratio(df, subcluster=[CLUSTER1]+['name_seq','type_seq'], \n",
    "                      cluster=CLUSTER1, date = DATE)\n",
    "\n",
    "# evaluate points\n",
    "eval_points(df_ratio, cluster = CLUSTER1, new_col=EVAL1)\n",
    "\n",
    "# drop points \n",
    "df_dropped = drop_points(df_ratio, decision = EVAL1)"
   ]
  },
  {
   "cell_type": "markdown",
   "metadata": {},
   "source": [
    "## Sanity check"
   ]
  },
  {
   "cell_type": "code",
   "execution_count": 14,
   "metadata": {},
   "outputs": [
    {
     "name": "stdout",
     "output_type": "stream",
     "text": [
      "Number of subclusters: 7448\n"
     ]
    }
   ],
   "source": [
    "print(\"Number of subclusters:\", df_ratio['clusterID'].nunique())"
   ]
  },
  {
   "cell_type": "code",
   "execution_count": 15,
   "metadata": {},
   "outputs": [
    {
     "data": {
      "text/plain": [
       "Text(0.5, 1.0, 'Histogram of cluster ratio')"
      ]
     },
     "execution_count": 15,
     "metadata": {},
     "output_type": "execute_result"
    },
    {
     "data": {
      "image/png": "[encoded data removed]",
      "text/plain": [
       "<Figure size 432x288 with 1 Axes>"
      ]
     },
     "metadata": {
      "needs_background": "light"
     },
     "output_type": "display_data"
    }
   ],
   "source": [
    "f = plt.hist(df_ratio['cluster_ratio'], bins=10, align='right')\n",
    "plt.xlabel('cluster ratio')\n",
    "plt.ylabel('count')\n",
    "plt.title('Histogram of cluster ratio')"
   ]
  },
  {
   "cell_type": "code",
   "execution_count": 16,
   "metadata": {},
   "outputs": [
    {
     "name": "stdout",
     "output_type": "stream",
     "text": [
      "Summary statistics of cluster ratio:\n"
     ]
    },
    {
     "data": {
      "text/plain": [
       "count    13508.000000\n",
       "mean         0.788644\n",
       "std          0.292394\n",
       "min          0.018182\n",
       "25%          0.545455\n",
       "50%          1.000000\n",
       "75%          1.000000\n",
       "max          1.000000\n",
       "Name: cluster_ratio, dtype: float64"
      ]
     },
     "execution_count": 16,
     "metadata": {},
     "output_type": "execute_result"
    }
   ],
   "source": [
    "print(\"Summary statistics of cluster ratio:\")\n",
    "df_ratio['cluster_ratio'].describe()"
   ]
  },
  {
   "cell_type": "code",
   "execution_count": 17,
   "metadata": {},
   "outputs": [
    {
     "name": "stdout",
     "output_type": "stream",
     "text": [
      "Value counts of first evaluation:\n"
     ]
    },
    {
     "data": {
      "text/plain": [
       "0    1017\n",
       "1    7509\n",
       "2    4982\n",
       "Name: eval, dtype: int64"
      ]
     },
     "execution_count": 17,
     "metadata": {},
     "output_type": "execute_result"
    }
   ],
   "source": [
    "print(\"Value counts of first evaluation:\")\n",
    "df_ratio[EVAL1].value_counts(sort=False)"
   ]
  },
  {
   "cell_type": "code",
   "execution_count": 21,
   "metadata": {
    "scrolled": true
   },
   "outputs": [
    {
     "name": "stdout",
     "output_type": "stream",
     "text": [
      "Number of data points before: 13508\n",
      "Number of data points after dropping: 6912\n"
     ]
    }
   ],
   "source": [
    "print(\"Number of data points before:\", df.shape[0])\n",
    "print(\"Number of data points after dropping:\", df.shape[0]-df_dropped.shape[0])"
   ]
  },
  {
   "cell_type": "code",
   "execution_count": 23,
   "metadata": {},
   "outputs": [],
   "source": [
    "# rename columns and reset index\n",
    "df_ratio.rename(columns={'index':'index_original', CLUSTER1:'Cluster_seq1'},\n",
    "                   inplace=True)\n",
    "df_ratio.reset_index(drop=True,inplace=True)\n",
    "df_dropped.rename(columns={'index':'index_original', CLUSTER1:'Cluster_seq1'},\n",
    "                   inplace=True)\n",
    "df_dropped.reset_index(drop=True,inplace=True)"
   ]
  },
  {
   "cell_type": "code",
   "execution_count": 28,
   "metadata": {},
   "outputs": [],
   "source": [
    "# Export results as csv files\n",
    "df_ratio.to_csv(os.path.join(SAVE_PATH, decision1), index=False)\n",
    "df_dropped.to_csv(os.path.join(SAVE_PATH, dropped1), index=False)"
   ]
  },
  {
   "cell_type": "markdown",
   "metadata": {},
   "source": [
    "# 2nd round cleaning"
   ]
  },
  {
   "cell_type": "markdown",
   "metadata": {},
   "source": [
    "Starting from here, points with `eval` of 0 in the first phase are dropped and duplicates within subclusters with `eval` of 1 or 2 are also dropped such that there is only one point representing each subcluster.\n",
    "\n",
    "A new feature sequence is found using a radius of 1km and a match on `match_name`."
   ]
  },
  {
   "cell_type": "code",
   "execution_count": 18,
   "metadata": {},
   "outputs": [
    {
     "name": "stderr",
     "output_type": "stream",
     "text": [
      "C:\\Users\\DUANYUEYUN\\anaconda3\\lib\\site-packages\\IPython\\core\\interactiveshell.py:3063: DtypeWarning: Columns (13,20,24,37) have mixed types.Specify dtype option on import or set low_memory=False.\n",
      "  interactivity=interactivity, compiler=compiler, result=result)\n"
     ]
    }
   ],
   "source": [
    "# Data import\n",
    "dataDir = r\"C:\\Users\\DUANYUEYUN\\Documents\\GRID3\\Health facilities\\Data\\Africa\"\n",
    "df_dropped1 = pd.read_csv(dataDir + \"\\\\Cleaned\\\\iss_dropped1_1109.csv\")"
   ]
  },
  {
   "cell_type": "code",
   "execution_count": 21,
   "metadata": {},
   "outputs": [
    {
     "name": "stdout",
     "output_type": "stream",
     "text": [
      "Number of data points: 6592\n",
      "Number of clusters: 5835\n"
     ]
    }
   ],
   "source": [
    "print(\"Number of data points:\", df_dropped1.shape[0])\n",
    "print(\"Number of clusters:\", df_dropped1['FEAT_SEQ'].nunique())"
   ]
  },
  {
   "cell_type": "code",
   "execution_count": 22,
   "metadata": {},
   "outputs": [],
   "source": [
    "df_decision2, df_dropped2 = eval_phase2(df_dropped1, cluster=CLUSTER2, \n",
    "                                        decision=EVAL1, new_decision = EVAL2)"
   ]
  },
  {
   "cell_type": "code",
   "execution_count": 23,
   "metadata": {},
   "outputs": [
    {
     "name": "stdout",
     "output_type": "stream",
     "text": [
      "Number of points before: 6592\n",
      "Number of points after: 6128\n"
     ]
    }
   ],
   "source": [
    "print(\"Number of points before:\", df_dropped1.shape[0])\n",
    "print(\"Number of points after:\", df_dropped2.shape[0])"
   ]
  },
  {
   "cell_type": "code",
   "execution_count": 30,
   "metadata": {},
   "outputs": [],
   "source": [
    "# rename columns and reset index\n",
    "df_decision2.rename(columns={'FEAT_SEQ':'Cluster_seq2'}, inplace=True)\n",
    "df_decision2.reset_index(drop=True, inplace=True)\n",
    "df_dropped2.rename(columns={'FEAT_SEQ':'Cluster_seq2'}, inplace=True)\n",
    "df_dropped2.reset_index(drop=True, inplace=True)"
   ]
  },
  {
   "cell_type": "code",
   "execution_count": 48,
   "metadata": {},
   "outputs": [],
   "source": [
    "# export results\n",
    "df_decision2.to_csv(os.path.join(SAVE_PATH, decision2),index=False)\n",
    "df_dropped2.to_csv(os.path.join(SAVE_PATH, dropped2),index=False)"
   ]
  }
 ],
 "metadata": {
  "kernelspec": {
   "display_name": "Python 3",
   "language": "python",
   "name": "python3"
  },
  "language_info": {
   "codemirror_mode": {
    "name": "ipython",
    "version": 3
   },
   "file_extension": ".py",
   "mimetype": "text/x-python",
   "name": "python",
   "nbconvert_exporter": "python",
   "pygments_lexer": "ipython3",
   "version": "3.7.6"
  }
 },
 "nbformat": 4,
 "nbformat_minor": 4
}
