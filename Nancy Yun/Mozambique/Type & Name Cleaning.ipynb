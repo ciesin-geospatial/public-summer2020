{
 "cells": [
  {
   "cell_type": "markdown",
   "metadata": {},
   "source": [
    "# Data Sources\n",
    "\n",
    "- WHO\n",
    "\n",
    "- ISS\n",
    "\n",
    "- PLM"
   ]
  },
  {
   "cell_type": "code",
   "execution_count": 57,
   "metadata": {},
   "outputs": [],
   "source": [
    "import numpy as np\n",
    "import pandas as pd\n",
    "import matplotlib.pyplot as plt\n",
    "import fiona\n",
    "import geopandas as gpd\n",
    "import folium\n",
    "import os\n",
    "from folium.plugins import MarkerCluster\n",
    "from math import radians, sin, cos, acos"
   ]
  },
  {
   "cell_type": "code",
   "execution_count": 2,
   "metadata": {},
   "outputs": [],
   "source": [
    "pd.options.mode.chained_assignment = None\n",
    "pd.set_option('display.max_columns', None)"
   ]
  },
  {
   "cell_type": "markdown",
   "metadata": {},
   "source": [
    "# Import data"
   ]
  },
  {
   "cell_type": "code",
   "execution_count": 68,
   "metadata": {},
   "outputs": [],
   "source": [
    "dataDir = r'C:\\\\Users\\\\DUANYUEYUN\\\\Documents\\\\ArcGIS\\\\Projects\\\\GRID3\\\\Sub-Saharan_health_facilities.gdb'\n",
    "df = gpd.read_file(dataDir, driver='FileGDB', layer='HDX_WHO_sub_saharan_health_facilities')\n",
    "\n",
    "# Re-project to WGS84\n",
    "df['geometry'] = df['geometry'].to_crs(epsg=4326)\n",
    "df_WHO = df[df['Country']=='Mozambique']\n",
    "df_WHO.reset_index(inplace=True)"
   ]
  },
  {
   "cell_type": "code",
   "execution_count": 4,
   "metadata": {},
   "outputs": [],
   "source": [
    "dataDir = r'C:\\\\Users\\\\DUANYUEYUN\\\\Documents\\\\ArcGIS\\\\Projects\\\\GRID3\\\\Sub-Saharan_health_facilities.gdb'\n",
    "df = gpd.read_file(dataDir, driver='FileGDB', layer='ISS_sub_saharan')\n",
    "# Re-project to WGS84\n",
    "df['geometry'] = df['geometry'].to_crs(epsg=4326)\n",
    "df_ISS = df[df['countries']=='MOZAMBIQUE']\n",
    "df_ISS.reset_index(inplace=True)\n",
    "df_ISS.drop(columns=['F27', 'name_of_facility_visited_other',\n",
    "       'F28', 'F29', 'F_index', 'F_parent_table_name', 'F_parent_index',\n",
    "       'F_tags', 'F_notes', 'F_version', 'F_duration', 'F_submitted_by',\n",
    "       'F_xform_id'], inplace=True)"
   ]
  },
  {
   "cell_type": "code",
   "execution_count": 5,
   "metadata": {},
   "outputs": [],
   "source": [
    "country = 'Mozambique'\n",
    "dataDir = r\"C:\\Users\\DUANYUEYUN\\Documents\\ArcGIS\\Projects\\GRID3\\Healthsites\"\n",
    "filename = country + '-node.shp'\n",
    "path = os.path.join(dataDir, country, filename)\n",
    "df_HS = gpd.read_file(path)\n",
    "# Re-project to WGS84\n",
    "df_HS['geometry'] = df_HS['geometry'].to_crs(epsg=4326)\n",
    "df_HS['country'] = country\n",
    "df_HS.drop(columns=['healthcare',  'operator', \n",
    "       'speciality', 'operator_ty', 'contact_num', 'operational',\n",
    "       'opening_hou', 'beds', 'staff_docto', 'staff_nurse', 'health_amen',\n",
    "       'dispensing', 'wheelchair', 'emergency', 'insurance', 'water_sourc',\n",
    "       'electricity', 'is_in_healt', 'url', 'addr_housen', 'addr_street',\n",
    "       'addr_postco', 'addr_city'], inplace=True)"
   ]
  },
  {
   "cell_type": "code",
   "execution_count": 6,
   "metadata": {},
   "outputs": [],
   "source": [
    "df_PLM = pd.read_excel(io=r\"C:\\Users\\DUANYUEYUN\\Documents\\GRID3\\Health facilities\\PLM Data\\PLM_Masterfile_v1_May_2020.xlsx\",\n",
    "                       sheet_name = 2, usecols = 'A:D,F:H,J:K')"
   ]
  },
  {
   "cell_type": "code",
   "execution_count": 50,
   "metadata": {},
   "outputs": [],
   "source": [
    "# Common variables\n",
    "\n",
    "clean_types = ['Centro de Saúde', 'Posto de Saúde', 'Hospital Rurais', \n",
    "               'Hospital Provincial', 'Hospital Distrital', 'Hospital Geral', \n",
    "               'Hospital Central', 'Hospital Especializado', 'Other']\n",
    "\n",
    "saveDir = r\"C:\\Users\\DUANYUEYUN\\Documents\\GRID3\\Health facilities\\Cleaned data\\MOZ\""
   ]
  },
  {
   "cell_type": "markdown",
   "metadata": {},
   "source": [
    "# Dataset overview"
   ]
  },
  {
   "cell_type": "markdown",
   "metadata": {},
   "source": [
    "1. Number of data points"
   ]
  },
  {
   "cell_type": "code",
   "execution_count": 7,
   "metadata": {},
   "outputs": [
    {
     "name": "stdout",
     "output_type": "stream",
     "text": [
      "Dataset: WHO\n",
      "Number of data points: 1579\n",
      "Dataset: ISS\n",
      "Number of data points: 1430\n",
      "Dataset: HealthSites\n",
      "Number of data points: 836\n",
      "Dataset: Project last mile\n",
      "Number of data points: 1712\n"
     ]
    }
   ],
   "source": [
    "print(\"Dataset: WHO\")\n",
    "print(\"Number of data points:\", df_WHO.shape[0])\n",
    "\n",
    "print(\"Dataset: ISS\")\n",
    "print(\"Number of data points:\", df_ISS.shape[0])\n",
    "\n",
    "print(\"Dataset: HealthSites\")\n",
    "print(\"Number of data points:\", df_HS.shape[0])\n",
    "\n",
    "print(\"Dataset: Project last mile\")\n",
    "print(\"Number of data points:\", df_PLM.shape[0])"
   ]
  },
  {
   "cell_type": "markdown",
   "metadata": {},
   "source": [
    "2. Number of missing values in name and type columns"
   ]
  },
  {
   "cell_type": "code",
   "execution_count": 8,
   "metadata": {},
   "outputs": [
    {
     "name": "stdout",
     "output_type": "stream",
     "text": [
      "WHO:\n"
     ]
    },
    {
     "data": {
      "text/plain": [
       "Facility_n    0\n",
       "Facility_t    0\n",
       "dtype: int64"
      ]
     },
     "execution_count": 8,
     "metadata": {},
     "output_type": "execute_result"
    }
   ],
   "source": [
    "print(\"WHO:\")\n",
    "df_WHO[['Facility_n', 'Facility_t']].isna().sum()"
   ]
  },
  {
   "cell_type": "code",
   "execution_count": 9,
   "metadata": {},
   "outputs": [
    {
     "name": "stdout",
     "output_type": "stream",
     "text": [
      "ISS:\n"
     ]
    },
    {
     "data": {
      "text/plain": [
       "name_of_facility_visited    0\n",
       "type_of_facility_visited    0\n",
       "dtype: int64"
      ]
     },
     "execution_count": 9,
     "metadata": {},
     "output_type": "execute_result"
    }
   ],
   "source": [
    "print(\"ISS:\")\n",
    "df_ISS[['name_of_facility_visited', 'type_of_facility_visited']].isna().sum()"
   ]
  },
  {
   "cell_type": "code",
   "execution_count": 10,
   "metadata": {},
   "outputs": [
    {
     "name": "stdout",
     "output_type": "stream",
     "text": [
      "Healthsites:\n"
     ]
    },
    {
     "data": {
      "text/plain": [
       "name       28\n",
       "amenity     1\n",
       "dtype: int64"
      ]
     },
     "execution_count": 10,
     "metadata": {},
     "output_type": "execute_result"
    }
   ],
   "source": [
    "print(\"Healthsites:\")\n",
    "df_HS[['name', 'amenity']].isna().sum()"
   ]
  },
  {
   "cell_type": "code",
   "execution_count": 11,
   "metadata": {},
   "outputs": [
    {
     "name": "stdout",
     "output_type": "stream",
     "text": [
      "PLM:\n"
     ]
    },
    {
     "data": {
      "text/plain": [
       "UNIT          0\n",
       "TYPE OF US    0\n",
       "dtype: int64"
      ]
     },
     "execution_count": 11,
     "metadata": {},
     "output_type": "execute_result"
    }
   ],
   "source": [
    "print(\"PLM:\")\n",
    "df_PLM[['UNIT', 'TYPE OF US']].isna().sum()"
   ]
  },
  {
   "cell_type": "markdown",
   "metadata": {},
   "source": [
    "3. Unique facility type and counts"
   ]
  },
  {
   "cell_type": "code",
   "execution_count": 12,
   "metadata": {},
   "outputs": [
    {
     "name": "stdout",
     "output_type": "stream",
     "text": [
      "Dataset: WHO\n",
      "Facility types and the corresponding counts:\n",
      "Centro de Saúde Rural II    982\n",
      "Posto de Saúde              262\n",
      "Centro de Saúde Rural I     130\n",
      "Centro de Saúde Urbano B     56\n",
      "Centro de Saúde Urbano C     49\n",
      "Centro de Saúde Urbano A     39\n",
      "Hospital Rural               29\n",
      "Hospital Distrital           16\n",
      "Hospital Provincial           8\n",
      "Hospital Geral                5\n",
      "Hospital Central              3\n",
      "Name: Facility_t, dtype: int64\n"
     ]
    }
   ],
   "source": [
    "print(\"Dataset: WHO\")\n",
    "print(\"Facility types and the corresponding counts:\")\n",
    "print(df_WHO['Facility_t'].value_counts())"
   ]
  },
  {
   "cell_type": "code",
   "execution_count": 13,
   "metadata": {},
   "outputs": [
    {
     "name": "stdout",
     "output_type": "stream",
     "text": [
      "Dataset: ISS\n",
      "Facility types and the corresponding counts:\n",
      "HEALTH_FACILITY     1205\n",
      "HEALTH_POST           95\n",
      "DISTRICT_HOSP         59\n",
      "RURAL_HOSPITAL        23\n",
      "GENERAL_HOSP          18\n",
      "CENTRAL_HOSPITAL      16\n",
      "others                 7\n",
      "SPIRITUAL_HEALER       3\n",
      "PROVINCIAL_HOSP        2\n",
      "PRIVATE_FACILITY       2\n",
      "Name: type_of_facility_visited, dtype: int64\n"
     ]
    }
   ],
   "source": [
    "print(\"Dataset: ISS\")\n",
    "print(\"Facility types and the corresponding counts:\")\n",
    "print(df_ISS['type_of_facility_visited'].value_counts())"
   ]
  },
  {
   "cell_type": "code",
   "execution_count": 14,
   "metadata": {},
   "outputs": [
    {
     "name": "stdout",
     "output_type": "stream",
     "text": [
      "Dataset: HealthSites\n",
      "Facility types and the corresponding counts:\n",
      "clinic      699\n",
      "pharmacy     72\n",
      "doctors      47\n",
      "hospital     15\n",
      "dentist       2\n",
      "Name: amenity, dtype: int64\n"
     ]
    }
   ],
   "source": [
    "print(\"Dataset: HealthSites\")\n",
    "print(\"Facility types and the corresponding counts:\")\n",
    "print(df_HS['amenity'].value_counts())"
   ]
  },
  {
   "cell_type": "code",
   "execution_count": 15,
   "metadata": {},
   "outputs": [
    {
     "name": "stdout",
     "output_type": "stream",
     "text": [
      "Dataset: PLM\n",
      "Facility types and the corresponding counts:\n",
      "CS    1511\n",
      "PS     129\n",
      "HD      24\n",
      "HR      23\n",
      "HM       9\n",
      "HP       7\n",
      "HG       5\n",
      "HC       2\n",
      "HE       2\n",
      "Name: TYPE OF US, dtype: int64\n"
     ]
    }
   ],
   "source": [
    "print(\"Dataset: PLM\")\n",
    "print(\"Facility types and the corresponding counts:\")\n",
    "print(df_PLM['TYPE OF US'].value_counts())"
   ]
  },
  {
   "cell_type": "markdown",
   "metadata": {},
   "source": [
    "# WHO"
   ]
  },
  {
   "cell_type": "markdown",
   "metadata": {},
   "source": [
    "## Name Cleaning"
   ]
  },
  {
   "cell_type": "markdown",
   "metadata": {},
   "source": [
    "Format of facility names in WHO dataset: name followed by facility type. Extract the name by eliminating the facility type in `Facility_n`."
   ]
  },
  {
   "cell_type": "code",
   "execution_count": 69,
   "metadata": {},
   "outputs": [
    {
     "data": {
      "text/html": [
       "<div>\n",
       "<style scoped>\n",
       "    .dataframe tbody tr th:only-of-type {\n",
       "        vertical-align: middle;\n",
       "    }\n",
       "\n",
       "    .dataframe tbody tr th {\n",
       "        vertical-align: top;\n",
       "    }\n",
       "\n",
       "    .dataframe thead th {\n",
       "        text-align: right;\n",
       "    }\n",
       "</style>\n",
       "<table border=\"1\" class=\"dataframe\">\n",
       "  <thead>\n",
       "    <tr style=\"text-align: right;\">\n",
       "      <th></th>\n",
       "      <th>Admin1</th>\n",
       "      <th>Facility_n</th>\n",
       "      <th>Facility_t</th>\n",
       "    </tr>\n",
       "  </thead>\n",
       "  <tbody>\n",
       "    <tr>\n",
       "      <th>1176</th>\n",
       "      <td>Sofala</td>\n",
       "      <td>Nsituculo Centro de Saúde Rural II</td>\n",
       "      <td>Centro de Saúde Rural II</td>\n",
       "    </tr>\n",
       "    <tr>\n",
       "      <th>575</th>\n",
       "      <td>Maputo Provincia</td>\n",
       "      <td>Matalane Centro de Saúde Rural II</td>\n",
       "      <td>Centro de Saúde Rural II</td>\n",
       "    </tr>\n",
       "    <tr>\n",
       "      <th>252</th>\n",
       "      <td>Inhambane</td>\n",
       "      <td>Belane Centro de Saúde Rural II</td>\n",
       "      <td>Centro de Saúde Rural II</td>\n",
       "    </tr>\n",
       "    <tr>\n",
       "      <th>184</th>\n",
       "      <td>Gaza</td>\n",
       "      <td>Mamonho Centro de Saúde Rural II</td>\n",
       "      <td>Centro de Saúde Rural II</td>\n",
       "    </tr>\n",
       "    <tr>\n",
       "      <th>1281</th>\n",
       "      <td>Tete</td>\n",
       "      <td>Lifidzi Centro de Saúde Rural II</td>\n",
       "      <td>Centro de Saúde Rural II</td>\n",
       "    </tr>\n",
       "  </tbody>\n",
       "</table>\n",
       "</div>"
      ],
      "text/plain": [
       "                Admin1                          Facility_n  \\\n",
       "1176            Sofala  Nsituculo Centro de Saúde Rural II   \n",
       "575   Maputo Provincia   Matalane Centro de Saúde Rural II   \n",
       "252          Inhambane     Belane Centro de Saúde Rural II   \n",
       "184               Gaza    Mamonho Centro de Saúde Rural II   \n",
       "1281              Tete    Lifidzi Centro de Saúde Rural II   \n",
       "\n",
       "                    Facility_t  \n",
       "1176  Centro de Saúde Rural II  \n",
       "575   Centro de Saúde Rural II  \n",
       "252   Centro de Saúde Rural II  \n",
       "184   Centro de Saúde Rural II  \n",
       "1281  Centro de Saúde Rural II  "
      ]
     },
     "execution_count": 69,
     "metadata": {},
     "output_type": "execute_result"
    }
   ],
   "source": [
    "WHO_cols = ['Admin1', 'Facility_n', 'Facility_t']\n",
    "df_WHO[WHO_cols].sample(5)"
   ]
  },
  {
   "cell_type": "code",
   "execution_count": 70,
   "metadata": {},
   "outputs": [],
   "source": [
    "# Name cleaning\n",
    "short_names = []\n",
    "for idx, row in df_WHO.iterrows():\n",
    "    short_name = row['Facility_n'].replace(row['Facility_t'], '')\n",
    "    short_names.append(short_name.strip())\n",
    "df_WHO['name_short'] = short_names\n",
    "df_WHO['name_short'] = df_WHO['name_short'].str.replace(\"^de\", '', regex=True) \\\n",
    ".str.strip()"
   ]
  },
  {
   "cell_type": "code",
   "execution_count": 71,
   "metadata": {},
   "outputs": [
    {
     "data": {
      "text/html": [
       "<div>\n",
       "<style scoped>\n",
       "    .dataframe tbody tr th:only-of-type {\n",
       "        vertical-align: middle;\n",
       "    }\n",
       "\n",
       "    .dataframe tbody tr th {\n",
       "        vertical-align: top;\n",
       "    }\n",
       "\n",
       "    .dataframe thead th {\n",
       "        text-align: right;\n",
       "    }\n",
       "</style>\n",
       "<table border=\"1\" class=\"dataframe\">\n",
       "  <thead>\n",
       "    <tr style=\"text-align: right;\">\n",
       "      <th></th>\n",
       "      <th>Admin1</th>\n",
       "      <th>Facility_n</th>\n",
       "      <th>Facility_t</th>\n",
       "      <th>name_short</th>\n",
       "    </tr>\n",
       "  </thead>\n",
       "  <tbody>\n",
       "    <tr>\n",
       "      <th>622</th>\n",
       "      <td>Maputo Provincia</td>\n",
       "      <td>Zona Verde Posto de Saúde</td>\n",
       "      <td>Posto de Saúde</td>\n",
       "      <td>Zona Verde</td>\n",
       "    </tr>\n",
       "    <tr>\n",
       "      <th>272</th>\n",
       "      <td>Inhambane</td>\n",
       "      <td>Cruzamento Posto de Saúde</td>\n",
       "      <td>Posto de Saúde</td>\n",
       "      <td>Cruzamento</td>\n",
       "    </tr>\n",
       "    <tr>\n",
       "      <th>1305</th>\n",
       "      <td>Tete</td>\n",
       "      <td>M'Saua Centro de Saúde Rural II</td>\n",
       "      <td>Centro de Saúde Rural II</td>\n",
       "      <td>M'Saua</td>\n",
       "    </tr>\n",
       "    <tr>\n",
       "      <th>364</th>\n",
       "      <td>Inhambane</td>\n",
       "      <td>Teles Posto de Saúde</td>\n",
       "      <td>Posto de Saúde</td>\n",
       "      <td>Teles</td>\n",
       "    </tr>\n",
       "    <tr>\n",
       "      <th>281</th>\n",
       "      <td>Inhambane</td>\n",
       "      <td>Homoine Centro de Saúde Rural I</td>\n",
       "      <td>Centro de Saúde Rural I</td>\n",
       "      <td>Homoine</td>\n",
       "    </tr>\n",
       "  </tbody>\n",
       "</table>\n",
       "</div>"
      ],
      "text/plain": [
       "                Admin1                       Facility_n  \\\n",
       "622   Maputo Provincia        Zona Verde Posto de Saúde   \n",
       "272          Inhambane        Cruzamento Posto de Saúde   \n",
       "1305              Tete  M'Saua Centro de Saúde Rural II   \n",
       "364          Inhambane             Teles Posto de Saúde   \n",
       "281          Inhambane  Homoine Centro de Saúde Rural I   \n",
       "\n",
       "                    Facility_t  name_short  \n",
       "622             Posto de Saúde  Zona Verde  \n",
       "272             Posto de Saúde  Cruzamento  \n",
       "1305  Centro de Saúde Rural II      M'Saua  \n",
       "364             Posto de Saúde       Teles  \n",
       "281    Centro de Saúde Rural I     Homoine  "
      ]
     },
     "execution_count": 71,
     "metadata": {},
     "output_type": "execute_result"
    }
   ],
   "source": [
    "df_WHO[WHO_cols+['name_short']].sample(5)"
   ]
  },
  {
   "cell_type": "markdown",
   "metadata": {},
   "source": [
    "## Type Cleaning"
   ]
  },
  {
   "cell_type": "code",
   "execution_count": 72,
   "metadata": {},
   "outputs": [],
   "source": [
    "# dictionary mapping WHO type to clean types\n",
    "who_type_dict = {'Centro de Saúde Rural I': 'Centro de Saúde', 'Posto de Saúde':'Posto de Saúde',\n",
    "            'Centro de Saúde Rural II':'Centro de Saúde', 'Centro de Saúde Urbano C':'Centro de Saúde',\n",
    "            'Hospital Rural':'Hospital Rurais', 'Centro de Saúde Urbano B':'Centro de Saúde',\n",
    "            'Hospital Provincial':'Hospital Provincial', 'Hospital Distrital':'Hospital Distrital',\n",
    "            'Centro de Saúde Urbano A':'Centro de Saúde', 'Hospital Geral':'Hospital Geral', \n",
    "            'Hospital Central':'Hospital Central'}\n",
    "df_WHO['type_cleaned'] = [who_type_dict[facility_t] for facility_t in df_WHO['Facility_t']]"
   ]
  },
  {
   "cell_type": "code",
   "execution_count": 73,
   "metadata": {},
   "outputs": [
    {
     "name": "stdout",
     "output_type": "stream",
     "text": [
      "results:\n"
     ]
    },
    {
     "data": {
      "text/plain": [
       "Centro de Saúde        1256\n",
       "Posto de Saúde          262\n",
       "Hospital Rurais          29\n",
       "Hospital Distrital       16\n",
       "Hospital Provincial       8\n",
       "Hospital Geral            5\n",
       "Hospital Central          3\n",
       "Name: type_cleaned, dtype: int64"
      ]
     },
     "execution_count": 73,
     "metadata": {},
     "output_type": "execute_result"
    }
   ],
   "source": [
    "print(\"results:\")\n",
    "df_WHO['type_cleaned'].value_counts()"
   ]
  },
  {
   "cell_type": "markdown",
   "metadata": {},
   "source": [
    "## Removing Duplicates"
   ]
  },
  {
   "cell_type": "code",
   "execution_count": 74,
   "metadata": {},
   "outputs": [],
   "source": [
    "def distance(origin, destination):\n",
    "    lat1, lon1 = origin\n",
    "    lat2, lon2 = destination\n",
    "    lat1 = radians(lat1)\n",
    "    lat2 = radians(lat2)\n",
    "    lon1 = radians(lon1)\n",
    "    lon2 = radians(lon2)\n",
    "    dist = 6371.01 * acos(sin(lat1)*sin(lat2) + cos(lat1)*cos(lat2)*cos(lon1 - lon2))\n",
    "    return dist"
   ]
  },
  {
   "cell_type": "code",
   "execution_count": 75,
   "metadata": {},
   "outputs": [],
   "source": [
    "# Facilities in the same admin1 region and with the same name \n",
    "counts = df_WHO.groupby(['Admin1', 'Facility_n']).agg(count=('index','count'))\\\n",
    ".sort_values(by='count',ascending = False)\n",
    "counts = counts[counts['count']>1]\n",
    "counts.reset_index(inplace=True)\n",
    "\n",
    "# Calculate distance for each pair\n",
    "distances = []\n",
    "for idx, row in counts.iterrows():\n",
    "    \n",
    "    test_df = df_WHO[(df_WHO['Admin1']==row['Admin1']) & \\\n",
    "                     (df_WHO['Facility_n']==row['Facility_n'])]\n",
    "    \n",
    "    points = []\n",
    "    for idx2, row2 in test_df.iterrows():\n",
    "        lat = row2['Lat']\n",
    "        lon = row2['Long']\n",
    "        points.append((lat, lon))\n",
    "    \n",
    "    origin = points[0]\n",
    "    destination = points[1]\n",
    "    dist = distance(origin, destination)\n",
    "    distances.append(dist)"
   ]
  },
  {
   "cell_type": "code",
   "execution_count": 76,
   "metadata": {},
   "outputs": [
    {
     "name": "stdout",
     "output_type": "stream",
     "text": [
      "Minimum distance between facilities in the same admin1 region and with the same name: \n",
      "17.309 km\n"
     ]
    }
   ],
   "source": [
    "print(\"Minimum distance between facilities in the same admin1 region and with the same name: \")\n",
    "print(round(min(distances), 3), 'km')"
   ]
  },
  {
   "cell_type": "code",
   "execution_count": 77,
   "metadata": {},
   "outputs": [
    {
     "data": {
      "text/html": [
       "<div>\n",
       "<style scoped>\n",
       "    .dataframe tbody tr th:only-of-type {\n",
       "        vertical-align: middle;\n",
       "    }\n",
       "\n",
       "    .dataframe tbody tr th {\n",
       "        vertical-align: top;\n",
       "    }\n",
       "\n",
       "    .dataframe thead th {\n",
       "        text-align: right;\n",
       "    }\n",
       "</style>\n",
       "<table border=\"1\" class=\"dataframe\">\n",
       "  <thead>\n",
       "    <tr style=\"text-align: right;\">\n",
       "      <th></th>\n",
       "      <th>index</th>\n",
       "      <th>Country</th>\n",
       "      <th>Admin1</th>\n",
       "      <th>Facility_n</th>\n",
       "      <th>Facility_t</th>\n",
       "      <th>Ownership</th>\n",
       "      <th>Lat</th>\n",
       "      <th>Long</th>\n",
       "      <th>LL_source</th>\n",
       "      <th>geometry</th>\n",
       "      <th>name_short</th>\n",
       "      <th>type_cleaned</th>\n",
       "    </tr>\n",
       "  </thead>\n",
       "  <tbody>\n",
       "    <tr>\n",
       "      <th>0</th>\n",
       "      <td>49849</td>\n",
       "      <td>Mozambique</td>\n",
       "      <td>Cabo Delgado</td>\n",
       "      <td>Ancuabe Centro de Saúde Rural I</td>\n",
       "      <td>Centro de Saúde Rural I</td>\n",
       "      <td></td>\n",
       "      <td>-12.9669</td>\n",
       "      <td>39.8572</td>\n",
       "      <td>GPS</td>\n",
       "      <td>POINT (39.85720 -12.96690)</td>\n",
       "      <td>Ancuabe</td>\n",
       "      <td>Centro de Saúde</td>\n",
       "    </tr>\n",
       "    <tr>\n",
       "      <th>1</th>\n",
       "      <td>49850</td>\n",
       "      <td>Mozambique</td>\n",
       "      <td>Cabo Delgado</td>\n",
       "      <td>Balama Centro de Saúde Rural I</td>\n",
       "      <td>Centro de Saúde Rural I</td>\n",
       "      <td></td>\n",
       "      <td>-13.3483</td>\n",
       "      <td>38.5669</td>\n",
       "      <td>GPS</td>\n",
       "      <td>POINT (38.56690 -13.34830)</td>\n",
       "      <td>Balama</td>\n",
       "      <td>Centro de Saúde</td>\n",
       "    </tr>\n",
       "    <tr>\n",
       "      <th>2</th>\n",
       "      <td>49851</td>\n",
       "      <td>Mozambique</td>\n",
       "      <td>Cabo Delgado</td>\n",
       "      <td>Bilibiza Centro de Saúde Rural I</td>\n",
       "      <td>Centro de Saúde Rural I</td>\n",
       "      <td></td>\n",
       "      <td>-12.5639</td>\n",
       "      <td>40.2853</td>\n",
       "      <td>GPS</td>\n",
       "      <td>POINT (40.28530 -12.56390)</td>\n",
       "      <td>Bilibiza</td>\n",
       "      <td>Centro de Saúde</td>\n",
       "    </tr>\n",
       "    <tr>\n",
       "      <th>3</th>\n",
       "      <td>49852</td>\n",
       "      <td>Mozambique</td>\n",
       "      <td>Cabo Delgado</td>\n",
       "      <td>Bilibiza Posto de Saúde</td>\n",
       "      <td>Posto de Saúde</td>\n",
       "      <td></td>\n",
       "      <td>-13.5795</td>\n",
       "      <td>39.7356</td>\n",
       "      <td>GPS</td>\n",
       "      <td>POINT (39.73560 -13.57950)</td>\n",
       "      <td>Bilibiza</td>\n",
       "      <td>Posto de Saúde</td>\n",
       "    </tr>\n",
       "    <tr>\n",
       "      <th>4</th>\n",
       "      <td>49853</td>\n",
       "      <td>Mozambique</td>\n",
       "      <td>Cabo Delgado</td>\n",
       "      <td>Cagembe Centro de Saúde Rural II</td>\n",
       "      <td>Centro de Saúde Rural II</td>\n",
       "      <td></td>\n",
       "      <td>-12.3800</td>\n",
       "      <td>40.2642</td>\n",
       "      <td>GPS</td>\n",
       "      <td>POINT (40.26420 -12.38000)</td>\n",
       "      <td>Cagembe</td>\n",
       "      <td>Centro de Saúde</td>\n",
       "    </tr>\n",
       "  </tbody>\n",
       "</table>\n",
       "</div>"
      ],
      "text/plain": [
       "   index     Country        Admin1                        Facility_n  \\\n",
       "0  49849  Mozambique  Cabo Delgado   Ancuabe Centro de Saúde Rural I   \n",
       "1  49850  Mozambique  Cabo Delgado    Balama Centro de Saúde Rural I   \n",
       "2  49851  Mozambique  Cabo Delgado  Bilibiza Centro de Saúde Rural I   \n",
       "3  49852  Mozambique  Cabo Delgado           Bilibiza Posto de Saúde   \n",
       "4  49853  Mozambique  Cabo Delgado  Cagembe Centro de Saúde Rural II   \n",
       "\n",
       "                 Facility_t Ownership      Lat     Long LL_source  \\\n",
       "0   Centro de Saúde Rural I           -12.9669  39.8572       GPS   \n",
       "1   Centro de Saúde Rural I           -13.3483  38.5669       GPS   \n",
       "2   Centro de Saúde Rural I           -12.5639  40.2853       GPS   \n",
       "3            Posto de Saúde           -13.5795  39.7356       GPS   \n",
       "4  Centro de Saúde Rural II           -12.3800  40.2642       GPS   \n",
       "\n",
       "                     geometry name_short     type_cleaned  \n",
       "0  POINT (39.85720 -12.96690)    Ancuabe  Centro de Saúde  \n",
       "1  POINT (38.56690 -13.34830)     Balama  Centro de Saúde  \n",
       "2  POINT (40.28530 -12.56390)   Bilibiza  Centro de Saúde  \n",
       "3  POINT (39.73560 -13.57950)   Bilibiza   Posto de Saúde  \n",
       "4  POINT (40.26420 -12.38000)    Cagembe  Centro de Saúde  "
      ]
     },
     "execution_count": 77,
     "metadata": {},
     "output_type": "execute_result"
    }
   ],
   "source": [
    "df_WHO.head()"
   ]
  },
  {
   "cell_type": "markdown",
   "metadata": {},
   "source": [
    "## Change Column Names"
   ]
  },
  {
   "cell_type": "code",
   "execution_count": 66,
   "metadata": {},
   "outputs": [],
   "source": [
    "cols = ['id', 'admin1', 'admin2', 'name_full', 'name_short', 'type_original', 'type_cleaned', \n",
    "        'latitude', 'longitude', 'source']"
   ]
  },
  {
   "cell_type": "code",
   "execution_count": 78,
   "metadata": {},
   "outputs": [],
   "source": [
    "df_WHO.drop(columns='Country', inplace=True)\n",
    "df_WHO.rename(columns={'index':'id', 'Admin1':'admin1',\n",
    "                       'Facility_n':'name_full', 'Facility_t':'type_original'}, \n",
    "              inplace=True)"
   ]
  },
  {
   "cell_type": "code",
   "execution_count": 79,
   "metadata": {},
   "outputs": [],
   "source": [
    "df_WHO['longitude'] = df_WHO['geometry'].x\n",
    "df_WHO['latitude'] = df_WHO['geometry'].y\n",
    "\n",
    "df_WHO['source'] = 'WHO'\n",
    "df_WHO['admin2'] = None"
   ]
  },
  {
   "cell_type": "code",
   "execution_count": 80,
   "metadata": {},
   "outputs": [
    {
     "data": {
      "text/html": [
       "<div>\n",
       "<style scoped>\n",
       "    .dataframe tbody tr th:only-of-type {\n",
       "        vertical-align: middle;\n",
       "    }\n",
       "\n",
       "    .dataframe tbody tr th {\n",
       "        vertical-align: top;\n",
       "    }\n",
       "\n",
       "    .dataframe thead th {\n",
       "        text-align: right;\n",
       "    }\n",
       "</style>\n",
       "<table border=\"1\" class=\"dataframe\">\n",
       "  <thead>\n",
       "    <tr style=\"text-align: right;\">\n",
       "      <th></th>\n",
       "      <th>id</th>\n",
       "      <th>admin1</th>\n",
       "      <th>admin2</th>\n",
       "      <th>name_full</th>\n",
       "      <th>name_short</th>\n",
       "      <th>type_original</th>\n",
       "      <th>type_cleaned</th>\n",
       "      <th>latitude</th>\n",
       "      <th>longitude</th>\n",
       "      <th>source</th>\n",
       "    </tr>\n",
       "  </thead>\n",
       "  <tbody>\n",
       "    <tr>\n",
       "      <th>0</th>\n",
       "      <td>49849</td>\n",
       "      <td>Cabo Delgado</td>\n",
       "      <td>None</td>\n",
       "      <td>Ancuabe Centro de Saúde Rural I</td>\n",
       "      <td>Ancuabe</td>\n",
       "      <td>Centro de Saúde Rural I</td>\n",
       "      <td>Centro de Saúde</td>\n",
       "      <td>-12.9669</td>\n",
       "      <td>39.8572</td>\n",
       "      <td>WHO</td>\n",
       "    </tr>\n",
       "    <tr>\n",
       "      <th>1</th>\n",
       "      <td>49850</td>\n",
       "      <td>Cabo Delgado</td>\n",
       "      <td>None</td>\n",
       "      <td>Balama Centro de Saúde Rural I</td>\n",
       "      <td>Balama</td>\n",
       "      <td>Centro de Saúde Rural I</td>\n",
       "      <td>Centro de Saúde</td>\n",
       "      <td>-13.3483</td>\n",
       "      <td>38.5669</td>\n",
       "      <td>WHO</td>\n",
       "    </tr>\n",
       "    <tr>\n",
       "      <th>2</th>\n",
       "      <td>49851</td>\n",
       "      <td>Cabo Delgado</td>\n",
       "      <td>None</td>\n",
       "      <td>Bilibiza Centro de Saúde Rural I</td>\n",
       "      <td>Bilibiza</td>\n",
       "      <td>Centro de Saúde Rural I</td>\n",
       "      <td>Centro de Saúde</td>\n",
       "      <td>-12.5639</td>\n",
       "      <td>40.2853</td>\n",
       "      <td>WHO</td>\n",
       "    </tr>\n",
       "    <tr>\n",
       "      <th>3</th>\n",
       "      <td>49852</td>\n",
       "      <td>Cabo Delgado</td>\n",
       "      <td>None</td>\n",
       "      <td>Bilibiza Posto de Saúde</td>\n",
       "      <td>Bilibiza</td>\n",
       "      <td>Posto de Saúde</td>\n",
       "      <td>Posto de Saúde</td>\n",
       "      <td>-13.5795</td>\n",
       "      <td>39.7356</td>\n",
       "      <td>WHO</td>\n",
       "    </tr>\n",
       "    <tr>\n",
       "      <th>4</th>\n",
       "      <td>49853</td>\n",
       "      <td>Cabo Delgado</td>\n",
       "      <td>None</td>\n",
       "      <td>Cagembe Centro de Saúde Rural II</td>\n",
       "      <td>Cagembe</td>\n",
       "      <td>Centro de Saúde Rural II</td>\n",
       "      <td>Centro de Saúde</td>\n",
       "      <td>-12.3800</td>\n",
       "      <td>40.2642</td>\n",
       "      <td>WHO</td>\n",
       "    </tr>\n",
       "  </tbody>\n",
       "</table>\n",
       "</div>"
      ],
      "text/plain": [
       "      id        admin1 admin2                         name_full name_short  \\\n",
       "0  49849  Cabo Delgado   None   Ancuabe Centro de Saúde Rural I    Ancuabe   \n",
       "1  49850  Cabo Delgado   None    Balama Centro de Saúde Rural I     Balama   \n",
       "2  49851  Cabo Delgado   None  Bilibiza Centro de Saúde Rural I   Bilibiza   \n",
       "3  49852  Cabo Delgado   None           Bilibiza Posto de Saúde   Bilibiza   \n",
       "4  49853  Cabo Delgado   None  Cagembe Centro de Saúde Rural II    Cagembe   \n",
       "\n",
       "              type_original     type_cleaned  latitude  longitude source  \n",
       "0   Centro de Saúde Rural I  Centro de Saúde  -12.9669    39.8572    WHO  \n",
       "1   Centro de Saúde Rural I  Centro de Saúde  -13.3483    38.5669    WHO  \n",
       "2   Centro de Saúde Rural I  Centro de Saúde  -12.5639    40.2853    WHO  \n",
       "3            Posto de Saúde   Posto de Saúde  -13.5795    39.7356    WHO  \n",
       "4  Centro de Saúde Rural II  Centro de Saúde  -12.3800    40.2642    WHO  "
      ]
     },
     "execution_count": 80,
     "metadata": {},
     "output_type": "execute_result"
    }
   ],
   "source": [
    "df_WHO = df_WHO[cols]\n",
    "df_WHO.head()"
   ]
  },
  {
   "cell_type": "code",
   "execution_count": 81,
   "metadata": {},
   "outputs": [],
   "source": [
    "#df_WHO.to_csv(saveDir + '\\WHO_cleaned_0729.csv')"
   ]
  },
  {
   "cell_type": "markdown",
   "metadata": {},
   "source": [
    "# ISS"
   ]
  },
  {
   "cell_type": "markdown",
   "metadata": {},
   "source": [
    "## Name Cleaning"
   ]
  },
  {
   "cell_type": "markdown",
   "metadata": {},
   "source": [
    "Facility name in ISS dataset are formatted as prefix (abbreviation of facility type) followed by name. Split `name_of_facility_visited` using the first whitespace to obtain prefix and name."
   ]
  },
  {
   "cell_type": "code",
   "execution_count": 41,
   "metadata": {},
   "outputs": [
    {
     "data": {
      "text/html": [
       "<div>\n",
       "<style scoped>\n",
       "    .dataframe tbody tr th:only-of-type {\n",
       "        vertical-align: middle;\n",
       "    }\n",
       "\n",
       "    .dataframe tbody tr th {\n",
       "        vertical-align: top;\n",
       "    }\n",
       "\n",
       "    .dataframe thead th {\n",
       "        text-align: right;\n",
       "    }\n",
       "</style>\n",
       "<table border=\"1\" class=\"dataframe\">\n",
       "  <thead>\n",
       "    <tr style=\"text-align: right;\">\n",
       "      <th></th>\n",
       "      <th>states</th>\n",
       "      <th>districts</th>\n",
       "      <th>name_of_facility_visited</th>\n",
       "      <th>type_of_facility_visited</th>\n",
       "    </tr>\n",
       "  </thead>\n",
       "  <tbody>\n",
       "    <tr>\n",
       "      <th>651</th>\n",
       "      <td>Zambezia</td>\n",
       "      <td>Mulevala</td>\n",
       "      <td>CS JAJO</td>\n",
       "      <td>HEALTH_FACILITY</td>\n",
       "    </tr>\n",
       "    <tr>\n",
       "      <th>1315</th>\n",
       "      <td>Zambezia</td>\n",
       "      <td>Derre</td>\n",
       "      <td>CS GUERRISSA</td>\n",
       "      <td>HEALTH_FACILITY</td>\n",
       "    </tr>\n",
       "    <tr>\n",
       "      <th>1174</th>\n",
       "      <td>Zambezia</td>\n",
       "      <td>Alto Molocue</td>\n",
       "      <td>CS NIVAVA</td>\n",
       "      <td>HEALTH_FACILITY</td>\n",
       "    </tr>\n",
       "    <tr>\n",
       "      <th>825</th>\n",
       "      <td>Niassa</td>\n",
       "      <td>Mecanhelas</td>\n",
       "      <td>CS SALE</td>\n",
       "      <td>HEALTH_FACILITY</td>\n",
       "    </tr>\n",
       "    <tr>\n",
       "      <th>1017</th>\n",
       "      <td>Zambezia</td>\n",
       "      <td>Pebane</td>\n",
       "      <td>CS MULIGODE</td>\n",
       "      <td>HEALTH_POST</td>\n",
       "    </tr>\n",
       "  </tbody>\n",
       "</table>\n",
       "</div>"
      ],
      "text/plain": [
       "        states     districts name_of_facility_visited type_of_facility_visited\n",
       "651   Zambezia      Mulevala                  CS JAJO          HEALTH_FACILITY\n",
       "1315  Zambezia         Derre             CS GUERRISSA          HEALTH_FACILITY\n",
       "1174  Zambezia  Alto Molocue                CS NIVAVA          HEALTH_FACILITY\n",
       "825     Niassa    Mecanhelas                  CS SALE          HEALTH_FACILITY\n",
       "1017  Zambezia        Pebane              CS MULIGODE              HEALTH_POST"
      ]
     },
     "execution_count": 41,
     "metadata": {},
     "output_type": "execute_result"
    }
   ],
   "source": [
    "ISS_cols = ['states','districts', 'name_of_facility_visited', 'type_of_facility_visited']\n",
    "df_ISS[ISS_cols].sample(5)"
   ]
  },
  {
   "cell_type": "code",
   "execution_count": 42,
   "metadata": {},
   "outputs": [],
   "source": [
    "# obtain the prefix and facility name\n",
    "ISS_split = df_ISS['name_of_facility_visited'].str.split(expand=True,n=1)\n",
    "df_ISS['prefix'] = ISS_split[0]\n",
    "df_ISS['name_short'] = ISS_split[1]"
   ]
  },
  {
   "cell_type": "code",
   "execution_count": 43,
   "metadata": {},
   "outputs": [
    {
     "data": {
      "text/plain": [
       "array(['CS', 'HD', 'PS', 'HC', 'HR', 'HG', 'Cs', 'CS.'], dtype=object)"
      ]
     },
     "execution_count": 43,
     "metadata": {},
     "output_type": "execute_result"
    }
   ],
   "source": [
    "# Obtain unique values of prefix\n",
    "df_ISS['prefix'].unique()"
   ]
  },
  {
   "cell_type": "code",
   "execution_count": 44,
   "metadata": {},
   "outputs": [],
   "source": [
    "# replace prefix Cs, CS. with CS for consistency\n",
    "df_ISS['prefix'] = df_ISS['prefix'].str.replace('CS.|Cs', 'CS')"
   ]
  },
  {
   "cell_type": "code",
   "execution_count": 47,
   "metadata": {},
   "outputs": [],
   "source": [
    "# Capitalize 1st letter \n",
    "df_ISS['name_short'] = df_ISS['name_short'].str.title()\n",
    "df_ISS['states'] = df_ISS['states'].str.title()\n",
    "df_ISS['districts'] = df_ISS['districts'].str.title()"
   ]
  },
  {
   "cell_type": "code",
   "execution_count": 48,
   "metadata": {},
   "outputs": [
    {
     "data": {
      "text/html": [
       "<div>\n",
       "<style scoped>\n",
       "    .dataframe tbody tr th:only-of-type {\n",
       "        vertical-align: middle;\n",
       "    }\n",
       "\n",
       "    .dataframe tbody tr th {\n",
       "        vertical-align: top;\n",
       "    }\n",
       "\n",
       "    .dataframe thead th {\n",
       "        text-align: right;\n",
       "    }\n",
       "</style>\n",
       "<table border=\"1\" class=\"dataframe\">\n",
       "  <thead>\n",
       "    <tr style=\"text-align: right;\">\n",
       "      <th></th>\n",
       "      <th>states</th>\n",
       "      <th>districts</th>\n",
       "      <th>name_of_facility_visited</th>\n",
       "      <th>type_of_facility_visited</th>\n",
       "      <th>prefix</th>\n",
       "      <th>name_short</th>\n",
       "    </tr>\n",
       "  </thead>\n",
       "  <tbody>\n",
       "    <tr>\n",
       "      <th>53</th>\n",
       "      <td>Zambezia</td>\n",
       "      <td>Mopeia</td>\n",
       "      <td>CS SANGALAZA</td>\n",
       "      <td>RURAL_HOSPITAL</td>\n",
       "      <td>CS</td>\n",
       "      <td>Sangalaza</td>\n",
       "    </tr>\n",
       "    <tr>\n",
       "      <th>1303</th>\n",
       "      <td>Nampula</td>\n",
       "      <td>Malema</td>\n",
       "      <td>CS NATALEIA</td>\n",
       "      <td>HEALTH_FACILITY</td>\n",
       "      <td>CS</td>\n",
       "      <td>Nataleia</td>\n",
       "    </tr>\n",
       "    <tr>\n",
       "      <th>828</th>\n",
       "      <td>Zambezia</td>\n",
       "      <td>Chinde</td>\n",
       "      <td>CS MADAL</td>\n",
       "      <td>HEALTH_FACILITY</td>\n",
       "      <td>CS</td>\n",
       "      <td>Madal</td>\n",
       "    </tr>\n",
       "    <tr>\n",
       "      <th>494</th>\n",
       "      <td>Manica</td>\n",
       "      <td>Tambara</td>\n",
       "      <td>CS NHACAFULA</td>\n",
       "      <td>HEALTH_FACILITY</td>\n",
       "      <td>CS</td>\n",
       "      <td>Nhacafula</td>\n",
       "    </tr>\n",
       "    <tr>\n",
       "      <th>699</th>\n",
       "      <td>Zambezia</td>\n",
       "      <td>Pebane</td>\n",
       "      <td>CS 7 DE ABRIL</td>\n",
       "      <td>HEALTH_FACILITY</td>\n",
       "      <td>CS</td>\n",
       "      <td>7 De Abril</td>\n",
       "    </tr>\n",
       "  </tbody>\n",
       "</table>\n",
       "</div>"
      ],
      "text/plain": [
       "        states districts name_of_facility_visited type_of_facility_visited  \\\n",
       "53    Zambezia    Mopeia             CS SANGALAZA           RURAL_HOSPITAL   \n",
       "1303   Nampula    Malema              CS NATALEIA          HEALTH_FACILITY   \n",
       "828   Zambezia    Chinde                 CS MADAL          HEALTH_FACILITY   \n",
       "494     Manica   Tambara             CS NHACAFULA          HEALTH_FACILITY   \n",
       "699   Zambezia    Pebane            CS 7 DE ABRIL          HEALTH_FACILITY   \n",
       "\n",
       "     prefix  name_short  \n",
       "53       CS   Sangalaza  \n",
       "1303     CS    Nataleia  \n",
       "828      CS       Madal  \n",
       "494      CS   Nhacafula  \n",
       "699      CS  7 De Abril  "
      ]
     },
     "execution_count": 48,
     "metadata": {},
     "output_type": "execute_result"
    }
   ],
   "source": [
    "df_ISS[ISS_cols+['prefix', 'name_short']].sample(5)"
   ]
  },
  {
   "cell_type": "markdown",
   "metadata": {},
   "source": [
    "## Type Cleaning"
   ]
  },
  {
   "cell_type": "code",
   "execution_count": 121,
   "metadata": {},
   "outputs": [],
   "source": [
    "iss_type_dict = {'CENTRAL_HOSPITAL':'Hospital Central', 'others':'Other', \n",
    "                 'DISTRICT_HOSP':'Hospital Distrital', 'HEALTH_FACILITY':'Centro de Saúde',\n",
    "                 'HEALTH_POST':'Posto de Saúde', 'SPIRITUAL_HEALER':'Other', \n",
    "                 'PRIVATE_FACILITY':'Other', 'RURAL_HOSPITAL':'Hospital Rurais', \n",
    "                 'GENERAL_HOSP':'Hospital Geral', 'PROVINCIAL_HOSP':'Hospital Provincial'}\n",
    "df_ISS['type_cleaned'] = [iss_type_dict[facility_t] for facility_t in df_ISS['type_of_facility_visited']]"
   ]
  },
  {
   "cell_type": "code",
   "execution_count": 122,
   "metadata": {},
   "outputs": [
    {
     "name": "stdout",
     "output_type": "stream",
     "text": [
      "results:\n"
     ]
    },
    {
     "data": {
      "text/plain": [
       "Centro de Saúde        1205\n",
       "Posto de Saúde           95\n",
       "Hospital Distrital       59\n",
       "Hospital Rurais          23\n",
       "Hospital Geral           18\n",
       "Hospital Central         16\n",
       "Other                    12\n",
       "Hospital Provincial       2\n",
       "Name: type_cleaned, dtype: int64"
      ]
     },
     "execution_count": 122,
     "metadata": {},
     "output_type": "execute_result"
    }
   ],
   "source": [
    "print(\"results:\")\n",
    "df_ISS[\"type_cleaned\"].value_counts()"
   ]
  },
  {
   "cell_type": "markdown",
   "metadata": {},
   "source": [
    "## Remove Duplicates\n",
    "\n",
    "Use `date_of_visit` as the time when data is collected."
   ]
  },
  {
   "cell_type": "code",
   "execution_count": 123,
   "metadata": {},
   "outputs": [
    {
     "name": "stdout",
     "output_type": "stream",
     "text": [
      "Date range: \n",
      "start: 2017-12-04 \n",
      "end: 2020-04-08\n"
     ]
    }
   ],
   "source": [
    "print(\"Date range: \")\n",
    "df_ISS['date'] = pd.to_datetime(df_ISS['date_of_visit'])\n",
    "print(\"start:\", df_ISS['date'].min().date(), \n",
    "      \"\\nend:\", df_ISS['date'].max().date())"
   ]
  },
  {
   "cell_type": "code",
   "execution_count": 124,
   "metadata": {},
   "outputs": [],
   "source": [
    "df_ISS.sort_values(by=['states', 'districts', \n",
    "                       'name_of_facility_visited', 'date'],\n",
    "                  inplace=True)"
   ]
  },
  {
   "cell_type": "code",
   "execution_count": 125,
   "metadata": {},
   "outputs": [],
   "source": [
    "df_ISS2 = df_ISS[~df_ISS.duplicated(\n",
    "    subset=['states', 'districts', 'name_of_facility_visited'],\n",
    "    keep = 'last')]"
   ]
  },
  {
   "cell_type": "code",
   "execution_count": 126,
   "metadata": {},
   "outputs": [
    {
     "name": "stdout",
     "output_type": "stream",
     "text": [
      "Number of data points after removing duplicates: 382\n"
     ]
    }
   ],
   "source": [
    "print(\"Number of data points after removing duplicates:\", df_ISS2.shape[0])"
   ]
  },
  {
   "cell_type": "code",
   "execution_count": 127,
   "metadata": {},
   "outputs": [],
   "source": [
    "counts = df_ISS2.groupby('name_short').agg(count=('index','count'))\\\n",
    ".sort_values('count', ascending=False)\n",
    "\n",
    "counts = counts[counts['count']>1]\n",
    "counts.reset_index(inplace=True)"
   ]
  },
  {
   "cell_type": "code",
   "execution_count": 128,
   "metadata": {},
   "outputs": [],
   "source": [
    "# Calculate distance for each pair\n",
    "distances = []\n",
    "for idx, row in counts.iterrows():\n",
    "    \n",
    "    test_df = df_ISS2[df_ISS2['name_short']==row['name_short']]\n",
    "    \n",
    "    points = []\n",
    "    for idx2, row2 in test_df.iterrows():\n",
    "        lat = row2['geometry'].x\n",
    "        lon = row2['geometry'].y\n",
    "        points.append((lat, lon))\n",
    "    \n",
    "    origin = points[0]\n",
    "    destination = points[1]\n",
    "    dist = distance(origin, destination)\n",
    "    distances.append(dist)"
   ]
  },
  {
   "cell_type": "code",
   "execution_count": 129,
   "metadata": {},
   "outputs": [
    {
     "data": {
      "text/html": [
       "<div>\n",
       "<style scoped>\n",
       "    .dataframe tbody tr th:only-of-type {\n",
       "        vertical-align: middle;\n",
       "    }\n",
       "\n",
       "    .dataframe tbody tr th {\n",
       "        vertical-align: top;\n",
       "    }\n",
       "\n",
       "    .dataframe thead th {\n",
       "        text-align: right;\n",
       "    }\n",
       "</style>\n",
       "<table border=\"1\" class=\"dataframe\">\n",
       "  <thead>\n",
       "    <tr style=\"text-align: right;\">\n",
       "      <th></th>\n",
       "      <th>name_short</th>\n",
       "      <th>count</th>\n",
       "      <th>distance</th>\n",
       "    </tr>\n",
       "  </thead>\n",
       "  <tbody>\n",
       "    <tr>\n",
       "      <th>4</th>\n",
       "      <td>Morrumbala</td>\n",
       "      <td>2</td>\n",
       "      <td>0.029245</td>\n",
       "    </tr>\n",
       "    <tr>\n",
       "      <th>8</th>\n",
       "      <td>Cuamba</td>\n",
       "      <td>2</td>\n",
       "      <td>0.045346</td>\n",
       "    </tr>\n",
       "    <tr>\n",
       "      <th>11</th>\n",
       "      <td>Gurue</td>\n",
       "      <td>2</td>\n",
       "      <td>0.082024</td>\n",
       "    </tr>\n",
       "  </tbody>\n",
       "</table>\n",
       "</div>"
      ],
      "text/plain": [
       "    name_short  count  distance\n",
       "4   Morrumbala      2  0.029245\n",
       "8       Cuamba      2  0.045346\n",
       "11       Gurue      2  0.082024"
      ]
     },
     "execution_count": 129,
     "metadata": {},
     "output_type": "execute_result"
    }
   ],
   "source": [
    "counts['distance'] = distances\n",
    "\n",
    "# suspect duplicates\n",
    "suspect_dups = counts[counts['distance']<0.1]\n",
    "\n",
    "suspect_dups"
   ]
  },
  {
   "cell_type": "code",
   "execution_count": 130,
   "metadata": {},
   "outputs": [
    {
     "name": "stdout",
     "output_type": "stream",
     "text": [
      "Morrumbala\n",
      "['Centro de Saúde' 'Hospital Distrital']\n",
      "Cuamba\n",
      "['Centro de Saúde' 'Hospital Distrital']\n",
      "Gurue\n",
      "['Centro de Saúde' 'Hospital Distrital']\n"
     ]
    }
   ],
   "source": [
    "for name in suspect_dups['name_short']:\n",
    "    print(name)\n",
    "    print(df_ISS2[df_ISS2['name_short']==name]['type_cleaned'].unique())"
   ]
  },
  {
   "cell_type": "markdown",
   "metadata": {},
   "source": [
    "## Change Column Names"
   ]
  },
  {
   "cell_type": "code",
   "execution_count": 135,
   "metadata": {},
   "outputs": [],
   "source": [
    "df_ISS2['longitude'] = df_ISS2['geometry'].x\n",
    "df_ISS2['latitude'] = df_ISS2['geometry'].y"
   ]
  },
  {
   "cell_type": "code",
   "execution_count": 140,
   "metadata": {},
   "outputs": [],
   "source": [
    "df_ISS2.rename(columns={'index':'id', 'states':'admin1',\n",
    "                        'districts':'admin2',\n",
    "                       'name_of_facility_visited':'name_full', \n",
    "                        'type_of_facility_visited':'type_original'}, \n",
    "              inplace=True)\n",
    "df_ISS2['source'] = 'ISS'"
   ]
  },
  {
   "cell_type": "code",
   "execution_count": 141,
   "metadata": {},
   "outputs": [],
   "source": [
    "df_ISS = df_ISS2[cols]"
   ]
  },
  {
   "cell_type": "code",
   "execution_count": 142,
   "metadata": {},
   "outputs": [
    {
     "data": {
      "text/html": [
       "<div>\n",
       "<style scoped>\n",
       "    .dataframe tbody tr th:only-of-type {\n",
       "        vertical-align: middle;\n",
       "    }\n",
       "\n",
       "    .dataframe tbody tr th {\n",
       "        vertical-align: top;\n",
       "    }\n",
       "\n",
       "    .dataframe thead th {\n",
       "        text-align: right;\n",
       "    }\n",
       "</style>\n",
       "<table border=\"1\" class=\"dataframe\">\n",
       "  <thead>\n",
       "    <tr style=\"text-align: right;\">\n",
       "      <th></th>\n",
       "      <th>id</th>\n",
       "      <th>admin1</th>\n",
       "      <th>admin2</th>\n",
       "      <th>name_full</th>\n",
       "      <th>name_short</th>\n",
       "      <th>type_original</th>\n",
       "      <th>type_cleaned</th>\n",
       "      <th>latitude</th>\n",
       "      <th>longitude</th>\n",
       "      <th>source</th>\n",
       "    </tr>\n",
       "  </thead>\n",
       "  <tbody>\n",
       "    <tr>\n",
       "      <th>982</th>\n",
       "      <td>63644</td>\n",
       "      <td>Cabo Delgado</td>\n",
       "      <td>Meluco</td>\n",
       "      <td>CS MELUCO</td>\n",
       "      <td>Meluco</td>\n",
       "      <td>HEALTH_FACILITY</td>\n",
       "      <td>Centro de Saúde</td>\n",
       "      <td>-12.540123</td>\n",
       "      <td>39.640971</td>\n",
       "      <td>ISS</td>\n",
       "    </tr>\n",
       "    <tr>\n",
       "      <th>1382</th>\n",
       "      <td>64044</td>\n",
       "      <td>Cabo Delgado</td>\n",
       "      <td>Metuge</td>\n",
       "      <td>CS MIEZE</td>\n",
       "      <td>Mieze</td>\n",
       "      <td>HEALTH_FACILITY</td>\n",
       "      <td>Centro de Saúde</td>\n",
       "      <td>-13.107240</td>\n",
       "      <td>40.453321</td>\n",
       "      <td>ISS</td>\n",
       "    </tr>\n",
       "    <tr>\n",
       "      <th>80</th>\n",
       "      <td>62742</td>\n",
       "      <td>Cabo Delgado</td>\n",
       "      <td>Mocimboa Da Praia</td>\n",
       "      <td>CS NANDUADUA</td>\n",
       "      <td>Nanduadua</td>\n",
       "      <td>HEALTH_FACILITY</td>\n",
       "      <td>Centro de Saúde</td>\n",
       "      <td>-11.349539</td>\n",
       "      <td>40.351586</td>\n",
       "      <td>ISS</td>\n",
       "    </tr>\n",
       "    <tr>\n",
       "      <th>601</th>\n",
       "      <td>63263</td>\n",
       "      <td>Cabo Delgado</td>\n",
       "      <td>Montepuez</td>\n",
       "      <td>CS MONTEPUEZ</td>\n",
       "      <td>Montepuez</td>\n",
       "      <td>HEALTH_FACILITY</td>\n",
       "      <td>Centro de Saúde</td>\n",
       "      <td>-13.128291</td>\n",
       "      <td>38.998720</td>\n",
       "      <td>ISS</td>\n",
       "    </tr>\n",
       "    <tr>\n",
       "      <th>1381</th>\n",
       "      <td>64043</td>\n",
       "      <td>Cabo Delgado</td>\n",
       "      <td>Namuno</td>\n",
       "      <td>CS NAMUNO</td>\n",
       "      <td>Namuno</td>\n",
       "      <td>HEALTH_FACILITY</td>\n",
       "      <td>Centro de Saúde</td>\n",
       "      <td>-13.618362</td>\n",
       "      <td>38.816279</td>\n",
       "      <td>ISS</td>\n",
       "    </tr>\n",
       "  </tbody>\n",
       "</table>\n",
       "</div>"
      ],
      "text/plain": [
       "         id        admin1             admin2     name_full name_short  \\\n",
       "982   63644  Cabo Delgado             Meluco     CS MELUCO     Meluco   \n",
       "1382  64044  Cabo Delgado             Metuge      CS MIEZE      Mieze   \n",
       "80    62742  Cabo Delgado  Mocimboa Da Praia  CS NANDUADUA  Nanduadua   \n",
       "601   63263  Cabo Delgado          Montepuez  CS MONTEPUEZ  Montepuez   \n",
       "1381  64043  Cabo Delgado             Namuno     CS NAMUNO     Namuno   \n",
       "\n",
       "        type_original     type_cleaned   latitude  longitude source  \n",
       "982   HEALTH_FACILITY  Centro de Saúde -12.540123  39.640971    ISS  \n",
       "1382  HEALTH_FACILITY  Centro de Saúde -13.107240  40.453321    ISS  \n",
       "80    HEALTH_FACILITY  Centro de Saúde -11.349539  40.351586    ISS  \n",
       "601   HEALTH_FACILITY  Centro de Saúde -13.128291  38.998720    ISS  \n",
       "1381  HEALTH_FACILITY  Centro de Saúde -13.618362  38.816279    ISS  "
      ]
     },
     "execution_count": 142,
     "metadata": {},
     "output_type": "execute_result"
    }
   ],
   "source": [
    "df_ISS.head()"
   ]
  },
  {
   "cell_type": "code",
   "execution_count": 143,
   "metadata": {},
   "outputs": [],
   "source": [
    "#df_ISS.to_csv(saveDir + '\\ISS_cleaned_0729.csv')"
   ]
  },
  {
   "cell_type": "markdown",
   "metadata": {},
   "source": [
    "# Project Last Mile"
   ]
  },
  {
   "cell_type": "markdown",
   "metadata": {},
   "source": [
    "## Name Cleaning\n",
    "\n",
    "Remove prefix in the name column to get short name."
   ]
  },
  {
   "cell_type": "code",
   "execution_count": 144,
   "metadata": {},
   "outputs": [
    {
     "data": {
      "text/html": [
       "<div>\n",
       "<style scoped>\n",
       "    .dataframe tbody tr th:only-of-type {\n",
       "        vertical-align: middle;\n",
       "    }\n",
       "\n",
       "    .dataframe tbody tr th {\n",
       "        vertical-align: top;\n",
       "    }\n",
       "\n",
       "    .dataframe thead th {\n",
       "        text-align: right;\n",
       "    }\n",
       "</style>\n",
       "<table border=\"1\" class=\"dataframe\">\n",
       "  <thead>\n",
       "    <tr style=\"text-align: right;\">\n",
       "      <th></th>\n",
       "      <th>PLM ID</th>\n",
       "      <th>PROVINCE</th>\n",
       "      <th>District Layer (Admin2)</th>\n",
       "      <th>DISTRICT</th>\n",
       "      <th>US CODE</th>\n",
       "      <th>UNIT</th>\n",
       "      <th>TYPE OF US</th>\n",
       "      <th>Longitude</th>\n",
       "      <th>Latitude</th>\n",
       "    </tr>\n",
       "  </thead>\n",
       "  <tbody>\n",
       "    <tr>\n",
       "      <th>0</th>\n",
       "      <td>HF1</td>\n",
       "      <td>Cabo Delgado</td>\n",
       "      <td>Ancuabe</td>\n",
       "      <td>Ancuabe</td>\n",
       "      <td>1020206</td>\n",
       "      <td>CS Ancuabe</td>\n",
       "      <td>CS</td>\n",
       "      <td>39.8572</td>\n",
       "      <td>-12.9669</td>\n",
       "    </tr>\n",
       "    <tr>\n",
       "      <th>1</th>\n",
       "      <td>HF2</td>\n",
       "      <td>Cabo Delgado</td>\n",
       "      <td>Ancuabe</td>\n",
       "      <td>Ancuabe</td>\n",
       "      <td>1020207</td>\n",
       "      <td>CS Mariri</td>\n",
       "      <td>CS</td>\n",
       "      <td>39.5931</td>\n",
       "      <td>-13.0917</td>\n",
       "    </tr>\n",
       "    <tr>\n",
       "      <th>2</th>\n",
       "      <td>HF3</td>\n",
       "      <td>Cabo Delgado</td>\n",
       "      <td>Ancuabe</td>\n",
       "      <td>Ancuabe</td>\n",
       "      <td>1020210</td>\n",
       "      <td>CS Mesa</td>\n",
       "      <td>CS</td>\n",
       "      <td>39.5522</td>\n",
       "      <td>-13.0319</td>\n",
       "    </tr>\n",
       "    <tr>\n",
       "      <th>3</th>\n",
       "      <td>HF4</td>\n",
       "      <td>Cabo Delgado</td>\n",
       "      <td>Ancuabe</td>\n",
       "      <td>Ancuabe</td>\n",
       "      <td>1020209</td>\n",
       "      <td>CS Metoro</td>\n",
       "      <td>CS</td>\n",
       "      <td>39.8742</td>\n",
       "      <td>-13.1050</td>\n",
       "    </tr>\n",
       "    <tr>\n",
       "      <th>4</th>\n",
       "      <td>HF5</td>\n",
       "      <td>Cabo Delgado</td>\n",
       "      <td>Ancuabe</td>\n",
       "      <td>Ancuabe</td>\n",
       "      <td>1020211</td>\n",
       "      <td>CS Minhewene</td>\n",
       "      <td>CS</td>\n",
       "      <td>39.4675</td>\n",
       "      <td>-12.9939</td>\n",
       "    </tr>\n",
       "  </tbody>\n",
       "</table>\n",
       "</div>"
      ],
      "text/plain": [
       "  PLM ID     PROVINCE  District Layer (Admin2) DISTRICT  US CODE      \\\n",
       "0    HF1  Cabo Delgado                 Ancuabe   Ancuabe     1020206   \n",
       "1    HF2  Cabo Delgado                 Ancuabe   Ancuabe     1020207   \n",
       "2    HF3  Cabo Delgado                 Ancuabe   Ancuabe     1020210   \n",
       "3    HF4  Cabo Delgado                 Ancuabe   Ancuabe     1020209   \n",
       "4    HF5  Cabo Delgado                 Ancuabe   Ancuabe     1020211   \n",
       "\n",
       "           UNIT TYPE OF US  Longitude  Latitude  \n",
       "0    CS Ancuabe         CS    39.8572  -12.9669  \n",
       "1     CS Mariri         CS    39.5931  -13.0917  \n",
       "2       CS Mesa         CS    39.5522  -13.0319  \n",
       "3     CS Metoro         CS    39.8742  -13.1050  \n",
       "4  CS Minhewene         CS    39.4675  -12.9939  "
      ]
     },
     "execution_count": 144,
     "metadata": {},
     "output_type": "execute_result"
    }
   ],
   "source": [
    "df_PLM.head()"
   ]
  },
  {
   "cell_type": "code",
   "execution_count": 146,
   "metadata": {},
   "outputs": [],
   "source": [
    "prefixes = ['Posto Medico','Centro Formação Saude','Posto Médico','Posto Medico Militar - ',\n",
    "            'Clinica', 'Posto saude', 'H Militar', 'Hospital Distrital', 'Hospital Militar',\n",
    "           '^CS', '^Cs', '^HD', '^HR', '^HP', '^PS', '^HG', '^HE', '^HC', '^HM']\n",
    "df_PLM['name_short'] = df_PLM['UNIT'].str.replace('|'.join(prefixes), '', regex=True) \\\n",
    ".str.strip() \\\n",
    ".str.replace('^de|^da', '', regex=True) \\\n",
    ".str.strip() \\\n",
    ".str.title()"
   ]
  },
  {
   "cell_type": "code",
   "execution_count": 149,
   "metadata": {},
   "outputs": [
    {
     "data": {
      "text/html": [
       "<div>\n",
       "<style scoped>\n",
       "    .dataframe tbody tr th:only-of-type {\n",
       "        vertical-align: middle;\n",
       "    }\n",
       "\n",
       "    .dataframe tbody tr th {\n",
       "        vertical-align: top;\n",
       "    }\n",
       "\n",
       "    .dataframe thead th {\n",
       "        text-align: right;\n",
       "    }\n",
       "</style>\n",
       "<table border=\"1\" class=\"dataframe\">\n",
       "  <thead>\n",
       "    <tr style=\"text-align: right;\">\n",
       "      <th></th>\n",
       "      <th>PLM ID</th>\n",
       "      <th>PROVINCE</th>\n",
       "      <th>District Layer (Admin2)</th>\n",
       "      <th>DISTRICT</th>\n",
       "      <th>US CODE</th>\n",
       "      <th>UNIT</th>\n",
       "      <th>TYPE OF US</th>\n",
       "      <th>Longitude</th>\n",
       "      <th>Latitude</th>\n",
       "      <th>name_short</th>\n",
       "    </tr>\n",
       "  </thead>\n",
       "  <tbody>\n",
       "    <tr>\n",
       "      <th>40</th>\n",
       "      <td>HF41</td>\n",
       "      <td>Cabo Delgado</td>\n",
       "      <td>Cidade De Pemba</td>\n",
       "      <td>Cidade De Pemba</td>\n",
       "      <td>1020113</td>\n",
       "      <td>CS Paquite</td>\n",
       "      <td>CS</td>\n",
       "      <td>40.486700</td>\n",
       "      <td>-12.962500</td>\n",
       "      <td>Paquite</td>\n",
       "    </tr>\n",
       "    <tr>\n",
       "      <th>872</th>\n",
       "      <td>HF873</td>\n",
       "      <td>Nampula</td>\n",
       "      <td>Murrupula</td>\n",
       "      <td>Murrupula</td>\n",
       "      <td>1031606</td>\n",
       "      <td>CS Murrupula</td>\n",
       "      <td>CS</td>\n",
       "      <td>38.676396</td>\n",
       "      <td>-15.456229</td>\n",
       "      <td>Murrupula</td>\n",
       "    </tr>\n",
       "    <tr>\n",
       "      <th>1284</th>\n",
       "      <td>HF1286</td>\n",
       "      <td>Sofala</td>\n",
       "      <td>Muanza</td>\n",
       "      <td>Muanza</td>\n",
       "      <td>1325832</td>\n",
       "      <td>CS Tipo III Galinha</td>\n",
       "      <td>CS</td>\n",
       "      <td>35.039608</td>\n",
       "      <td>-19.229029</td>\n",
       "      <td>Tipo Iii Galinha</td>\n",
       "    </tr>\n",
       "    <tr>\n",
       "      <th>1379</th>\n",
       "      <td>HF1381</td>\n",
       "      <td>Tete</td>\n",
       "      <td>Macanga</td>\n",
       "      <td>Macanga</td>\n",
       "      <td>1050710</td>\n",
       "      <td>CS Mutchoncho</td>\n",
       "      <td>CS</td>\n",
       "      <td>33.925900</td>\n",
       "      <td>-14.941600</td>\n",
       "      <td>Mutchoncho</td>\n",
       "    </tr>\n",
       "    <tr>\n",
       "      <th>98</th>\n",
       "      <td>HF99</td>\n",
       "      <td>Cabo Delgado</td>\n",
       "      <td>Muidumbe</td>\n",
       "      <td>Muidumbe</td>\n",
       "      <td>1021206</td>\n",
       "      <td>CS Muambula</td>\n",
       "      <td>CS</td>\n",
       "      <td>39.836519</td>\n",
       "      <td>-11.834960</td>\n",
       "      <td>Muambula</td>\n",
       "    </tr>\n",
       "  </tbody>\n",
       "</table>\n",
       "</div>"
      ],
      "text/plain": [
       "      PLM ID     PROVINCE  District Layer (Admin2)        DISTRICT   \\\n",
       "40      HF41  Cabo Delgado         Cidade De Pemba  Cidade De Pemba   \n",
       "872    HF873       Nampula               Murrupula        Murrupula   \n",
       "1284  HF1286        Sofala                  Muanza           Muanza   \n",
       "1379  HF1381          Tete                 Macanga          Macanga   \n",
       "98      HF99  Cabo Delgado                Muidumbe         Muidumbe   \n",
       "\n",
       "     US CODE                     UNIT TYPE OF US  Longitude   Latitude  \\\n",
       "40       1020113           CS Paquite         CS  40.486700 -12.962500   \n",
       "872      1031606         CS Murrupula         CS  38.676396 -15.456229   \n",
       "1284     1325832  CS Tipo III Galinha         CS  35.039608 -19.229029   \n",
       "1379     1050710        CS Mutchoncho         CS  33.925900 -14.941600   \n",
       "98       1021206          CS Muambula         CS  39.836519 -11.834960   \n",
       "\n",
       "            name_short  \n",
       "40             Paquite  \n",
       "872          Murrupula  \n",
       "1284  Tipo Iii Galinha  \n",
       "1379        Mutchoncho  \n",
       "98            Muambula  "
      ]
     },
     "execution_count": 149,
     "metadata": {},
     "output_type": "execute_result"
    }
   ],
   "source": [
    "df_PLM.sample(5)"
   ]
  },
  {
   "cell_type": "code",
   "execution_count": 150,
   "metadata": {},
   "outputs": [],
   "source": [
    "plm_type_dict = {'CS':'Centro de Saúde', 'HD':'Hospital Distrital', \n",
    "                 'HR':'Hospital Rurais', 'HP':'Hospital Provincial', \n",
    "                 'PS':'Posto de Saúde', 'HG':'Hospital Geral', \n",
    "                 'HE':'Hospital Especializado', 'HC':'Hospital Central', \n",
    "                 'HM':'Hospital Especializado'}\n",
    "df_PLM['type_cleaned'] = [plm_type_dict[facility_t] for facility_t in df_PLM['TYPE OF US']]"
   ]
  },
  {
   "cell_type": "code",
   "execution_count": 151,
   "metadata": {},
   "outputs": [
    {
     "name": "stdout",
     "output_type": "stream",
     "text": [
      "results:\n"
     ]
    },
    {
     "data": {
      "text/plain": [
       "Centro de Saúde           1511\n",
       "Posto de Saúde             129\n",
       "Hospital Distrital          24\n",
       "Hospital Rurais             23\n",
       "Hospital Especializado      11\n",
       "Hospital Provincial          7\n",
       "Hospital Geral               5\n",
       "Hospital Central             2\n",
       "Name: type_cleaned, dtype: int64"
      ]
     },
     "execution_count": 151,
     "metadata": {},
     "output_type": "execute_result"
    }
   ],
   "source": [
    "print(\"results:\")\n",
    "df_PLM['type_cleaned'].value_counts()"
   ]
  },
  {
   "cell_type": "markdown",
   "metadata": {},
   "source": [
    "## Change Column Names"
   ]
  },
  {
   "cell_type": "code",
   "execution_count": 152,
   "metadata": {},
   "outputs": [],
   "source": [
    "df_PLM.rename(columns={'PLM ID':'id', 'PROVINCE ':'admin1', 'DISTRICT ':'admin2',\n",
    "                       'US CODE    ': 'US code', 'UNIT':'name_full', 'TYPE OF US':'type_original',\n",
    "                      'Longitude':'longitude', 'Latitude':'latitude'},\n",
    "             inplace=True)\n",
    "df_PLM['source'] = 'PLM'"
   ]
  },
  {
   "cell_type": "code",
   "execution_count": 153,
   "metadata": {},
   "outputs": [],
   "source": [
    "df_PLM = df_PLM[cols]"
   ]
  },
  {
   "cell_type": "code",
   "execution_count": 154,
   "metadata": {},
   "outputs": [
    {
     "data": {
      "text/html": [
       "<div>\n",
       "<style scoped>\n",
       "    .dataframe tbody tr th:only-of-type {\n",
       "        vertical-align: middle;\n",
       "    }\n",
       "\n",
       "    .dataframe tbody tr th {\n",
       "        vertical-align: top;\n",
       "    }\n",
       "\n",
       "    .dataframe thead th {\n",
       "        text-align: right;\n",
       "    }\n",
       "</style>\n",
       "<table border=\"1\" class=\"dataframe\">\n",
       "  <thead>\n",
       "    <tr style=\"text-align: right;\">\n",
       "      <th></th>\n",
       "      <th>id</th>\n",
       "      <th>admin1</th>\n",
       "      <th>admin2</th>\n",
       "      <th>name_full</th>\n",
       "      <th>name_short</th>\n",
       "      <th>type_original</th>\n",
       "      <th>type_cleaned</th>\n",
       "      <th>latitude</th>\n",
       "      <th>longitude</th>\n",
       "      <th>source</th>\n",
       "    </tr>\n",
       "  </thead>\n",
       "  <tbody>\n",
       "    <tr>\n",
       "      <th>74</th>\n",
       "      <td>HF75</td>\n",
       "      <td>Cabo Delgado</td>\n",
       "      <td>Montepuez</td>\n",
       "      <td>CS Mapupulo</td>\n",
       "      <td>Mapupulo</td>\n",
       "      <td>CS</td>\n",
       "      <td>Centro de Saúde</td>\n",
       "      <td>-13.223300</td>\n",
       "      <td>38.880800</td>\n",
       "      <td>PLM</td>\n",
       "    </tr>\n",
       "    <tr>\n",
       "      <th>602</th>\n",
       "      <td>HF603</td>\n",
       "      <td>Maputo Provincia</td>\n",
       "      <td>Cidade Da Matola</td>\n",
       "      <td>CS Boquisso</td>\n",
       "      <td>Boquisso</td>\n",
       "      <td>CS</td>\n",
       "      <td>Centro de Saúde</td>\n",
       "      <td>-25.739040</td>\n",
       "      <td>32.539166</td>\n",
       "      <td>PLM</td>\n",
       "    </tr>\n",
       "    <tr>\n",
       "      <th>519</th>\n",
       "      <td>HF520</td>\n",
       "      <td>Manica</td>\n",
       "      <td>Sussundenga</td>\n",
       "      <td>CS Sussundenga</td>\n",
       "      <td>Sussundenga</td>\n",
       "      <td>CS</td>\n",
       "      <td>Centro de Saúde</td>\n",
       "      <td>-19.409628</td>\n",
       "      <td>33.293803</td>\n",
       "      <td>PLM</td>\n",
       "    </tr>\n",
       "    <tr>\n",
       "      <th>524</th>\n",
       "      <td>HF525</td>\n",
       "      <td>Manica</td>\n",
       "      <td>Tambara</td>\n",
       "      <td>CS Nhacafula</td>\n",
       "      <td>Nhacafula</td>\n",
       "      <td>CS</td>\n",
       "      <td>Centro de Saúde</td>\n",
       "      <td>-16.870467</td>\n",
       "      <td>34.076305</td>\n",
       "      <td>PLM</td>\n",
       "    </tr>\n",
       "    <tr>\n",
       "      <th>621</th>\n",
       "      <td>HF622</td>\n",
       "      <td>Maputo Provincia</td>\n",
       "      <td>Cidade Da Matola</td>\n",
       "      <td>PS Cadeia Feminina</td>\n",
       "      <td>Cadeia Feminina</td>\n",
       "      <td>PS</td>\n",
       "      <td>Posto de Saúde</td>\n",
       "      <td>-25.871666</td>\n",
       "      <td>32.538915</td>\n",
       "      <td>PLM</td>\n",
       "    </tr>\n",
       "  </tbody>\n",
       "</table>\n",
       "</div>"
      ],
      "text/plain": [
       "        id            admin1            admin2           name_full  \\\n",
       "74    HF75      Cabo Delgado         Montepuez         CS Mapupulo   \n",
       "602  HF603  Maputo Provincia  Cidade Da Matola         CS Boquisso   \n",
       "519  HF520            Manica       Sussundenga      CS Sussundenga   \n",
       "524  HF525            Manica           Tambara        CS Nhacafula   \n",
       "621  HF622  Maputo Provincia  Cidade Da Matola  PS Cadeia Feminina   \n",
       "\n",
       "          name_short type_original     type_cleaned   latitude  longitude  \\\n",
       "74          Mapupulo            CS  Centro de Saúde -13.223300  38.880800   \n",
       "602         Boquisso            CS  Centro de Saúde -25.739040  32.539166   \n",
       "519      Sussundenga            CS  Centro de Saúde -19.409628  33.293803   \n",
       "524        Nhacafula            CS  Centro de Saúde -16.870467  34.076305   \n",
       "621  Cadeia Feminina            PS   Posto de Saúde -25.871666  32.538915   \n",
       "\n",
       "    source  \n",
       "74     PLM  \n",
       "602    PLM  \n",
       "519    PLM  \n",
       "524    PLM  \n",
       "621    PLM  "
      ]
     },
     "execution_count": 154,
     "metadata": {},
     "output_type": "execute_result"
    }
   ],
   "source": [
    "df_PLM.sample(5)"
   ]
  },
  {
   "cell_type": "code",
   "execution_count": 155,
   "metadata": {},
   "outputs": [],
   "source": [
    "#df_PLM.to_csv(saveDir + '\\PLM_cleaned_0729.csv')"
   ]
  },
  {
   "cell_type": "code",
   "execution_count": 156,
   "metadata": {},
   "outputs": [],
   "source": [
    "#df = pd.concat([df_WHO, df_ISS, df_PLM], axis=0)\n",
    "#df.to_csv(saveDir + '\\MOZ_raw_0729.csv')"
   ]
  }
 ],
 "metadata": {
  "kernelspec": {
   "display_name": "Python 3",
   "language": "python",
   "name": "python3"
  },
  "language_info": {
   "codemirror_mode": {
    "name": "ipython",
    "version": 3
   },
   "file_extension": ".py",
   "mimetype": "text/x-python",
   "name": "python",
   "nbconvert_exporter": "python",
   "pygments_lexer": "ipython3",
   "version": "3.7.6"
  }
 },
 "nbformat": 4,
 "nbformat_minor": 4
}
