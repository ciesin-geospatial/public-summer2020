{
 "cells": [
  {
   "cell_type": "code",
   "execution_count": 1,
   "metadata": {},
   "outputs": [],
   "source": [
    "import numpy as np\n",
    "import pandas as pd\n",
    "import geopandas as gpd\n",
    "import fiona\n",
    "import os\n",
    "import unidecode\n",
    "from fuzzywuzzy import fuzz\n",
    "from fuzzywuzzy import process\n",
    "from ordered_set import OrderedSet"
   ]
  },
  {
   "cell_type": "code",
   "execution_count": 2,
   "metadata": {},
   "outputs": [],
   "source": [
    "pd.set_option('display.max_columns', None)\n",
    "pd.set_option('display.max_rows', None)\n",
    "pd.set_option('mode.chained_assignment', None)"
   ]
  },
  {
   "cell_type": "markdown",
   "metadata": {},
   "source": [
    "# Use HDX_WHO data"
   ]
  },
  {
   "cell_type": "code",
   "execution_count": 3,
   "metadata": {},
   "outputs": [],
   "source": [
    "# data import\n",
    "dataDir = r\"C:\\Users\\DUANYUEYUN\\Documents\\GRID3\\Health facilities\\Data\\Africa\\Sub-Saharan_health_facilities\"\n",
    "folder = \"Sub-Saharan_health_facilities.gdb\"\n",
    "path = os.path.join(dataDir, folder)\n",
    "df_who = gpd.read_file(path, driver='FileGDB', \n",
    "                       layer='HDX_WHO_sub_saharan_health_facilities')\n",
    "df_iss = gpd.read_file(path, driver='FileGDB', \n",
    "                       layer='ISS_sub_saharan')\n",
    "# get the index, for mapping processed data to original dataset\n",
    "df_iss.reset_index(inplace=True)"
   ]
  },
  {
   "cell_type": "code",
   "execution_count": 4,
   "metadata": {},
   "outputs": [],
   "source": [
    "# obtain unique facility types for each country and the corresponding count\n",
    "type_dict = pd.DataFrame({'count':df_who.groupby(['Country', 'Facility_t']).size()})\n",
    "type_dict.reset_index(inplace=True)\n",
    "# rename columns\n",
    "type_dict.rename(columns={\"Facility_t\":'Type'}, inplace=True)"
   ]
  },
  {
   "cell_type": "code",
   "execution_count": 5,
   "metadata": {},
   "outputs": [],
   "source": [
    "# correct inconsistent spelling in the `Type` column\n",
    "type_corr_dict = {\"Unites de Santé de village\":\"Unites de Santé de Village\",\n",
    "                 \"Centre Médico-social\":\"Centre Médico-Social\",\n",
    "                 \"Poste de santé\":\"Poste de Santé\",\n",
    "                 \"Regional hospital\":\"Hôpital de Regional\",\n",
    "                 \"Poste De Santé\":\"Poste de Santé\",\n",
    "                 \"Hospital Medical Center\":\"Hospital Medical Centre\",\n",
    "                 \"Health post\":\"Health Post\", \n",
    "                 \"DISPENSARY\":\"Dispensary\",\n",
    "                 \"Natonal Hospital\":\"National Hospital\",\n",
    "                 \"Level 1 Hospital\":\"Level I Hospital\",\n",
    "                 \"Level 2 Hospital\":\"Level II Hospital\",\n",
    "                 \"Level 3 Hospital\":\"Level III Hospital\",\n",
    "                 \"Primary Health Care Unit +\":\"Primary Health Care Unit Plus\",\n",
    "                 \"General Hospital Hospital\":\"General Hospital\",\n",
    "                 \"Health Centre (major)\":\"Health Centre\",\n",
    "                 \"Health Centre (minor)\":\"Health Centre\"}\n",
    "type_dict['Type'] = [type_corr_dict[t] if t in type_corr_dict.keys() else t for\\\n",
    "                     t in type_dict['Type']]"
   ]
  },
  {
   "cell_type": "code",
   "execution_count": 6,
   "metadata": {},
   "outputs": [],
   "source": [
    "# remove accent marks\n",
    "type_dict['Type'] = [unidecode.unidecode(t) for t in type_dict['Type']]"
   ]
  },
  {
   "cell_type": "code",
   "execution_count": 7,
   "metadata": {},
   "outputs": [],
   "source": [
    "# make spelling of the same word consistent\n",
    "# the same pre-cleaning will be applied to facility name column in ISS data\n",
    "type_dict['Type'] = type_dict['Type']\\\n",
    ".str.replace('Center', 'Centre')\\\n",
    ".str.replace('Clinique', 'Clinic')\\\n",
    ".str.replace('Polyclinique', 'Polyclinic')\\\n",
    ".str.replace('Geral', 'General')\\\n",
    ".str.replace('Dispensaire', 'Dispensary')\\\n",
    ".str.replace('Hopital', 'Hospital')\\\n",
    ".str.replace('Hospitais', 'Hospital')\\\n",
    ".str.replace(\"Urbain\", \"Urban\")\\\n",
    ".str.replace(\"Distrital\", \"District\")\\\n",
    ".str.replace('&', 'and')\\\n",
    ".str.strip()"
   ]
  },
  {
   "cell_type": "code",
   "execution_count": 8,
   "metadata": {},
   "outputs": [],
   "source": [
    "# obtain the abbreviation by extracting uppercase letters only\n",
    "type_dict['Abbreviation'] = type_dict['Type'].str.replace(r'([^A-Z])', '')"
   ]
  },
  {
   "cell_type": "code",
   "execution_count": 9,
   "metadata": {},
   "outputs": [],
   "source": [
    "# correct single letter abbreviations\n",
    "convert_dict = {'Hospital':'HOSP', 'Clinic':'CLINIC',  \n",
    "                \"Polyclinic\":\"PCLINIC\", \"Dispensary\":\"DISP\"}\n",
    "abv = []\n",
    "for idx, row in type_dict.iterrows():\n",
    "    if row['Type'] in convert_dict.keys():\n",
    "        abv.append(convert_dict[row['Type']])\n",
    "    else:\n",
    "        abv.append(row['Abbreviation'])\n",
    "type_dict['Abbreviation'] = abv  "
   ]
  },
  {
   "cell_type": "code",
   "execution_count": 10,
   "metadata": {},
   "outputs": [],
   "source": [
    "# rearrange the columns\n",
    "type_dict=type_dict[['Country', 'Type', 'Abbreviation', 'count']]"
   ]
  },
  {
   "cell_type": "code",
   "execution_count": 11,
   "metadata": {},
   "outputs": [],
   "source": [
    "# adjust some abbreviations\n",
    "convert_dict = {# correct duplicate abbreviations\n",
    "                \"eSwatini\":{\"Clinic with Maternity\":\"CWM\", \"Clinic without Maternity\":\"CWOM\",\n",
    "                           \"Referral Hospital\":\"RFH\", \"Regional Hospital\":\"RGH\"},\n",
    "                \"Somalia\":{\"Referral Hospital\":\"RFH\", \"Regional Hospital\":\"RGH\"},\n",
    "                \"Malawi\":{\"Central Hospital\":\"CEH\", \"Community Hospital\":\"COH\"},\n",
    "                \"Gabon\":{\"Hospital Cooperation\":\"HOSPC\"},\n",
    "                \"Cameroon\":{\"Hospital Centraux\":\"HOSPC\"},\n",
    "                # corrections made based on examining ISS data\n",
    "                \"Mali\": {\"Community Health Centre\":\"CSCOM\", \n",
    "                         \"Referral Health Centre\":\"CSREF\"},\n",
    "                \"Niger\":{\"Integrated Health Centre\":\"CSI\"},\n",
    "                \"Equatorial Guinea\":{\"Regional Hospital\":\"HR\",\n",
    "                                    \"District Hospital\":\"HD\"}\n",
    "               }\n",
    "abv = []\n",
    "for idx, row in type_dict.iterrows():\n",
    "    if row['Country'] in convert_dict.keys() and\\\n",
    "    row['Type'] in convert_dict[row['Country']].keys():\n",
    "        abv.append(convert_dict[row['Country']][row['Type']])\n",
    "    else:\n",
    "        abv.append(row['Abbreviation'])\n",
    "type_dict['Abbreviation'] = abv "
   ]
  },
  {
   "cell_type": "code",
   "execution_count": 12,
   "metadata": {},
   "outputs": [],
   "source": [
    "# combine new results\n",
    "type_dict = type_dict.groupby(['Country', 'Type', 'Abbreviation']).agg(count=('count', 'sum'))\n",
    "type_dict.reset_index(inplace=True)"
   ]
  },
  {
   "cell_type": "markdown",
   "metadata": {},
   "source": [
    "# Identify additional prefix/suffix from ISS data"
   ]
  },
  {
   "cell_type": "code",
   "execution_count": 13,
   "metadata": {},
   "outputs": [],
   "source": [
    "# re-encode country to match that in HDX_who data \n",
    "ctr_dict = {\"CENTRAL_AFRICAN_REPUBLIC\":'CENTRAL AFRICAN REPUBLIC',\n",
    "            \"GUINEA-BISSAU\": 'GUINEA BISSAU',\n",
    "            \"RÉPUBLIQUE DÉMOCRATIQUE DU CONGO\":'DEMOCRATIC REPUBLIC OF THE CONGO',\n",
    "            \"SIERRA\":'SIERRA LEONE', 'SWAZILAND':'ESWATINI'}\n",
    "\n",
    "df_iss['Country'] = [ctr_dict[c] if c in ctr_dict.keys() else c for c in df_iss['countries']]"
   ]
  },
  {
   "cell_type": "code",
   "execution_count": 14,
   "metadata": {},
   "outputs": [],
   "source": [
    "# ensure every country in ISS is covered by HDX_who data \n",
    "iss_c = df_iss['Country'].unique()\n",
    "who_c = df_who['Country'].unique()\n",
    "who_c = [c.upper() for c in who_c]\n",
    "for c in iss_c:\n",
    "    if c not in who_c:\n",
    "        print(c)"
   ]
  },
  {
   "cell_type": "markdown",
   "metadata": {},
   "source": [
    "Criteria to select prefix/suffix\n",
    "\n",
    "- length of name after splitting on whitespace is larger than 1\n",
    "- the prefix/suffix \n",
    "    - has length between 2 and 4 (inclusive)\n",
    "    - contains only alphabets\n",
    "    - is not DR nor ST\n",
    "    - does not contain vowels\n",
    "    - count of appearances is larger than 100"
   ]
  },
  {
   "cell_type": "markdown",
   "metadata": {},
   "source": [
    "## Pre-cleaning on `name_of_facility_visited`"
   ]
  },
  {
   "cell_type": "code",
   "execution_count": 15,
   "metadata": {},
   "outputs": [],
   "source": [
    "# pre-cleaning\n",
    "df_iss['clean_name'] = df_iss['name_of_facility_visited'].str.strip()\\\n",
    "        .str.replace(\"  \", \" \")\\\n",
    "        .str.replace('.', ' ')\\\n",
    "        .str.replace(':', ' ')\\\n",
    "        .str.replace(\"'\", ' ')\\\n",
    "        .str.replace('\"', ' ')\\\n",
    "        .str.replace('[-_,/\\(\\)]', ' ')\\\n",
    "        .str.replace('&', ' and ')\\\n",
    "        .str.strip()\\\n",
    "        .str.replace('center', 'centre', case=False)\\\n",
    "        .str.replace('Clinique', 'Clinic', case=False)\\\n",
    "        .str.replace('Polyclinique', 'Polyclinic', case=False)\\\n",
    "        .str.replace('Geral', 'General', case=False)\\\n",
    "        .str.replace('Dispensaire', 'Dispensary', case=False)\\\n",
    "        .str.replace('Hôpital', 'Hospital', case=False)\\\n",
    "        .str.replace('Hopital', 'Hospital', case=False)\\\n",
    "        .str.replace('Hospitais', 'Hospital', case=False)\\\n",
    "        .str.replace(' Hosp ', ' Hospital ', case=False)\\\n",
    "        .str.replace(\"Urbain\", \"Urban\", case=False)\\\n",
    "        .str.replace(\"Distrital\", \"District\", case=False)\\\n",
    "        .str.replace(\"  \", \" \")\\\n",
    "        .str.strip()\n",
    "\n",
    "# remove accent marks\n",
    "df_iss['clean_name'] = [unidecode.unidecode(n) for n in df_iss['clean_name']]"
   ]
  },
  {
   "cell_type": "markdown",
   "metadata": {},
   "source": [
    "## Identify prefix/suffix"
   ]
  },
  {
   "cell_type": "code",
   "execution_count": 16,
   "metadata": {},
   "outputs": [],
   "source": [
    "# split clean name by whitespace\n",
    "tmp = df_iss['clean_name'].str.split()"
   ]
  },
  {
   "cell_type": "code",
   "execution_count": 17,
   "metadata": {},
   "outputs": [],
   "source": [
    "# prefix\n",
    "vowels = set('AEIOU')\n",
    "df_iss['prefix'] = [t[0].upper() if len(t)>=2 and len(t[0])>1 and len(t[0])<5 and t[0].isalpha()\\\n",
    "                    and t[0].upper() != 'ST' and t[0].upper() != 'DR' and \\\n",
    "                    vowels.isdisjoint(t[0].upper())\\\n",
    "                    else np.nan for t in tmp]"
   ]
  },
  {
   "cell_type": "code",
   "execution_count": 18,
   "metadata": {},
   "outputs": [],
   "source": [
    "# count how many times that prefix appears\n",
    "prefix_dict = df_iss.groupby(['Country','prefix'])\\\n",
    "                   .agg(count = ('name_of_facility_visited', 'count'))\\\n",
    "                    .sort_values(['Country', 'count'], ascending=[True, False])\n",
    "# keep only prefixes that appear more than 100 times\n",
    "prefix_dict = prefix_dict[prefix_dict['count']>100]\n",
    "prefix_dict.reset_index(inplace=True)"
   ]
  },
  {
   "cell_type": "code",
   "execution_count": 19,
   "metadata": {},
   "outputs": [],
   "source": [
    "# suffix\n",
    "vowels = set('AEIOU')\n",
    "df_iss['suffix'] = [t[-1].upper() if len(t)>=2 and len(t[-1])>1 and len(t[-1])<5 and t[-1].isalpha()\\\n",
    "                    and t[-1].upper() != 'ST' and t[-1].upper() != 'DR' and \\\n",
    "                    vowels.isdisjoint(t[-1].upper())\\\n",
    "                    else np.nan for t in tmp]"
   ]
  },
  {
   "cell_type": "code",
   "execution_count": 20,
   "metadata": {},
   "outputs": [],
   "source": [
    "# count how many times that suffix appears\n",
    "suffix_dict = df_iss.groupby(['Country','suffix'])\\\n",
    "                   .agg(count = ('name_of_facility_visited', 'count'))\\\n",
    "                    .sort_values(['Country', 'count'], ascending=[True, False])\n",
    "# keep only suffixes that appear more than 100 times\n",
    "suffix_dict = suffix_dict[suffix_dict['count']>100]\n",
    "suffix_dict.reset_index(inplace=True)"
   ]
  },
  {
   "cell_type": "code",
   "execution_count": 21,
   "metadata": {},
   "outputs": [],
   "source": [
    "# Build a dictionary of potentially additional abbreviations\n",
    "add_abbrev = {}\n",
    "for idx, row in prefix_dict.iterrows():\n",
    "    # initialize a set if the country is not yet in the dictionary\n",
    "    if row['Country'] not in add_abbrev.keys():\n",
    "        add_abbrev[row['Country']] = set([row['prefix']])\n",
    "    # otherwise add that prefix to the set\n",
    "    else:\n",
    "        add_abbrev[row['Country']].add(row['prefix'])\n",
    "for idx, row in suffix_dict.iterrows():\n",
    "    # initialize a set if the country is not yet in the dictionary\n",
    "    if row['Country'] not in add_abbrev.keys():\n",
    "        add_abbrev[row['Country']] = set([row['suffix']])\n",
    "    # otherwise add that prefix to the set\n",
    "    else:\n",
    "        add_abbrev[row['Country']].add(row['suffix']) "
   ]
  },
  {
   "cell_type": "code",
   "execution_count": 22,
   "metadata": {},
   "outputs": [
    {
     "name": "stdout",
     "output_type": "stream",
     "text": [
      "New abbreviations added to the type dictionary:\n",
      "BENIN {'CS'}\n",
      "BURUNDI {'CDS'}\n",
      "CAMEROON {'CS'}\n",
      "CHAD {'CS'}\n",
      "GUINEA {'CS'}\n",
      "GUINEA BISSAU {'CS'}\n",
      "MOZAMBIQUE {'CS'}\n",
      "NIGERIA {'MCH', 'CPHC', 'PMS', 'PMV', 'MDG', 'NKST', 'FSP', 'MDGS', 'TH', 'MCHC', 'PHCC', 'HF', 'WCWC'}\n"
     ]
    }
   ],
   "source": [
    "# Build a dictionary of additional abbreviations identified from ISS data\n",
    "new = {}\n",
    "for group_name in df_iss['Country'].unique():\n",
    "    \n",
    "    tmp = type_dict[type_dict['Country'].str.upper()==group_name]\n",
    "    abbrevs = set(tmp['Abbreviation'])\n",
    "    \n",
    "    if group_name in add_abbrev.keys():\n",
    "        add_prefix = add_abbrev[group_name]\n",
    "        for p in add_prefix:\n",
    "            if p not in abbrevs and group_name not in new.keys():\n",
    "                new[group_name] = set([p])            \n",
    "            if p not in abbrevs and group_name in new.keys():\n",
    "                new[group_name].add(p)\n",
    "print(\"New abbreviations added to the type dictionary:\")\n",
    "for ctr in new:\n",
    "    print(ctr, new[ctr])"
   ]
  },
  {
   "cell_type": "markdown",
   "metadata": {},
   "source": [
    "## Infer type and append to the type dictionary"
   ]
  },
  {
   "cell_type": "code",
   "execution_count": 23,
   "metadata": {},
   "outputs": [],
   "source": [
    "# Infer facility type and add new rows to the type dictionary\n",
    "additions = pd.DataFrame([['Benin', 'Centre de Sante', 'CS', np.nan],\n",
    "                         ['Burundi', 'Centre de Sante', 'CDS', np.nan],\n",
    "                         ['Cameroon', 'Centre de Sante', 'CS', np.nan],\n",
    "                         ['Chad', 'Centre de Sante', 'CS', np.nan],\n",
    "                         ['Guinea', 'Centre de Sante', 'CS', np.nan],\n",
    "                         ['Guinea Bissau', 'Centre de Sante', 'CS', np.nan],\n",
    "                         ['Guinea Bissau', 'Centro de Saude', 'CS2', np.nan],\n",
    "                         ['Mozambique', 'Centro de Saude', 'CS', np.nan],\n",
    "                         ['Nigeria', 'Traditional Spirit Healer', 'TH', np.nan],\n",
    "                         ['Nigeria', 'Maternal and Child Health', 'MCH', np.nan],\n",
    "                         ['Nigeria', 'Health Facility', 'HF', np.nan],\n",
    "                         ['Nigeria', 'Family Support Program', 'FSP', np.nan],\n",
    "                         ['Nigeria', 'Millennium Development Goal', 'MDG', np.nan],                                                  \n",
    "                         ['Nigeria', 'Maternal and Child Health Centre', 'MCHC', np.nan],\n",
    "                         ['Nigeria', 'Comprehensive Primary Health Care', 'CPHC', np.nan],                                                                           \n",
    "                         ['Nigeria', 'Primary Health Care Centre', 'PHCC', np.nan],\n",
    "                         ['Nigeria', 'Patent Medicine Vendor', 'PMV', np.nan],\n",
    "                         ['Nigeria', 'Patent Medicine Store', 'PMS', np.nan],\n",
    "                          # obtained by examining the ISS data\n",
    "                         ['Central African Republic', 'Hospital District', 'HD', np.nan],\n",
    "                         ['Liberia', 'General Hospital', 'CH', np.nan],\n",
    "                         ['Guinea', 'Centre de Sante Urban', 'CSU', np.nan],\n",
    "                         ['Guinea', 'Centre de Sante Rural', 'CSR', np.nan]],                                                                      \n",
    "                         columns=['Country', 'Type', 'Abbreviation', 'count'])\n",
    "\n",
    "type_dict = type_dict.append(additions)"
   ]
  },
  {
   "cell_type": "code",
   "execution_count": 24,
   "metadata": {},
   "outputs": [],
   "source": [
    "# sort by country and type\n",
    "type_dict.sort_values(by=['Country', 'Type'], inplace=True)"
   ]
  },
  {
   "cell_type": "code",
   "execution_count": 25,
   "metadata": {},
   "outputs": [
    {
     "data": {
      "text/html": [
       "<div>\n",
       "<style scoped>\n",
       "    .dataframe tbody tr th:only-of-type {\n",
       "        vertical-align: middle;\n",
       "    }\n",
       "\n",
       "    .dataframe tbody tr th {\n",
       "        vertical-align: top;\n",
       "    }\n",
       "\n",
       "    .dataframe thead th {\n",
       "        text-align: right;\n",
       "    }\n",
       "</style>\n",
       "<table border=\"1\" class=\"dataframe\">\n",
       "  <thead>\n",
       "    <tr style=\"text-align: right;\">\n",
       "      <th></th>\n",
       "      <th>unique_type</th>\n",
       "      <th>unique_abbrev</th>\n",
       "    </tr>\n",
       "    <tr>\n",
       "      <th>Country</th>\n",
       "      <th></th>\n",
       "      <th></th>\n",
       "    </tr>\n",
       "  </thead>\n",
       "  <tbody>\n",
       "  </tbody>\n",
       "</table>\n",
       "</div>"
      ],
      "text/plain": [
       "Empty DataFrame\n",
       "Columns: [unique_type, unique_abbrev]\n",
       "Index: []"
      ]
     },
     "execution_count": 25,
     "metadata": {},
     "output_type": "execute_result"
    }
   ],
   "source": [
    "# Check for each country, every facility type has a unique abbreviation\n",
    "tmp = type_dict.groupby('Country').agg(unique_type = ('Type', 'nunique'),\n",
    "                                unique_abbrev = ('Abbreviation', 'nunique'))\n",
    "tmp[tmp['unique_type']!=tmp['unique_abbrev']]"
   ]
  },
  {
   "cell_type": "markdown",
   "metadata": {},
   "source": [
    "# Make further improvement/adjustment based on ISS Cleaning"
   ]
  },
  {
   "cell_type": "markdown",
   "metadata": {},
   "source": [
    "## `clean_name_final`\n",
    "\n",
    "Use facility type and abbreviations in the type dictionary as keywords and remove type information from `clean_name` to create the `clean_name_final` column."
   ]
  },
  {
   "cell_type": "markdown",
   "metadata": {},
   "source": [
    "Sometimes there is a whitespace between abbreviation, e.g. C S. Corrections are made accordingly."
   ]
  },
  {
   "cell_type": "code",
   "execution_count": 26,
   "metadata": {},
   "outputs": [],
   "source": [
    "# obtain abbreviations of length 2 or 3\n",
    "tmp = type_dict[type_dict['Abbreviation'].str.len()<=3]['Abbreviation'].unique()\n",
    "tmp = sorted(tmp, key=len, reverse=True)\n",
    "# change it to the pattern '^c s ' or 'c s$'\n",
    "tmp_dict = {}\n",
    "for t in tmp:\n",
    "    tmp_dict[t] = ['^'+' '.join(list(t))+' ', ' '+' '.join(list(t))+'$']\n",
    "# replace the pattern with 'cs'\n",
    "for t in tmp:\n",
    "    pats = tmp_dict[t]\n",
    "    df_iss['clean_name'] = df_iss['clean_name'].str.replace(pats[0], t+' ',case=False)\\\n",
    "    .str.replace(pats[1], ' '+t, case=False)"
   ]
  },
  {
   "cell_type": "markdown",
   "metadata": {},
   "source": [
    "Remove type information."
   ]
  },
  {
   "cell_type": "code",
   "execution_count": 27,
   "metadata": {},
   "outputs": [],
   "source": [
    "df_grouped = df_iss.groupby('Country')\n",
    "res = pd.DataFrame()\n",
    "type_keywords_dict = {}\n",
    "abb_keywords_dict = {}\n",
    "\n",
    "for group_name, df_group in df_grouped:\n",
    "    # obtain the type dictionary for that country\n",
    "    tmp = type_dict[type_dict['Country'].str.upper()==group_name]\n",
    "    \n",
    "    # facility types for that country\n",
    "    types = list(tmp['Type'])\n",
    "    type_keywords = set()\n",
    "    for t in types:\n",
    "        # add the facility type as it is and also the unidecoded version\n",
    "        t = t.title()\n",
    "        type_keywords.add(t)                 \n",
    "\n",
    "        # add individual words as well\n",
    "        t = t.replace('/', ' ')\n",
    "        words = t.split(' ')\n",
    "        # skip words that have punctuation and have length <= 3 (e.g. de, (major))\n",
    "        words = [w for w in words if w.isalpha() and len(w)>3]\n",
    "        for w in words:\n",
    "            type_keywords.add(w)\n",
    "\n",
    "    # obtain the list of type keywords and sort in descending length\n",
    "    type_keywords = list(type_keywords)\n",
    "    type_keywords = sorted(type_keywords, key=lambda s: -len(s))\n",
    "    type_keywords_dict[group_name] = type_keywords\n",
    "\n",
    "    # abbreviations for that country\n",
    "    abbrevs = set(tmp['Abbreviation'])\n",
    "        \n",
    "    abb_keywords = []\n",
    "    for abbrev in abbrevs:\n",
    "        # e.g. for CS, possible matches include facility names that start with, end with CS or \n",
    "        # contains the string ' CS ' in between\n",
    "        abbrev = abbrev.title()\n",
    "        abb_keywords.extend(['^'+abbrev+'\\s', '\\s'+abbrev+'\\s', '\\s'+abbrev+'$',\n",
    "                            '^'+abbrev+'$'])\n",
    "        \n",
    "    # obtain the list of abbreviation keywords and sort in descending length\n",
    "    abb_keywords = sorted(abb_keywords, key=lambda s: -len(s))  \n",
    "    abb_keywords_dict[group_name] = abb_keywords\n",
    "    \n",
    "    if group_name == 'UGANDA':\n",
    "        df_group['clean_name'] = df_group['clean_name'].str.replace(\"HC II$\", \"HCII\")\\\n",
    "        .str.replace(\"HC III$\", \"HCIII\")\\\n",
    "        .str.replace(\"HC IV$\", \"HCIV\")\n",
    "    \n",
    "    # replace double whitespaces with a single space\n",
    "    df_group['clean_name_final'] = df_group['clean_name'].str.title()\\\n",
    "        .str.replace('|'.join(type_keywords), '')\\\n",
    "        .str.replace('|'.join(abb_keywords), ' ')\\\n",
    "        .str.strip()\\\n",
    "        .str.replace('^de | de | de$|^de$|^do | do | do$|^do$|^da | da | da$|^da$|^du | du | du$|^du$', \n",
    "                     ' ', case=False)\\\n",
    "        .str.strip()\\\n",
    "        .str.replace(\"  \", \" \")\\\n",
    "        .str.title()\n",
    "    res = pd.concat([res, df_group])"
   ]
  },
  {
   "cell_type": "code",
   "execution_count": 28,
   "metadata": {},
   "outputs": [
    {
     "data": {
      "text/plain": [
       "(305182, 47)"
      ]
     },
     "execution_count": 28,
     "metadata": {},
     "output_type": "execute_result"
    }
   ],
   "source": [
    "res.shape"
   ]
  },
  {
   "cell_type": "code",
   "execution_count": 29,
   "metadata": {},
   "outputs": [
    {
     "data": {
      "text/html": [
       "<div>\n",
       "<style scoped>\n",
       "    .dataframe tbody tr th:only-of-type {\n",
       "        vertical-align: middle;\n",
       "    }\n",
       "\n",
       "    .dataframe tbody tr th {\n",
       "        vertical-align: top;\n",
       "    }\n",
       "\n",
       "    .dataframe thead th {\n",
       "        text-align: right;\n",
       "    }\n",
       "</style>\n",
       "<table border=\"1\" class=\"dataframe\">\n",
       "  <thead>\n",
       "    <tr style=\"text-align: right;\">\n",
       "      <th></th>\n",
       "      <th>Country</th>\n",
       "      <th>name_of_facility_visited</th>\n",
       "      <th>clean_name</th>\n",
       "      <th>clean_name_final</th>\n",
       "      <th>type_of_facility_visited</th>\n",
       "    </tr>\n",
       "  </thead>\n",
       "  <tbody>\n",
       "    <tr>\n",
       "      <th>281255</th>\n",
       "      <td>DEMOCRATIC REPUBLIC OF THE CONGO</td>\n",
       "      <td>Bankoko</td>\n",
       "      <td>Bankoko</td>\n",
       "      <td>Bankoko</td>\n",
       "      <td>CSI</td>\n",
       "    </tr>\n",
       "    <tr>\n",
       "      <th>233841</th>\n",
       "      <td>NIGERIA</td>\n",
       "      <td>OTHER</td>\n",
       "      <td>OTHER</td>\n",
       "      <td>Other</td>\n",
       "      <td>PHC_CENTER</td>\n",
       "    </tr>\n",
       "    <tr>\n",
       "      <th>243285</th>\n",
       "      <td>NIGERIA</td>\n",
       "      <td>Bulala patient medicine vendor</td>\n",
       "      <td>Bulala patient medicine vendor</td>\n",
       "      <td>Bulala Patient</td>\n",
       "      <td>PATENT_MED_VENDORS</td>\n",
       "    </tr>\n",
       "    <tr>\n",
       "      <th>273438</th>\n",
       "      <td>DEMOCRATIC REPUBLIC OF THE CONGO</td>\n",
       "      <td>Boso mbifa</td>\n",
       "      <td>Boso mbifa</td>\n",
       "      <td>Boso Mbifa</td>\n",
       "      <td>CSI</td>\n",
       "    </tr>\n",
       "    <tr>\n",
       "      <th>6116</th>\n",
       "      <td>CAMEROON</td>\n",
       "      <td>HD  Poli</td>\n",
       "      <td>HD Poli</td>\n",
       "      <td>Poli</td>\n",
       "      <td>DISTRICT_HOSP</td>\n",
       "    </tr>\n",
       "  </tbody>\n",
       "</table>\n",
       "</div>"
      ],
      "text/plain": [
       "                                 Country        name_of_facility_visited  \\\n",
       "281255  DEMOCRATIC REPUBLIC OF THE CONGO                         Bankoko   \n",
       "233841                           NIGERIA                           OTHER   \n",
       "243285                           NIGERIA  Bulala patient medicine vendor   \n",
       "273438  DEMOCRATIC REPUBLIC OF THE CONGO                      Boso mbifa   \n",
       "6116                            CAMEROON                        HD  Poli   \n",
       "\n",
       "                            clean_name clean_name_final  \\\n",
       "281255                         Bankoko          Bankoko   \n",
       "233841                           OTHER            Other   \n",
       "243285  Bulala patient medicine vendor   Bulala Patient   \n",
       "273438                      Boso mbifa       Boso Mbifa   \n",
       "6116                           HD Poli             Poli   \n",
       "\n",
       "       type_of_facility_visited  \n",
       "281255                      CSI  \n",
       "233841               PHC_CENTER  \n",
       "243285       PATENT_MED_VENDORS  \n",
       "273438                      CSI  \n",
       "6116              DISTRICT_HOSP  "
      ]
     },
     "execution_count": 29,
     "metadata": {},
     "output_type": "execute_result"
    }
   ],
   "source": [
    "# randomly sample rows to examine results\n",
    "cols = ['Country', 'name_of_facility_visited', 'clean_name', \n",
    "        'clean_name_final', 'type_of_facility_visited']\n",
    "res[cols].sample(5)"
   ]
  },
  {
   "cell_type": "markdown",
   "metadata": {},
   "source": [
    "## `extract_type`\n",
    "\n",
    "Extract facility type information by removing `clean_name_final` from `clean_name`."
   ]
  },
  {
   "cell_type": "code",
   "execution_count": 30,
   "metadata": {},
   "outputs": [],
   "source": [
    "extract_types = []\n",
    "\n",
    "for idx, row in res.iterrows():\n",
    "    clean_name = row['clean_name'].upper()\n",
    "    clean_name_final = row['clean_name_final'].upper()\n",
    "    \n",
    "    if clean_name.upper() == clean_name_final.upper():\n",
    "        extract_types.append(np.nan)\n",
    "    \n",
    "    else:\n",
    "        clean_name = OrderedSet(clean_name.split())\n",
    "        clean_name_final = OrderedSet(clean_name_final.split())\n",
    "        \n",
    "        extract_type = ' '.join(list(clean_name.difference(clean_name_final)))\n",
    "        extract_types.append(extract_type.strip())\n",
    "        \n",
    "res['extract_type'] = extract_types\n",
    "res['extract_type'] = res['extract_type'].str.strip()\\\n",
    ".str.replace('^de | de | de$|^de$|^do | do | do$|^do$|^da | da | da$|^da$|^du | du | du$|^du$', \n",
    "            ' ', case=False)\\\n",
    ".str.replace(\"  \", \" \")\\\n",
    ".str.strip()\\\n",
    ".replace('',np.nan)"
   ]
  },
  {
   "cell_type": "code",
   "execution_count": 31,
   "metadata": {},
   "outputs": [
    {
     "data": {
      "text/html": [
       "<div>\n",
       "<style scoped>\n",
       "    .dataframe tbody tr th:only-of-type {\n",
       "        vertical-align: middle;\n",
       "    }\n",
       "\n",
       "    .dataframe tbody tr th {\n",
       "        vertical-align: top;\n",
       "    }\n",
       "\n",
       "    .dataframe thead th {\n",
       "        text-align: right;\n",
       "    }\n",
       "</style>\n",
       "<table border=\"1\" class=\"dataframe\">\n",
       "  <thead>\n",
       "    <tr style=\"text-align: right;\">\n",
       "      <th></th>\n",
       "      <th>Country</th>\n",
       "      <th>name_of_facility_visited</th>\n",
       "      <th>clean_name</th>\n",
       "      <th>clean_name_final</th>\n",
       "      <th>extract_type</th>\n",
       "      <th>type_of_facility_visited</th>\n",
       "    </tr>\n",
       "  </thead>\n",
       "  <tbody>\n",
       "    <tr>\n",
       "      <th>26125</th>\n",
       "      <td>CONGO</td>\n",
       "      <td>Csi soeur martin</td>\n",
       "      <td>Csi soeur martin</td>\n",
       "      <td>Soeur Martin</td>\n",
       "      <td>CSI</td>\n",
       "      <td>FAITH_BASED</td>\n",
       "    </tr>\n",
       "    <tr>\n",
       "      <th>57573</th>\n",
       "      <td>MALI</td>\n",
       "      <td>CSCOM de Lafiabougou</td>\n",
       "      <td>CSCOM de Lafiabougou</td>\n",
       "      <td>Lafiabougou</td>\n",
       "      <td>CSCOM</td>\n",
       "      <td>CSI</td>\n",
       "    </tr>\n",
       "    <tr>\n",
       "      <th>224765</th>\n",
       "      <td>NIGERIA</td>\n",
       "      <td>PHCC Watinane</td>\n",
       "      <td>PHCC Watinane</td>\n",
       "      <td>Watinane</td>\n",
       "      <td>PHCC</td>\n",
       "      <td>PHC_CENTER</td>\n",
       "    </tr>\n",
       "    <tr>\n",
       "      <th>123107</th>\n",
       "      <td>NIGERIA</td>\n",
       "      <td>HC KAKIDARE</td>\n",
       "      <td>HC KAKIDARE</td>\n",
       "      <td>Kakidare</td>\n",
       "      <td>HC</td>\n",
       "      <td>PHC_CENTER</td>\n",
       "    </tr>\n",
       "    <tr>\n",
       "      <th>25716</th>\n",
       "      <td>CONGO</td>\n",
       "      <td>CSI de Dongou</td>\n",
       "      <td>CSI de Dongou</td>\n",
       "      <td>Dongou</td>\n",
       "      <td>CSI</td>\n",
       "      <td>CSI</td>\n",
       "    </tr>\n",
       "  </tbody>\n",
       "</table>\n",
       "</div>"
      ],
      "text/plain": [
       "        Country name_of_facility_visited            clean_name  \\\n",
       "26125     CONGO         Csi soeur martin      Csi soeur martin   \n",
       "57573      MALI     CSCOM de Lafiabougou  CSCOM de Lafiabougou   \n",
       "224765  NIGERIA            PHCC Watinane         PHCC Watinane   \n",
       "123107  NIGERIA              HC KAKIDARE           HC KAKIDARE   \n",
       "25716     CONGO            CSI de Dongou         CSI de Dongou   \n",
       "\n",
       "       clean_name_final extract_type type_of_facility_visited  \n",
       "26125      Soeur Martin          CSI              FAITH_BASED  \n",
       "57573       Lafiabougou        CSCOM                      CSI  \n",
       "224765         Watinane         PHCC               PHC_CENTER  \n",
       "123107         Kakidare           HC               PHC_CENTER  \n",
       "25716            Dongou          CSI                      CSI  "
      ]
     },
     "execution_count": 31,
     "metadata": {},
     "output_type": "execute_result"
    }
   ],
   "source": [
    "# randomly sample rows to examine results\n",
    "cols = ['Country', 'name_of_facility_visited', 'clean_name', \n",
    "        'clean_name_final', 'extract_type', 'type_of_facility_visited']\n",
    "res[cols].sample(5)"
   ]
  },
  {
   "cell_type": "code",
   "execution_count": 32,
   "metadata": {},
   "outputs": [
    {
     "name": "stdout",
     "output_type": "stream",
     "text": [
      "Percentage of NA in extract type column: 16.8\n"
     ]
    }
   ],
   "source": [
    "print(\"Percentage of NA in extract type column:\",\n",
    "     round(res['extract_type'].isna().sum()/res.shape[0]*100,1))"
   ]
  },
  {
   "cell_type": "markdown",
   "metadata": {},
   "source": [
    "### Examining NA values in `extract_type`\n",
    "\n",
    "Randomly sample 10 rows from each country and examine the relevant columns."
   ]
  },
  {
   "cell_type": "code",
   "execution_count": 33,
   "metadata": {},
   "outputs": [
    {
     "name": "stdout",
     "output_type": "stream",
     "text": [
      "Number of NA values: 51405\n"
     ]
    }
   ],
   "source": [
    "na = res[pd.isna(res['extract_type'])]\n",
    "print(\"Number of NA values:\", na.shape[0])"
   ]
  },
  {
   "cell_type": "code",
   "execution_count": 34,
   "metadata": {},
   "outputs": [],
   "source": [
    "na_sampled = pd.DataFrame()\n",
    "cols = ['Country', 'name_of_facility_visited', 'clean_name', \n",
    "        'clean_name_final', 'extract_type', 'type_of_facility_visited']\n",
    "for c in na['Country'].unique():\n",
    "    # obtain relevant columns for that country only\n",
    "    tmp = na[na['Country']==c][cols]\n",
    "    # randomly sample 10 rows if possible\n",
    "    if tmp.shape[0]>10:\n",
    "        na_sampled = pd.concat([na_sampled, tmp.sample(10, random_state=0)])\n",
    "    # if the number of rows is less than 10, just append the entire subset\n",
    "    else:\n",
    "        na_sampled = pd.concat([na_sampled, tmp])"
   ]
  },
  {
   "cell_type": "code",
   "execution_count": 35,
   "metadata": {},
   "outputs": [
    {
     "name": "stdout",
     "output_type": "stream",
     "text": [
      "Number of unique countries: 42\n",
      "Number of points sampled: 402\n"
     ]
    }
   ],
   "source": [
    "print(\"Number of unique countries:\", na['Country'].nunique())\n",
    "print(\"Number of points sampled:\", na_sampled.shape[0])"
   ]
  },
  {
   "cell_type": "code",
   "execution_count": 36,
   "metadata": {},
   "outputs": [],
   "source": [
    "saveDir = r\"C:\\Users\\DUANYUEYUN\\Documents\\GRID3\\Health facilities\\Data\\Africa\\Cleaned\"\n",
    "filename=\"na_sampled_1109.csv\"\n",
    "path = os.path.join(saveDir, filename)\n",
    "na_sampled.to_csv(path)"
   ]
  },
  {
   "cell_type": "markdown",
   "metadata": {},
   "source": [
    "The sampled rows with NA in `extract_type` are then manually examined to check whether additional rows could be added to the type dictionary. "
   ]
  },
  {
   "cell_type": "code",
   "execution_count": 37,
   "metadata": {},
   "outputs": [],
   "source": [
    "# additions to type dictionary after examining sampled NA rows\n",
    "type_dict_add = pd.DataFrame([[\"Equatorial Guinea\", \"Centre de Sante\", \"CS\", np.nan],\n",
    "                              [\"Guinea Bissau\", \"Centro Materno Infantil\", \"CMI\", np.nan],\n",
    "                              [\"Lesotho\", \"Hospital\", \"HOSP\", np.nan],\n",
    "                              [\"Madagascar\", \"Basic Health Center I\", \"CSB1\", np.nan],\n",
    "                              [\"Madagascar\", \"Basic Health Center II\", \"CSB2\", np.nan],\n",
    "                              [\"Madagascar\", \"District Hospital\", \"CHD1\", np.nan],\n",
    "                              ['Mauritania', \"Centre de Sante\", \"CS\", np.nan],\n",
    "                              ['Mauritania', \"Poste de Sante\", \"PS\", np.nan],                   \n",
    "                              [\"Mauritius\", \"Social Welfare Centre\", \"SWC\", np.nan],                            \n",
    "                              [\"Senegal\", \"Centre de Sante\", \"CS\", np.nan],\n",
    "                              [\"South Africa\", \"Hospital\", \"HOSP\", np.nan]],\n",
    "                            columns = ['Country', 'Type', 'Abbreviation', 'count'])"
   ]
  },
  {
   "cell_type": "code",
   "execution_count": 38,
   "metadata": {},
   "outputs": [],
   "source": [
    "type_dict = pd.concat([type_dict,type_dict_add])"
   ]
  },
  {
   "cell_type": "markdown",
   "metadata": {},
   "source": [
    "Use the additions to the type dictionary to create `clean_name_final` and `extract_type` for rows previously with NA in `extract_type`."
   ]
  },
  {
   "cell_type": "code",
   "execution_count": 39,
   "metadata": {},
   "outputs": [],
   "source": [
    "df_grouped = na.groupby('Country')\n",
    "na_res = pd.DataFrame()\n",
    "add_type_keywords_dict = {}\n",
    "add_abb_keywords_dict = {}\n",
    "\n",
    "for group_name, df_group in df_grouped:\n",
    "    \n",
    "    if group_name not in type_dict_add['Country'].str.upper().unique():\n",
    "        na_res = pd.concat([na_res, df_group])\n",
    "        \n",
    "    else:\n",
    "        # obtain the type dictionary for that country\n",
    "        tmp = type_dict_add[type_dict_add['Country'].str.upper()==group_name]\n",
    "\n",
    "        # facility types for that country\n",
    "        types = list(tmp['Type'])\n",
    "        type_keywords = set()\n",
    "        for t in types:\n",
    "            # add the facility type as it is and also the unidecoded version\n",
    "            t = t.title()\n",
    "            type_keywords.add(t)                 \n",
    "\n",
    "            # add individual words as well\n",
    "            t = t.replace('/', ' ')\n",
    "            words = t.split(' ')\n",
    "            # skip words that have punctuation and have length <= 3 (e.g. de, (major))\n",
    "            words = [w for w in words if w.isalpha() and len(w)>=3]\n",
    "            for w in words:\n",
    "                type_keywords.add(w)\n",
    "\n",
    "        # obtain the list of type keywords and sort in descending length\n",
    "        type_keywords = list(type_keywords)\n",
    "        type_keywords = sorted(type_keywords, key=lambda s: -len(s))\n",
    "        add_type_keywords_dict[group_name] = type_keywords\n",
    "\n",
    "        # abbreviations for that country\n",
    "        abbrevs = set(tmp['Abbreviation'])\n",
    "\n",
    "        abb_keywords = []\n",
    "        for abbrev in abbrevs:\n",
    "            # e.g. for CS, possible matches include facility names that start with, end with CS or \n",
    "            # contains the string ' CS ' in between\n",
    "            abbrev = abbrev.title()\n",
    "            abb_keywords.extend(['^'+abbrev+'\\s', '\\s'+abbrev+'\\s', '\\s'+abbrev+'$',\n",
    "                                '^'+abbrev+'$'])\n",
    "\n",
    "        # obtain the list of abbreviation keywords and sort in descending length\n",
    "        abb_keywords = sorted(abb_keywords, key=lambda s: -len(s))  \n",
    "        abb_keywords_dict[group_name] = abb_keywords\n",
    "\n",
    "        # replace double whitespaces with a single space\n",
    "        df_group['clean_name_final'] = df_group['clean_name'].str.title()\\\n",
    "            .str.replace('|'.join(type_keywords), '')\\\n",
    "            .str.replace('|'.join(abb_keywords), ' ')\\\n",
    "            .str.strip()\\\n",
    "            .str.replace('^de | de | de$|^de$|^do | do | do$|^do$|^da | da | da$|^da$|^du | du | du$|^du$', \n",
    "                         ' ', case=False)\\\n",
    "            .str.strip()\\\n",
    "            .str.replace(\"  \", \" \")\\\n",
    "            .str.title()\n",
    "        na_res = pd.concat([na_res, df_group])"
   ]
  },
  {
   "cell_type": "code",
   "execution_count": 40,
   "metadata": {},
   "outputs": [],
   "source": [
    "extract_types = []\n",
    "\n",
    "for idx, row in na_res.iterrows():\n",
    "    clean_name = row['clean_name'].upper()\n",
    "    clean_name_final = row['clean_name_final'].upper()\n",
    "    \n",
    "    if clean_name.upper() == clean_name_final.upper():\n",
    "        extract_types.append(np.nan)\n",
    "    \n",
    "    else:\n",
    "        clean_name = OrderedSet(clean_name.split())\n",
    "        clean_name_final = OrderedSet(clean_name_final.split())\n",
    "        \n",
    "        extract_type = ' '.join(list(clean_name.difference(clean_name_final)))\n",
    "        extract_types.append(extract_type.strip())\n",
    "        \n",
    "na_res['extract_type'] = extract_types\n",
    "na_res['extract_type'] = na_res['extract_type'].str.strip()\\\n",
    ".str.replace('^de | de | de$|^de$|^do | do | do$|^do$|^da | da | da$|^da$|^du | du | du$|^du$', \n",
    "              ' ', case=False)\\\n",
    ".str.replace(\"  \", \" \")\\\n",
    ".str.strip()\\\n",
    ".replace('',np.nan)"
   ]
  },
  {
   "cell_type": "code",
   "execution_count": 41,
   "metadata": {},
   "outputs": [
    {
     "name": "stdout",
     "output_type": "stream",
     "text": [
      "Number of NA values before: 51405\n",
      "Number of NA values after: 51013\n"
     ]
    }
   ],
   "source": [
    "print(\"Number of NA values before:\", na.shape[0])\n",
    "print(\"Number of NA values after:\", na_res['extract_type'].isna().sum())"
   ]
  },
  {
   "cell_type": "code",
   "execution_count": 42,
   "metadata": {},
   "outputs": [
    {
     "data": {
      "text/html": [
       "<div>\n",
       "<style scoped>\n",
       "    .dataframe tbody tr th:only-of-type {\n",
       "        vertical-align: middle;\n",
       "    }\n",
       "\n",
       "    .dataframe tbody tr th {\n",
       "        vertical-align: top;\n",
       "    }\n",
       "\n",
       "    .dataframe thead th {\n",
       "        text-align: right;\n",
       "    }\n",
       "</style>\n",
       "<table border=\"1\" class=\"dataframe\">\n",
       "  <thead>\n",
       "    <tr style=\"text-align: right;\">\n",
       "      <th></th>\n",
       "      <th>Country</th>\n",
       "      <th>name_of_facility_visited</th>\n",
       "      <th>clean_name</th>\n",
       "      <th>clean_name_final</th>\n",
       "      <th>extract_type</th>\n",
       "      <th>type_of_facility_visited</th>\n",
       "    </tr>\n",
       "  </thead>\n",
       "  <tbody>\n",
       "    <tr>\n",
       "      <th>47617</th>\n",
       "      <td>MADAGASCAR</td>\n",
       "      <td>CHD1 FANDANA</td>\n",
       "      <td>CHD1 FANDANA</td>\n",
       "      <td>Fandana</td>\n",
       "      <td>CHD1</td>\n",
       "      <td>DISTRICT_HOSP</td>\n",
       "    </tr>\n",
       "    <tr>\n",
       "      <th>46516</th>\n",
       "      <td>MADAGASCAR</td>\n",
       "      <td>CHD1 SAKARAHA</td>\n",
       "      <td>CHD1 SAKARAHA</td>\n",
       "      <td>Sakaraha</td>\n",
       "      <td>CHD1</td>\n",
       "      <td>DISTRICT_HOSP</td>\n",
       "    </tr>\n",
       "    <tr>\n",
       "      <th>61461</th>\n",
       "      <td>MAURITANIA</td>\n",
       "      <td>PS MBEDIA SAKHA</td>\n",
       "      <td>PS MBEDIA SAKHA</td>\n",
       "      <td>Mbedia Sakha</td>\n",
       "      <td>PS</td>\n",
       "      <td>CSI</td>\n",
       "    </tr>\n",
       "    <tr>\n",
       "      <th>27122</th>\n",
       "      <td>EQUATORIAL GUINEA</td>\n",
       "      <td>CS Moca</td>\n",
       "      <td>CS Moca</td>\n",
       "      <td>Moca</td>\n",
       "      <td>CS</td>\n",
       "      <td>CSI</td>\n",
       "    </tr>\n",
       "    <tr>\n",
       "      <th>61551</th>\n",
       "      <td>MAURITANIA</td>\n",
       "      <td>CS TAYARETT</td>\n",
       "      <td>CS TAYARETT</td>\n",
       "      <td>Tayarett</td>\n",
       "      <td>CS</td>\n",
       "      <td>CSI</td>\n",
       "    </tr>\n",
       "  </tbody>\n",
       "</table>\n",
       "</div>"
      ],
      "text/plain": [
       "                 Country name_of_facility_visited       clean_name  \\\n",
       "47617         MADAGASCAR             CHD1 FANDANA     CHD1 FANDANA   \n",
       "46516         MADAGASCAR            CHD1 SAKARAHA    CHD1 SAKARAHA   \n",
       "61461         MAURITANIA          PS MBEDIA SAKHA  PS MBEDIA SAKHA   \n",
       "27122  EQUATORIAL GUINEA                  CS Moca          CS Moca   \n",
       "61551         MAURITANIA              CS TAYARETT      CS TAYARETT   \n",
       "\n",
       "      clean_name_final extract_type type_of_facility_visited  \n",
       "47617          Fandana         CHD1            DISTRICT_HOSP  \n",
       "46516         Sakaraha         CHD1            DISTRICT_HOSP  \n",
       "61461     Mbedia Sakha           PS                      CSI  \n",
       "27122             Moca           CS                      CSI  \n",
       "61551         Tayarett           CS                      CSI  "
      ]
     },
     "execution_count": 42,
     "metadata": {},
     "output_type": "execute_result"
    }
   ],
   "source": [
    "# randomly sample rows to examine results\n",
    "# new points where type information can be extracted\n",
    "cols = ['Country', 'name_of_facility_visited', 'clean_name', \n",
    "        'clean_name_final', 'extract_type', 'type_of_facility_visited']\n",
    "na_res[(~pd.isna(na_res['extract_type']))][cols].sample(5)"
   ]
  },
  {
   "cell_type": "code",
   "execution_count": 43,
   "metadata": {},
   "outputs": [],
   "source": [
    "# rejoin the new results to the existing results\n",
    "res = pd.concat([na_res, res[~pd.isna(res['extract_type'])]])"
   ]
  },
  {
   "cell_type": "markdown",
   "metadata": {},
   "source": [
    "Examine randomly sampled rows of top 10 countries with the highest number of NAs / highest percentage of NAs in `extract_type` to make further additions."
   ]
  },
  {
   "cell_type": "code",
   "execution_count": 44,
   "metadata": {},
   "outputs": [
    {
     "data": {
      "text/html": [
       "<div>\n",
       "<style scoped>\n",
       "    .dataframe tbody tr th:only-of-type {\n",
       "        vertical-align: middle;\n",
       "    }\n",
       "\n",
       "    .dataframe tbody tr th {\n",
       "        vertical-align: top;\n",
       "    }\n",
       "\n",
       "    .dataframe thead th {\n",
       "        text-align: right;\n",
       "    }\n",
       "</style>\n",
       "<table border=\"1\" class=\"dataframe\">\n",
       "  <thead>\n",
       "    <tr style=\"text-align: right;\">\n",
       "      <th></th>\n",
       "      <th>Country</th>\n",
       "      <th>#NA</th>\n",
       "      <th>N</th>\n",
       "      <th>pertcentage_NA</th>\n",
       "    </tr>\n",
       "  </thead>\n",
       "  <tbody>\n",
       "    <tr>\n",
       "      <th>0</th>\n",
       "      <td>NIGERIA</td>\n",
       "      <td>19132</td>\n",
       "      <td>206552</td>\n",
       "      <td>0.092626</td>\n",
       "    </tr>\n",
       "    <tr>\n",
       "      <th>1</th>\n",
       "      <td>CHAD</td>\n",
       "      <td>5512</td>\n",
       "      <td>9900</td>\n",
       "      <td>0.556768</td>\n",
       "    </tr>\n",
       "    <tr>\n",
       "      <th>2</th>\n",
       "      <td>DEMOCRATIC REPUBLIC OF THE CONGO</td>\n",
       "      <td>4088</td>\n",
       "      <td>13508</td>\n",
       "      <td>0.302635</td>\n",
       "    </tr>\n",
       "    <tr>\n",
       "      <th>3</th>\n",
       "      <td>MADAGASCAR</td>\n",
       "      <td>3566</td>\n",
       "      <td>3657</td>\n",
       "      <td>0.975116</td>\n",
       "    </tr>\n",
       "    <tr>\n",
       "      <th>4</th>\n",
       "      <td>SOUTH SUDAN</td>\n",
       "      <td>2542</td>\n",
       "      <td>5279</td>\n",
       "      <td>0.481531</td>\n",
       "    </tr>\n",
       "    <tr>\n",
       "      <th>5</th>\n",
       "      <td>MALI</td>\n",
       "      <td>2058</td>\n",
       "      <td>10489</td>\n",
       "      <td>0.196206</td>\n",
       "    </tr>\n",
       "    <tr>\n",
       "      <th>6</th>\n",
       "      <td>LIBERIA</td>\n",
       "      <td>1712</td>\n",
       "      <td>3877</td>\n",
       "      <td>0.441579</td>\n",
       "    </tr>\n",
       "    <tr>\n",
       "      <th>7</th>\n",
       "      <td>MALAWI</td>\n",
       "      <td>1583</td>\n",
       "      <td>2152</td>\n",
       "      <td>0.735595</td>\n",
       "    </tr>\n",
       "    <tr>\n",
       "      <th>8</th>\n",
       "      <td>GABON</td>\n",
       "      <td>1445</td>\n",
       "      <td>3501</td>\n",
       "      <td>0.412739</td>\n",
       "    </tr>\n",
       "    <tr>\n",
       "      <th>9</th>\n",
       "      <td>NIGER</td>\n",
       "      <td>1288</td>\n",
       "      <td>2010</td>\n",
       "      <td>0.640796</td>\n",
       "    </tr>\n",
       "  </tbody>\n",
       "</table>\n",
       "</div>"
      ],
      "text/plain": [
       "                            Country    #NA       N  pertcentage_NA\n",
       "0                           NIGERIA  19132  206552        0.092626\n",
       "1                              CHAD   5512    9900        0.556768\n",
       "2  DEMOCRATIC REPUBLIC OF THE CONGO   4088   13508        0.302635\n",
       "3                        MADAGASCAR   3566    3657        0.975116\n",
       "4                       SOUTH SUDAN   2542    5279        0.481531\n",
       "5                              MALI   2058   10489        0.196206\n",
       "6                           LIBERIA   1712    3877        0.441579\n",
       "7                            MALAWI   1583    2152        0.735595\n",
       "8                             GABON   1445    3501        0.412739\n",
       "9                             NIGER   1288    2010        0.640796"
      ]
     },
     "execution_count": 44,
     "metadata": {},
     "output_type": "execute_result"
    }
   ],
   "source": [
    "na_summ = pd.DataFrame()\n",
    "df_grouped = res.groupby('Country')\n",
    "for ctr, df_group in df_grouped:\n",
    "    nas = df_group['extract_type'].isna().sum()\n",
    "    n = df_group.shape[0]\n",
    "    tmp = pd.DataFrame([[ctr,nas,n]], columns=['Country','#NA','N'])\n",
    "    na_summ = pd.concat([na_summ, tmp])\n",
    "na_summ['pertcentage_NA'] = na_summ['#NA']/na_summ['N'] \n",
    "na_summ = na_summ.sort_values(['#NA'], ascending=False)\n",
    "na_summ.reset_index(inplace=True,drop=True)\n",
    "na_summ.iloc[:10,:]"
   ]
  },
  {
   "cell_type": "code",
   "execution_count": 45,
   "metadata": {},
   "outputs": [
    {
     "name": "stdout",
     "output_type": "stream",
     "text": [
      "Top 10 countries with highest number of NAs in extract_type:\n",
      "['NIGERIA' 'CHAD' 'DEMOCRATIC REPUBLIC OF THE CONGO' 'MADAGASCAR'\n",
      " 'SOUTH SUDAN' 'MALI' 'LIBERIA' 'MALAWI' 'GABON' 'NIGER']\n"
     ]
    }
   ],
   "source": [
    "top_10_na_num = na_summ.iloc[:10,:]['Country'].unique()\n",
    "print(\"Top 10 countries with highest number of NAs in extract_type:\")\n",
    "print(top_10_na_num)"
   ]
  },
  {
   "cell_type": "code",
   "execution_count": 46,
   "metadata": {},
   "outputs": [
    {
     "data": {
      "text/html": [
       "<div>\n",
       "<style scoped>\n",
       "    .dataframe tbody tr th:only-of-type {\n",
       "        vertical-align: middle;\n",
       "    }\n",
       "\n",
       "    .dataframe tbody tr th {\n",
       "        vertical-align: top;\n",
       "    }\n",
       "\n",
       "    .dataframe thead th {\n",
       "        text-align: right;\n",
       "    }\n",
       "</style>\n",
       "<table border=\"1\" class=\"dataframe\">\n",
       "  <thead>\n",
       "    <tr style=\"text-align: right;\">\n",
       "      <th></th>\n",
       "      <th>Country</th>\n",
       "      <th>#NA</th>\n",
       "      <th>N</th>\n",
       "      <th>pertcentage_NA</th>\n",
       "    </tr>\n",
       "  </thead>\n",
       "  <tbody>\n",
       "    <tr>\n",
       "      <th>3</th>\n",
       "      <td>MADAGASCAR</td>\n",
       "      <td>3566</td>\n",
       "      <td>3657</td>\n",
       "      <td>0.975116</td>\n",
       "    </tr>\n",
       "    <tr>\n",
       "      <th>34</th>\n",
       "      <td>SEYCHELLES</td>\n",
       "      <td>45</td>\n",
       "      <td>60</td>\n",
       "      <td>0.750000</td>\n",
       "    </tr>\n",
       "    <tr>\n",
       "      <th>7</th>\n",
       "      <td>MALAWI</td>\n",
       "      <td>1583</td>\n",
       "      <td>2152</td>\n",
       "      <td>0.735595</td>\n",
       "    </tr>\n",
       "    <tr>\n",
       "      <th>9</th>\n",
       "      <td>NIGER</td>\n",
       "      <td>1288</td>\n",
       "      <td>2010</td>\n",
       "      <td>0.640796</td>\n",
       "    </tr>\n",
       "    <tr>\n",
       "      <th>1</th>\n",
       "      <td>CHAD</td>\n",
       "      <td>5512</td>\n",
       "      <td>9900</td>\n",
       "      <td>0.556768</td>\n",
       "    </tr>\n",
       "    <tr>\n",
       "      <th>30</th>\n",
       "      <td>RWANDA</td>\n",
       "      <td>101</td>\n",
       "      <td>185</td>\n",
       "      <td>0.545946</td>\n",
       "    </tr>\n",
       "    <tr>\n",
       "      <th>26</th>\n",
       "      <td>EQUATORIAL GUINEA</td>\n",
       "      <td>134</td>\n",
       "      <td>246</td>\n",
       "      <td>0.544715</td>\n",
       "    </tr>\n",
       "    <tr>\n",
       "      <th>4</th>\n",
       "      <td>SOUTH SUDAN</td>\n",
       "      <td>2542</td>\n",
       "      <td>5279</td>\n",
       "      <td>0.481531</td>\n",
       "    </tr>\n",
       "    <tr>\n",
       "      <th>12</th>\n",
       "      <td>CENTRAL AFRICAN REPUBLIC</td>\n",
       "      <td>790</td>\n",
       "      <td>1729</td>\n",
       "      <td>0.456912</td>\n",
       "    </tr>\n",
       "    <tr>\n",
       "      <th>6</th>\n",
       "      <td>LIBERIA</td>\n",
       "      <td>1712</td>\n",
       "      <td>3877</td>\n",
       "      <td>0.441579</td>\n",
       "    </tr>\n",
       "  </tbody>\n",
       "</table>\n",
       "</div>"
      ],
      "text/plain": [
       "                     Country   #NA     N  pertcentage_NA\n",
       "3                 MADAGASCAR  3566  3657        0.975116\n",
       "34                SEYCHELLES    45    60        0.750000\n",
       "7                     MALAWI  1583  2152        0.735595\n",
       "9                      NIGER  1288  2010        0.640796\n",
       "1                       CHAD  5512  9900        0.556768\n",
       "30                    RWANDA   101   185        0.545946\n",
       "26         EQUATORIAL GUINEA   134   246        0.544715\n",
       "4                SOUTH SUDAN  2542  5279        0.481531\n",
       "12  CENTRAL AFRICAN REPUBLIC   790  1729        0.456912\n",
       "6                    LIBERIA  1712  3877        0.441579"
      ]
     },
     "execution_count": 46,
     "metadata": {},
     "output_type": "execute_result"
    }
   ],
   "source": [
    "na_summ.sort_values(['pertcentage_NA'], ascending=False).iloc[:10,:]"
   ]
  },
  {
   "cell_type": "code",
   "execution_count": 47,
   "metadata": {},
   "outputs": [
    {
     "name": "stdout",
     "output_type": "stream",
     "text": [
      "Top 10 countries with highest percentage of NAs in extract_type:\n",
      "['MADAGASCAR' 'SEYCHELLES' 'MALAWI' 'NIGER' 'CHAD' 'RWANDA'\n",
      " 'EQUATORIAL GUINEA' 'SOUTH SUDAN' 'CENTRAL AFRICAN REPUBLIC' 'LIBERIA']\n"
     ]
    }
   ],
   "source": [
    "top_10_na_perc = na_summ.sort_values(['pertcentage_NA'], ascending=False).iloc[:10,:]\\\n",
    "['Country'].unique()\n",
    "print(\"Top 10 countries with highest percentage of NAs in extract_type:\")\n",
    "print(top_10_na_perc)"
   ]
  },
  {
   "cell_type": "code",
   "execution_count": 48,
   "metadata": {},
   "outputs": [],
   "source": [
    "# new additions\n",
    "type_dict_add = pd.DataFrame([['Gabon', 'Clinic', 'CLINIC', np.nan],\n",
    "                             ['Gabon', 'Polyclinic', 'PCLINIC', np.nan],\n",
    "                             ['Equatorial Guinea', 'General Hospital', 'HG', np.nan]],\n",
    "                             columns = ['Country', 'Type', 'Abbreviation', 'count'])\n",
    "type_dict = pd.concat([type_dict,type_dict_add])"
   ]
  },
  {
   "cell_type": "markdown",
   "metadata": {},
   "source": [
    "## `sub_type`\n",
    "\n",
    "Use `extract_type` to map the type information extracted from the name column to one of the types in the type dictionary."
   ]
  },
  {
   "cell_type": "code",
   "execution_count": 49,
   "metadata": {},
   "outputs": [],
   "source": [
    "df_grouped = res.groupby('Country')\n",
    "res_sub_type = pd.DataFrame()\n",
    "for country_name in res['Country'].unique():\n",
    "    df_group = res[res['Country']==country_name]\n",
    "    tmp = type_dict[type_dict['Country'].str.upper()==country_name]\n",
    "    types = tmp['Type']\n",
    "    abbrevs = tmp['Abbreviation']\n",
    "    sub_types = []\n",
    "    scores = []\n",
    "    \n",
    "    for idx, row in df_group.iterrows():\n",
    "        if not isinstance(row['extract_type'],str):\n",
    "            sub_types.append(np.nan)\n",
    "            scores.append(np.nan)\n",
    "        else:\n",
    "            match, score = process.extractOne(row['extract_type'], list(types)+list(abbrevs), \n",
    "                                           scorer = fuzz.ratio)\n",
    "            scores.append(score)\n",
    "            if match in list(abbrevs):\n",
    "                sub_type = tmp[tmp['Abbreviation']==match]['Type'].iloc[0]\n",
    "                sub_types.append(sub_type)\n",
    "            else:\n",
    "                sub_types.append(match) \n",
    "    df_group['sub_type'] = sub_types\n",
    "    df_group['score'] = scores\n",
    "    res_sub_type = pd.concat([res_sub_type, df_group])"
   ]
  },
  {
   "cell_type": "code",
   "execution_count": 50,
   "metadata": {},
   "outputs": [
    {
     "data": {
      "text/plain": [
       "(305182, 50)"
      ]
     },
     "execution_count": 50,
     "metadata": {},
     "output_type": "execute_result"
    }
   ],
   "source": [
    "res_sub_type.shape"
   ]
  },
  {
   "cell_type": "code",
   "execution_count": 51,
   "metadata": {},
   "outputs": [
    {
     "data": {
      "text/html": [
       "<div>\n",
       "<style scoped>\n",
       "    .dataframe tbody tr th:only-of-type {\n",
       "        vertical-align: middle;\n",
       "    }\n",
       "\n",
       "    .dataframe tbody tr th {\n",
       "        vertical-align: top;\n",
       "    }\n",
       "\n",
       "    .dataframe thead th {\n",
       "        text-align: right;\n",
       "    }\n",
       "</style>\n",
       "<table border=\"1\" class=\"dataframe\">\n",
       "  <thead>\n",
       "    <tr style=\"text-align: right;\">\n",
       "      <th></th>\n",
       "      <th>Country</th>\n",
       "      <th>name_of_facility_visited</th>\n",
       "      <th>clean_name</th>\n",
       "      <th>clean_name_final</th>\n",
       "      <th>extract_type</th>\n",
       "      <th>type_of_facility_visited</th>\n",
       "      <th>sub_type</th>\n",
       "      <th>score</th>\n",
       "    </tr>\n",
       "  </thead>\n",
       "  <tbody>\n",
       "    <tr>\n",
       "      <th>246378</th>\n",
       "      <td>NIGERIA</td>\n",
       "      <td>PHC Wuro Cheudo</td>\n",
       "      <td>PHC Wuro Cheudo</td>\n",
       "      <td>Wuro Cheudo</td>\n",
       "      <td>PHC</td>\n",
       "      <td>PHC_CENTER</td>\n",
       "      <td>Primary Health Centre</td>\n",
       "      <td>100.0</td>\n",
       "    </tr>\n",
       "    <tr>\n",
       "      <th>71705</th>\n",
       "      <td>NIGERIA</td>\n",
       "      <td>Gasamu PHCC</td>\n",
       "      <td>Gasamu PHCC</td>\n",
       "      <td>Gasamu</td>\n",
       "      <td>PHCC</td>\n",
       "      <td>PHC_CENTER</td>\n",
       "      <td>Primary Health Care Centre</td>\n",
       "      <td>100.0</td>\n",
       "    </tr>\n",
       "    <tr>\n",
       "      <th>278382</th>\n",
       "      <td>DEMOCRATIC REPUBLIC OF THE CONGO</td>\n",
       "      <td>CS Saint André</td>\n",
       "      <td>CS Saint Andre</td>\n",
       "      <td>Saint Andre</td>\n",
       "      <td>CS</td>\n",
       "      <td>FAITH_BASED</td>\n",
       "      <td>Centre de Sante</td>\n",
       "      <td>100.0</td>\n",
       "    </tr>\n",
       "    <tr>\n",
       "      <th>196891</th>\n",
       "      <td>NIGERIA</td>\n",
       "      <td>Alikolo m kawu ( AVADAR community informants)</td>\n",
       "      <td>Alikolo m kawu  AVADAR community informants</td>\n",
       "      <td>Alikolo M Kawu Avadar Community Informants</td>\n",
       "      <td>NaN</td>\n",
       "      <td>OTHER_NON_ORTHORDOX_HC</td>\n",
       "      <td>NaN</td>\n",
       "      <td>NaN</td>\n",
       "    </tr>\n",
       "    <tr>\n",
       "      <th>185399</th>\n",
       "      <td>NIGERIA</td>\n",
       "      <td>UNICEF CLINIC WATERBOARD</td>\n",
       "      <td>UNICEF CLINIC WATERBOARD</td>\n",
       "      <td>Unicef Waterboard</td>\n",
       "      <td>CLINIC</td>\n",
       "      <td>PHC_CENTER</td>\n",
       "      <td>Clinic</td>\n",
       "      <td>100.0</td>\n",
       "    </tr>\n",
       "  </tbody>\n",
       "</table>\n",
       "</div>"
      ],
      "text/plain": [
       "                                 Country  \\\n",
       "246378                           NIGERIA   \n",
       "71705                            NIGERIA   \n",
       "278382  DEMOCRATIC REPUBLIC OF THE CONGO   \n",
       "196891                           NIGERIA   \n",
       "185399                           NIGERIA   \n",
       "\n",
       "                             name_of_facility_visited  \\\n",
       "246378                                PHC Wuro Cheudo   \n",
       "71705                                     Gasamu PHCC   \n",
       "278382                                 CS Saint André   \n",
       "196891  Alikolo m kawu ( AVADAR community informants)   \n",
       "185399                       UNICEF CLINIC WATERBOARD   \n",
       "\n",
       "                                         clean_name  \\\n",
       "246378                              PHC Wuro Cheudo   \n",
       "71705                                   Gasamu PHCC   \n",
       "278382                               CS Saint Andre   \n",
       "196891  Alikolo m kawu  AVADAR community informants   \n",
       "185399                     UNICEF CLINIC WATERBOARD   \n",
       "\n",
       "                                  clean_name_final extract_type  \\\n",
       "246378                                 Wuro Cheudo          PHC   \n",
       "71705                                       Gasamu         PHCC   \n",
       "278382                                 Saint Andre           CS   \n",
       "196891  Alikolo M Kawu Avadar Community Informants          NaN   \n",
       "185399                           Unicef Waterboard       CLINIC   \n",
       "\n",
       "       type_of_facility_visited                    sub_type  score  \n",
       "246378               PHC_CENTER       Primary Health Centre  100.0  \n",
       "71705                PHC_CENTER  Primary Health Care Centre  100.0  \n",
       "278382              FAITH_BASED             Centre de Sante  100.0  \n",
       "196891   OTHER_NON_ORTHORDOX_HC                         NaN    NaN  \n",
       "185399               PHC_CENTER                      Clinic  100.0  "
      ]
     },
     "execution_count": 51,
     "metadata": {},
     "output_type": "execute_result"
    }
   ],
   "source": [
    "# randomly sample rows to examine the results\n",
    "cols=['Country', 'name_of_facility_visited', 'clean_name', 'clean_name_final', \n",
    "      'extract_type', 'type_of_facility_visited', 'sub_type', 'score']\n",
    "res_sub_type[cols].sample(5)"
   ]
  },
  {
   "cell_type": "code",
   "execution_count": 52,
   "metadata": {},
   "outputs": [
    {
     "name": "stdout",
     "output_type": "stream",
     "text": [
      "Summary statistics of match score\n"
     ]
    },
    {
     "data": {
      "text/plain": [
       "count    254169.000000\n",
       "mean         97.153197\n",
       "std           9.137719\n",
       "min          24.000000\n",
       "25%         100.000000\n",
       "50%         100.000000\n",
       "75%         100.000000\n",
       "max         100.000000\n",
       "Name: score, dtype: float64"
      ]
     },
     "execution_count": 52,
     "metadata": {},
     "output_type": "execute_result"
    }
   ],
   "source": [
    "print(\"Summary statistics of match score\")\n",
    "res_sub_type['score'].describe()"
   ]
  },
  {
   "cell_type": "markdown",
   "metadata": {},
   "source": [
    "Examine randomly sampled rows of countries where the match score is below average and the number of points is greater than 1000. Then make further additions."
   ]
  },
  {
   "cell_type": "code",
   "execution_count": 53,
   "metadata": {},
   "outputs": [
    {
     "data": {
      "text/html": [
       "<div>\n",
       "<style scoped>\n",
       "    .dataframe tbody tr th:only-of-type {\n",
       "        vertical-align: middle;\n",
       "    }\n",
       "\n",
       "    .dataframe tbody tr th {\n",
       "        vertical-align: top;\n",
       "    }\n",
       "\n",
       "    .dataframe thead th {\n",
       "        text-align: right;\n",
       "    }\n",
       "</style>\n",
       "<table border=\"1\" class=\"dataframe\">\n",
       "  <thead>\n",
       "    <tr style=\"text-align: right;\">\n",
       "      <th></th>\n",
       "      <th>avg_score</th>\n",
       "      <th>count</th>\n",
       "    </tr>\n",
       "    <tr>\n",
       "      <th>Country</th>\n",
       "      <th></th>\n",
       "      <th></th>\n",
       "    </tr>\n",
       "  </thead>\n",
       "  <tbody>\n",
       "    <tr>\n",
       "      <th>MALI</th>\n",
       "      <td>97.021350</td>\n",
       "      <td>8431</td>\n",
       "    </tr>\n",
       "    <tr>\n",
       "      <th>CAMEROON</th>\n",
       "      <td>95.174937</td>\n",
       "      <td>6791</td>\n",
       "    </tr>\n",
       "    <tr>\n",
       "      <th>CHAD</th>\n",
       "      <td>96.281222</td>\n",
       "      <td>4388</td>\n",
       "    </tr>\n",
       "    <tr>\n",
       "      <th>ZAMBIA</th>\n",
       "      <td>91.974367</td>\n",
       "      <td>3199</td>\n",
       "    </tr>\n",
       "    <tr>\n",
       "      <th>SOUTH SUDAN</th>\n",
       "      <td>95.211545</td>\n",
       "      <td>2737</td>\n",
       "    </tr>\n",
       "    <tr>\n",
       "      <th>ANGOLA</th>\n",
       "      <td>81.618975</td>\n",
       "      <td>2635</td>\n",
       "    </tr>\n",
       "    <tr>\n",
       "      <th>TANZANIA</th>\n",
       "      <td>96.026305</td>\n",
       "      <td>2395</td>\n",
       "    </tr>\n",
       "    <tr>\n",
       "      <th>GABON</th>\n",
       "      <td>82.118677</td>\n",
       "      <td>2056</td>\n",
       "    </tr>\n",
       "    <tr>\n",
       "      <th>UGANDA</th>\n",
       "      <td>94.740081</td>\n",
       "      <td>1739</td>\n",
       "    </tr>\n",
       "    <tr>\n",
       "      <th>CONGO</th>\n",
       "      <td>91.204918</td>\n",
       "      <td>1220</td>\n",
       "    </tr>\n",
       "  </tbody>\n",
       "</table>\n",
       "</div>"
      ],
      "text/plain": [
       "             avg_score  count\n",
       "Country                      \n",
       "MALI         97.021350   8431\n",
       "CAMEROON     95.174937   6791\n",
       "CHAD         96.281222   4388\n",
       "ZAMBIA       91.974367   3199\n",
       "SOUTH SUDAN  95.211545   2737\n",
       "ANGOLA       81.618975   2635\n",
       "TANZANIA     96.026305   2395\n",
       "GABON        82.118677   2056\n",
       "UGANDA       94.740081   1739\n",
       "CONGO        91.204918   1220"
      ]
     },
     "execution_count": 53,
     "metadata": {},
     "output_type": "execute_result"
    }
   ],
   "source": [
    "score_summ = res_sub_type.groupby('Country').agg(avg_score = ('score', 'mean'),\n",
    "                                   count=('score','count'))\\\n",
    ".sort_values(['count', 'avg_score'], ascending=[False, True])\n",
    "\n",
    "score_summ[(score_summ['avg_score']<res_sub_type['score'].mean())&\n",
    "          (score_summ['count']>1000)]"
   ]
  },
  {
   "cell_type": "code",
   "execution_count": 54,
   "metadata": {},
   "outputs": [],
   "source": [
    "type_dict_additions = [['Mali', 'Centre de Sante', 'CS', np.nan],\n",
    "                       ['Mali', 'Centre de Kinesitherapie', 'CK', np.nan],\n",
    "                       ['Cameroon', 'Hospital', 'HOSP', np.nan],                      \n",
    "                       [\"Zambia\", \"Hospital Affiliated Health Centre\", \"HAHC\", np.nan],\n",
    "                       [\"Zambia\", \"Referral Hospital\", \"RH\", np.nan],\n",
    "                       [\"Zambia\", \"District Hospital\", \"DH\", np.nan],\n",
    "                       [\"Zambia\", \"General Hospital\", \"GH\", np.nan],\n",
    "                       [\"Zambia\", \"Mission Hospital\", \"MH\", np.nan],\n",
    "                       [\"Zambia\", \"Universty Teaching Hospital\", \"UTH\", np.nan],\n",
    "                       [\"Zambia\", \"Hospital\", \"HOSP\", np.nan], \n",
    "                       ['South Sudan', 'Hospital', 'HOSP', np.nan],\n",
    "                       [\"Gabon\", \"Hospital\", \"HOSP\", np.nan],\n",
    "                       [\"Gabon\", \"Centre de Sante\", \"CS\", np.nan],\n",
    "                       [\"Congo\", \"Poste de Sante\", \"PS\", np.nan]]\n",
    "dict_additions = pd.DataFrame(type_dict_additions, \n",
    "                              columns=['Country', 'Type', 'Abbreviation', 'count'])\n",
    "type_dict = pd.concat([type_dict, dict_additions])\n",
    "type_dict.sort_values(by=['Country','Type'], inplace=True)"
   ]
  },
  {
   "cell_type": "code",
   "execution_count": 55,
   "metadata": {},
   "outputs": [
    {
     "data": {
      "text/html": [
       "<div>\n",
       "<style scoped>\n",
       "    .dataframe tbody tr th:only-of-type {\n",
       "        vertical-align: middle;\n",
       "    }\n",
       "\n",
       "    .dataframe tbody tr th {\n",
       "        vertical-align: top;\n",
       "    }\n",
       "\n",
       "    .dataframe thead th {\n",
       "        text-align: right;\n",
       "    }\n",
       "</style>\n",
       "<table border=\"1\" class=\"dataframe\">\n",
       "  <thead>\n",
       "    <tr style=\"text-align: right;\">\n",
       "      <th></th>\n",
       "      <th>unique_type</th>\n",
       "      <th>unique_abbrev</th>\n",
       "    </tr>\n",
       "    <tr>\n",
       "      <th>Country</th>\n",
       "      <th></th>\n",
       "      <th></th>\n",
       "    </tr>\n",
       "  </thead>\n",
       "  <tbody>\n",
       "  </tbody>\n",
       "</table>\n",
       "</div>"
      ],
      "text/plain": [
       "Empty DataFrame\n",
       "Columns: [unique_type, unique_abbrev]\n",
       "Index: []"
      ]
     },
     "execution_count": 55,
     "metadata": {},
     "output_type": "execute_result"
    }
   ],
   "source": [
    "# Check for each country, every facility type has a unique abbreviation\n",
    "tmp = type_dict.groupby('Country').agg(unique_type = ('Type', 'nunique'),\n",
    "                                unique_abbrev = ('Abbreviation', 'nunique'))\n",
    "tmp[tmp['unique_type']!=tmp['unique_abbrev']]"
   ]
  },
  {
   "cell_type": "code",
   "execution_count": 56,
   "metadata": {},
   "outputs": [],
   "source": [
    "# export the results\n",
    "type_dict.to_csv(saveDir + \"//type_dict_1109.csv\", index=False)"
   ]
  }
 ],
 "metadata": {
  "kernelspec": {
   "display_name": "Python 3",
   "language": "python",
   "name": "python3"
  },
  "language_info": {
   "codemirror_mode": {
    "name": "ipython",
    "version": 3
   },
   "file_extension": ".py",
   "mimetype": "text/x-python",
   "name": "python",
   "nbconvert_exporter": "python",
   "pygments_lexer": "ipython3",
   "version": "3.7.6"
  }
 },
 "nbformat": 4,
 "nbformat_minor": 4
}
