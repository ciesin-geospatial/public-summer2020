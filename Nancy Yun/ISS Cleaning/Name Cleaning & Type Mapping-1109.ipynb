{
 "cells": [
  {
   "cell_type": "code",
   "execution_count": 76,
   "metadata": {},
   "outputs": [],
   "source": [
    "import numpy as np\n",
    "import pandas as pd\n",
    "import geopandas as gpd\n",
    "import fiona\n",
    "import os\n",
    "import unidecode\n",
    "from fuzzywuzzy import fuzz\n",
    "from fuzzywuzzy import process\n",
    "from ordered_set import OrderedSet"
   ]
  },
  {
   "cell_type": "code",
   "execution_count": 77,
   "metadata": {},
   "outputs": [],
   "source": [
    "pd.set_option('display.max_columns', None)\n",
    "pd.set_option('display.max_rows', None)\n",
    "pd.set_option('mode.chained_assignment', None)"
   ]
  },
  {
   "cell_type": "code",
   "execution_count": 78,
   "metadata": {},
   "outputs": [],
   "source": [
    "# data import\n",
    "dataDir = r\"C:\\Users\\DUANYUEYUN\\Documents\\GRID3\\Health facilities\\Data\\Africa\\Sub-Saharan_health_facilities\"\n",
    "folder = \"Sub-Saharan_health_facilities.gdb\"\n",
    "path = os.path.join(dataDir, folder)\n",
    "df_iss = gpd.read_file(path, driver='FileGDB', \n",
    "                       layer='ISS_sub_saharan')\n",
    "saveDir = r\"C:\\Users\\DUANYUEYUN\\Documents\\GRID3\\Health facilities\\Data\\Africa\\Cleaned\"\n",
    "type_dict = pd.read_csv(saveDir + \"//type_dict_1109.csv\")\n",
    "# get the index, for mapping processed data to original dataset\n",
    "df_iss.reset_index(inplace=True)"
   ]
  },
  {
   "cell_type": "markdown",
   "metadata": {},
   "source": [
    "# `clean_name`\n",
    "\n",
    "Pre-cleaning on `name_of_facility_visited`:\n",
    "\n",
    "- remove punctuations, change & to and\n",
    "- correct spelling of common words\n",
    "- replace double whitespaces with one and strip extra whitespaces\n",
    "- remove accent marks"
   ]
  },
  {
   "cell_type": "code",
   "execution_count": 79,
   "metadata": {},
   "outputs": [],
   "source": [
    "# pre-cleaning\n",
    "df_iss['clean_name'] = df_iss['name_of_facility_visited'].str.strip()\\\n",
    "        .str.replace(\"  \", \" \")\\\n",
    "        .str.replace('.', ' ')\\\n",
    "        .str.replace(':', ' ')\\\n",
    "        .str.replace(\"'\", ' ')\\\n",
    "        .str.replace('\"', ' ')\\\n",
    "        .str.replace('[-_,/\\(\\)]', ' ')\\\n",
    "        .str.replace('&', ' and ')\\\n",
    "        .str.strip()\\\n",
    "        .str.replace('center', 'centre', case=False)\\\n",
    "        .str.replace('Clinique', 'Clinic', case=False)\\\n",
    "        .str.replace('Polyclinique', 'Polyclinic', case=False)\\\n",
    "        .str.replace('Geral', 'General', case=False)\\\n",
    "        .str.replace('Dispensaire', 'Dispensary', case=False)\\\n",
    "        .str.replace('Hôpital', 'Hospital', case=False)\\\n",
    "        .str.replace('Hopital', 'Hospital', case=False)\\\n",
    "        .str.replace('Hospitais', 'Hospital', case=False)\\\n",
    "        .str.replace(' Hosp | hosp$', ' Hospital ', case=False)\\\n",
    "        .str.replace(\"Urbain\", \"Urban\", case=False)\\\n",
    "        .str.replace(\"Distrital\", \"District\", case=False)\\\n",
    "        .str.replace(\"  \", \" \")\\\n",
    "        .str.strip()\n",
    "\n",
    "# remove accent marks\n",
    "df_iss['clean_name'] = [unidecode.unidecode(n) for n in df_iss['clean_name']]"
   ]
  },
  {
   "cell_type": "code",
   "execution_count": 80,
   "metadata": {},
   "outputs": [
    {
     "data": {
      "text/html": [
       "<div>\n",
       "<style scoped>\n",
       "    .dataframe tbody tr th:only-of-type {\n",
       "        vertical-align: middle;\n",
       "    }\n",
       "\n",
       "    .dataframe tbody tr th {\n",
       "        vertical-align: top;\n",
       "    }\n",
       "\n",
       "    .dataframe thead th {\n",
       "        text-align: right;\n",
       "    }\n",
       "</style>\n",
       "<table border=\"1\" class=\"dataframe\">\n",
       "  <thead>\n",
       "    <tr style=\"text-align: right;\">\n",
       "      <th></th>\n",
       "      <th>name_of_facility_visited</th>\n",
       "      <th>clean_name</th>\n",
       "    </tr>\n",
       "  </thead>\n",
       "  <tbody>\n",
       "    <tr>\n",
       "      <th>181818</th>\n",
       "      <td>\"MCH Gwio Kura</td>\n",
       "      <td>MCH Gwio Kura</td>\n",
       "    </tr>\n",
       "    <tr>\n",
       "      <th>277705</th>\n",
       "      <td>'CM la Paix</td>\n",
       "      <td>CM la Paix</td>\n",
       "    </tr>\n",
       "  </tbody>\n",
       "</table>\n",
       "</div>"
      ],
      "text/plain": [
       "       name_of_facility_visited     clean_name\n",
       "181818           \"MCH Gwio Kura  MCH Gwio Kura\n",
       "277705              'CM la Paix     CM la Paix"
      ]
     },
     "execution_count": 80,
     "metadata": {},
     "output_type": "execute_result"
    }
   ],
   "source": [
    "# Ensure punctuations at the beginning are removed\n",
    "df_iss[['name_of_facility_visited','clean_name']].sort_values('name_of_facility_visited').head(2)"
   ]
  },
  {
   "cell_type": "markdown",
   "metadata": {},
   "source": [
    "# `clean_name_final`\n",
    "\n",
    "Use facility type and abbreviations in the type dictionary as keywords and remove type information from `clean_name` to create the `clean_name_final` column."
   ]
  },
  {
   "cell_type": "markdown",
   "metadata": {},
   "source": [
    "Sometimes there is a whitespace between abbreviation, e.g. C S. Corrections are made accordingly."
   ]
  },
  {
   "cell_type": "code",
   "execution_count": 81,
   "metadata": {},
   "outputs": [],
   "source": [
    "# obtain abbreviations of length 2 or 3\n",
    "tmp = type_dict[type_dict['Abbreviation'].str.len()<=3]['Abbreviation'].unique()\n",
    "tmp = sorted(tmp, key=len, reverse=True)\n",
    "# change it to the pattern '^c s ' or 'c s$'\n",
    "tmp_dict = {}\n",
    "for t in tmp:\n",
    "    tmp_dict[t] = ['^'+' '.join(list(t))+' ', ' '+' '.join(list(t))+'$']\n",
    "# replace the pattern with 'cs'\n",
    "for t in tmp:\n",
    "    pats = tmp_dict[t]\n",
    "    df_iss['clean_name'] = df_iss['clean_name'].str.replace(pats[0], t+' ',case=False)\\\n",
    "    .str.replace(pats[1], ' '+t, case=False)"
   ]
  },
  {
   "cell_type": "markdown",
   "metadata": {},
   "source": [
    "Remove type information."
   ]
  },
  {
   "cell_type": "code",
   "execution_count": 82,
   "metadata": {},
   "outputs": [],
   "source": [
    "# re-encode country to match that in HDX_who data \n",
    "ctr_dict = {\"CENTRAL_AFRICAN_REPUBLIC\":'CENTRAL AFRICAN REPUBLIC',\n",
    "            \"GUINEA-BISSAU\": 'GUINEA BISSAU',\n",
    "            \"RÉPUBLIQUE DÉMOCRATIQUE DU CONGO\":'DEMOCRATIC REPUBLIC OF THE CONGO',\n",
    "            \"SIERRA\":'SIERRA LEONE', 'SWAZILAND':'ESWATINI'}\n",
    "\n",
    "df_iss['Country'] = [ctr_dict[c] if c in ctr_dict.keys() else c for c in df_iss['countries']]"
   ]
  },
  {
   "cell_type": "code",
   "execution_count": 83,
   "metadata": {},
   "outputs": [],
   "source": [
    "# extract_type\n",
    "df_grouped = df_iss.groupby('Country')\n",
    "res = pd.DataFrame()\n",
    "type_keywords_dict = {}\n",
    "abb_keywords_dict = {}\n",
    "\n",
    "for group_name, df_group in df_grouped:\n",
    "    # obtain the type dictionary for that country\n",
    "    tmp = type_dict[type_dict['Country'].str.upper()==group_name]\n",
    "    \n",
    "    # facility types for that country\n",
    "    types = list(tmp['Type'])\n",
    "    type_keywords = set()\n",
    "    for t in types:\n",
    "        # add the full facility type \n",
    "        t = t.title()\n",
    "        type_keywords.add(t)                 \n",
    "\n",
    "        # add individual words as well\n",
    "        t = t.replace('/', ' ')\n",
    "        words = t.split(' ')\n",
    "        # skip words that have punctuation and have length <= 3 (e.g. de, (major))\n",
    "        words = [w for w in words if w.isalpha() and len(w)>3]\n",
    "        for w in words:\n",
    "            type_keywords.add(w)\n",
    "\n",
    "    # obtain the list of type keywords and sort in descending length\n",
    "    type_keywords = list(type_keywords)\n",
    "    type_keywords = sorted(type_keywords, key=lambda s: -len(s))\n",
    "    type_keywords_dict[group_name] = type_keywords\n",
    "\n",
    "    # abbreviations for that country\n",
    "    abbrevs = set(tmp['Abbreviation'])\n",
    "        \n",
    "    abb_keywords = []\n",
    "    for abbrev in abbrevs:\n",
    "        # e.g. for CS, 4 patterns are considered: '^CS ', ' CS ', ' CS$', '^CS$'\n",
    "        abbrev = abbrev.title()\n",
    "        abb_keywords.extend(['^'+abbrev+'\\s', '\\s'+abbrev+'\\s', '\\s'+abbrev+'$',\n",
    "                            '^'+abbrev+'$'])\n",
    "        \n",
    "    # obtain the list of abbreviation keywords and sort in descending length\n",
    "    abb_keywords = sorted(abb_keywords, key=lambda s: -len(s))  \n",
    "    abb_keywords_dict[group_name] = abb_keywords\n",
    "\n",
    "    # some country-specific adjustments\n",
    "    if group_name == 'UGANDA':\n",
    "        df_group['clean_name'] = df_group['clean_name'].str.replace(\"HC II$\", \"HCII\", case=False)\\\n",
    "        .str.replace(\"HC III$\", \"HCIII\", case=False)\\\n",
    "        .str.replace(\"HC IV$\", \"HCIV\", case=False)\n",
    "        \n",
    "    if group_name == 'MALAWI':\n",
    "        df_group['clean_name'] = df_group['clean_name'].str.replace(\" DHO$\", \" DH\", case=False)\n",
    "\n",
    "    if group_name == \"ERITREA\":\n",
    "        df_group['clean_name'] = df_group['clean_name'].str.replace(\" HO$\", \" HOSP\", case=False)\n",
    "        \n",
    "    if group_name == 'MADAGASCAR':\n",
    "        df_group['clean_name'] = df_group['clean_name'].str.replace(\"csb 1\", \" csb1\", case=False)\n",
    "        df_group['clean_name'] = df_group['clean_name'].str.replace(\"csb 2\", \" csb2\", case=False)\n",
    "\n",
    "    # handle situations when type is 'Hospital District' in the type dictionary \n",
    "    # but name column has 'District Hospital' in ISS data\n",
    "    type_len_2 = [t for t in type_keywords if len(t.split())==2]\n",
    "    for t in type_len_2:\n",
    "        df_group['clean_name'] = df_group['clean_name'].str.title()\\\n",
    "        .str.replace(' '.join(t.split()[::-1]), t, case=False)\n",
    "                           \n",
    "    # replace double whitespaces with a single space\n",
    "    df_group['clean_name_final'] = df_group['clean_name'].str.title()\\\n",
    "        .str.replace('|'.join(type_keywords), '')\\\n",
    "        .str.replace('|'.join(abb_keywords), '')\\\n",
    "        .str.strip()\\\n",
    "        .str.replace('^de | de | de$|^de$|^do | do | do$|^do$|^da | da | da$|^da$|^du | du | du$|^du$', \n",
    "                     '', case=False)\\\n",
    "        .str.replace(\"  \", \" \")\\\n",
    "        .str.strip()\\\n",
    "        .str.title()\n",
    "    res = pd.concat([res, df_group])"
   ]
  },
  {
   "cell_type": "code",
   "execution_count": 84,
   "metadata": {},
   "outputs": [
    {
     "data": {
      "text/plain": [
       "(305182, 45)"
      ]
     },
     "execution_count": 84,
     "metadata": {},
     "output_type": "execute_result"
    }
   ],
   "source": [
    "res.shape"
   ]
  },
  {
   "cell_type": "code",
   "execution_count": 85,
   "metadata": {},
   "outputs": [
    {
     "data": {
      "text/html": [
       "<div>\n",
       "<style scoped>\n",
       "    .dataframe tbody tr th:only-of-type {\n",
       "        vertical-align: middle;\n",
       "    }\n",
       "\n",
       "    .dataframe tbody tr th {\n",
       "        vertical-align: top;\n",
       "    }\n",
       "\n",
       "    .dataframe thead th {\n",
       "        text-align: right;\n",
       "    }\n",
       "</style>\n",
       "<table border=\"1\" class=\"dataframe\">\n",
       "  <thead>\n",
       "    <tr style=\"text-align: right;\">\n",
       "      <th></th>\n",
       "      <th>Country</th>\n",
       "      <th>name_of_facility_visited</th>\n",
       "      <th>clean_name</th>\n",
       "      <th>clean_name_final</th>\n",
       "      <th>type_of_facility_visited</th>\n",
       "    </tr>\n",
       "  </thead>\n",
       "  <tbody>\n",
       "    <tr>\n",
       "      <th>185062</th>\n",
       "      <td>NIGERIA</td>\n",
       "      <td>HC DORAYI</td>\n",
       "      <td>Hc Dorayi</td>\n",
       "      <td>Dorayi</td>\n",
       "      <td>PHC_CENTER</td>\n",
       "    </tr>\n",
       "    <tr>\n",
       "      <th>287708</th>\n",
       "      <td>SIERRA LEONE</td>\n",
       "      <td>Nianyahun</td>\n",
       "      <td>Nianyahun</td>\n",
       "      <td>Nianyahun</td>\n",
       "      <td>PHC_CENTER</td>\n",
       "    </tr>\n",
       "    <tr>\n",
       "      <th>112000</th>\n",
       "      <td>NIGERIA</td>\n",
       "      <td>Bara health clinic</td>\n",
       "      <td>Bara Health Clinic</td>\n",
       "      <td>Bara</td>\n",
       "      <td>PHC_CENTER</td>\n",
       "    </tr>\n",
       "    <tr>\n",
       "      <th>167047</th>\n",
       "      <td>NIGERIA</td>\n",
       "      <td>PHCC Salasa</td>\n",
       "      <td>Phcc Salasa</td>\n",
       "      <td>Salasa</td>\n",
       "      <td>PHC_CENTER</td>\n",
       "    </tr>\n",
       "    <tr>\n",
       "      <th>52336</th>\n",
       "      <td>MALI</td>\n",
       "      <td>Csref de Sefeto</td>\n",
       "      <td>Csref De Sefeto</td>\n",
       "      <td>Sefeto</td>\n",
       "      <td>CSI</td>\n",
       "    </tr>\n",
       "  </tbody>\n",
       "</table>\n",
       "</div>"
      ],
      "text/plain": [
       "             Country name_of_facility_visited          clean_name  \\\n",
       "185062       NIGERIA                HC DORAYI           Hc Dorayi   \n",
       "287708  SIERRA LEONE                Nianyahun           Nianyahun   \n",
       "112000       NIGERIA       Bara health clinic  Bara Health Clinic   \n",
       "167047       NIGERIA              PHCC Salasa         Phcc Salasa   \n",
       "52336           MALI          Csref de Sefeto     Csref De Sefeto   \n",
       "\n",
       "       clean_name_final type_of_facility_visited  \n",
       "185062           Dorayi               PHC_CENTER  \n",
       "287708        Nianyahun               PHC_CENTER  \n",
       "112000             Bara               PHC_CENTER  \n",
       "167047           Salasa               PHC_CENTER  \n",
       "52336            Sefeto                      CSI  "
      ]
     },
     "execution_count": 85,
     "metadata": {},
     "output_type": "execute_result"
    }
   ],
   "source": [
    "# randomly sample rows to examine results\n",
    "cols = ['Country', 'name_of_facility_visited', 'clean_name', \n",
    "        'clean_name_final', 'type_of_facility_visited']\n",
    "res[cols].sample(5)"
   ]
  },
  {
   "cell_type": "markdown",
   "metadata": {},
   "source": [
    "# `extract_type`\n",
    "\n",
    "Extract facility type information by removing `clean_name_final` from `clean_name`."
   ]
  },
  {
   "cell_type": "code",
   "execution_count": 86,
   "metadata": {},
   "outputs": [],
   "source": [
    "extract_types = []\n",
    "\n",
    "for idx, row in res.iterrows():\n",
    "    clean_name = row['clean_name'].upper()\n",
    "    clean_name_final = row['clean_name_final'].upper()\n",
    "    \n",
    "    # if clean_name_final is exactly the same as clean_name,\n",
    "    # this indicates no type information can be extracted, thus append NA\n",
    "    if clean_name.upper() == clean_name_final.upper():\n",
    "        extract_types.append(np.nan)\n",
    "    \n",
    "    else:\n",
    "        clean_name = OrderedSet(clean_name.split())\n",
    "        clean_name_final = OrderedSet(clean_name_final.split())\n",
    "        # find the difference between two names\n",
    "        extract_type = ' '.join(list(clean_name.difference(clean_name_final)))\n",
    "        extract_types.append(extract_type.strip())\n",
    "\n",
    "# remove de, do, da, du at start or end of extract_type\n",
    "# replace empty string with NA\n",
    "res['extract_type'] = extract_types\n",
    "res['extract_type'] = res['extract_type'].str.strip()\\\n",
    ".str.replace(\"  \", \" \")\\\n",
    ".str.replace('^de |^do |^da |^du | du$| de$| do$| da$|^de$|^do$|^da$|^du$', '', case=False)\\\n",
    ".str.replace('^de |^do |^da |^du | du$| de$| do$| da$|^de$|^do$|^da$|^du$', '', case=False)\\\n",
    ".str.strip()\\\n",
    ".str.title()\\\n",
    ".replace('',np.nan)"
   ]
  },
  {
   "cell_type": "code",
   "execution_count": 87,
   "metadata": {},
   "outputs": [
    {
     "data": {
      "text/html": [
       "<div>\n",
       "<style scoped>\n",
       "    .dataframe tbody tr th:only-of-type {\n",
       "        vertical-align: middle;\n",
       "    }\n",
       "\n",
       "    .dataframe tbody tr th {\n",
       "        vertical-align: top;\n",
       "    }\n",
       "\n",
       "    .dataframe thead th {\n",
       "        text-align: right;\n",
       "    }\n",
       "</style>\n",
       "<table border=\"1\" class=\"dataframe\">\n",
       "  <thead>\n",
       "    <tr style=\"text-align: right;\">\n",
       "      <th></th>\n",
       "      <th>Country</th>\n",
       "      <th>name_of_facility_visited</th>\n",
       "      <th>clean_name</th>\n",
       "      <th>clean_name_final</th>\n",
       "      <th>extract_type</th>\n",
       "      <th>type_of_facility_visited</th>\n",
       "    </tr>\n",
       "  </thead>\n",
       "  <tbody>\n",
       "    <tr>\n",
       "      <th>219141</th>\n",
       "      <td>NIGERIA</td>\n",
       "      <td>HC KQMANZO</td>\n",
       "      <td>Hc Kqmanzo</td>\n",
       "      <td>Kqmanzo</td>\n",
       "      <td>Hc</td>\n",
       "      <td>PHC_CENTER</td>\n",
       "    </tr>\n",
       "    <tr>\n",
       "      <th>162326</th>\n",
       "      <td>NIGERIA</td>\n",
       "      <td>Lawan Barma</td>\n",
       "      <td>Lawan Barma</td>\n",
       "      <td>Lawan Barma</td>\n",
       "      <td>NaN</td>\n",
       "      <td>PATENT_MED_VENDORS</td>\n",
       "    </tr>\n",
       "    <tr>\n",
       "      <th>36127</th>\n",
       "      <td>GHANA</td>\n",
       "      <td>Tatindo clinic</td>\n",
       "      <td>Tatindo Clinic</td>\n",
       "      <td>Tatindo</td>\n",
       "      <td>Clinic</td>\n",
       "      <td>PRIVATE_FACILITY</td>\n",
       "    </tr>\n",
       "    <tr>\n",
       "      <th>24380</th>\n",
       "      <td>CHAD</td>\n",
       "      <td>Doba ACT</td>\n",
       "      <td>Doba Act</td>\n",
       "      <td>Doba Act</td>\n",
       "      <td>NaN</td>\n",
       "      <td>OTHER_NON_ORTHORDOX_HC</td>\n",
       "    </tr>\n",
       "    <tr>\n",
       "      <th>193894</th>\n",
       "      <td>NIGERIA</td>\n",
       "      <td>PHC TUKUR TUKUR</td>\n",
       "      <td>Phc Tukur Tukur</td>\n",
       "      <td>Tukur Tukur</td>\n",
       "      <td>Phc</td>\n",
       "      <td>PHC_CENTER</td>\n",
       "    </tr>\n",
       "  </tbody>\n",
       "</table>\n",
       "</div>"
      ],
      "text/plain": [
       "        Country name_of_facility_visited       clean_name clean_name_final  \\\n",
       "219141  NIGERIA               HC KQMANZO       Hc Kqmanzo          Kqmanzo   \n",
       "162326  NIGERIA              Lawan Barma      Lawan Barma      Lawan Barma   \n",
       "36127     GHANA           Tatindo clinic   Tatindo Clinic          Tatindo   \n",
       "24380      CHAD                 Doba ACT         Doba Act         Doba Act   \n",
       "193894  NIGERIA          PHC TUKUR TUKUR  Phc Tukur Tukur      Tukur Tukur   \n",
       "\n",
       "       extract_type type_of_facility_visited  \n",
       "219141           Hc               PHC_CENTER  \n",
       "162326          NaN       PATENT_MED_VENDORS  \n",
       "36127        Clinic         PRIVATE_FACILITY  \n",
       "24380           NaN   OTHER_NON_ORTHORDOX_HC  \n",
       "193894          Phc               PHC_CENTER  "
      ]
     },
     "execution_count": 87,
     "metadata": {},
     "output_type": "execute_result"
    }
   ],
   "source": [
    "# randomly sample rows to examine results\n",
    "cols = ['Country', 'name_of_facility_visited', 'clean_name', \n",
    "        'clean_name_final', 'extract_type', 'type_of_facility_visited']\n",
    "res[cols].sample(5)"
   ]
  },
  {
   "cell_type": "code",
   "execution_count": 88,
   "metadata": {},
   "outputs": [
    {
     "name": "stdout",
     "output_type": "stream",
     "text": [
      "Percentage of NA in extract type column: 16.2\n",
      "Number of NA values in extract type column: 49547\n"
     ]
    }
   ],
   "source": [
    "print(\"Percentage of NA in extract type column:\",\n",
    "     round(res['extract_type'].isna().sum()/res.shape[0]*100,1))\n",
    "print(\"Number of NA values in extract type column:\", res[pd.isna(res['extract_type'])].shape[0])"
   ]
  },
  {
   "cell_type": "markdown",
   "metadata": {},
   "source": [
    "# `sub_type`\n",
    "\n",
    "Use `extract_type` to map the type information extracted from the name column to one of the types in the type dictionary."
   ]
  },
  {
   "cell_type": "code",
   "execution_count": 89,
   "metadata": {},
   "outputs": [],
   "source": [
    "df_grouped = res.groupby('Country')\n",
    "res_sub_type = pd.DataFrame()\n",
    "for country_name in res['Country'].unique():\n",
    "    df_group = res[res['Country']==country_name]\n",
    "    # obtain facility types and abbreviations for that country\n",
    "    tmp = type_dict[type_dict['Country'].str.upper()==country_name]\n",
    "    types = tmp['Type']\n",
    "    abbrevs = tmp['Abbreviation']\n",
    "    sub_types = []\n",
    "    scores = []\n",
    "    \n",
    "    for idx, row in df_group.iterrows():\n",
    "        # if extract_type is NA, just append NA\n",
    "        if not isinstance(row['extract_type'],str):\n",
    "            sub_types.append(np.nan)\n",
    "            scores.append(np.nan)\n",
    "        \n",
    "        # find best match\n",
    "        else:\n",
    "            match, score = process.extractOne(row['extract_type'], list(types)+list(abbrevs), \n",
    "                                           scorer = fuzz.ratio)\n",
    "            scores.append(score)\n",
    "            # if best match is abbreviation, map it to the corresponding type\n",
    "            if match in list(abbrevs):\n",
    "                sub_type = tmp[tmp['Abbreviation']==match]['Type'].iloc[0]\n",
    "                sub_types.append(sub_type)\n",
    "            else:\n",
    "                sub_types.append(match) \n",
    "    df_group['sub_type'] = sub_types\n",
    "    df_group['score'] = scores\n",
    "    res_sub_type = pd.concat([res_sub_type, df_group])"
   ]
  },
  {
   "cell_type": "code",
   "execution_count": 90,
   "metadata": {},
   "outputs": [
    {
     "data": {
      "text/plain": [
       "(305182, 48)"
      ]
     },
     "execution_count": 90,
     "metadata": {},
     "output_type": "execute_result"
    }
   ],
   "source": [
    "res_sub_type.shape"
   ]
  },
  {
   "cell_type": "code",
   "execution_count": 91,
   "metadata": {},
   "outputs": [],
   "source": [
    "# replace empty string with NA\n",
    "res_sub_type['clean_name_final'].replace('', np.nan, inplace=True)"
   ]
  },
  {
   "cell_type": "code",
   "execution_count": 92,
   "metadata": {},
   "outputs": [
    {
     "data": {
      "text/plain": [
       "count    255635.000000\n",
       "mean         97.124603\n",
       "std           9.920280\n",
       "min          29.000000\n",
       "25%         100.000000\n",
       "50%         100.000000\n",
       "75%         100.000000\n",
       "max         100.000000\n",
       "Name: score, dtype: float64"
      ]
     },
     "execution_count": 92,
     "metadata": {},
     "output_type": "execute_result"
    }
   ],
   "source": [
    "res_sub_type['score'].describe()"
   ]
  },
  {
   "cell_type": "code",
   "execution_count": 93,
   "metadata": {},
   "outputs": [
    {
     "data": {
      "text/html": [
       "<div>\n",
       "<style scoped>\n",
       "    .dataframe tbody tr th:only-of-type {\n",
       "        vertical-align: middle;\n",
       "    }\n",
       "\n",
       "    .dataframe tbody tr th {\n",
       "        vertical-align: top;\n",
       "    }\n",
       "\n",
       "    .dataframe thead th {\n",
       "        text-align: right;\n",
       "    }\n",
       "</style>\n",
       "<table border=\"1\" class=\"dataframe\">\n",
       "  <thead>\n",
       "    <tr style=\"text-align: right;\">\n",
       "      <th></th>\n",
       "      <th>Country</th>\n",
       "      <th>name_of_facility_visited</th>\n",
       "      <th>clean_name_final</th>\n",
       "      <th>extract_type</th>\n",
       "      <th>sub_type</th>\n",
       "      <th>score</th>\n",
       "      <th>type_of_facility_visited</th>\n",
       "    </tr>\n",
       "  </thead>\n",
       "  <tbody>\n",
       "    <tr>\n",
       "      <th>255531</th>\n",
       "      <td>NIGERIA</td>\n",
       "      <td>Doro PHC</td>\n",
       "      <td>Doro</td>\n",
       "      <td>Phc</td>\n",
       "      <td>Primary Health Centre</td>\n",
       "      <td>100.0</td>\n",
       "      <td>PHC_CENTER</td>\n",
       "    </tr>\n",
       "    <tr>\n",
       "      <th>287319</th>\n",
       "      <td>SIERRA LEONE</td>\n",
       "      <td>MI Room Murray town CHP</td>\n",
       "      <td>Mi Room Murray Town</td>\n",
       "      <td>Chp</td>\n",
       "      <td>Community Health Post</td>\n",
       "      <td>100.0</td>\n",
       "      <td>PHC_CENTER</td>\n",
       "    </tr>\n",
       "    <tr>\n",
       "      <th>232703</th>\n",
       "      <td>NIGERIA</td>\n",
       "      <td>OTHER</td>\n",
       "      <td>Other</td>\n",
       "      <td>NaN</td>\n",
       "      <td>NaN</td>\n",
       "      <td>NaN</td>\n",
       "      <td>PHC_CENTER</td>\n",
       "    </tr>\n",
       "    <tr>\n",
       "      <th>40034</th>\n",
       "      <td>KENYA</td>\n",
       "      <td>EAST LAIKIPIA DISPENSARY</td>\n",
       "      <td>East Laikipia</td>\n",
       "      <td>Dispensary</td>\n",
       "      <td>Dispensary</td>\n",
       "      <td>100.0</td>\n",
       "      <td>DISPENSARY</td>\n",
       "    </tr>\n",
       "    <tr>\n",
       "      <th>6793</th>\n",
       "      <td>CAMEROON</td>\n",
       "      <td>Hopital Mada</td>\n",
       "      <td>Mada</td>\n",
       "      <td>Hospital</td>\n",
       "      <td>Hospital</td>\n",
       "      <td>100.0</td>\n",
       "      <td>DISTRICT_HOSP</td>\n",
       "    </tr>\n",
       "  </tbody>\n",
       "</table>\n",
       "</div>"
      ],
      "text/plain": [
       "             Country  name_of_facility_visited     clean_name_final  \\\n",
       "255531       NIGERIA                  Doro PHC                 Doro   \n",
       "287319  SIERRA LEONE   MI Room Murray town CHP  Mi Room Murray Town   \n",
       "232703       NIGERIA                     OTHER                Other   \n",
       "40034          KENYA  EAST LAIKIPIA DISPENSARY        East Laikipia   \n",
       "6793        CAMEROON              Hopital Mada                 Mada   \n",
       "\n",
       "       extract_type               sub_type  score type_of_facility_visited  \n",
       "255531          Phc  Primary Health Centre  100.0               PHC_CENTER  \n",
       "287319          Chp  Community Health Post  100.0               PHC_CENTER  \n",
       "232703          NaN                    NaN    NaN               PHC_CENTER  \n",
       "40034    Dispensary             Dispensary  100.0               DISPENSARY  \n",
       "6793       Hospital               Hospital  100.0            DISTRICT_HOSP  "
      ]
     },
     "execution_count": 93,
     "metadata": {},
     "output_type": "execute_result"
    }
   ],
   "source": [
    "# randomly sample rows to examine results\n",
    "cols = ['Country', 'name_of_facility_visited',\n",
    "        'clean_name_final', 'extract_type', 'sub_type', 'score', 'type_of_facility_visited']\n",
    "res_sub_type[cols].sample(5)"
   ]
  },
  {
   "cell_type": "code",
   "execution_count": 94,
   "metadata": {},
   "outputs": [],
   "source": [
    "# randomly sample 20 rows for each country for inspection\n",
    "df_grouped = res_sub_type.groupby('Country')\n",
    "p = pd.DataFrame()\n",
    "cols = ['Country', 'name_of_facility_visited', 'clean_name', 'clean_name_final', \n",
    "        'extract_type', 'sub_type', 'type_of_facility_visited']\n",
    "for group_name, df_group in df_grouped:\n",
    "    df_tmp = df_group[cols].sample(20)\n",
    "    p = pd.concat([p, df_tmp])"
   ]
  },
  {
   "cell_type": "code",
   "execution_count": 95,
   "metadata": {},
   "outputs": [],
   "source": [
    "p.to_csv(saveDir+\"//clean_names_types_sampled_1109.csv\", index=False)"
   ]
  },
  {
   "cell_type": "code",
   "execution_count": 96,
   "metadata": {},
   "outputs": [],
   "source": [
    "# export results\n",
    "cols= ['index', 'Country', 'clean_name', 'clean_name_final',\n",
    "       'extract_type', 'sub_type']\n",
    "res_sub_type[cols].to_csv(saveDir+\"//clean_names_types_1109.csv\", index=False)"
   ]
  }
 ],
 "metadata": {
  "kernelspec": {
   "display_name": "Python 3",
   "language": "python",
   "name": "python3"
  },
  "language_info": {
   "codemirror_mode": {
    "name": "ipython",
    "version": 3
   },
   "file_extension": ".py",
   "mimetype": "text/x-python",
   "name": "python",
   "nbconvert_exporter": "python",
   "pygments_lexer": "ipython3",
   "version": "3.7.6"
  }
 },
 "nbformat": 4,
 "nbformat_minor": 4
}
