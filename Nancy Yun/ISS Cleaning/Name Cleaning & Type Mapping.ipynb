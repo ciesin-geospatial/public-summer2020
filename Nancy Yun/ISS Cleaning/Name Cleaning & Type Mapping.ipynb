{
 "cells": [
  {
   "cell_type": "code",
   "execution_count": 145,
   "metadata": {},
   "outputs": [],
   "source": [
    "import numpy as np\n",
    "import pandas as pd\n",
    "import geopandas as gpd\n",
    "import fiona\n",
    "import os\n",
    "import unidecode\n",
    "from fuzzywuzzy import fuzz\n",
    "from fuzzywuzzy import process"
   ]
  },
  {
   "cell_type": "code",
   "execution_count": 146,
   "metadata": {},
   "outputs": [],
   "source": [
    "pd.set_option('display.max_columns', None)\n",
    "pd.set_option('display.max_rows', None)\n",
    "pd.set_option('mode.chained_assignment', None)"
   ]
  },
  {
   "cell_type": "markdown",
   "metadata": {},
   "source": [
    "## Create the type dictionary"
   ]
  },
  {
   "cell_type": "markdown",
   "metadata": {},
   "source": [
    "### Use HDX_WHO data"
   ]
  },
  {
   "cell_type": "code",
   "execution_count": 261,
   "metadata": {},
   "outputs": [],
   "source": [
    "# data import\n",
    "dataDir = r\"C:\\Users\\DUANYUEYUN\\Documents\\GRID3\\Health facilities\\Data\\Africa\\Sub-Saharan_health_facilities\"\n",
    "folder = \"Sub-Saharan_health_facilities.gdb\"\n",
    "path = os.path.join(dataDir, folder)\n",
    "\n",
    "df_who = gpd.read_file(path, driver='FileGDB', \n",
    "                       layer='HDX_WHO_sub_saharan_health_facilities')\n",
    "df_iss = gpd.read_file(path, driver='FileGDB', \n",
    "                       layer='ISS_sub_saharan')\n",
    "df_iss.reset_index(inplace=True)"
   ]
  },
  {
   "cell_type": "code",
   "execution_count": 262,
   "metadata": {},
   "outputs": [],
   "source": [
    "# obtain unique facility types for each country and the corresponding count\n",
    "type_dict = pd.DataFrame({'count':df_who.groupby(['Country', 'Facility_t']).size()})\n",
    "type_dict.reset_index(inplace=True)\n",
    "# rename columns\n",
    "type_dict.rename(columns={\"Facility_t\":'Type'}, inplace=True)"
   ]
  },
  {
   "cell_type": "code",
   "execution_count": 263,
   "metadata": {},
   "outputs": [],
   "source": [
    "# correct inconsistent spelling in the `Type` column\n",
    "type_corr_dict = {\"Unites de Santé de village\":\"Unites de Santé de Village\",\n",
    "                 \"Centre Médico-social\":\"Centre Médico-Social\",\n",
    "                 \"Poste de santé\":\"Poste de Santé\",\n",
    "                 \"Regional hospital\":\"Hôpital de Regional\",\n",
    "                 \"Poste De Santé\":\"Poste de Santé\",\n",
    "                 \"Hospital Medical Center\":\"Hospital Medical Centre\",\n",
    "                 \"Health post\":\"Health Post\", \n",
    "                  \"DISPENSARY\":\"Dispensary\",\n",
    "                 \"Natonal Hospital\":\"National Hospital\",\n",
    "                 \"Level 1 Hospital\":\"Level I Hospital\",\n",
    "                 \"Level 2 Hospital\":\"Level II Hospital\",\n",
    "                 \"Level 3 Hospital\":\"Level III Hospital\",\n",
    "                 \"Primary Health Care Unit +\":\"Primary Health Care Unit Plus\",\n",
    "                 \"General Hospital Hospital\":\"General Hospital\"}\n",
    "type_dict['Type'] = [type_corr_dict[t] if t in type_corr_dict.keys() else t for\\\n",
    "                     t in type_dict['Type']]"
   ]
  },
  {
   "cell_type": "code",
   "execution_count": 264,
   "metadata": {},
   "outputs": [],
   "source": [
    "# remove accent marks\n",
    "type_dict['Type'] = [unidecode.unidecode(t) for t in type_dict['Type']]"
   ]
  },
  {
   "cell_type": "code",
   "execution_count": 265,
   "metadata": {},
   "outputs": [],
   "source": [
    "# make spelling of the same word consistent\n",
    "type_dict['Type'] = type_dict['Type']\\\n",
    ".str.replace('Center', 'Centre')\\\n",
    ".str.replace('Clinique', 'Clinic')\\\n",
    ".str.replace('Polyclinique', 'Polyclinic')\\\n",
    ".str.replace('Geral', 'General')\\\n",
    ".str.replace('Dispensaire', 'Dispensary')\\\n",
    ".str.replace('Hopital', 'Hospital')\\\n",
    ".str.replace('Hospitais', 'Hospital')\\\n",
    ".str.strip()\n"
   ]
  },
  {
   "cell_type": "code",
   "execution_count": 266,
   "metadata": {},
   "outputs": [],
   "source": [
    "# obtain the abbreviation by extracting uppercase letters only\n",
    "type_dict['Abbreviation'] = type_dict['Type'].str.replace(r'([^A-Z])', '')"
   ]
  },
  {
   "cell_type": "code",
   "execution_count": 267,
   "metadata": {},
   "outputs": [],
   "source": [
    "# correct single letter abbreviations\n",
    "convert_dict = {'Hospital':'HOSP', 'Clinic':'CLINIC',  \n",
    "                \"Polyclinic\":\"PCLINIC\", \"Dispensary\":\"DISP\"}\n",
    "abv = []\n",
    "for idx, row in type_dict.iterrows():\n",
    "    if row['Type'] in convert_dict.keys():\n",
    "        abv.append(convert_dict[row['Type']])\n",
    "    else:\n",
    "        abv.append(row['Abbreviation'])\n",
    "type_dict['Abbreviation'] = abv  "
   ]
  },
  {
   "cell_type": "code",
   "execution_count": 268,
   "metadata": {},
   "outputs": [],
   "source": [
    "# rearrange the columns\n",
    "type_dict=type_dict[['Country', 'Type', 'Abbreviation', 'count']]"
   ]
  },
  {
   "cell_type": "code",
   "execution_count": 269,
   "metadata": {},
   "outputs": [],
   "source": [
    "# correct duplicate abbreviations\n",
    "convert_dict = {\"eSwatini\":{\"Clinic with Maternity\":\"CWM\", \"Clinic without Maternity\":\"CWOM\",\n",
    "                           \"Referral Hospital\":\"RFH\", \"Regional Hospital\":\"RGH\"},\n",
    "                \"Somalia\":{\"Referral Hospital\":\"RFH\", \"Regional Hospital\":\"RGH\"},\n",
    "                \"Malawi\":{\"Central Hospital\":\"CEH\", \"Community Hospital\":\"COH\"},\n",
    "                \"Gambia\":{\"Health Centre (major)\":\"HCMA\", \"Health Centre (minor)\":\"HCMI\"},\n",
    "                \"Gabon\":{\"Hospital Cooperation\":\"HOSPC\"},\n",
    "                \"Cameroon\":{\"Hospital Centraux\":\"HOSPC\"},\n",
    "                # corrections made based on examining ISS data\n",
    "                \"Uganda\": {\"Health Centre II\": \"HC II\", \"Health Centre III\":\"HC III\",\n",
    "                           \"Health Centre IV\":\"HC IV\"},\n",
    "                \"Mali\": {\"Community Health Centre\":\"CSCOM\", \n",
    "                         \"Referral Health Centre\":\"CSREF\"},\n",
    "                \"Niger\":{\"Integrated Health Centre\":\"CSI\"}\n",
    "               }\n",
    "abv = []\n",
    "for idx, row in type_dict.iterrows():\n",
    "    if row['Country'] in convert_dict.keys() and\\\n",
    "    row['Type'] in convert_dict[row['Country']].keys():\n",
    "        abv.append(convert_dict[row['Country']][row['Type']])\n",
    "    else:\n",
    "        abv.append(row['Abbreviation'])\n",
    "type_dict['Abbreviation'] = abv "
   ]
  },
  {
   "cell_type": "code",
   "execution_count": 270,
   "metadata": {},
   "outputs": [],
   "source": [
    "type_dict = type_dict.groupby(['Country', 'Type', 'Abbreviation']).agg(count=('count', 'sum'))\n",
    "type_dict.reset_index(inplace=True)"
   ]
  },
  {
   "cell_type": "markdown",
   "metadata": {},
   "source": [
    "### Identify additional prefix/suffix from ISS data"
   ]
  },
  {
   "cell_type": "code",
   "execution_count": 272,
   "metadata": {},
   "outputs": [],
   "source": [
    "# re-encode country to match that in HDX_who data \n",
    "ctr_dict = {\"CENTRAL_AFRICAN_REPUBLIC\":'CENTRAL AFRICAN REPUBLIC',\n",
    "            \"GUINEA-BISSAU\": 'GUINEA BISSAU',\n",
    "            \"RÉPUBLIQUE DÉMOCRATIQUE DU CONGO\":'DEMOCRATIC REPUBLIC OF THE CONGO',\n",
    "            \"SIERRA\":'SIERRA LEONE', 'SWAZILAND':'ESWATINI'}\n",
    "\n",
    "df_iss['Country'] = [ctr_dict[c] if c in ctr_dict.keys() else c for c in df_iss['countries']]"
   ]
  },
  {
   "cell_type": "code",
   "execution_count": 273,
   "metadata": {},
   "outputs": [],
   "source": [
    "# ensure every country in ISS is covered by HDX_who data \n",
    "iss_c = df_iss['Country'].unique()\n",
    "who_c = df_who['Country'].unique()\n",
    "who_c = [c.upper() for c in who_c]\n",
    "for c in iss_c:\n",
    "    if c not in who_c:\n",
    "        print(c)"
   ]
  },
  {
   "cell_type": "markdown",
   "metadata": {},
   "source": [
    "Criteria to select prefix/suffix\n",
    "\n",
    "- length of name after splitting on whitespace is larger than 1\n",
    "- the prefix/suffix \n",
    "    - has length between 2 and 4 (inclusive)\n",
    "    - contains only alphabets\n",
    "    - is not DR nor ST\n",
    "    - does not contain vowels\n",
    "    - count of appearances is larger than 100"
   ]
  },
  {
   "cell_type": "markdown",
   "metadata": {},
   "source": [
    "Pre-cleaning on `name_of_facility_visited`."
   ]
  },
  {
   "cell_type": "code",
   "execution_count": 274,
   "metadata": {},
   "outputs": [],
   "source": [
    "df_iss['clean_name'] = df_iss['name_of_facility_visited'].str.replace(\"  \", \" \")\\\n",
    "        .str.replace('.', '')\\\n",
    "        .str.replace('\\s[-_,/\\(\\)]\\s|[-_,/\\(\\)]\\s|[-_,/\\(\\)]', ' ')\\\n",
    "        .str.strip()\\\n",
    "        .str.replace('center', 'centre', case=False)\\\n",
    "    .str.replace('Clinique', 'Clinic', case=False)\\\n",
    "    .str.replace('Polyclinique', 'Polyclinic', case=False)\\\n",
    "    .str.replace('Geral', 'General', case=False)\\\n",
    "    .str.replace('Dispensaire', 'Dispensary', case=False)\\\n",
    "    .str.replace('Hôpital', 'Hospital', case=False)\\\n",
    "    .str.replace('Hopital', 'Hospital', case=False)\\\n",
    "    .str.replace('Hospitais', 'Hospital', case=False)\\\n",
    "    .str.replace(' Hosp ', ' Hospital ', case=False)\n",
    "\n",
    "# remove accent marks\n",
    "df_iss['clean_name'] = [unidecode.unidecode(n) for n in df_iss['clean_name']]"
   ]
  },
  {
   "cell_type": "code",
   "execution_count": 275,
   "metadata": {},
   "outputs": [],
   "source": [
    "# split clean name by whitespace\n",
    "tmp = df_iss['clean_name'].str.split()"
   ]
  },
  {
   "cell_type": "code",
   "execution_count": 276,
   "metadata": {},
   "outputs": [],
   "source": [
    "# prefix\n",
    "vowels = set('AEIOU')\n",
    "df_iss['prefix'] = [t[0].upper() if len(t)>=2 and len(t[0])>1 and len(t[0])<5 and t[0].isalpha()\\\n",
    "                    and t[0].upper() != 'ST' and t[0].upper() != 'DR' and \\\n",
    "                    vowels.isdisjoint(t[0].upper())\\\n",
    "                    else np.nan for t in tmp]"
   ]
  },
  {
   "cell_type": "code",
   "execution_count": 277,
   "metadata": {},
   "outputs": [],
   "source": [
    "# count how many times that prefix appears\n",
    "prefix_dict = df_iss.groupby(['Country','prefix'])\\\n",
    "                   .agg(count = ('name_of_facility_visited', 'count'))\\\n",
    "                    .sort_values(['Country', 'count'], ascending=[True, False])\n",
    "# keep only prefixes that appear more than 100 times\n",
    "prefix_dict = prefix_dict[prefix_dict['count']>100]\n",
    "prefix_dict.reset_index(inplace=True)"
   ]
  },
  {
   "cell_type": "code",
   "execution_count": 278,
   "metadata": {},
   "outputs": [],
   "source": [
    "# suffix\n",
    "vowels = set('AEIOU')\n",
    "df_iss['suffix'] = [t[-1].upper() if len(t)>=2 and len(t[-1])>1 and len(t[-1])<5 and t[-1].isalpha()\\\n",
    "                    and t[-1].upper() != 'ST' and t[-1].upper() != 'DR' and \\\n",
    "                    vowels.isdisjoint(t[-1].upper())\\\n",
    "                    else np.nan for t in tmp]"
   ]
  },
  {
   "cell_type": "code",
   "execution_count": 279,
   "metadata": {},
   "outputs": [],
   "source": [
    "# count how many times that suffix appears\n",
    "suffix_dict = df_iss.groupby(['Country','suffix'])\\\n",
    "                   .agg(count = ('name_of_facility_visited', 'count'))\\\n",
    "                    .sort_values(['Country', 'count'], ascending=[True, False])\n",
    "# keep only suffixes that appear more than 100 times\n",
    "suffix_dict = suffix_dict[suffix_dict['count']>100]\n",
    "suffix_dict.reset_index(inplace=True)"
   ]
  },
  {
   "cell_type": "code",
   "execution_count": 280,
   "metadata": {},
   "outputs": [],
   "source": [
    "# Build a dictionary of potentially additional abbreviations\n",
    "add_abbrev = {}\n",
    "for idx, row in prefix_dict.iterrows():\n",
    "    # initialize a set if the country is not yet in the dictionary\n",
    "    if row['Country'] not in add_abbrev.keys():\n",
    "        add_abbrev[row['Country']] = set([row['prefix']])\n",
    "    # otherwise add that prefix to the set\n",
    "    else:\n",
    "        add_abbrev[row['Country']].add(row['prefix'])\n",
    "for idx, row in suffix_dict.iterrows():\n",
    "    # initialize a set if the country is not yet in the dictionary\n",
    "    if row['Country'] not in add_abbrev.keys():\n",
    "        add_abbrev[row['Country']] = set([row['suffix']])\n",
    "    # otherwise add that prefix to the set\n",
    "    else:\n",
    "        add_abbrev[row['Country']].add(row['suffix']) "
   ]
  },
  {
   "cell_type": "code",
   "execution_count": 281,
   "metadata": {},
   "outputs": [
    {
     "name": "stdout",
     "output_type": "stream",
     "text": [
      "New abbreviations added to the type dictionary:\n",
      "BENIN {'CS'}\n",
      "BURUNDI {'CDS'}\n",
      "CAMEROON {'CS'}\n",
      "CHAD {'CS'}\n",
      "GUINEA {'CS'}\n",
      "GUINEA BISSAU {'CS'}\n",
      "MOZAMBIQUE {'CS'}\n",
      "NIGERIA {'PHCC', 'MDGS', 'NKST', 'MCH', 'HF', 'WCWC', 'CPHC', 'MCHC', 'FSP', 'PMV', 'PMS', 'TH', 'MDG'}\n"
     ]
    }
   ],
   "source": [
    "# Build a dictionary of additional abbreviations identified from ISS data\n",
    "new = {}\n",
    "for group_name in df_iss['Country'].unique():\n",
    "    \n",
    "    tmp = type_dict[type_dict['Country'].str.upper()==group_name]\n",
    "    abbrevs = set(tmp['Abbreviation'])\n",
    "    \n",
    "    if group_name in add_abbrev.keys():\n",
    "        add_prefix = add_abbrev[group_name]\n",
    "        for p in add_prefix:\n",
    "            if p not in abbrevs and group_name not in new.keys():\n",
    "                new[group_name] = set([p])            \n",
    "            if p not in abbrevs and group_name in new.keys():\n",
    "                new[group_name].add(p)\n",
    "print(\"New abbreviations added to the type dictionary:\")\n",
    "for ctr in new:\n",
    "    print(ctr, new[ctr])"
   ]
  },
  {
   "cell_type": "code",
   "execution_count": 282,
   "metadata": {},
   "outputs": [],
   "source": [
    "# Add the abbreviations to the type dictionary\n",
    "additions = pd.DataFrame([['Benin', 'Centre de Sante', 'CS', np.nan],\n",
    "                         ['Burundi', 'Centre de Sante', 'CDS', np.nan],\n",
    "                         ['Cameroon', 'Centre de Sante', 'CS', np.nan],\n",
    "                         ['Chad', 'Centre de Sante', 'CS', np.nan],\n",
    "                         ['Guinea', 'Centre de Sante', 'CS', np.nan],\n",
    "                         ['Guinea Bissau', 'Centre de Sante', 'CS', np.nan],\n",
    "                         ['Guinea Bissau', 'Centro de Saude', 'CS2', np.nan],\n",
    "                         ['Mozambique', 'Centro de Saude', 'CS', np.nan],\n",
    "                         ['Nigeria', 'Traditional Spirit Healer', 'TH', np.nan],\n",
    "                         ['Nigeria', 'Maternal and Child Health', 'MCH', np.nan],\n",
    "                         ['Nigeria', 'Health Facility', 'HF', np.nan],\n",
    "                         ['Nigeria', 'Family Support Program', 'FSP', np.nan],\n",
    "                         ['Nigeria', 'Millennium Development Goal', 'MDG', np.nan],                                                  \n",
    "                         ['Nigeria', 'Maternal and Child Health Centre', 'MCHC', np.nan],\n",
    "                         ['Nigeria', 'Comprehensive Primary Health Care', 'CPHC', np.nan],                                                                           \n",
    "                         ['Nigeria', 'Primary Health Care Centre', 'PHCC', np.nan],\n",
    "                         ['Nigeria', 'Patent Medicine Vendor', 'PMV', np.nan],\n",
    "                         ['Nigeria', 'Patent Medicine Store', 'PMS', np.nan],\n",
    "                          # obtained by examining the ISS data\n",
    "                         ['Central African Republic', 'Hospital District', 'HD', np.nan],\n",
    "                         ['Liberia', 'General Hospital', 'CH', np.nan],\n",
    "                         ['Guinea', 'Centre de Sante Urban', 'CSU', np.nan],\n",
    "                         ['Guinea', 'Centre de Sante Rural', 'CSR', np.nan]],                                                                      \n",
    "                         columns=['Country', 'Type', 'Abbreviation', 'count'])\n",
    "\n",
    "type_dict = type_dict.append(additions)"
   ]
  },
  {
   "cell_type": "code",
   "execution_count": 284,
   "metadata": {},
   "outputs": [],
   "source": [
    "type_dict.sort_values(by=['Country', 'Type'], inplace=True)"
   ]
  },
  {
   "cell_type": "code",
   "execution_count": 285,
   "metadata": {},
   "outputs": [
    {
     "data": {
      "text/html": [
       "<div>\n",
       "<style scoped>\n",
       "    .dataframe tbody tr th:only-of-type {\n",
       "        vertical-align: middle;\n",
       "    }\n",
       "\n",
       "    .dataframe tbody tr th {\n",
       "        vertical-align: top;\n",
       "    }\n",
       "\n",
       "    .dataframe thead th {\n",
       "        text-align: right;\n",
       "    }\n",
       "</style>\n",
       "<table border=\"1\" class=\"dataframe\">\n",
       "  <thead>\n",
       "    <tr style=\"text-align: right;\">\n",
       "      <th></th>\n",
       "      <th>unique_type</th>\n",
       "      <th>unique_abbrev</th>\n",
       "    </tr>\n",
       "    <tr>\n",
       "      <th>Country</th>\n",
       "      <th></th>\n",
       "      <th></th>\n",
       "    </tr>\n",
       "  </thead>\n",
       "  <tbody>\n",
       "  </tbody>\n",
       "</table>\n",
       "</div>"
      ],
      "text/plain": [
       "Empty DataFrame\n",
       "Columns: [unique_type, unique_abbrev]\n",
       "Index: []"
      ]
     },
     "execution_count": 285,
     "metadata": {},
     "output_type": "execute_result"
    }
   ],
   "source": [
    "# Check for each country, every facility type has a unique abbreviation\n",
    "tmp = type_dict.groupby('Country').agg(unique_type = ('Type', 'nunique'),\n",
    "                                unique_abbrev = ('Abbreviation', 'nunique'))\n",
    "tmp[tmp['unique_type']!=tmp['unique_abbrev']]"
   ]
  },
  {
   "cell_type": "code",
   "execution_count": 286,
   "metadata": {},
   "outputs": [],
   "source": [
    "# export results\n",
    "saveDir = r\"C:\\Users\\DUANYUEYUN\\Documents\\GRID3\\Health facilities\\Data\\Africa\\Cleaned\"\n",
    "filename=\"type_dict_1028.csv\"\n",
    "path = os.path.join(saveDir, filename)\n",
    "type_dict.to_csv(path, index=False)"
   ]
  },
  {
   "cell_type": "markdown",
   "metadata": {},
   "source": [
    "## ISS Cleaning"
   ]
  },
  {
   "cell_type": "markdown",
   "metadata": {},
   "source": [
    "### clean_name_final\n",
    "\n",
    "Use facility type and abbreviations in the type dictionary as keywords and remove type information from `clean_name` to create the `clean_name_final` column."
   ]
  },
  {
   "cell_type": "markdown",
   "metadata": {},
   "source": [
    "Sometimes there is a whitespace between abbreviation, e.g. C S. Corrections are made accordingly."
   ]
  },
  {
   "cell_type": "code",
   "execution_count": 287,
   "metadata": {},
   "outputs": [],
   "source": [
    "# obtain abbreviations of length 2\n",
    "tmp = type_dict[type_dict['Abbreviation'].str.len()==2]['Abbreviation'].unique()\n",
    "# change it to the pattern '^c s ' or 'c s$'\n",
    "tmp_dict = {}\n",
    "for t in tmp:\n",
    "    tmp_dict[t] = ['^'+' '.join(list(t))+' ', ' '+' '.join(list(t))+'$']\n",
    "# replace the pattern with 'cs'\n",
    "for t in tmp:\n",
    "    pats = tmp_dict[t]\n",
    "    df_iss['clean_name'] = df_iss['clean_name'].str.replace(pats[0], t+' ',case=False)\\\n",
    "    .str.replace(pats[1], ' '+t,case=False)"
   ]
  },
  {
   "cell_type": "markdown",
   "metadata": {},
   "source": [
    "Remove type information."
   ]
  },
  {
   "cell_type": "code",
   "execution_count": 288,
   "metadata": {},
   "outputs": [],
   "source": [
    "df_grouped = df_iss.groupby('Country')\n",
    "res = pd.DataFrame()\n",
    "type_keywords_dict = {}\n",
    "abb_keywords_dict = {}\n",
    "\n",
    "for group_name, df_group in df_grouped:\n",
    "    # obtain the type dictionary for that country\n",
    "    tmp = type_dict[type_dict['Country'].str.upper()==group_name]\n",
    "    \n",
    "    # facility types for that country\n",
    "    types = list(tmp['Type'])\n",
    "    type_keywords = set()\n",
    "    for t in types:\n",
    "        # add the facility type as it is and also the unidecoded version\n",
    "        type_keywords.add(t)                 \n",
    "\n",
    "        # add individual words as well\n",
    "        t = t.replace('/', ' ')\n",
    "        words = t.split(' ')\n",
    "        # skip words that have punctuation and have length <= 3 (e.g. de, (major))\n",
    "        words = [w for w in words if w.isalpha() and len(w)>3]\n",
    "        for w in words:\n",
    "            type_keywords.add(w)\n",
    "\n",
    "    # obtain the list of type keywords and sort in descending length\n",
    "    type_keywords = list(type_keywords)\n",
    "    type_keywords = sorted(type_keywords, key=lambda s: -len(s))\n",
    "    type_keywords_dict[group_name] = type_keywords\n",
    "\n",
    "    # abbreviations for that country\n",
    "    abbrevs = set(tmp['Abbreviation'])\n",
    "        \n",
    "    abb_keywords = []\n",
    "    for abbrev in abbrevs:\n",
    "        # e.g. for CS, possible matches include facility names that start with, end with CS or \n",
    "        # contains the string ' CS ' in between\n",
    "        abb_keywords.extend(['^'+abbrev+'\\s', '\\s'+abbrev+'\\s', '\\s'+abbrev+'$',\n",
    "                            '^'+abbrev+'$'])\n",
    "        \n",
    "    # obtain the list of abbreviation keywords and sort in descending length\n",
    "    abb_keywords = sorted(abb_keywords, key=lambda s: -len(s))  \n",
    "    abb_keywords_dict[group_name] = abb_keywords\n",
    "    \n",
    "    # replace double whitespaces with a single space\n",
    "    df_group['clean_name_final'] = df_group['clean_name']\\\n",
    "        .str.replace('|'.join(type_keywords), '', case=False)\\\n",
    "        .str.replace('|'.join(abb_keywords), ' ', case=False)\\\n",
    "        .str.strip()\\\n",
    "        .str.replace('^de | de |^do | do |^da | da ', ' ', case=False)\\\n",
    "        .str.strip()\\\n",
    "        .str.replace(\"  \", \" \")\\\n",
    "        .str.title()\n",
    "    res = pd.concat([res, df_group])"
   ]
  },
  {
   "cell_type": "code",
   "execution_count": 289,
   "metadata": {},
   "outputs": [
    {
     "data": {
      "text/plain": [
       "(305182, 47)"
      ]
     },
     "execution_count": 289,
     "metadata": {},
     "output_type": "execute_result"
    }
   ],
   "source": [
    "res.shape"
   ]
  },
  {
   "cell_type": "markdown",
   "metadata": {},
   "source": [
    "### extract_type\n",
    "Extract facility type information"
   ]
  },
  {
   "cell_type": "code",
   "execution_count": 290,
   "metadata": {},
   "outputs": [],
   "source": [
    "extract_types = []\n",
    "\n",
    "for idx, row in res.iterrows():\n",
    "    clean_name = row['clean_name'].upper()\n",
    "    clean_name_final = row['clean_name_final'].upper()\n",
    "    \n",
    "    if clean_name.upper() == clean_name_final.upper():\n",
    "        extract_types.append(np.nan)\n",
    "    \n",
    "    else:\n",
    "        name_keywords = clean_name_final.split()\n",
    "        type_keywords = []\n",
    "        for w in clean_name.split():\n",
    "            if w not in name_keywords:\n",
    "                type_keywords.append(w)\n",
    "            \n",
    "        extract_type = ' '.join(type_keywords)\n",
    "        extract_types.append(extract_type)\n",
    "        \n",
    "res['extract_type'] = extract_types\n",
    "res['extract_type'] = res['extract_type'].str.strip()\\\n",
    ".str.replace('^de |^do |^da | de$| do$| da$', ' ', case=False)\\\n",
    ".str.strip()\\\n",
    ".str.replace('^de$|^do$|^da$', '', case=False)\\\n",
    ".str.replace(\"  \", \" \")\\\n",
    ".str.strip()\\\n",
    ".replace('',np.nan)"
   ]
  },
  {
   "cell_type": "code",
   "execution_count": 291,
   "metadata": {},
   "outputs": [
    {
     "name": "stdout",
     "output_type": "stream",
     "text": [
      "Percentage of NA in extract type column: 17.0\n"
     ]
    }
   ],
   "source": [
    "print(\"Percentage of NA in extract type column:\",\n",
    "     round(res['extract_type'].isna().sum()/res.shape[0],3)*100)"
   ]
  },
  {
   "cell_type": "markdown",
   "metadata": {},
   "source": [
    "Examine percentage of NA values in `extract_type` by country."
   ]
  },
  {
   "cell_type": "code",
   "execution_count": 292,
   "metadata": {},
   "outputs": [
    {
     "data": {
      "text/html": [
       "<div>\n",
       "<style scoped>\n",
       "    .dataframe tbody tr th:only-of-type {\n",
       "        vertical-align: middle;\n",
       "    }\n",
       "\n",
       "    .dataframe tbody tr th {\n",
       "        vertical-align: top;\n",
       "    }\n",
       "\n",
       "    .dataframe thead th {\n",
       "        text-align: right;\n",
       "    }\n",
       "</style>\n",
       "<table border=\"1\" class=\"dataframe\">\n",
       "  <thead>\n",
       "    <tr style=\"text-align: right;\">\n",
       "      <th></th>\n",
       "      <th>Country</th>\n",
       "      <th>#NA</th>\n",
       "      <th>N</th>\n",
       "      <th>pertcentage_NA</th>\n",
       "    </tr>\n",
       "  </thead>\n",
       "  <tbody>\n",
       "    <tr>\n",
       "      <th>0</th>\n",
       "      <td>MADAGASCAR</td>\n",
       "      <td>3648</td>\n",
       "      <td>3657</td>\n",
       "      <td>0.997539</td>\n",
       "    </tr>\n",
       "    <tr>\n",
       "      <th>3</th>\n",
       "      <td>MALAWI</td>\n",
       "      <td>1583</td>\n",
       "      <td>2152</td>\n",
       "      <td>0.735595</td>\n",
       "    </tr>\n",
       "    <tr>\n",
       "      <th>5</th>\n",
       "      <td>NIGER</td>\n",
       "      <td>1288</td>\n",
       "      <td>2010</td>\n",
       "      <td>0.640796</td>\n",
       "    </tr>\n",
       "    <tr>\n",
       "      <th>6</th>\n",
       "      <td>CHAD</td>\n",
       "      <td>5515</td>\n",
       "      <td>9900</td>\n",
       "      <td>0.557071</td>\n",
       "    </tr>\n",
       "    <tr>\n",
       "      <th>8</th>\n",
       "      <td>SOUTH SUDAN</td>\n",
       "      <td>2542</td>\n",
       "      <td>5279</td>\n",
       "      <td>0.481531</td>\n",
       "    </tr>\n",
       "    <tr>\n",
       "      <th>9</th>\n",
       "      <td>CENTRAL AFRICAN REPUBLIC</td>\n",
       "      <td>790</td>\n",
       "      <td>1729</td>\n",
       "      <td>0.456912</td>\n",
       "    </tr>\n",
       "    <tr>\n",
       "      <th>10</th>\n",
       "      <td>LIBERIA</td>\n",
       "      <td>1710</td>\n",
       "      <td>3877</td>\n",
       "      <td>0.441063</td>\n",
       "    </tr>\n",
       "    <tr>\n",
       "      <th>11</th>\n",
       "      <td>ETHIOPIA</td>\n",
       "      <td>1031</td>\n",
       "      <td>2414</td>\n",
       "      <td>0.427092</td>\n",
       "    </tr>\n",
       "    <tr>\n",
       "      <th>12</th>\n",
       "      <td>GABON</td>\n",
       "      <td>1451</td>\n",
       "      <td>3501</td>\n",
       "      <td>0.414453</td>\n",
       "    </tr>\n",
       "    <tr>\n",
       "      <th>14</th>\n",
       "      <td>GUINEA BISSAU</td>\n",
       "      <td>524</td>\n",
       "      <td>1393</td>\n",
       "      <td>0.376167</td>\n",
       "    </tr>\n",
       "  </tbody>\n",
       "</table>\n",
       "</div>"
      ],
      "text/plain": [
       "                     Country   #NA     N  pertcentage_NA\n",
       "0                 MADAGASCAR  3648  3657        0.997539\n",
       "3                     MALAWI  1583  2152        0.735595\n",
       "5                      NIGER  1288  2010        0.640796\n",
       "6                       CHAD  5515  9900        0.557071\n",
       "8                SOUTH SUDAN  2542  5279        0.481531\n",
       "9   CENTRAL AFRICAN REPUBLIC   790  1729        0.456912\n",
       "10                   LIBERIA  1710  3877        0.441063\n",
       "11                  ETHIOPIA  1031  2414        0.427092\n",
       "12                     GABON  1451  3501        0.414453\n",
       "14             GUINEA BISSAU   524  1393        0.376167"
      ]
     },
     "execution_count": 292,
     "metadata": {},
     "output_type": "execute_result"
    }
   ],
   "source": [
    "na_summ = pd.DataFrame()\n",
    "df_grouped = res.groupby('Country')\n",
    "for ctr, df_group in df_grouped:\n",
    "    nas = df_group['extract_type'].isna().sum()\n",
    "    n = df_group.shape[0]\n",
    "    tmp = pd.DataFrame([[ctr,nas,n]], columns=['Country','#NA','N'])\n",
    "    na_summ = pd.concat([na_summ, tmp])\n",
    "na_summ['pertcentage_NA'] = na_summ['#NA']/na_summ['N'] \n",
    "na_summ = na_summ.sort_values(['pertcentage_NA'], ascending=False)\n",
    "na_summ.reset_index(inplace=True,drop=True)\n",
    "na_summ[na_summ['N']>1000].iloc[:10,:]"
   ]
  },
  {
   "cell_type": "code",
   "execution_count": 299,
   "metadata": {},
   "outputs": [],
   "source": [
    "#type_dict[type_dict['Country'].str.upper()=='GUINEA']"
   ]
  },
  {
   "cell_type": "code",
   "execution_count": 300,
   "metadata": {},
   "outputs": [],
   "source": [
    "cols = ['Country', 'name_of_facility_visited', 'clean_name', \n",
    "        'clean_name_final', 'extract_type', 'type_of_facility_visited']\n",
    "#[(res['Country']=='MADAGASCAR')]\n",
    "#(res['clean_name'].str.contains('^CPHC', na=False))\n",
    "#res\\\n",
    "#[cols].sample(10)"
   ]
  },
  {
   "cell_type": "markdown",
   "metadata": {},
   "source": [
    "Observations after examining randomly sampled rows where `extract_type` is NA:\n",
    "\n",
    "type information not in `name_of_facility_visited`:\n",
    "- MADAGASCAR\n",
    "- MALAWI\n",
    "- NIGER\n",
    "- CHAD\n",
    "- SOUTH SUDAN\n",
    "- CENTRAL AFRICAN REPUBLIC\n",
    "- LIBERIA\n",
    "- ETHIOPIA (also, many names are OTHERS)\n",
    "- GUINEA BISSAU\t(some names have a prefix, but cannot infer the type) \n",
    "\n",
    "type information does not correspond to the type dictionary very well\n",
    "- GABON"
   ]
  },
  {
   "cell_type": "markdown",
   "metadata": {},
   "source": [
    "### sub_type"
   ]
  },
  {
   "cell_type": "code",
   "execution_count": 301,
   "metadata": {},
   "outputs": [],
   "source": [
    "df_grouped = res.groupby('Country')\n",
    "sub_types = []\n",
    "scores = []\n",
    "for group_name, df_group in df_grouped:\n",
    "    tmp = type_dict[type_dict['Country'].str.upper()==group_name]\n",
    "    types = tmp['Type']\n",
    "    abbrevs = tmp['Abbreviation']\n",
    "    isna = df_group['extract_type'].isna()\n",
    "    for idx, row in df_group.iterrows():\n",
    "        if isna.loc[idx]:\n",
    "            sub_types.append(np.nan)\n",
    "            scores.append(np.nan)\n",
    "        else:\n",
    "\n",
    "            match, score = process.extractOne(row['extract_type'], list(types)+list(abbrevs), \n",
    "                                           scorer = fuzz.ratio)\n",
    "            scores.append(score)\n",
    "            if match in list(abbrevs):\n",
    "                sub_type = tmp[tmp['Abbreviation']==match]['Type'].iloc[0]\n",
    "                sub_types.append(sub_type)\n",
    "            else:\n",
    "                sub_types.append(match) \n",
    "res['sub_type'] = sub_types\n",
    "res['score'] = scores"
   ]
  },
  {
   "cell_type": "code",
   "execution_count": 156,
   "metadata": {},
   "outputs": [],
   "source": [
    "#type_dict[type_dict['Country'].str.upper()=='SENEGAL']"
   ]
  },
  {
   "cell_type": "code",
   "execution_count": 302,
   "metadata": {},
   "outputs": [
    {
     "data": {
      "text/plain": [
       "count    253429.000000\n",
       "mean         97.178444\n",
       "std           9.254319\n",
       "min          33.000000\n",
       "25%         100.000000\n",
       "50%         100.000000\n",
       "75%         100.000000\n",
       "max         100.000000\n",
       "Name: score, dtype: float64"
      ]
     },
     "execution_count": 302,
     "metadata": {},
     "output_type": "execute_result"
    }
   ],
   "source": [
    "res['score'].describe()"
   ]
  },
  {
   "cell_type": "code",
   "execution_count": 303,
   "metadata": {},
   "outputs": [
    {
     "data": {
      "text/html": [
       "<div>\n",
       "<style scoped>\n",
       "    .dataframe tbody tr th:only-of-type {\n",
       "        vertical-align: middle;\n",
       "    }\n",
       "\n",
       "    .dataframe tbody tr th {\n",
       "        vertical-align: top;\n",
       "    }\n",
       "\n",
       "    .dataframe thead th {\n",
       "        text-align: right;\n",
       "    }\n",
       "</style>\n",
       "<table border=\"1\" class=\"dataframe\">\n",
       "  <thead>\n",
       "    <tr style=\"text-align: right;\">\n",
       "      <th></th>\n",
       "      <th>Country</th>\n",
       "      <th>name_of_facility_visited</th>\n",
       "      <th>clean_name_final</th>\n",
       "      <th>extract_type</th>\n",
       "      <th>sub_type</th>\n",
       "      <th>score</th>\n",
       "    </tr>\n",
       "  </thead>\n",
       "  <tbody>\n",
       "    <tr>\n",
       "      <th>134301</th>\n",
       "      <td>NIGERIA</td>\n",
       "      <td>Rano Dawaki Health clinic</td>\n",
       "      <td>Rano Dawaki</td>\n",
       "      <td>HEALTH CLINIC</td>\n",
       "      <td>Health Facility</td>\n",
       "      <td>71.0</td>\n",
       "    </tr>\n",
       "    <tr>\n",
       "      <th>88975</th>\n",
       "      <td>NIGERIA</td>\n",
       "      <td>Dakwak Memorial Medical Clinic</td>\n",
       "      <td>Dakwak Memorial</td>\n",
       "      <td>MEDICAL CLINIC</td>\n",
       "      <td>Medical Centre</td>\n",
       "      <td>71.0</td>\n",
       "    </tr>\n",
       "    <tr>\n",
       "      <th>250561</th>\n",
       "      <td>NIGERIA</td>\n",
       "      <td>Makada Health Clinic</td>\n",
       "      <td>Makada</td>\n",
       "      <td>HEALTH CLINIC</td>\n",
       "      <td>Health Facility</td>\n",
       "      <td>71.0</td>\n",
       "    </tr>\n",
       "    <tr>\n",
       "      <th>2024</th>\n",
       "      <td>ANGOLA</td>\n",
       "      <td>Hospital municipal do NZETO</td>\n",
       "      <td>Nzeto</td>\n",
       "      <td>HOSPITAL MUNICIPAL</td>\n",
       "      <td>Hospital</td>\n",
       "      <td>62.0</td>\n",
       "    </tr>\n",
       "    <tr>\n",
       "      <th>297240</th>\n",
       "      <td>TANZANIA</td>\n",
       "      <td>NYAMAGANA HOSPITAL - DISTRICT HOSPITAL</td>\n",
       "      <td>Nyamagana</td>\n",
       "      <td>HOSPITAL DISTRICT HOSPITAL</td>\n",
       "      <td>District Hospital</td>\n",
       "      <td>79.0</td>\n",
       "    </tr>\n",
       "    <tr>\n",
       "      <th>268853</th>\n",
       "      <td>NIGERIA</td>\n",
       "      <td>Unguwar Sambo Health Clinic</td>\n",
       "      <td>Unguwar Sambo</td>\n",
       "      <td>HEALTH CLINIC</td>\n",
       "      <td>Health Facility</td>\n",
       "      <td>71.0</td>\n",
       "    </tr>\n",
       "    <tr>\n",
       "      <th>262679</th>\n",
       "      <td>NIGERIA</td>\n",
       "      <td>General hosp.Gezawa</td>\n",
       "      <td>Hospgezawa</td>\n",
       "      <td>GENERAL</td>\n",
       "      <td>General Hospital</td>\n",
       "      <td>61.0</td>\n",
       "    </tr>\n",
       "    <tr>\n",
       "      <th>51823</th>\n",
       "      <td>MALI</td>\n",
       "      <td>Centre de Santé de Référence</td>\n",
       "      <td>Sante Reference</td>\n",
       "      <td>CENTRE DE</td>\n",
       "      <td>Referral Health Centre</td>\n",
       "      <td>43.0</td>\n",
       "    </tr>\n",
       "    <tr>\n",
       "      <th>163886</th>\n",
       "      <td>NIGERIA</td>\n",
       "      <td>Maternity&amp; child welfare clinic</td>\n",
       "      <td>Maternity&amp; Welfare</td>\n",
       "      <td>CHILD CLINIC</td>\n",
       "      <td>Clinic</td>\n",
       "      <td>67.0</td>\n",
       "    </tr>\n",
       "    <tr>\n",
       "      <th>289241</th>\n",
       "      <td>SOUTH AFRICA</td>\n",
       "      <td>Tygerberg hospital</td>\n",
       "      <td>Tygerberg</td>\n",
       "      <td>HOSPITAL</td>\n",
       "      <td>District Hospital</td>\n",
       "      <td>64.0</td>\n",
       "    </tr>\n",
       "  </tbody>\n",
       "</table>\n",
       "</div>"
      ],
      "text/plain": [
       "             Country                name_of_facility_visited  \\\n",
       "134301       NIGERIA               Rano Dawaki Health clinic   \n",
       "88975        NIGERIA          Dakwak Memorial Medical Clinic   \n",
       "250561       NIGERIA                    Makada Health Clinic   \n",
       "2024          ANGOLA             Hospital municipal do NZETO   \n",
       "297240      TANZANIA  NYAMAGANA HOSPITAL - DISTRICT HOSPITAL   \n",
       "268853       NIGERIA             Unguwar Sambo Health Clinic   \n",
       "262679       NIGERIA                     General hosp.Gezawa   \n",
       "51823           MALI            Centre de Santé de Référence   \n",
       "163886       NIGERIA         Maternity& child welfare clinic   \n",
       "289241  SOUTH AFRICA                      Tygerberg hospital   \n",
       "\n",
       "          clean_name_final                extract_type  \\\n",
       "134301         Rano Dawaki               HEALTH CLINIC   \n",
       "88975      Dakwak Memorial              MEDICAL CLINIC   \n",
       "250561              Makada               HEALTH CLINIC   \n",
       "2024                 Nzeto          HOSPITAL MUNICIPAL   \n",
       "297240           Nyamagana  HOSPITAL DISTRICT HOSPITAL   \n",
       "268853       Unguwar Sambo               HEALTH CLINIC   \n",
       "262679          Hospgezawa                     GENERAL   \n",
       "51823      Sante Reference                   CENTRE DE   \n",
       "163886  Maternity& Welfare                CHILD CLINIC   \n",
       "289241           Tygerberg                    HOSPITAL   \n",
       "\n",
       "                      sub_type  score  \n",
       "134301         Health Facility   71.0  \n",
       "88975           Medical Centre   71.0  \n",
       "250561         Health Facility   71.0  \n",
       "2024                  Hospital   62.0  \n",
       "297240       District Hospital   79.0  \n",
       "268853         Health Facility   71.0  \n",
       "262679        General Hospital   61.0  \n",
       "51823   Referral Health Centre   43.0  \n",
       "163886                  Clinic   67.0  \n",
       "289241       District Hospital   64.0  "
      ]
     },
     "execution_count": 303,
     "metadata": {},
     "output_type": "execute_result"
    }
   ],
   "source": [
    "cols = ['Country', 'name_of_facility_visited',\n",
    "        'clean_name_final', 'extract_type', 'sub_type', 'score']\n",
    "#[(res['Country']=='BURUNDI')]\n",
    "#(res['clean_name'].str.contains('^CPHC', na=False))\n",
    "#res['name_of_fa'].str.contains('\\(')\n",
    "res[res['score']<80]\\\n",
    "[cols].sample(10)"
   ]
  },
  {
   "cell_type": "code",
   "execution_count": 304,
   "metadata": {},
   "outputs": [],
   "source": [
    "# randomly sample 20 rows for each country for inspection\n",
    "df_grouped = res.groupby('Country')\n",
    "p = pd.DataFrame()\n",
    "cols = ['Country', 'name_of_facility_visited', 'clean_name', 'clean_name_final', \n",
    "        'extract_type', 'sub_type', 'type_of_facility_visited']\n",
    "\n",
    "for group_name, df_group in df_grouped:\n",
    "    df_tmp = df_group[cols].sample(20)\n",
    "    p = pd.concat([p, df_tmp])"
   ]
  },
  {
   "cell_type": "code",
   "execution_count": 305,
   "metadata": {},
   "outputs": [],
   "source": [
    "p.to_csv(saveDir+\"//clean_names_types_sampled_1028.csv\", index=False)"
   ]
  },
  {
   "cell_type": "code",
   "execution_count": 306,
   "metadata": {},
   "outputs": [],
   "source": [
    "cols= ['index', 'Country', 'clean_name', 'clean_name_final',\n",
    "       'extract_type', 'sub_type']\n",
    "res[cols].to_csv(saveDir+\"//clean_names_types_full_1028.csv\", index=False)"
   ]
  }
 ],
 "metadata": {
  "kernelspec": {
   "display_name": "Python 3",
   "language": "python",
   "name": "python3"
  },
  "language_info": {
   "codemirror_mode": {
    "name": "ipython",
    "version": 3
   },
   "file_extension": ".py",
   "mimetype": "text/x-python",
   "name": "python",
   "nbconvert_exporter": "python",
   "pygments_lexer": "ipython3",
   "version": "3.7.6"
  }
 },
 "nbformat": 4,
 "nbformat_minor": 4
}
