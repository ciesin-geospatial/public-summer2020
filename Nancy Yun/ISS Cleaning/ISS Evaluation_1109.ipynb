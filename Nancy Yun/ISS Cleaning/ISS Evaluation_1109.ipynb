{
 "cells": [
  {
   "cell_type": "code",
   "execution_count": 11,
   "metadata": {},
   "outputs": [],
   "source": [
    "import numpy as np\n",
    "import pandas as pd\n",
    "import fiona\n",
    "import geopandas as gpd\n",
    "import os\n",
    "from fuzzywuzzy import fuzz\n",
    "from fuzzywuzzy import process\n",
    "import matplotlib.pyplot as plt\n",
    "pd.options.mode.chained_assignment = None\n",
    "pd.set_option('display.max_columns', None)\n",
    "pd.set_option('display.max_rows', None)"
   ]
  },
  {
   "cell_type": "code",
   "execution_count": 12,
   "metadata": {},
   "outputs": [],
   "source": [
    "# data import\n",
    "dataDir = r\"C:\\Users\\DUANYUEYUN\\Documents\\ArcGIS\\Projects\\WHO_ISS\"\n",
    "df_iss = gpd.read_file(dataDir+\"\\\\WHO_ISS.gdb\", driver='FileGDB', \n",
    "                       layer= 'ISS_1020')\n",
    "dataDir = r\"C:\\Users\\DUANYUEYUN\\Documents\\GRID3\\Health facilities\\Data\\Africa\\Cleaned\"\n",
    "filename = \"clean_names_types_1109.csv\"\n",
    "path = os.path.join(dataDir, filename)\n",
    "new_cols = pd.read_csv(path)"
   ]
  },
  {
   "cell_type": "code",
   "execution_count": 13,
   "metadata": {},
   "outputs": [],
   "source": [
    "# reformat the date column\n",
    "df_iss['date'] = pd.to_datetime(df_iss['date_of_visit'])\n",
    "# get index\n",
    "df_iss.reset_index(inplace=True)\n",
    "# merge with new columns including 'clean_name_final'\n",
    "df_iss = df_iss.merge(new_cols, on='index')"
   ]
  },
  {
   "cell_type": "code",
   "execution_count": 14,
   "metadata": {},
   "outputs": [
    {
     "data": {
      "text/plain": [
       "(305182, 51)"
      ]
     },
     "execution_count": 14,
     "metadata": {},
     "output_type": "execute_result"
    }
   ],
   "source": [
    "df_iss.shape"
   ]
  },
  {
   "cell_type": "markdown",
   "metadata": {},
   "source": [
    "# Define functions"
   ]
  },
  {
   "cell_type": "code",
   "execution_count": 20,
   "metadata": {},
   "outputs": [],
   "source": [
    "def find_subclusters(df, name='Name', clean_name='Short_Name',\n",
    "                     cluster='FEAT_SEQ', date='date', fac_type='type',\n",
    "                     simple_score=80, simple_score_min=50, \n",
    "                     partial_score=80, partial_score2=90):\n",
    "    \"\"\"\n",
    "    Obtain subclusters: data points within 1km, matched to the same name and have the same facility type.\n",
    "    \"\"\"\n",
    "    \n",
    "    # if the cleaned short name is NA, just use original facility name instead\n",
    "    names = []\n",
    "    for idx, row in df.iterrows():\n",
    "        if isinstance(row[clean_name], str):\n",
    "            names.append(row[clean_name])\n",
    "        else:\n",
    "            names.append(row[name])\n",
    "    df['name_for_matching'] = names \n",
    "    df['name_for_matching'].fillna('NA', inplace=True)\n",
    "    \n",
    "    # sort values based on feature sequence and short name\n",
    "    df.sort_values(by=[cluster, 'name_for_matching', date], inplace=True)\n",
    "    # group by feature sequence\n",
    "    df_grouped = df.groupby(cluster)\n",
    "\n",
    "    # store the matched name\n",
    "    match_names = []\n",
    "    # store count of subclusters\n",
    "    sub_counts = []\n",
    "    # store score of matching\n",
    "    match_scores = []\n",
    "    # store types of matching\n",
    "    match_types = []\n",
    "\n",
    "    for group_name, df_group in df_grouped:\n",
    "        # obtain list of names\n",
    "        names = df_group['name_for_matching'].to_list()\n",
    "        \n",
    "        # use the first name as the potential candidates for finding a match\n",
    "        match_candidates = [names[0]]\n",
    "        match_names.append(names[0])\n",
    "        match_scores.append(np.nan)\n",
    "        match_types.append('Self')\n",
    "\n",
    "        for i in range(1, len(names)):\n",
    "\n",
    "            name = names[i]\n",
    "\n",
    "            # use match candidates to find best match and compute match score\n",
    "            match_name1, score1 = process.extractOne(name, match_candidates, scorer = fuzz.ratio)\n",
    "            match_name2, score2 = process.extractOne(name, match_candidates, scorer = fuzz.partial_ratio)\n",
    "\n",
    "            # score based on simple ratio\n",
    "            # or for very short strings, a single letter difference will result in low score\n",
    "            # consider two short strings as a match if there's only 1 letter difference\n",
    "            if score1>=simple_score or (1-score1/100) * len(name) <= 1:\n",
    "                # append match name and score\n",
    "                match_names.append(match_name1)\n",
    "                match_scores.append(score1)\n",
    "                match_types.append('Simple match')\n",
    "\n",
    "            # if simple ratio not that high, check partial ratio\n",
    "            elif score1>=simple_score_min and score2>=partial_score:\n",
    "                # append match name and score\n",
    "                match_names.append(match_name2)\n",
    "                match_scores.append(score2)\n",
    "                match_types.append('Partial match')\n",
    "\n",
    "            elif score1>=simple_score_min:\n",
    "                # check scores again after sorting the letters in names individually\n",
    "                match_candidates2 = [''.join(sorted(candidate)) for candidate in match_candidates]\n",
    "                match_name3, score3 = process.extractOne(''.join(sorted(name)), match_candidates2, \n",
    "                                                         scorer = fuzz.ratio)\n",
    "                match_name4, score4 = process.extractOne(''.join(sorted(name)), match_candidates2, \n",
    "                                                         scorer = fuzz.partial_ratio)\n",
    "\n",
    "                # or for very short strings, a single letter difference will result in low score\n",
    "                # consider two short strings as a match if there's only 1 letter difference\n",
    "                if score3>=simple_score or (1-score3/100) * len(name) <= 1:\n",
    "                    # append match name and score\n",
    "                    index = match_candidates2.index(match_name3)\n",
    "                    match_names.append(match_candidates[index])\n",
    "                    match_scores.append(score3)\n",
    "                    match_types.append('Sorted simple match')\n",
    "\n",
    "                # if simple ratio not that high, check partial ratio\n",
    "                elif score3>=simple_score_min and score4>=partial_score2:\n",
    "                    # append match name and score\n",
    "                    index = match_candidates2.index(match_name4)\n",
    "                    match_names.append(match_candidates[index])\n",
    "                    match_scores.append(score4)\n",
    "                    match_types.append('Sorted partial match')\n",
    "\n",
    "                # if nothing above works, add the name to match candidates\n",
    "                else:\n",
    "                    match_candidates.append(name)\n",
    "                    match_names.append(name)\n",
    "                    match_scores.append(np.nan)\n",
    "                    match_types.append('Self')\n",
    "\n",
    "            # the match score based on simple ratio is lower than the minimum required\n",
    "            # just match the name to itself and add it to match candidates\n",
    "            else:\n",
    "                match_candidates.append(name)\n",
    "                match_names.append(name)\n",
    "                match_scores.append(np.nan)\n",
    "                match_types.append('Self')\n",
    "\n",
    "        for i in range(len(names)):\n",
    "            sub_counts.append(len(match_candidates))\n",
    "    \n",
    "    df['match_name'] = match_names\n",
    "    df['n_subclusters'] = sub_counts\n",
    "    df['match_score'] = match_scores\n",
    "    df['match_type'] = match_types\n",
    "    \n",
    "    def rank(s):\n",
    "        return s.rank(method='dense')\n",
    "    \n",
    "    # assign a sub sequence number\n",
    "    df['name_seq'] = df.groupby(cluster)['match_name'].apply(rank)\n",
    "    df['name_seq'].fillna(0, inplace=True)\n",
    "    \n",
    "    df['type_seq'] = df.groupby([cluster, 'name_seq'])[fac_type].apply(rank)\n",
    "    df['type_seq'].fillna(0, inplace=True)\n",
    "    \n",
    "    # generate cluster ID\n",
    "    df['clusterID'] = pd.Series(df[cluster]*100000+df['name_seq']*100+df['type_seq']) \n",
    "    \n",
    "    df.sort_values(by=['clusterID'], inplace=True)\n",
    "    \n",
    "    return df"
   ]
  },
  {
   "cell_type": "code",
   "execution_count": 16,
   "metadata": {},
   "outputs": [],
   "source": [
    "def cal_cluster_ratio(df, clusterID='clusterID', cluster='FEAT_SEQ',\n",
    "                      date = 'date'):\n",
    "    \"\"\"\n",
    "    Calculate cluster ratio after fuzzy match.\n",
    "    \"\"\"\n",
    "    # obtain cluster size\n",
    "    counts = df.groupby(cluster).size()\n",
    "    counts = pd.DataFrame({'freq_count':counts})\n",
    "    counts.reset_index(inplace=True)\n",
    "    # join back to the original dataframe\n",
    "    df = df.merge(counts, on =[cluster])\n",
    "\n",
    "    res = df.groupby(['FEAT_SEQ','name_seq','type_seq'])\\\n",
    "    .agg(cluster_size=('freq_count', 'max'), subcluster_size=('freq_count','count'))\n",
    "    res['cluster_ratio'] = res['subcluster_size']/res['cluster_size']\n",
    "    res.reset_index(inplace=True)\n",
    "    df = df.merge(res, on=['FEAT_SEQ','name_seq','type_seq'])\n",
    "    df = df.sort_values(by=['FEAT_SEQ','name_seq','type_seq', 'cluster_ratio', date])\n",
    "    \n",
    "    return df"
   ]
  },
  {
   "cell_type": "code",
   "execution_count": 34,
   "metadata": {},
   "outputs": [],
   "source": [
    "def eval_points(df, cluster = 'FEAT_SEQ', cluster_size = 'cluster_size', \n",
    "                subcluster_size = 'subcluster_size',\n",
    "                num_subclusters = 'n_subclusters', ratio = 'cluster_ratio',\n",
    "               new_col='eval'):\n",
    "    \"\"\"Implement a decision tree to evalute subclusters and create an `eval` column.\n",
    "    Possible values include 0 (to be dropped), 1 (good point to be kept) and\n",
    "    2 (point that needs further examination)\n",
    "    \"\"\"\n",
    "\n",
    "    evaluation = []\n",
    "\n",
    "    clusters = df.groupby(cluster)\n",
    "\n",
    "    for group_name, group_df in clusters:\n",
    "\n",
    "        # number of points in the cluster\n",
    "        N = group_df[cluster_size].iloc[0]\n",
    "        # number of subclusters within the cluster\n",
    "        m = group_df[num_subclusters].iloc[0]\n",
    "\n",
    "        # Single point clusters\n",
    "        if N==1:\n",
    "            evaluation.append(2)\n",
    "\n",
    "        # Two point clusters\n",
    "        elif N==2:\n",
    "            for idx, row in group_df.iterrows():\n",
    "                # two points agree\n",
    "                if row[ratio]==1:\n",
    "                    evaluation.append(1)\n",
    "                else:\n",
    "                    evaluation.append(2)\n",
    "\n",
    "        elif N==3:\n",
    "            for idx, row in group_df.iterrows():\n",
    "                # keep points with ratio >= 2/3, further evaluate the remaining points\n",
    "                if row[ratio]>0.66:\n",
    "                    evaluation.append(1)\n",
    "                else:\n",
    "                    evaluation.append(2)   \n",
    "\n",
    "        elif N==4:\n",
    "            # every point disagrees\n",
    "            if m==4:\n",
    "                for idx, row in group_df.iterrows():\n",
    "                    evaluation.append(2)\n",
    "            else:\n",
    "                for idx, row in group_df.iterrows():\n",
    "                    # keep points with ratio greater than or equal to 0.5\n",
    "                    if row[ratio]>=0.5:\n",
    "                        evaluation.append(1)\n",
    "                    else:\n",
    "                        evaluation.append(0)\n",
    "        # cluster size greater than 4\n",
    "        else:\n",
    "            for idx, row in group_df.iterrows():\n",
    "                if row[ratio]<=0.2:\n",
    "                    evaluation.append(0)\n",
    "                elif row[ratio]>0.2 and row[ratio]<0.5:\n",
    "                    evaluation.append(2)\n",
    "                else:\n",
    "                    evaluation.append(1)\n",
    "\n",
    "    df[new_col] = evaluation     \n",
    "    return df"
   ]
  },
  {
   "cell_type": "code",
   "execution_count": 35,
   "metadata": {},
   "outputs": [],
   "source": [
    "def drop_points(df, decision = 'eval', clusterID = 'clusterID'):\n",
    "    \"\"\"Drop subclusters with eval of 0,\n",
    "    keep the last point in subclusters with eval of 1 or 2.\n",
    "    decision: column name that contains evaluation of points.\"\"\"\n",
    "    \n",
    "    df = df[df[decision]!=0]\n",
    "    \n",
    "    df_dropped = df.drop_duplicates(subset=[clusterID], keep='last')\n",
    "    \n",
    "    return df_dropped"
   ]
  },
  {
   "cell_type": "markdown",
   "metadata": {},
   "source": [
    "## 1st round cleaning"
   ]
  },
  {
   "cell_type": "code",
   "execution_count": 21,
   "metadata": {},
   "outputs": [],
   "source": [
    "# find subclusters\n",
    "iss_processed = find_subclusters(df_iss, name='clean_name', clean_name='clean_name_final', \n",
    "                                 date='date', cluster='FEAT_SEQ',\n",
    "                                 fac_type='type_of_facility_visited',\n",
    "                                 simple_score=80, simple_score_min=50, \n",
    "                                 partial_score=80, partial_score2=90)"
   ]
  },
  {
   "cell_type": "code",
   "execution_count": 22,
   "metadata": {},
   "outputs": [
    {
     "name": "stdout",
     "output_type": "stream",
     "text": [
      "Number of subclusters: 92665\n"
     ]
    }
   ],
   "source": [
    "print(\"Number of subclusters:\", iss_processed['clusterID'].nunique())"
   ]
  },
  {
   "cell_type": "code",
   "execution_count": 23,
   "metadata": {},
   "outputs": [],
   "source": [
    "# calculate cluster ratio\n",
    "iss_ratio = cal_cluster_ratio(iss_processed)"
   ]
  },
  {
   "cell_type": "code",
   "execution_count": 31,
   "metadata": {},
   "outputs": [
    {
     "data": {
      "text/html": [
       "<div>\n",
       "<style scoped>\n",
       "    .dataframe tbody tr th:only-of-type {\n",
       "        vertical-align: middle;\n",
       "    }\n",
       "\n",
       "    .dataframe tbody tr th {\n",
       "        vertical-align: top;\n",
       "    }\n",
       "\n",
       "    .dataframe thead th {\n",
       "        text-align: right;\n",
       "    }\n",
       "</style>\n",
       "<table border=\"1\" class=\"dataframe\">\n",
       "  <thead>\n",
       "    <tr style=\"text-align: right;\">\n",
       "      <th></th>\n",
       "      <th>Country</th>\n",
       "      <th>clean_name_final</th>\n",
       "      <th>type_of_facility_visited</th>\n",
       "      <th>match_name</th>\n",
       "      <th>FEAT_SEQ</th>\n",
       "      <th>clusterID</th>\n",
       "      <th>cluster_size</th>\n",
       "      <th>subcluster_size</th>\n",
       "      <th>cluster_ratio</th>\n",
       "    </tr>\n",
       "  </thead>\n",
       "  <tbody>\n",
       "    <tr>\n",
       "      <th>71</th>\n",
       "      <td>ANGOLA</td>\n",
       "      <td>Damba</td>\n",
       "      <td>DISTRICT_HOSP</td>\n",
       "      <td>Damba</td>\n",
       "      <td>9</td>\n",
       "      <td>900101.0</td>\n",
       "      <td>5</td>\n",
       "      <td>5</td>\n",
       "      <td>1.0</td>\n",
       "    </tr>\n",
       "    <tr>\n",
       "      <th>70</th>\n",
       "      <td>ANGOLA</td>\n",
       "      <td>Damba</td>\n",
       "      <td>DISTRICT_HOSP</td>\n",
       "      <td>Damba</td>\n",
       "      <td>9</td>\n",
       "      <td>900101.0</td>\n",
       "      <td>5</td>\n",
       "      <td>5</td>\n",
       "      <td>1.0</td>\n",
       "    </tr>\n",
       "    <tr>\n",
       "      <th>69</th>\n",
       "      <td>ANGOLA</td>\n",
       "      <td>Damba</td>\n",
       "      <td>DISTRICT_HOSP</td>\n",
       "      <td>Damba</td>\n",
       "      <td>9</td>\n",
       "      <td>900101.0</td>\n",
       "      <td>5</td>\n",
       "      <td>5</td>\n",
       "      <td>1.0</td>\n",
       "    </tr>\n",
       "    <tr>\n",
       "      <th>68</th>\n",
       "      <td>ANGOLA</td>\n",
       "      <td>Damba</td>\n",
       "      <td>DISTRICT_HOSP</td>\n",
       "      <td>Damba</td>\n",
       "      <td>9</td>\n",
       "      <td>900101.0</td>\n",
       "      <td>5</td>\n",
       "      <td>5</td>\n",
       "      <td>1.0</td>\n",
       "    </tr>\n",
       "    <tr>\n",
       "      <th>67</th>\n",
       "      <td>ANGOLA</td>\n",
       "      <td>Damba</td>\n",
       "      <td>DISTRICT_HOSP</td>\n",
       "      <td>Damba</td>\n",
       "      <td>9</td>\n",
       "      <td>900101.0</td>\n",
       "      <td>5</td>\n",
       "      <td>5</td>\n",
       "      <td>1.0</td>\n",
       "    </tr>\n",
       "  </tbody>\n",
       "</table>\n",
       "</div>"
      ],
      "text/plain": [
       "   Country clean_name_final type_of_facility_visited match_name  FEAT_SEQ  \\\n",
       "71  ANGOLA            Damba            DISTRICT_HOSP      Damba         9   \n",
       "70  ANGOLA            Damba            DISTRICT_HOSP      Damba         9   \n",
       "69  ANGOLA            Damba            DISTRICT_HOSP      Damba         9   \n",
       "68  ANGOLA            Damba            DISTRICT_HOSP      Damba         9   \n",
       "67  ANGOLA            Damba            DISTRICT_HOSP      Damba         9   \n",
       "\n",
       "    clusterID  cluster_size  subcluster_size  cluster_ratio  \n",
       "71   900101.0             5                5            1.0  \n",
       "70   900101.0             5                5            1.0  \n",
       "69   900101.0             5                5            1.0  \n",
       "68   900101.0             5                5            1.0  \n",
       "67   900101.0             5                5            1.0  "
      ]
     },
     "execution_count": 31,
     "metadata": {},
     "output_type": "execute_result"
    }
   ],
   "source": [
    "cols = ['Country', 'clean_name_final', 'type_of_facility_visited', 'match_name',\n",
    "        'FEAT_SEQ', 'clusterID', 'cluster_size', 'subcluster_size', 'cluster_ratio']\n",
    "iss_ratio[iss_ratio['FEAT_SEQ']==9][cols]"
   ]
  },
  {
   "cell_type": "code",
   "execution_count": 32,
   "metadata": {},
   "outputs": [
    {
     "data": {
      "text/plain": [
       "Text(0.5, 1.0, 'ISS: histogram of cluster ratio')"
      ]
     },
     "execution_count": 32,
     "metadata": {},
     "output_type": "execute_result"
    },
    {
     "data": {
      "image/png": "[encoded data removed]",
      "text/plain": [
       "<Figure size 432x288 with 1 Axes>"
      ]
     },
     "metadata": {
      "needs_background": "light"
     },
     "output_type": "display_data"
    }
   ],
   "source": [
    "f = plt.hist(iss_ratio['cluster_ratio'], bins=10, align='right')\n",
    "plt.xlabel('cluster ratio')\n",
    "plt.ylabel('count')\n",
    "plt.title('ISS: histogram of cluster ratio')"
   ]
  },
  {
   "cell_type": "code",
   "execution_count": 33,
   "metadata": {},
   "outputs": [
    {
     "data": {
      "text/plain": [
       "count    305182.000000\n",
       "mean          0.825142\n",
       "std           0.272227\n",
       "min           0.004405\n",
       "25%           0.759259\n",
       "50%           0.972973\n",
       "75%           1.000000\n",
       "max           1.000000\n",
       "Name: cluster_ratio, dtype: float64"
      ]
     },
     "execution_count": 33,
     "metadata": {},
     "output_type": "execute_result"
    }
   ],
   "source": [
    "iss_ratio['cluster_ratio'].describe()"
   ]
  },
  {
   "cell_type": "code",
   "execution_count": 36,
   "metadata": {},
   "outputs": [],
   "source": [
    "# evaluate points\n",
    "iss_decision = eval_points(iss_ratio, cluster='FEAT_SEQ') "
   ]
  },
  {
   "cell_type": "code",
   "execution_count": 37,
   "metadata": {},
   "outputs": [
    {
     "data": {
      "text/plain": [
       "0     21311\n",
       "1    222461\n",
       "2     61410\n",
       "Name: eval, dtype: int64"
      ]
     },
     "execution_count": 37,
     "metadata": {},
     "output_type": "execute_result"
    }
   ],
   "source": [
    "iss_decision['eval'].value_counts(sort=False)"
   ]
  },
  {
   "cell_type": "code",
   "execution_count": 38,
   "metadata": {},
   "outputs": [],
   "source": [
    "iss_dropped = drop_points(iss_decision)"
   ]
  },
  {
   "cell_type": "code",
   "execution_count": 39,
   "metadata": {
    "scrolled": true
   },
   "outputs": [
    {
     "name": "stdout",
     "output_type": "stream",
     "text": [
      "Number of data points at start: 305182\n",
      "Number of data points after dropping: 227938\n"
     ]
    }
   ],
   "source": [
    "print(\"Number of data points at start:\", df_iss.shape[0])\n",
    "print(\"Number of data points after dropping:\", df_iss.shape[0]-iss_dropped.shape[0])"
   ]
  },
  {
   "cell_type": "code",
   "execution_count": 40,
   "metadata": {},
   "outputs": [],
   "source": [
    "iss_dropped['geometry'] = iss_dropped['geometry'].to_crs(epsg=4326)\n",
    "iss_dropped['x_coor'] = iss_dropped['geometry'].x\n",
    "iss_dropped['y_coor'] = iss_dropped['geometry'].y"
   ]
  },
  {
   "cell_type": "code",
   "execution_count": 49,
   "metadata": {},
   "outputs": [
    {
     "data": {
      "text/html": [
       "<div>\n",
       "<style scoped>\n",
       "    .dataframe tbody tr th:only-of-type {\n",
       "        vertical-align: middle;\n",
       "    }\n",
       "\n",
       "    .dataframe tbody tr th {\n",
       "        vertical-align: top;\n",
       "    }\n",
       "\n",
       "    .dataframe thead th {\n",
       "        text-align: right;\n",
       "    }\n",
       "</style>\n",
       "<table border=\"1\" class=\"dataframe\">\n",
       "  <thead>\n",
       "    <tr style=\"text-align: right;\">\n",
       "      <th></th>\n",
       "      <th>Country</th>\n",
       "      <th>clean_name_final</th>\n",
       "      <th>type_of_facility_visited</th>\n",
       "      <th>match_name</th>\n",
       "      <th>FEAT_SEQ</th>\n",
       "      <th>clusterID</th>\n",
       "      <th>cluster_size</th>\n",
       "      <th>subcluster_size</th>\n",
       "      <th>cluster_ratio</th>\n",
       "      <th>eval</th>\n",
       "    </tr>\n",
       "  </thead>\n",
       "  <tbody>\n",
       "    <tr>\n",
       "      <th>182</th>\n",
       "      <td>ANGOLA</td>\n",
       "      <td>Andulo</td>\n",
       "      <td>CSI</td>\n",
       "      <td>Andulo</td>\n",
       "      <td>47</td>\n",
       "      <td>4700101.0</td>\n",
       "      <td>5</td>\n",
       "      <td>1</td>\n",
       "      <td>0.2</td>\n",
       "      <td>0</td>\n",
       "    </tr>\n",
       "    <tr>\n",
       "      <th>183</th>\n",
       "      <td>ANGOLA</td>\n",
       "      <td>Andulo</td>\n",
       "      <td>DISTRICT_HOSP</td>\n",
       "      <td>Andulo</td>\n",
       "      <td>47</td>\n",
       "      <td>4700102.0</td>\n",
       "      <td>5</td>\n",
       "      <td>1</td>\n",
       "      <td>0.2</td>\n",
       "      <td>0</td>\n",
       "    </tr>\n",
       "    <tr>\n",
       "      <th>184</th>\n",
       "      <td>ANGOLA</td>\n",
       "      <td>NaN</td>\n",
       "      <td>CSI</td>\n",
       "      <td>Cmi</td>\n",
       "      <td>47</td>\n",
       "      <td>4700201.0</td>\n",
       "      <td>5</td>\n",
       "      <td>1</td>\n",
       "      <td>0.2</td>\n",
       "      <td>0</td>\n",
       "    </tr>\n",
       "    <tr>\n",
       "      <th>185</th>\n",
       "      <td>ANGOLA</td>\n",
       "      <td>Marteno</td>\n",
       "      <td>CSI</td>\n",
       "      <td>Marteno</td>\n",
       "      <td>47</td>\n",
       "      <td>4700301.0</td>\n",
       "      <td>5</td>\n",
       "      <td>1</td>\n",
       "      <td>0.2</td>\n",
       "      <td>0</td>\n",
       "    </tr>\n",
       "    <tr>\n",
       "      <th>186</th>\n",
       "      <td>ANGOLA</td>\n",
       "      <td>NaN</td>\n",
       "      <td>DISTRICT_HOSP</td>\n",
       "      <td>Municipal Hospital</td>\n",
       "      <td>47</td>\n",
       "      <td>4700401.0</td>\n",
       "      <td>5</td>\n",
       "      <td>1</td>\n",
       "      <td>0.2</td>\n",
       "      <td>0</td>\n",
       "    </tr>\n",
       "  </tbody>\n",
       "</table>\n",
       "</div>"
      ],
      "text/plain": [
       "    Country clean_name_final type_of_facility_visited          match_name  \\\n",
       "182  ANGOLA           Andulo                      CSI              Andulo   \n",
       "183  ANGOLA           Andulo            DISTRICT_HOSP              Andulo   \n",
       "184  ANGOLA              NaN                      CSI                 Cmi   \n",
       "185  ANGOLA          Marteno                      CSI             Marteno   \n",
       "186  ANGOLA              NaN            DISTRICT_HOSP  Municipal Hospital   \n",
       "\n",
       "     FEAT_SEQ  clusterID  cluster_size  subcluster_size  cluster_ratio  eval  \n",
       "182        47  4700101.0             5                1            0.2     0  \n",
       "183        47  4700102.0             5                1            0.2     0  \n",
       "184        47  4700201.0             5                1            0.2     0  \n",
       "185        47  4700301.0             5                1            0.2     0  \n",
       "186        47  4700401.0             5                1            0.2     0  "
      ]
     },
     "execution_count": 49,
     "metadata": {},
     "output_type": "execute_result"
    }
   ],
   "source": [
    "cols = ['Country', 'clean_name_final', 'type_of_facility_visited', 'match_name',\n",
    "        'FEAT_SEQ', 'clusterID', 'cluster_size', 'subcluster_size', 'cluster_ratio',\n",
    "       'eval']\n",
    "iss_decision[iss_decision['FEAT_SEQ']==47][cols]"
   ]
  },
  {
   "cell_type": "code",
   "execution_count": 41,
   "metadata": {},
   "outputs": [],
   "source": [
    "#iss_decision.head()"
   ]
  },
  {
   "cell_type": "code",
   "execution_count": 42,
   "metadata": {},
   "outputs": [],
   "source": [
    "#iss_dropped.head()"
   ]
  },
  {
   "cell_type": "code",
   "execution_count": 50,
   "metadata": {},
   "outputs": [],
   "source": [
    "iss_decision.drop(columns=['OBJECTID', 'IN_FID', 'freq_count'],\n",
    "                 inplace=True)\n",
    "iss_decision.rename(columns={'index':'index_original', 'FEAT_SEQ':'Cluster_seq'},\n",
    "                   inplace=True)\n",
    "iss_decision.reset_index(drop=True,inplace=True)"
   ]
  },
  {
   "cell_type": "code",
   "execution_count": 51,
   "metadata": {},
   "outputs": [],
   "source": [
    "iss_dropped.drop(columns=['OBJECTID', 'IN_FID', 'freq_count'],\n",
    "                 inplace=True)\n",
    "iss_dropped.rename(columns={'index':'index_original', 'FEAT_SEQ':'Cluster_seq'},\n",
    "                   inplace=True)\n",
    "iss_dropped.reset_index(drop=True,inplace=True)"
   ]
  },
  {
   "cell_type": "code",
   "execution_count": 52,
   "metadata": {},
   "outputs": [],
   "source": [
    "# Export results as csv files\n",
    "dataDir = r\"C:\\Users\\DUANYUEYUN\\Documents\\GRID3\\Health facilities\\Data\\Africa\"\n",
    "iss_decision.to_csv(dataDir + \"\\\\Cleaned\\\\iss_decision1_1109.csv\",\n",
    "                      index=False)\n",
    "iss_dropped.to_csv(dataDir + \"\\\\Cleaned\\\\iss_dropped1_1109.csv\",\n",
    "                     index=False)"
   ]
  },
  {
   "cell_type": "markdown",
   "metadata": {},
   "source": [
    "## 2nd round cleaning"
   ]
  },
  {
   "cell_type": "markdown",
   "metadata": {},
   "source": [
    "Starting from here, points with `eval` of 0 in the first phase are dropped and duplicates within subclusters with `eval` of 1 or 2 are also dropped such that there is only one point representing each subcluster.\n",
    "\n",
    "A new feature sequence is found using a radius of 1km and a match on `match_name`."
   ]
  },
  {
   "cell_type": "code",
   "execution_count": 53,
   "metadata": {},
   "outputs": [
    {
     "name": "stderr",
     "output_type": "stream",
     "text": [
      "C:\\Users\\DUANYUEYUN\\anaconda3\\lib\\site-packages\\IPython\\core\\interactiveshell.py:3063: DtypeWarning: Columns (13,20,24,37) have mixed types.Specify dtype option on import or set low_memory=False.\n",
      "  interactivity=interactivity, compiler=compiler, result=result)\n"
     ]
    }
   ],
   "source": [
    "# Data import\n",
    "dataDir = r\"C:\\Users\\DUANYUEYUN\\Documents\\GRID3\\Health facilities\\Data\\Africa\"\n",
    "iss_dropped1 = pd.read_csv(dataDir + \"\\\\Cleaned\\\\iss_dropped1_1109.csv\")"
   ]
  },
  {
   "cell_type": "code",
   "execution_count": 54,
   "metadata": {},
   "outputs": [],
   "source": [
    "dataDir2 = r\"C:\\Users\\DUANYUEYUN\\Documents\\ArcGIS\\Projects\\WHO_ISS\"\n",
    "feat_seq = gpd.read_file(dataDir2+\"\\\\WHO_ISS.gdb\", driver='FileGDB', \n",
    "                       layer= 'iss_dropped1_1109_FI')"
   ]
  },
  {
   "cell_type": "code",
   "execution_count": 55,
   "metadata": {},
   "outputs": [
    {
     "name": "stdout",
     "output_type": "stream",
     "text": [
      "77244\n",
      "77782\n"
     ]
    }
   ],
   "source": [
    "print(iss_dropped1.shape[0])\n",
    "print(feat_seq.shape[0])"
   ]
  },
  {
   "cell_type": "code",
   "execution_count": 56,
   "metadata": {},
   "outputs": [],
   "source": [
    "feat_seq = feat_seq.sort_values(by=['IN_FID', 'FEAT_SEQ'])\\\n",
    ".drop_duplicates(subset='IN_FID', keep='first')\n",
    "feat_seq['IN_FID'] = feat_seq['IN_FID']-1\n",
    "# add feature sequence to original dataset\n",
    "iss_dropped1 = iss_dropped1.merge(feat_seq.drop(columns=['geometry']), left_index=True, right_on='IN_FID')"
   ]
  },
  {
   "cell_type": "code",
   "execution_count": 67,
   "metadata": {},
   "outputs": [],
   "source": [
    "#iss_dropped1[iss_dropped1['FEAT_SEQ']==11]"
   ]
  },
  {
   "cell_type": "code",
   "execution_count": 59,
   "metadata": {},
   "outputs": [
    {
     "name": "stdout",
     "output_type": "stream",
     "text": [
      "Number of data points: 77244\n",
      "Number of clusters: 65447\n"
     ]
    }
   ],
   "source": [
    "print(\"Number of data points:\", iss_dropped1.shape[0])\n",
    "print(\"Number of clusters:\", iss_dropped1['FEAT_SEQ'].max())"
   ]
  },
  {
   "cell_type": "code",
   "execution_count": 60,
   "metadata": {},
   "outputs": [],
   "source": [
    "def eval_phase2(df, cluster='FEAT_SEQ', decision='eval',\n",
    "               subcluster_size='subcluster_size', new_decision = 'eval2'):\n",
    "    \n",
    "    \"\"\"Evaluate points within the new cluster.\n",
    "    0 means drop and 1 means keep.\n",
    "    decision: column name for first phase evaluation.\n",
    "    new_decision: column name for second phase evaluation.\"\"\"\n",
    "    \n",
    "    drop = []\n",
    "    df.sort_values([cluster, decision, subcluster_size], inplace=True)\n",
    "    df_grouped = df.groupby(cluster)\n",
    "    \n",
    "    for name, df_group in df_grouped:\n",
    "        max_subcluster = df_group[subcluster_size].max()\n",
    "        \n",
    "        # There are points with both eval=1 and eval=2 in the cluster\n",
    "        if df_group[decision].nunique()>1:\n",
    "            # If there are more than 1 point with eval=1, keep the point with max sublcuster size\n",
    "            if df_group[df_group[decision]==1].shape[0]>1:\n",
    "                for idx, row in df_group.iterrows():\n",
    "                    # Keep only points with eval=1\n",
    "                    if row[decision]==1 and row[subcluster_size]==max_subcluster:\n",
    "                        drop.append(1)\n",
    "                    # Drop points with eval=2  \n",
    "                    else:\n",
    "                        drop.append(0)\n",
    "            # There is only 1 point with eval=1, just keep that point and drop the rest\n",
    "            else:\n",
    "                for idx, row in df_group.iterrows():\n",
    "                    # Keep only points with eval=1\n",
    "                    if row[decision]==1:\n",
    "                        drop.append(1)\n",
    "                    # Drop points with eval=2  \n",
    "                    else:\n",
    "                        drop.append(0)\n",
    "        # There are either points with eval=1 or points with eval=2 (exclusive)       \n",
    "        else:\n",
    "            for idx, row in df_group.iterrows():\n",
    "                # Keep only points with the maximum subcluster size\n",
    "                if row[subcluster_size]==max_subcluster:\n",
    "                    drop.append(1)\n",
    "                # Drop all other points   \n",
    "                else:\n",
    "                    drop.append(0)\n",
    "                 \n",
    "    df[new_decision] = drop\n",
    "    return df                         "
   ]
  },
  {
   "cell_type": "code",
   "execution_count": 61,
   "metadata": {},
   "outputs": [],
   "source": [
    "iss_decision2 = eval_phase2(iss_dropped1)"
   ]
  },
  {
   "cell_type": "code",
   "execution_count": 62,
   "metadata": {},
   "outputs": [
    {
     "data": {
      "text/plain": [
       "1    68380\n",
       "0     8864\n",
       "Name: eval2, dtype: int64"
      ]
     },
     "execution_count": 62,
     "metadata": {},
     "output_type": "execute_result"
    }
   ],
   "source": [
    "iss_decision2['eval2'].value_counts()"
   ]
  },
  {
   "cell_type": "code",
   "execution_count": 63,
   "metadata": {},
   "outputs": [],
   "source": [
    "# drop points with eval=0 in second phase cleaning\n",
    "iss_dropped2 = iss_decision2[iss_decision2['eval2']==1]"
   ]
  },
  {
   "cell_type": "code",
   "execution_count": 64,
   "metadata": {},
   "outputs": [],
   "source": [
    "iss_decision2.drop(columns=['IN_FID'], inplace=True)\n",
    "iss_decision2.rename(columns={'FEAT_SEQ':'Cluster_seq2'}, inplace=True)\n",
    "iss_decision2.reset_index(drop=True, inplace=True)"
   ]
  },
  {
   "cell_type": "code",
   "execution_count": 65,
   "metadata": {},
   "outputs": [],
   "source": [
    "iss_dropped2.drop(columns=['IN_FID'], inplace=True)\n",
    "iss_dropped2.rename(columns={'FEAT_SEQ':'Cluster_seq2'}, inplace=True)\n",
    "iss_dropped.reset_index(drop=True, inplace=True)"
   ]
  },
  {
   "cell_type": "code",
   "execution_count": 66,
   "metadata": {},
   "outputs": [],
   "source": [
    "iss_decision2.to_csv(dataDir+\"\\\\Cleaned\\\\iss_decision2_1109.csv\",\n",
    "                   index=False)\n",
    "iss_dropped2.to_csv(dataDir+\"\\\\Cleaned\\\\iss_dropped2_1109.csv\",\n",
    "                   index=False)"
   ]
  }
 ],
 "metadata": {
  "kernelspec": {
   "display_name": "Python 3",
   "language": "python",
   "name": "python3"
  },
  "language_info": {
   "codemirror_mode": {
    "name": "ipython",
    "version": 3
   },
   "file_extension": ".py",
   "mimetype": "text/x-python",
   "name": "python",
   "nbconvert_exporter": "python",
   "pygments_lexer": "ipython3",
   "version": "3.7.6"
  }
 },
 "nbformat": 4,
 "nbformat_minor": 4
}
