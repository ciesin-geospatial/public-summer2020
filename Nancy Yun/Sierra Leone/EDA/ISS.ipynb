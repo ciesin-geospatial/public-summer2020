{
 "cells": [
  {
   "cell_type": "code",
   "execution_count": 1,
   "metadata": {},
   "outputs": [],
   "source": [
    "import numpy as np\n",
    "import pandas as pd\n",
    "import matplotlib.pyplot as plt\n",
    "import fiona\n",
    "import geopandas as gpd\n",
    "import folium\n",
    "from folium.plugins import MarkerCluster\n",
    "import numpy as np"
   ]
  },
  {
   "cell_type": "code",
   "execution_count": 2,
   "metadata": {},
   "outputs": [],
   "source": [
    "# data import\n",
    "dataDir = r'C:\\Users\\DUANYUEYUN\\Documents\\GRID3\\Health facilities\\Data\\SLE'\n",
    "df = gpd.read_file(dataDir + '\\\\Original Data\\\\' + 'SLE_Health_facilities.gdb', \n",
    "                     driver='FileGDB', layer= 'SLE_ISS_Health_Facilities')"
   ]
  },
  {
   "cell_type": "code",
   "execution_count": 3,
   "metadata": {},
   "outputs": [],
   "source": [
    "pd.set_option('display.max_columns', None)\n",
    "pd.options.mode.chained_assignment = None "
   ]
  },
  {
   "cell_type": "code",
   "execution_count": 4,
   "metadata": {},
   "outputs": [],
   "source": [
    "# Define some variables\n",
    "country_col = 'countries'\n",
    "name_col = 'name_of_facility_visited'\n",
    "type_col = 'type_of_facility_visited'"
   ]
  },
  {
   "cell_type": "markdown",
   "metadata": {},
   "source": [
    "# 1. What is the list of fields?"
   ]
  },
  {
   "cell_type": "code",
   "execution_count": 5,
   "metadata": {},
   "outputs": [
    {
     "name": "stdout",
     "output_type": "stream",
     "text": [
      "The fields are Index(['starttime', 'endtime', 'today', 'deviceid', 'date_of_visit', 'ist',\n",
      "       'countries', 'states', 'districts', 'wards', 'designation',\n",
      "       'name_of_facility_visited', 'name_of_facility_visited_other',\n",
      "       'type_of_facility_visited', 'priority_level', 'facility_fp_acs',\n",
      "       'joint_supervision', 'supervised_by_dsno', 'supervised_by_who',\n",
      "       'current_feed_back', 'surveillance_fp_training', 'case_def_copy_copy1',\n",
      "       'facility_fp_acs_copy', 'physiotherapy_unit', 'long', 'lat', 'F27',\n",
      "       'F28', 'F29', 'F_index', 'F_parent_table_name', 'F_parent_index',\n",
      "       'F_tags', 'F_notes', 'F_version', 'F_duration', 'F_submitted_by',\n",
      "       'F_xform_id', 'longitude', 'latitude', 'Weeknumbers',\n",
      "       'YearofActiveSurv', 'geometry'],\n",
      "      dtype='object')\n"
     ]
    }
   ],
   "source": [
    "print(\"The fields are\", df.columns)"
   ]
  },
  {
   "cell_type": "markdown",
   "metadata": {},
   "source": [
    "# 2. What does each describe?"
   ]
  },
  {
   "cell_type": "markdown",
   "metadata": {},
   "source": [
    "- `starttime`: start time.\n",
    "- `endtime`: end time.\n",
    "- `today`: today's date and day of week\n",
    "- `deviceid`\n",
    "- `date_of_visit`\n",
    "- `ist`: region with respect to the continent, unique values include West, Central and East South.\n",
    "- `countries`\n",
    "- `states` \n",
    "- `districts`\n",
    "- `wards`: administrative division.\n",
    "- `designation`: title.\n",
    "\n",
    "- `name_of_facility_visited`\n",
    "- `name_of_facility_visited_other`: another name the facility might have.\n",
    "- `type_of_facility_visited`\n",
    "- `priority_level` \n",
    "- `facility_fp_acs`: focal person access (inferred), values could be 'Y', 'NA', 'N' or missing.\n",
    "- `joint_supervision`: whether the facility is jointly supervised. 'Y' or 'N'.\n",
    "- `supervised_by_dsno`: last time the facility was supervised by DSNO. Values could include 'Not in the past 1 year', 'more than 6 months', 'more than 3 months' and so on.\n",
    "- `supervised_by_who`: last time the facility was supervised by DSNO. Values could include 'Not in the past 1 year', 'more than 6 months', 'more than 3 months' and so on.\n",
    "\n",
    "- `current_feed_back`: 'Y' or 'N'\n",
    "- `surveillance_fp_training`: when training is given to focal person or there is no training or focal person is not assigned.\n",
    "- `case_def_copy_copy1`: ?\n",
    "- `facility_fp_acs_copy`: ?\n",
    "- `physiotherapy_unit`: whether there is a physiotherapy unit.\n",
    "- `long`: longitude\n",
    "- `lat`: latitude.\n",
    "- `F27`: ?\n",
    "- `F28`: ?\n",
    "- `F29`: almost 100% missing \n",
    "- `F_index` \n",
    "- `F_parent_table_name`: almost 100% missing \n",
    "- `F_parent_index`\n",
    "- `F_tags`: almost 100% missing \n",
    "- `F_notes`: almost 100% missing \n",
    "- `F_version`\n",
    "- `F_duration`\n",
    "- `F_submitted_by`: almost 100% missing \n",
    "- `F_xform_id`\n",
    "- `longitude` \n",
    "- `latitude` \n",
    "- `Weeknumbers`: week number in the year\n",
    "- `YearofActiveSurv`: year\n",
    "- `geometry`: contains the geometric object"
   ]
  },
  {
   "cell_type": "code",
   "execution_count": 6,
   "metadata": {},
   "outputs": [
    {
     "name": "stdout",
     "output_type": "stream",
     "text": [
      "Unique values of column ist: ['IST_WEST']\n",
      "\n",
      "\n",
      "Unique values of column facility_fp_acs: ['N' 'Y' 'NA']\n",
      "\n",
      "\n",
      "Unique values of column joint_supervision: ['Y' 'N']\n",
      "\n",
      "\n",
      "Unique values of column supervised_by_dsno: ['1_2_WEEKS' 'MORE_THAN_6_MONTHS' 'NOT_IN_THE_PAST_1_YEAR'\n",
      " 'MORE_THAN_3_MONTHS' 'LESS_THAN_1_WEEK' '2_3_MONTHS' '1_MONTH']\n",
      "\n",
      "\n",
      "Unique values of column current_feed_back: ['Y' 'N']\n",
      "\n",
      "\n",
      "Unique values of column surveillance_fp_training: ['1_2_YRS' 'NOT_TRAINED' 'NO_FOCAL_PERSON_ASSIGNED' '6_12_MONTHS'\n",
      " 'MORE_THAN_2_YRS' '6_MONTHS']\n",
      "\n",
      "\n",
      "Column case_def_copy_copy1 has too many unique values.\n",
      "Example values: ['AFP MEASLES YELLOW_FEVER CEREBROSPINAL_MENINGITIS NNT' 'NONE'\n",
      " 'AFP MEASLES YELLOW_FEVER' 'MEASLES YELLOW_FEVER NNT' 'NOT_APPLICABLE']\n",
      "\n",
      "\n",
      "Unique values of column facility_fp_acs_copy: ['N' 'NA' 'Y']\n",
      "\n",
      "\n",
      "Unique values of column physiotherapy_unit: ['N' 'Y']\n",
      "\n",
      "\n"
     ]
    }
   ],
   "source": [
    "# Examine unique values of certain columns\n",
    "cols = ['ist', 'facility_fp_acs', 'joint_supervision', 'supervised_by_dsno',\n",
    "       'current_feed_back', 'surveillance_fp_training', 'case_def_copy_copy1',\n",
    "       'facility_fp_acs_copy', 'physiotherapy_unit']\n",
    "for col in cols:\n",
    "    n_unique = df[col].nunique()\n",
    "    \n",
    "    if n_unique < 20:\n",
    "        print(\"Unique values of column\", col + ':', df[col].unique())\n",
    "        print('\\n')\n",
    "    \n",
    "    else:\n",
    "        print(\"Column\", col, \"has too many unique values.\")\n",
    "        print(\"Example values:\", df[col].unique()[:5])\n",
    "        print('\\n')"
   ]
  },
  {
   "cell_type": "markdown",
   "metadata": {},
   "source": [
    "# 3. Are they all populated?"
   ]
  },
  {
   "cell_type": "markdown",
   "metadata": {},
   "source": [
    "Most columns have less than 1% missing values. Some columns have more than 50% missing and a few columns have almost 100% missing values."
   ]
  },
  {
   "cell_type": "code",
   "execution_count": 7,
   "metadata": {},
   "outputs": [
    {
     "name": "stdout",
     "output_type": "stream",
     "text": [
      "NA values by column\n"
     ]
    },
    {
     "data": {
      "text/html": [
       "<div>\n",
       "<style scoped>\n",
       "    .dataframe tbody tr th:only-of-type {\n",
       "        vertical-align: middle;\n",
       "    }\n",
       "\n",
       "    .dataframe tbody tr th {\n",
       "        vertical-align: top;\n",
       "    }\n",
       "\n",
       "    .dataframe thead th {\n",
       "        text-align: right;\n",
       "    }\n",
       "</style>\n",
       "<table border=\"1\" class=\"dataframe\">\n",
       "  <thead>\n",
       "    <tr style=\"text-align: right;\">\n",
       "      <th></th>\n",
       "      <th>count</th>\n",
       "      <th>percentage</th>\n",
       "    </tr>\n",
       "  </thead>\n",
       "  <tbody>\n",
       "    <tr>\n",
       "      <th>starttime</th>\n",
       "      <td>0</td>\n",
       "      <td>0.0</td>\n",
       "    </tr>\n",
       "    <tr>\n",
       "      <th>endtime</th>\n",
       "      <td>5</td>\n",
       "      <td>0.2</td>\n",
       "    </tr>\n",
       "    <tr>\n",
       "      <th>today</th>\n",
       "      <td>0</td>\n",
       "      <td>0.0</td>\n",
       "    </tr>\n",
       "    <tr>\n",
       "      <th>deviceid</th>\n",
       "      <td>63</td>\n",
       "      <td>2.7</td>\n",
       "    </tr>\n",
       "    <tr>\n",
       "      <th>date_of_visit</th>\n",
       "      <td>0</td>\n",
       "      <td>0.0</td>\n",
       "    </tr>\n",
       "    <tr>\n",
       "      <th>ist</th>\n",
       "      <td>0</td>\n",
       "      <td>0.0</td>\n",
       "    </tr>\n",
       "    <tr>\n",
       "      <th>countries</th>\n",
       "      <td>0</td>\n",
       "      <td>0.0</td>\n",
       "    </tr>\n",
       "    <tr>\n",
       "      <th>states</th>\n",
       "      <td>0</td>\n",
       "      <td>0.0</td>\n",
       "    </tr>\n",
       "    <tr>\n",
       "      <th>districts</th>\n",
       "      <td>0</td>\n",
       "      <td>0.0</td>\n",
       "    </tr>\n",
       "    <tr>\n",
       "      <th>wards</th>\n",
       "      <td>38</td>\n",
       "      <td>1.7</td>\n",
       "    </tr>\n",
       "    <tr>\n",
       "      <th>designation</th>\n",
       "      <td>0</td>\n",
       "      <td>0.0</td>\n",
       "    </tr>\n",
       "    <tr>\n",
       "      <th>name_of_facility_visited</th>\n",
       "      <td>78</td>\n",
       "      <td>3.4</td>\n",
       "    </tr>\n",
       "    <tr>\n",
       "      <th>name_of_facility_visited_other</th>\n",
       "      <td>2300</td>\n",
       "      <td>100.0</td>\n",
       "    </tr>\n",
       "    <tr>\n",
       "      <th>type_of_facility_visited</th>\n",
       "      <td>0</td>\n",
       "      <td>0.0</td>\n",
       "    </tr>\n",
       "    <tr>\n",
       "      <th>priority_level</th>\n",
       "      <td>0</td>\n",
       "      <td>0.0</td>\n",
       "    </tr>\n",
       "    <tr>\n",
       "      <th>facility_fp_acs</th>\n",
       "      <td>0</td>\n",
       "      <td>0.0</td>\n",
       "    </tr>\n",
       "    <tr>\n",
       "      <th>joint_supervision</th>\n",
       "      <td>0</td>\n",
       "      <td>0.0</td>\n",
       "    </tr>\n",
       "    <tr>\n",
       "      <th>supervised_by_dsno</th>\n",
       "      <td>0</td>\n",
       "      <td>0.0</td>\n",
       "    </tr>\n",
       "    <tr>\n",
       "      <th>supervised_by_who</th>\n",
       "      <td>0</td>\n",
       "      <td>0.0</td>\n",
       "    </tr>\n",
       "    <tr>\n",
       "      <th>current_feed_back</th>\n",
       "      <td>0</td>\n",
       "      <td>0.0</td>\n",
       "    </tr>\n",
       "    <tr>\n",
       "      <th>surveillance_fp_training</th>\n",
       "      <td>0</td>\n",
       "      <td>0.0</td>\n",
       "    </tr>\n",
       "    <tr>\n",
       "      <th>case_def_copy_copy1</th>\n",
       "      <td>0</td>\n",
       "      <td>0.0</td>\n",
       "    </tr>\n",
       "    <tr>\n",
       "      <th>facility_fp_acs_copy</th>\n",
       "      <td>0</td>\n",
       "      <td>0.0</td>\n",
       "    </tr>\n",
       "    <tr>\n",
       "      <th>physiotherapy_unit</th>\n",
       "      <td>0</td>\n",
       "      <td>0.0</td>\n",
       "    </tr>\n",
       "    <tr>\n",
       "      <th>long</th>\n",
       "      <td>0</td>\n",
       "      <td>0.0</td>\n",
       "    </tr>\n",
       "    <tr>\n",
       "      <th>lat</th>\n",
       "      <td>0</td>\n",
       "      <td>0.0</td>\n",
       "    </tr>\n",
       "    <tr>\n",
       "      <th>F27</th>\n",
       "      <td>0</td>\n",
       "      <td>0.0</td>\n",
       "    </tr>\n",
       "    <tr>\n",
       "      <th>F28</th>\n",
       "      <td>0</td>\n",
       "      <td>0.0</td>\n",
       "    </tr>\n",
       "    <tr>\n",
       "      <th>F29</th>\n",
       "      <td>2300</td>\n",
       "      <td>100.0</td>\n",
       "    </tr>\n",
       "    <tr>\n",
       "      <th>F_index</th>\n",
       "      <td>0</td>\n",
       "      <td>0.0</td>\n",
       "    </tr>\n",
       "    <tr>\n",
       "      <th>F_parent_table_name</th>\n",
       "      <td>2300</td>\n",
       "      <td>100.0</td>\n",
       "    </tr>\n",
       "    <tr>\n",
       "      <th>F_parent_index</th>\n",
       "      <td>0</td>\n",
       "      <td>0.0</td>\n",
       "    </tr>\n",
       "    <tr>\n",
       "      <th>F_tags</th>\n",
       "      <td>2300</td>\n",
       "      <td>100.0</td>\n",
       "    </tr>\n",
       "    <tr>\n",
       "      <th>F_notes</th>\n",
       "      <td>2300</td>\n",
       "      <td>100.0</td>\n",
       "    </tr>\n",
       "    <tr>\n",
       "      <th>F_version</th>\n",
       "      <td>0</td>\n",
       "      <td>0.0</td>\n",
       "    </tr>\n",
       "    <tr>\n",
       "      <th>F_duration</th>\n",
       "      <td>5</td>\n",
       "      <td>0.2</td>\n",
       "    </tr>\n",
       "    <tr>\n",
       "      <th>F_submitted_by</th>\n",
       "      <td>2300</td>\n",
       "      <td>100.0</td>\n",
       "    </tr>\n",
       "    <tr>\n",
       "      <th>F_xform_id</th>\n",
       "      <td>368</td>\n",
       "      <td>16.0</td>\n",
       "    </tr>\n",
       "    <tr>\n",
       "      <th>longitude</th>\n",
       "      <td>0</td>\n",
       "      <td>0.0</td>\n",
       "    </tr>\n",
       "    <tr>\n",
       "      <th>latitude</th>\n",
       "      <td>0</td>\n",
       "      <td>0.0</td>\n",
       "    </tr>\n",
       "    <tr>\n",
       "      <th>Weeknumbers</th>\n",
       "      <td>0</td>\n",
       "      <td>0.0</td>\n",
       "    </tr>\n",
       "    <tr>\n",
       "      <th>YearofActiveSurv</th>\n",
       "      <td>0</td>\n",
       "      <td>0.0</td>\n",
       "    </tr>\n",
       "    <tr>\n",
       "      <th>geometry</th>\n",
       "      <td>0</td>\n",
       "      <td>0.0</td>\n",
       "    </tr>\n",
       "  </tbody>\n",
       "</table>\n",
       "</div>"
      ],
      "text/plain": [
       "                                count  percentage\n",
       "starttime                           0         0.0\n",
       "endtime                             5         0.2\n",
       "today                               0         0.0\n",
       "deviceid                           63         2.7\n",
       "date_of_visit                       0         0.0\n",
       "ist                                 0         0.0\n",
       "countries                           0         0.0\n",
       "states                              0         0.0\n",
       "districts                           0         0.0\n",
       "wards                              38         1.7\n",
       "designation                         0         0.0\n",
       "name_of_facility_visited           78         3.4\n",
       "name_of_facility_visited_other   2300       100.0\n",
       "type_of_facility_visited            0         0.0\n",
       "priority_level                      0         0.0\n",
       "facility_fp_acs                     0         0.0\n",
       "joint_supervision                   0         0.0\n",
       "supervised_by_dsno                  0         0.0\n",
       "supervised_by_who                   0         0.0\n",
       "current_feed_back                   0         0.0\n",
       "surveillance_fp_training            0         0.0\n",
       "case_def_copy_copy1                 0         0.0\n",
       "facility_fp_acs_copy                0         0.0\n",
       "physiotherapy_unit                  0         0.0\n",
       "long                                0         0.0\n",
       "lat                                 0         0.0\n",
       "F27                                 0         0.0\n",
       "F28                                 0         0.0\n",
       "F29                              2300       100.0\n",
       "F_index                             0         0.0\n",
       "F_parent_table_name              2300       100.0\n",
       "F_parent_index                      0         0.0\n",
       "F_tags                           2300       100.0\n",
       "F_notes                          2300       100.0\n",
       "F_version                           0         0.0\n",
       "F_duration                          5         0.2\n",
       "F_submitted_by                   2300       100.0\n",
       "F_xform_id                        368        16.0\n",
       "longitude                           0         0.0\n",
       "latitude                            0         0.0\n",
       "Weeknumbers                         0         0.0\n",
       "YearofActiveSurv                    0         0.0\n",
       "geometry                            0         0.0"
      ]
     },
     "execution_count": 7,
     "metadata": {},
     "output_type": "execute_result"
    }
   ],
   "source": [
    "print(\"NA values by column\")\n",
    "pd.DataFrame({'count':df.isna().sum(), 'percentage':round(df.isna().sum() / df.shape[0],3) * 100})"
   ]
  },
  {
   "cell_type": "markdown",
   "metadata": {},
   "source": [
    "# 4. Is there information on when the data was collected?  If so, what is the date range?"
   ]
  },
  {
   "cell_type": "markdown",
   "metadata": {},
   "source": [
    "Time related columns are `starttime`, `endtime`, `today`, `date_of_visit`, `Weeknumbers`, `YearofActiveSurv`."
   ]
  },
  {
   "cell_type": "markdown",
   "metadata": {},
   "source": [
    "`starttime`, `endtime`, `today`, `date_of_visit` all have strange values. The start and end dates are listed below. `Weeknumbers`, `YearofActiveSurv` seem to be within a reasonable range. Some data cleaning is done to choose one of `today`, `date_of_visit` as the correct date. If both are incorrect, the date is left as na."
   ]
  },
  {
   "cell_type": "code",
   "execution_count": 8,
   "metadata": {},
   "outputs": [],
   "source": [
    "# For selecting the time related columns \n",
    "cols = ['starttime','endtime','today_dt', 'date_of_visit_dt','Weeknumbers','YearofActiveSurv', \n",
    "        'today_wk_num', 'dov_wk_num']"
   ]
  },
  {
   "cell_type": "markdown",
   "metadata": {},
   "source": [
    "## `today`"
   ]
  },
  {
   "cell_type": "code",
   "execution_count": 9,
   "metadata": {},
   "outputs": [
    {
     "name": "stdout",
     "output_type": "stream",
     "text": [
      "Column: today\n",
      "start: 1970-01-01 \n",
      "end: 2020-05-18\n"
     ]
    }
   ],
   "source": [
    "# change time related columns to datetime format\n",
    "df['today_dt'] = pd.to_datetime(df['today'])\n",
    "print('Column: today')\n",
    "print(\"start:\", df['today_dt'].min().date(), \n",
    "      \"\\nend:\", df['today_dt'].max().date())"
   ]
  },
  {
   "cell_type": "markdown",
   "metadata": {},
   "source": [
    "## `date_of_visit`"
   ]
  },
  {
   "cell_type": "code",
   "execution_count": 10,
   "metadata": {},
   "outputs": [
    {
     "name": "stdout",
     "output_type": "stream",
     "text": [
      "Column: date_of_visit\n",
      "start: 1900-02-11 \n",
      "end: 2021-06-16\n"
     ]
    }
   ],
   "source": [
    "# change time related columns to datetime format\n",
    "df['date_of_visit_dt'] = pd.to_datetime(df['date_of_visit'])\n",
    "print('Column: date_of_visit')\n",
    "print(\"start:\", df['date_of_visit_dt'].min().date(), \n",
    "      \"\\nend:\", df['date_of_visit_dt'].max().date())"
   ]
  },
  {
   "cell_type": "markdown",
   "metadata": {},
   "source": [
    "## `Weeknumbers`"
   ]
  },
  {
   "cell_type": "code",
   "execution_count": 11,
   "metadata": {},
   "outputs": [
    {
     "name": "stdout",
     "output_type": "stream",
     "text": [
      "Column: Weeknumbers\n",
      "min value: 3\n",
      "max value: 52\n"
     ]
    }
   ],
   "source": [
    "df['Weeknumbers_new'] = df['Weeknumbers'].astype(int)\n",
    "print('Column: Weeknumbers')\n",
    "print('min value:', min(df['Weeknumbers_new']))\n",
    "print('max value:', max(df['Weeknumbers_new']))"
   ]
  },
  {
   "cell_type": "markdown",
   "metadata": {},
   "source": [
    "## `YearofActiveSurv`"
   ]
  },
  {
   "cell_type": "code",
   "execution_count": 12,
   "metadata": {},
   "outputs": [
    {
     "name": "stdout",
     "output_type": "stream",
     "text": [
      "Column: YearofActiveSurv\n",
      "start: 2017 \n",
      "end: 2020\n"
     ]
    }
   ],
   "source": [
    "df['YearofActiveSurv_new'] = df['YearofActiveSurv'].astype(int)\n",
    "print('Column: YearofActiveSurv')\n",
    "print(\"start:\", df['YearofActiveSurv_new'].min(), \n",
    "      \"\\nend:\", df['YearofActiveSurv_new'].max())"
   ]
  },
  {
   "cell_type": "markdown",
   "metadata": {},
   "source": [
    "## date cleaning"
   ]
  },
  {
   "cell_type": "code",
   "execution_count": 13,
   "metadata": {},
   "outputs": [],
   "source": [
    "# create a new 'date' column\n",
    "dates = []\n",
    "for idx, row in df.iterrows():\n",
    "    dov = row['date_of_visit_dt']\n",
    "    today = row['today_dt']\n",
    "    \n",
    "    # if 'date_of_visit' is within the time frame, take 'date_of_visit' as date\n",
    "    if dov >= pd.to_datetime('2017-01-01') and dov < pd.to_datetime('2020-07-01'):\n",
    "        dates.append(dov)\n",
    "    \n",
    "    # if 'today' is within the time frame, take 'today' as date\n",
    "    elif today >= pd.to_datetime('2017-01-01') and today < pd.to_datetime('2020-07-01'):\n",
    "        dates.append(today)\n",
    "    \n",
    "    # otherwise, date is na\n",
    "    else:\n",
    "        dates.append(np.nan)\n",
    "        \n",
    "df['date'] = dates"
   ]
  },
  {
   "cell_type": "code",
   "execution_count": 14,
   "metadata": {},
   "outputs": [
    {
     "name": "stdout",
     "output_type": "stream",
     "text": [
      "Number of NAs as a result: 1\n"
     ]
    }
   ],
   "source": [
    "print(\"Number of NAs as a result:\", df['date'].isna().sum())"
   ]
  },
  {
   "cell_type": "code",
   "execution_count": 15,
   "metadata": {},
   "outputs": [
    {
     "name": "stdout",
     "output_type": "stream",
     "text": [
      "Date range after cleaning:\n",
      "start date: 2017-01-20 \n",
      "end date: 2020-05-18\n"
     ]
    }
   ],
   "source": [
    "print(\"Date range after cleaning:\")\n",
    "print(\"start date:\", df['date'].min().date(), \n",
    "      \"\\nend date:\", df['date'].max().date())"
   ]
  },
  {
   "cell_type": "markdown",
   "metadata": {},
   "source": [
    "# 5. How many data points have been collected overall?"
   ]
  },
  {
   "cell_type": "code",
   "execution_count": 16,
   "metadata": {},
   "outputs": [
    {
     "name": "stdout",
     "output_type": "stream",
     "text": [
      "Number of data points collected: 2300\n"
     ]
    }
   ],
   "source": [
    "print(\"Number of data points collected:\", df.shape[0])"
   ]
  },
  {
   "cell_type": "markdown",
   "metadata": {},
   "source": [
    "# 6. How many of the facility names are empty, both null or no text?"
   ]
  },
  {
   "cell_type": "code",
   "execution_count": 17,
   "metadata": {},
   "outputs": [
    {
     "name": "stdout",
     "output_type": "stream",
     "text": [
      "Number of null values: 78\n"
     ]
    }
   ],
   "source": [
    "print(\"Number of null values:\", df[name_col].isna().sum())"
   ]
  },
  {
   "cell_type": "code",
   "execution_count": 18,
   "metadata": {},
   "outputs": [
    {
     "name": "stdout",
     "output_type": "stream",
     "text": [
      "Number of no text values: 0\n"
     ]
    }
   ],
   "source": [
    "print(\"Number of no text values:\", sum(df[name_col] == \"\"))"
   ]
  },
  {
   "cell_type": "code",
   "execution_count": 19,
   "metadata": {},
   "outputs": [
    {
     "name": "stdout",
     "output_type": "stream",
     "text": [
      "Number of data points: 2300\n",
      "Number of unique facility names: 1434\n"
     ]
    }
   ],
   "source": [
    "print(\"Number of data points:\", df.shape[0])\n",
    "print(\"Number of unique facility names:\", df[name_col].nunique())"
   ]
  },
  {
   "cell_type": "markdown",
   "metadata": {},
   "source": [
    "# 7. What are the “types” used? \n",
    "Each health Facility is assigned a type such as Hospital, Health Facility, etc. Please list the unique types and count for each."
   ]
  },
  {
   "cell_type": "code",
   "execution_count": 20,
   "metadata": {},
   "outputs": [
    {
     "name": "stdout",
     "output_type": "stream",
     "text": [
      "Number of unique facility types: 7\n",
      "PHC_CENTER          1540\n",
      "MCH_CARE_CENTER      637\n",
      "GENERAL_HOSP          97\n",
      "PRIVATE_FACILITY      20\n",
      "TEACHING_HOSP          4\n",
      "SPIRIT_HEALER          1\n",
      "TRAD_HEALER            1\n",
      "Name: type_of_facility_visited, dtype: int64\n"
     ]
    }
   ],
   "source": [
    "print( \"Number of unique facility types:\", df[type_col].nunique())\n",
    "print(df[type_col].value_counts())"
   ]
  },
  {
   "cell_type": "markdown",
   "metadata": {},
   "source": [
    "# 8. Data Cleaning"
   ]
  },
  {
   "cell_type": "code",
   "execution_count": 21,
   "metadata": {},
   "outputs": [],
   "source": [
    "# obtain latitude and longitude from geometry\n",
    "# Re-project to WGS84\n",
    "df['geometry'] = df['geometry'].to_crs(epsg=4326)\n",
    "df['Latitude'] = df['geometry'].y\n",
    "df['Longitude'] = df['geometry'].x"
   ]
  },
  {
   "cell_type": "code",
   "execution_count": 22,
   "metadata": {},
   "outputs": [],
   "source": [
    "df.reset_index(inplace=True)"
   ]
  },
  {
   "cell_type": "code",
   "execution_count": 23,
   "metadata": {},
   "outputs": [],
   "source": [
    "# drop unimportant columns\n",
    "df.drop(columns=['starttime', 'endtime', 'today', 'deviceid', 'date_of_visit', \n",
    "                 'ist', 'countries', 'name_of_facility_visited_other', \n",
    "                 'geometry', 'today_dt', 'date_of_visit_dt', 'long', 'lat', \n",
    "                 'F27', 'F28', 'F29', 'F_index', 'F_parent_table_name', \n",
    "                 'F_parent_index', 'F_tags', 'F_notes', 'F_version', 'F_duration', \n",
    "                 'F_submitted_by', 'F_xform_id', 'longitude', 'latitude', \n",
    "                 'Weeknumbers', 'YearofActiveSurv', 'geometry', 'today_dt', \n",
    "                 'date_of_visit_dt', 'Weeknumbers_new', 'YearofActiveSurv_new'],\n",
    "       inplace=True)"
   ]
  },
  {
   "cell_type": "code",
   "execution_count": 24,
   "metadata": {},
   "outputs": [],
   "source": [
    "# priority level, H and Hi both exist.\n",
    "# change Hi to H, same meaning\n",
    "df['priority_level'] = df['priority_level'].str.replace('Hi','H')"
   ]
  },
  {
   "cell_type": "code",
   "execution_count": 25,
   "metadata": {},
   "outputs": [],
   "source": [
    "# states, change WESTERN AREA to Western for consistency\n",
    "# only uppercase first letter\n",
    "df['states'] = df['states'].str.title().str.replace('Area', '').str.strip()"
   ]
  },
  {
   "cell_type": "code",
   "execution_count": 26,
   "metadata": {},
   "outputs": [],
   "source": [
    "# districts\n",
    "# replace WESTERN RUR with Western Area Rural, WESTERN URB with Western Area Urban for consistency\n",
    "df['districts'] = df['districts'].str.replace('WESTERN RUR', 'Western Area Rural') \\\n",
    ".str.replace('WESTERN URB', 'Western Area Urban') \\\n",
    ".str.title()"
   ]
  },
  {
   "cell_type": "code",
   "execution_count": 27,
   "metadata": {},
   "outputs": [],
   "source": [
    "# wards\n",
    "# uppercase first letter for consistency\n",
    "# some values contain facility types, remove the types from those values\n",
    "types = ['CHC', 'CHP']\n",
    "df['wards'] = df['wards'].str.replace('|'.join(types), '', case=False).str.title().str.strip()"
   ]
  },
  {
   "cell_type": "code",
   "execution_count": 28,
   "metadata": {},
   "outputs": [],
   "source": [
    "# name_of_facility_visited\n",
    "# uppercase everything\n",
    "# strip whitespace\n",
    "df['name_of_facility_visited'] = df['name_of_facility_visited'].str.upper().str.strip()"
   ]
  },
  {
   "cell_type": "code",
   "execution_count": 47,
   "metadata": {},
   "outputs": [],
   "source": [
    "# name cleaning\n",
    "# sort by date\n",
    "df.sort_values(by=['states', 'districts', 'wards',\n",
    "                       'name_of_facility_visited', 'date'],\n",
    "                  inplace=True)"
   ]
  },
  {
   "cell_type": "code",
   "execution_count": 63,
   "metadata": {},
   "outputs": [],
   "source": [
    "# drop duplicates, identical values in states, districts, wards, facility name\n",
    "# keep last record\n",
    "df_dropped = df[~df.duplicated(subset=['states', 'districts', 'wards', \n",
    "                         'name_of_facility_visited'],\n",
    "    keep = 'last')]"
   ]
  },
  {
   "cell_type": "code",
   "execution_count": 49,
   "metadata": {},
   "outputs": [
    {
     "name": "stdout",
     "output_type": "stream",
     "text": [
      "Number of points dropped: 768\n",
      "Number of data points remaining: 1532\n"
     ]
    }
   ],
   "source": [
    "print(\"Number of points dropped:\", df.shape[0]-df_dropped.shape[0] )\n",
    "print(\"Number of data points remaining:\", df_dropped.shape[0])"
   ]
  },
  {
   "cell_type": "code",
   "execution_count": 58,
   "metadata": {},
   "outputs": [],
   "source": [
    "common_types =  ['CHC', 'MCHP', 'CHP', 'Referral Hospital', 'Government Hospital', \n",
    "                 'Mission Hospital', 'Mis Hospital', 'Memorial Hospital', \n",
    "                  'Police Hospital', 'Community Hospital',\n",
    "                 'Military Hospital', 'Government',\n",
    "                 'Industrial Hospital', 'Hospital', 'Community Health Post',\n",
    "                'Community Health Centre', 'Health Centre', 'Health Post', \n",
    "                 'Memorial Clinic', 'Police Clinic', 'Clinic', 'Dental', 'Mental']"
   ]
  },
  {
   "cell_type": "code",
   "execution_count": 64,
   "metadata": {},
   "outputs": [],
   "source": [
    "df_dropped['name_short'] = df_dropped[name_col].str.replace('_',' ')\\\n",
    ".str.replace('-',' ')\\\n",
    ".str.replace(',',' ')\\\n",
    ".str.replace('.',' ') \\\n",
    ".str.replace(\"   \", \" \")\\\n",
    ".str.replace(\"  \", \" \")\\\n",
    ".str.replace(' Hosp | Hosp$',' Hospital ', case=False) \\\n",
    ".str.replace(' Gov ',' Government ', case=False) \\\n",
    ".str.replace(' Govt | Govt$',' Government ', case=False) \\\n",
    ".str.replace('underfive|underfives',' Under Five', case=False) \\\n",
    ".str.title() \\\n",
    ".str.replace('|'.join(common_types), '', regex=True, case = False) \\\n",
    ".str.strip()"
   ]
  },
  {
   "cell_type": "code",
   "execution_count": 65,
   "metadata": {},
   "outputs": [],
   "source": [
    "#df_dropped[['states', 'districts', 'wards', 'name_of_facility_visited', \n",
    "#    'name_short', 'type_of_facility_visited']].sample(5)"
   ]
  },
  {
   "cell_type": "code",
   "execution_count": 66,
   "metadata": {},
   "outputs": [],
   "source": [
    "df_dropped.rename(columns={'states':\"Region\", 'districts':'District', \n",
    "                           'wards':'Chiefdom', 'name_of_facility_visited':'Facility Name', \n",
    "                           'type_of_facility_visited':\"Facility Type\", \n",
    "                           'date':\"Date\", 'name_short':'Short Name',\n",
    "                          'index':'ID'},inplace=True)\n",
    "df_dropped.reset_index(drop=True, inplace=True)"
   ]
  },
  {
   "cell_type": "code",
   "execution_count": 70,
   "metadata": {},
   "outputs": [],
   "source": [
    "#df_dropped[['Region', 'District', 'Chiefdom', 'Facility Name',\n",
    "#            'Short Name', 'Facility Type']].head()"
   ]
  },
  {
   "cell_type": "code",
   "execution_count": 68,
   "metadata": {},
   "outputs": [],
   "source": [
    "# further drop duplicates\n",
    "# identical values in Region, District, Chiefdom, Short Name, Facility Type\n",
    "df_dropped2 = df_dropped[~df_dropped.duplicated(subset=['Region', 'District', 'Chiefdom', \n",
    "                         'Short Name', 'Facility Type'], keep = 'last')]"
   ]
  },
  {
   "cell_type": "code",
   "execution_count": 69,
   "metadata": {},
   "outputs": [
    {
     "name": "stdout",
     "output_type": "stream",
     "text": [
      "Number of points dropped: 83\n",
      "Number of data points remaining: 1449\n"
     ]
    }
   ],
   "source": [
    "print(\"Number of points dropped:\", df_dropped.shape[0]-df_dropped2.shape[0] )\n",
    "print(\"Number of data points remaining:\", df_dropped2.shape[0])"
   ]
  },
  {
   "cell_type": "code",
   "execution_count": 72,
   "metadata": {},
   "outputs": [],
   "source": [
    "df_dropped2['Source'] = 'ISS'"
   ]
  },
  {
   "cell_type": "code",
   "execution_count": 74,
   "metadata": {},
   "outputs": [
    {
     "data": {
      "text/html": [
       "<div>\n",
       "<style scoped>\n",
       "    .dataframe tbody tr th:only-of-type {\n",
       "        vertical-align: middle;\n",
       "    }\n",
       "\n",
       "    .dataframe tbody tr th {\n",
       "        vertical-align: top;\n",
       "    }\n",
       "\n",
       "    .dataframe thead th {\n",
       "        text-align: right;\n",
       "    }\n",
       "</style>\n",
       "<table border=\"1\" class=\"dataframe\">\n",
       "  <thead>\n",
       "    <tr style=\"text-align: right;\">\n",
       "      <th></th>\n",
       "      <th>ID</th>\n",
       "      <th>Region</th>\n",
       "      <th>District</th>\n",
       "      <th>Chiefdom</th>\n",
       "      <th>designation</th>\n",
       "      <th>Facility Name</th>\n",
       "      <th>Facility Type</th>\n",
       "      <th>priority_level</th>\n",
       "      <th>facility_fp_acs</th>\n",
       "      <th>joint_supervision</th>\n",
       "      <th>supervised_by_dsno</th>\n",
       "      <th>supervised_by_who</th>\n",
       "      <th>current_feed_back</th>\n",
       "      <th>surveillance_fp_training</th>\n",
       "      <th>case_def_copy_copy1</th>\n",
       "      <th>facility_fp_acs_copy</th>\n",
       "      <th>physiotherapy_unit</th>\n",
       "      <th>Date</th>\n",
       "      <th>Latitude</th>\n",
       "      <th>Longitude</th>\n",
       "      <th>Short Name</th>\n",
       "      <th>Source</th>\n",
       "    </tr>\n",
       "  </thead>\n",
       "  <tbody>\n",
       "  </tbody>\n",
       "</table>\n",
       "</div>"
      ],
      "text/plain": [
       "Empty DataFrame\n",
       "Columns: [ID, Region, District, Chiefdom, designation, Facility Name, Facility Type, priority_level, facility_fp_acs, joint_supervision, supervised_by_dsno, supervised_by_who, current_feed_back, surveillance_fp_training, case_def_copy_copy1, facility_fp_acs_copy, physiotherapy_unit, Date, Latitude, Longitude, Short Name, Source]\n",
       "Index: []"
      ]
     },
     "execution_count": 74,
     "metadata": {},
     "output_type": "execute_result"
    }
   ],
   "source": [
    "df_dropped2[df_dropped2.duplicated(subset=['Longitude','Latitude'], keep = False)]"
   ]
  },
  {
   "cell_type": "code",
   "execution_count": 76,
   "metadata": {},
   "outputs": [],
   "source": [
    "df_dropped2.to_csv(dataDir + \"\\\\Cleaned Data\\\\Overall\\\\ISS_cleaned_0814.csv\",\n",
    "                 index=False)"
   ]
  },
  {
   "cell_type": "markdown",
   "metadata": {},
   "source": [
    "# 8. Make a map of the dataset, how does the data look? Does it all fall within Africa?"
   ]
  },
  {
   "cell_type": "markdown",
   "metadata": {},
   "source": [
    "Since `geometry` has some missing values, rows with `geometry` missing are dropped. "
   ]
  },
  {
   "cell_type": "markdown",
   "metadata": {},
   "source": [
    "It looks like all the data points all fall within the country. "
   ]
  },
  {
   "cell_type": "code",
   "execution_count": 30,
   "metadata": {},
   "outputs": [],
   "source": [
    "# Re-project to WGS84\n",
    "df['geometry'] = df['geometry'].to_crs(epsg=4326)"
   ]
  },
  {
   "cell_type": "code",
   "execution_count": 27,
   "metadata": {},
   "outputs": [],
   "source": [
    "def make_map(zoom_start, df):\n",
    "    m = folium.Map(location=[8.542941, -11.783450], \n",
    "                   zoom_start=zoom_start, control_scale=True)\n",
    "\n",
    "    # Create a Clustered map where points are clustered\n",
    "    marker_cluster = MarkerCluster().add_to(m)\n",
    "    # Create health facilities as points on top of the map\n",
    "    for idx, row in df.iterrows():\n",
    "        # Get lat and lon of points\n",
    "        lon = row['geometry'].x\n",
    "        lat = row['geometry'].y\n",
    "        name = row[name_col]\n",
    "\n",
    "        # Add marker to the map\n",
    "        folium.Marker(location=[lat, lon], popup=name).add_to(m) \n",
    "    return m"
   ]
  },
  {
   "cell_type": "code",
   "execution_count": 35,
   "metadata": {
    "scrolled": true
   },
   "outputs": [],
   "source": [
    "#make_map(zoom_start=7, df=df)"
   ]
  },
  {
   "cell_type": "markdown",
   "metadata": {},
   "source": [
    "![](maps/ISS_13.png)"
   ]
  }
 ],
 "metadata": {
  "kernelspec": {
   "display_name": "Python 3",
   "language": "python",
   "name": "python3"
  },
  "language_info": {
   "codemirror_mode": {
    "name": "ipython",
    "version": 3
   },
   "file_extension": ".py",
   "mimetype": "text/x-python",
   "name": "python",
   "nbconvert_exporter": "python",
   "pygments_lexer": "ipython3",
   "version": "3.7.6"
  }
 },
 "nbformat": 4,
 "nbformat_minor": 4
}
