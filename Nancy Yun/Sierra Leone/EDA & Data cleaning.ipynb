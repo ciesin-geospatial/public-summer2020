{
 "cells": [
  {
   "cell_type": "code",
   "execution_count": 1,
   "metadata": {},
   "outputs": [],
   "source": [
    "import numpy as np\n",
    "import pandas as pd\n",
    "import matplotlib.pyplot as plt\n",
    "import fiona\n",
    "import geopandas as gpd\n",
    "import folium\n",
    "import os\n",
    "from folium.plugins import MarkerCluster\n",
    "from math import radians, sin, cos, acos"
   ]
  },
  {
   "cell_type": "code",
   "execution_count": 2,
   "metadata": {},
   "outputs": [],
   "source": [
    "pd.options.mode.chained_assignment = None\n",
    "pd.set_option('display.max_columns', None)"
   ]
  },
  {
   "cell_type": "code",
   "execution_count": 3,
   "metadata": {},
   "outputs": [],
   "source": [
    "# data import\n",
    "dataDir = r'C:\\Users\\DUANYUEYUN\\Documents\\GRID3\\Health facilities\\Data\\SLE'\n",
    "filename = 'Consolidated Facility List_ UNICEF DPPI 2016_deidentified.xlsx'\n",
    "unicef = pd.read_excel(dataDir+'\\\\Original Data\\\\'+filename, sheet_name = 2,\n",
    "                       usecols = 'B:O', na_values = ['#N/A', 'Missing', 'Not available', \n",
    "                                                     'Not yet determined', \"No Data\"])\n",
    "\n",
    "dtsi = gpd.read_file(dataDir + '\\\\Original Data\\\\' + 'SLE_Health_facilities.gdb', \n",
    "                     driver='FileGDB', layer= 'SLE_DTSI_health_facilities')\n",
    "\n",
    "filename = 'Draft Master Facility List _ SARA WHO DPPI 20170706.xls'\n",
    "sara = pd.read_excel(dataDir+'\\\\Original Data\\\\'+filename, sheet_name = 0,\n",
    "                    na_values=['Unknown', 'survey error'])\n",
    "\n",
    "filename = 'Updated list of facilities _ DPPI Mar 2020.xls'\n",
    "mfl = pd.read_excel(dataDir+'\\\\Original Data\\\\'+filename)\n",
    "\n",
    "filename = 'FMFL with GPS Coordinates.csv'\n",
    "fmfl = pd.read_csv(dataDir+'\\\\Original Data\\\\'+filename)"
   ]
  },
  {
   "cell_type": "code",
   "execution_count": 4,
   "metadata": {},
   "outputs": [],
   "source": [
    "type_dict = {'unicef':'FACILITY_TYPE', 'sara':'Facility Type', 'mfl':'Facility Type',\n",
    "            'fmfl':'Facility Type'}\n",
    "name_dict = {'unicef':'FACILITY_NAME', 'sara':'Facility name (Cleaned)', \n",
    "             'mfl':'Facility Name', 'fmfl':'FacilityName'}"
   ]
  },
  {
   "cell_type": "markdown",
   "metadata": {},
   "source": [
    "# Consolidated Facility List_ UNICEF DPPI 2016_deidentified"
   ]
  },
  {
   "cell_type": "markdown",
   "metadata": {},
   "source": [
    "## 1. List of fields"
   ]
  },
  {
   "cell_type": "code",
   "execution_count": 5,
   "metadata": {
    "scrolled": true
   },
   "outputs": [
    {
     "name": "stdout",
     "output_type": "stream",
     "text": [
      "The fields are Index(['Region', 'District', 'Chiefdom', 'FACILITY_NAME', 'FACILITY_ID',\n",
      "       'FACILITY_TYPE', 'Latitude', 'Longitude', 'Altitude', 'GPS accuracy',\n",
      "       'Functional Status', 'Catchment population',\n",
      "       'Number of villages within the catchment area',\n",
      "       'Mobile Network coverage'],\n",
      "      dtype='object')\n"
     ]
    }
   ],
   "source": [
    "print(\"The fields are\", unicef.columns)"
   ]
  },
  {
   "cell_type": "markdown",
   "metadata": {},
   "source": [
    "- `Region`: Eastern, Northern, Southern, Western\n",
    "- `District`: admin 1 name\n",
    "- `Chiefdom`: admin 2 name\n",
    "- `FACILITY_NAME`: facility name\n",
    "- `FACILITY_ID`: facility id\n",
    "- `FACILITY_TYPE`: facility type\n",
    "- `Latitude`\n",
    "- `Longitude`\n",
    "- `Altitude`\n",
    "- `GPS accuracy`: a score that ranges from 3.75 to 15\n",
    "- `Functional Status`: values include Functioning, Not reporting to DHMT, Don't know, Not Functioning\n",
    "- `Catchment population`: population within the catchment area\n",
    "- `Number of villages within the catchment area`\n",
    "- `Mobile Network coverage`: Yes/No"
   ]
  },
  {
   "cell_type": "code",
   "execution_count": 6,
   "metadata": {},
   "outputs": [],
   "source": [
    "# Make column entries consistent in terms of upper/lower case\n",
    "unicef['Mobile Network coverage'] = unicef['Mobile Network coverage'].str.title()"
   ]
  },
  {
   "cell_type": "markdown",
   "metadata": {},
   "source": [
    "## 2. Missing values"
   ]
  },
  {
   "cell_type": "code",
   "execution_count": 7,
   "metadata": {},
   "outputs": [
    {
     "name": "stdout",
     "output_type": "stream",
     "text": [
      "NA values by column\n"
     ]
    },
    {
     "data": {
      "text/html": [
       "<div>\n",
       "<style scoped>\n",
       "    .dataframe tbody tr th:only-of-type {\n",
       "        vertical-align: middle;\n",
       "    }\n",
       "\n",
       "    .dataframe tbody tr th {\n",
       "        vertical-align: top;\n",
       "    }\n",
       "\n",
       "    .dataframe thead th {\n",
       "        text-align: right;\n",
       "    }\n",
       "</style>\n",
       "<table border=\"1\" class=\"dataframe\">\n",
       "  <thead>\n",
       "    <tr style=\"text-align: right;\">\n",
       "      <th></th>\n",
       "      <th>count</th>\n",
       "      <th>percentage</th>\n",
       "    </tr>\n",
       "  </thead>\n",
       "  <tbody>\n",
       "    <tr>\n",
       "      <th>Region</th>\n",
       "      <td>0</td>\n",
       "      <td>0.0</td>\n",
       "    </tr>\n",
       "    <tr>\n",
       "      <th>District</th>\n",
       "      <td>0</td>\n",
       "      <td>0.0</td>\n",
       "    </tr>\n",
       "    <tr>\n",
       "      <th>Chiefdom</th>\n",
       "      <td>12</td>\n",
       "      <td>0.9</td>\n",
       "    </tr>\n",
       "    <tr>\n",
       "      <th>FACILITY_NAME</th>\n",
       "      <td>0</td>\n",
       "      <td>0.0</td>\n",
       "    </tr>\n",
       "    <tr>\n",
       "      <th>FACILITY_ID</th>\n",
       "      <td>1</td>\n",
       "      <td>0.1</td>\n",
       "    </tr>\n",
       "    <tr>\n",
       "      <th>FACILITY_TYPE</th>\n",
       "      <td>2</td>\n",
       "      <td>0.2</td>\n",
       "    </tr>\n",
       "    <tr>\n",
       "      <th>Latitude</th>\n",
       "      <td>66</td>\n",
       "      <td>5.1</td>\n",
       "    </tr>\n",
       "    <tr>\n",
       "      <th>Longitude</th>\n",
       "      <td>66</td>\n",
       "      <td>5.1</td>\n",
       "    </tr>\n",
       "    <tr>\n",
       "      <th>Altitude</th>\n",
       "      <td>66</td>\n",
       "      <td>5.1</td>\n",
       "    </tr>\n",
       "    <tr>\n",
       "      <th>GPS accuracy</th>\n",
       "      <td>66</td>\n",
       "      <td>5.1</td>\n",
       "    </tr>\n",
       "    <tr>\n",
       "      <th>Functional Status</th>\n",
       "      <td>46</td>\n",
       "      <td>3.6</td>\n",
       "    </tr>\n",
       "    <tr>\n",
       "      <th>Catchment population</th>\n",
       "      <td>81</td>\n",
       "      <td>6.3</td>\n",
       "    </tr>\n",
       "    <tr>\n",
       "      <th>Number of villages within the catchment area</th>\n",
       "      <td>631</td>\n",
       "      <td>48.9</td>\n",
       "    </tr>\n",
       "    <tr>\n",
       "      <th>Mobile Network coverage</th>\n",
       "      <td>40</td>\n",
       "      <td>3.1</td>\n",
       "    </tr>\n",
       "  </tbody>\n",
       "</table>\n",
       "</div>"
      ],
      "text/plain": [
       "                                              count  percentage\n",
       "Region                                            0         0.0\n",
       "District                                          0         0.0\n",
       "Chiefdom                                         12         0.9\n",
       "FACILITY_NAME                                     0         0.0\n",
       "FACILITY_ID                                       1         0.1\n",
       "FACILITY_TYPE                                     2         0.2\n",
       "Latitude                                         66         5.1\n",
       "Longitude                                        66         5.1\n",
       "Altitude                                         66         5.1\n",
       "GPS accuracy                                     66         5.1\n",
       "Functional Status                                46         3.6\n",
       "Catchment population                             81         6.3\n",
       "Number of villages within the catchment area    631        48.9\n",
       "Mobile Network coverage                          40         3.1"
      ]
     },
     "execution_count": 7,
     "metadata": {},
     "output_type": "execute_result"
    }
   ],
   "source": [
    "print(\"NA values by column\")\n",
    "pd.DataFrame({'count':unicef.isna().sum(), \n",
    "              'percentage':round(unicef.isna().sum() / unicef.shape[0],3) * 100})"
   ]
  },
  {
   "cell_type": "markdown",
   "metadata": {},
   "source": [
    "## 3. Number of data points"
   ]
  },
  {
   "cell_type": "code",
   "execution_count": 8,
   "metadata": {},
   "outputs": [
    {
     "name": "stdout",
     "output_type": "stream",
     "text": [
      "Number of data points collected: 1290\n"
     ]
    }
   ],
   "source": [
    "print(\"Number of data points collected:\", unicef.shape[0])"
   ]
  },
  {
   "cell_type": "markdown",
   "metadata": {},
   "source": [
    "## 4. Facility types"
   ]
  },
  {
   "cell_type": "markdown",
   "metadata": {},
   "source": [
    "Since there are facilities that are assigned the type 'CLINIC' and others assigned the type 'Clinic', uppercase everything to ensure consistency."
   ]
  },
  {
   "cell_type": "code",
   "execution_count": 9,
   "metadata": {},
   "outputs": [],
   "source": [
    "# upper case everything\n",
    "unicef[type_dict['unicef']] = unicef[type_dict['unicef']].str.upper()"
   ]
  },
  {
   "cell_type": "code",
   "execution_count": 10,
   "metadata": {},
   "outputs": [
    {
     "name": "stdout",
     "output_type": "stream",
     "text": [
      "Dataset: UNICEF\n",
      "Number of unique facility types: 5\n"
     ]
    },
    {
     "data": {
      "text/plain": [
       "MCHP        589\n",
       "CHP         388\n",
       "CHC         234\n",
       "HOSPITAL     43\n",
       "CLINIC       34\n",
       "Name: FACILITY_TYPE, dtype: int64"
      ]
     },
     "execution_count": 10,
     "metadata": {},
     "output_type": "execute_result"
    }
   ],
   "source": [
    "print('Dataset: UNICEF')\n",
    "print( \"Number of unique facility types:\", unicef[type_dict['unicef']].nunique())\n",
    "unicef[type_dict['unicef']].value_counts()"
   ]
  },
  {
   "cell_type": "markdown",
   "metadata": {},
   "source": [
    "## 5. Facility names"
   ]
  },
  {
   "cell_type": "markdown",
   "metadata": {},
   "source": [
    "### 5.1 How many of the facility names are empty, both null or no text?"
   ]
  },
  {
   "cell_type": "code",
   "execution_count": 11,
   "metadata": {},
   "outputs": [],
   "source": [
    "# uppercase first letter\n",
    "# strip whitespaces\n",
    "unicef[name_dict['unicef']] = unicef[name_dict['unicef']].str.title()\\\n",
    ".str.strip()"
   ]
  },
  {
   "cell_type": "code",
   "execution_count": 12,
   "metadata": {},
   "outputs": [
    {
     "name": "stdout",
     "output_type": "stream",
     "text": [
      "Number of null values: 0\n"
     ]
    }
   ],
   "source": [
    "print(\"Number of null values:\", unicef[name_dict['unicef']].isna().sum())"
   ]
  },
  {
   "cell_type": "code",
   "execution_count": 13,
   "metadata": {},
   "outputs": [
    {
     "name": "stdout",
     "output_type": "stream",
     "text": [
      "Number of no text values: 0\n"
     ]
    }
   ],
   "source": [
    "print(\"Number of no text values:\", sum(unicef[name_dict['unicef']] == \"\"))"
   ]
  },
  {
   "cell_type": "markdown",
   "metadata": {},
   "source": [
    "### 5.2 Name cleaning"
   ]
  },
  {
   "cell_type": "code",
   "execution_count": 14,
   "metadata": {},
   "outputs": [],
   "source": [
    "common_types =  ['CHC', 'MCHP', 'CHP', 'Referral Hospital', 'Government Hospital', \n",
    "                 'Mission Hospital', 'Mis Hospital', 'Memorial Hospital', \n",
    "                  'Police Hospital', 'Community Hospital',\n",
    "                 'Military Hospital', 'Government',\n",
    "                 'Industrial Hospital', 'Hospital', 'Community Health Post',\n",
    "                'Community Health Centre', 'Health Centre', 'Health Post', \n",
    "                 'Memorial Clinic', 'Police Clinic', 'Clinic', 'Dental', 'Mental']"
   ]
  },
  {
   "cell_type": "code",
   "execution_count": 15,
   "metadata": {},
   "outputs": [],
   "source": [
    "cols_show = ['District', 'Chiefdom', 'FACILITY_NAME', 'FACILITY_TYPE']\n",
    "#unicef[unicef['FACILITY_TYPE']=='HOSPITAL'][cols_show].sample(10)"
   ]
  },
  {
   "cell_type": "code",
   "execution_count": 16,
   "metadata": {},
   "outputs": [],
   "source": [
    "unicef['name_short'] = unicef[name_dict['unicef']].str.replace('_',' ')\\\n",
    ".str.replace('-',' ')\\\n",
    ".str.replace(',',' ')\\\n",
    ".str.replace('.',' ') \\\n",
    ".str.replace(\"   \", \" \")\\\n",
    ".str.replace(\"  \", \" \")\\\n",
    ".str.replace(' Hosp | Hosp$',' Hospital ', case=False) \\\n",
    ".str.replace(' Gov ',' Government ', case=False) \\\n",
    ".str.replace(' Govt | Govt$',' Government ', case=False) \\\n",
    ".str.replace('underfive|underfives',' Under Five', case=False) \\\n",
    ".str.title() \\\n",
    ".str.replace('|'.join(common_types), '', regex=True, case = False) \\\n",
    ".str.strip()"
   ]
  },
  {
   "cell_type": "code",
   "execution_count": 35,
   "metadata": {},
   "outputs": [],
   "source": [
    "cols_show = ['District', 'Chiefdom', 'FACILITY_NAME', 'FACILITY_TYPE', 'name_short']\n",
    "#unicef[unicef['FACILITY_NAME'].str.contains('-')][cols_show].sample(10)"
   ]
  },
  {
   "cell_type": "markdown",
   "metadata": {},
   "source": [
    "## 6. Drop identical points that overlap with SARA and FMFL"
   ]
  },
  {
   "cell_type": "markdown",
   "metadata": {},
   "source": [
    "Note: there are two facilities with the same ID 25116151, one of which is an identical data point that overlaps with other datasets. Only the identical point is dropped. "
   ]
  },
  {
   "cell_type": "code",
   "execution_count": 19,
   "metadata": {},
   "outputs": [],
   "source": [
    "overlaps = pd.read_csv(dataDir + '\\\\Identical Points\\\\overlap_points_0810.csv')"
   ]
  },
  {
   "cell_type": "code",
   "execution_count": 20,
   "metadata": {},
   "outputs": [],
   "source": [
    "overlaps = overlaps[overlaps['Source']=='Consolidated Facility List']"
   ]
  },
  {
   "cell_type": "code",
   "execution_count": 21,
   "metadata": {},
   "outputs": [],
   "source": [
    "# drop identical points\n",
    "unicef = unicef[~((unicef['FACILITY_ID'].isin(list(overlaps['ID']))) & (~pd.isna(unicef['Latitude'])))]"
   ]
  },
  {
   "cell_type": "code",
   "execution_count": 22,
   "metadata": {},
   "outputs": [],
   "source": [
    "unicef.rename(columns={'FACILITY_NAME':'Facility Name', \n",
    "                       'FACILITY_ID':'ID', 'FACILITY_TYPE':'Facility Type',\n",
    "                       'name_short':'Short Name'}, inplace=True)"
   ]
  },
  {
   "cell_type": "code",
   "execution_count": 23,
   "metadata": {},
   "outputs": [],
   "source": [
    "unicef['Source'] = 'Consolidated Facility List'"
   ]
  },
  {
   "cell_type": "code",
   "execution_count": 24,
   "metadata": {},
   "outputs": [],
   "source": [
    "# cleaning other text columns\n",
    "unicef['District'] = unicef['District'].str.strip()\n",
    "unicef['Chiefdom'] = unicef['Chiefdom'].str.title().str.strip()"
   ]
  },
  {
   "cell_type": "code",
   "execution_count": 25,
   "metadata": {},
   "outputs": [],
   "source": [
    "duplicates = unicef.groupby(['Longitude','Latitude']).agg(count=('ID','count'))\\\n",
    ".sort_values('count',ascending=False)\n",
    "duplicates = duplicates[duplicates['count']>1]"
   ]
  },
  {
   "cell_type": "code",
   "execution_count": 26,
   "metadata": {},
   "outputs": [],
   "source": [
    "duplicates = unicef.merge(duplicates, right_index=True, left_on=['Longitude','Latitude'])"
   ]
  },
  {
   "cell_type": "code",
   "execution_count": 31,
   "metadata": {},
   "outputs": [
    {
     "data": {
      "text/plain": [
       "(108, 17)"
      ]
     },
     "execution_count": 31,
     "metadata": {},
     "output_type": "execute_result"
    }
   ],
   "source": [
    "duplicates.shape"
   ]
  },
  {
   "cell_type": "code",
   "execution_count": 28,
   "metadata": {},
   "outputs": [
    {
     "data": {
      "text/html": [
       "<div>\n",
       "<style scoped>\n",
       "    .dataframe tbody tr th:only-of-type {\n",
       "        vertical-align: middle;\n",
       "    }\n",
       "\n",
       "    .dataframe tbody tr th {\n",
       "        vertical-align: top;\n",
       "    }\n",
       "\n",
       "    .dataframe thead th {\n",
       "        text-align: right;\n",
       "    }\n",
       "</style>\n",
       "<table border=\"1\" class=\"dataframe\">\n",
       "  <thead>\n",
       "    <tr style=\"text-align: right;\">\n",
       "      <th></th>\n",
       "      <th>Region</th>\n",
       "      <th>District</th>\n",
       "      <th>Chiefdom</th>\n",
       "      <th>Facility Name</th>\n",
       "      <th>ID</th>\n",
       "      <th>Facility Type</th>\n",
       "      <th>Latitude</th>\n",
       "      <th>Longitude</th>\n",
       "      <th>Altitude</th>\n",
       "      <th>GPS accuracy</th>\n",
       "      <th>Functional Status</th>\n",
       "      <th>Catchment population</th>\n",
       "      <th>Number of villages within the catchment area</th>\n",
       "      <th>Mobile Network coverage</th>\n",
       "      <th>Short Name</th>\n",
       "      <th>Source</th>\n",
       "      <th>count</th>\n",
       "    </tr>\n",
       "  </thead>\n",
       "  <tbody>\n",
       "    <tr>\n",
       "      <th>34</th>\n",
       "      <td>Eastern</td>\n",
       "      <td>Kailahun</td>\n",
       "      <td>Luawa</td>\n",
       "      <td>Ngeihun</td>\n",
       "      <td>11065091.0</td>\n",
       "      <td>CHP</td>\n",
       "      <td>8.201045</td>\n",
       "      <td>-10.647767</td>\n",
       "      <td>176.300003</td>\n",
       "      <td>4.90</td>\n",
       "      <td>Functioning</td>\n",
       "      <td>8387.0</td>\n",
       "      <td>13.0</td>\n",
       "      <td>No</td>\n",
       "      <td>Ngeihun</td>\n",
       "      <td>Consolidated Facility List</td>\n",
       "      <td>3</td>\n",
       "    </tr>\n",
       "    <tr>\n",
       "      <th>137</th>\n",
       "      <td>Eastern</td>\n",
       "      <td>Kenema</td>\n",
       "      <td>Lower Bambara</td>\n",
       "      <td>Ngeihun</td>\n",
       "      <td>12084031.0</td>\n",
       "      <td>CHC</td>\n",
       "      <td>8.201045</td>\n",
       "      <td>-10.647767</td>\n",
       "      <td>176.300003</td>\n",
       "      <td>4.90</td>\n",
       "      <td>Functioning</td>\n",
       "      <td>6269.0</td>\n",
       "      <td>NaN</td>\n",
       "      <td>Yes</td>\n",
       "      <td>Ngeihun</td>\n",
       "      <td>Consolidated Facility List</td>\n",
       "      <td>3</td>\n",
       "    </tr>\n",
       "    <tr>\n",
       "      <th>1021</th>\n",
       "      <td>Southern</td>\n",
       "      <td>Moyamba</td>\n",
       "      <td>Kagboro</td>\n",
       "      <td>Ngeihun</td>\n",
       "      <td>33076041.0</td>\n",
       "      <td>MCHP</td>\n",
       "      <td>8.201045</td>\n",
       "      <td>-10.647767</td>\n",
       "      <td>176.300003</td>\n",
       "      <td>4.90</td>\n",
       "      <td>Functioning</td>\n",
       "      <td>1701.0</td>\n",
       "      <td>19.0</td>\n",
       "      <td>Yes</td>\n",
       "      <td>Ngeihun</td>\n",
       "      <td>Consolidated Facility List</td>\n",
       "      <td>3</td>\n",
       "    </tr>\n",
       "    <tr>\n",
       "      <th>40</th>\n",
       "      <td>Eastern</td>\n",
       "      <td>Kailahun</td>\n",
       "      <td>Luawa</td>\n",
       "      <td>Kpandebu</td>\n",
       "      <td>11066021.0</td>\n",
       "      <td>MCHP</td>\n",
       "      <td>8.246528</td>\n",
       "      <td>-10.516489</td>\n",
       "      <td>323.150009</td>\n",
       "      <td>4.95</td>\n",
       "      <td>Functioning</td>\n",
       "      <td>2399.0</td>\n",
       "      <td>4.0</td>\n",
       "      <td>Yes</td>\n",
       "      <td>Kpandebu</td>\n",
       "      <td>Consolidated Facility List</td>\n",
       "      <td>3</td>\n",
       "    </tr>\n",
       "    <tr>\n",
       "      <th>88</th>\n",
       "      <td>Eastern</td>\n",
       "      <td>Kenema</td>\n",
       "      <td>Dama</td>\n",
       "      <td>Kpandebu Chc</td>\n",
       "      <td>12014011.0</td>\n",
       "      <td>CHC</td>\n",
       "      <td>8.246528</td>\n",
       "      <td>-10.516489</td>\n",
       "      <td>323.150009</td>\n",
       "      <td>4.95</td>\n",
       "      <td>Functioning</td>\n",
       "      <td>5469.0</td>\n",
       "      <td>NaN</td>\n",
       "      <td>No</td>\n",
       "      <td>Kpandebu</td>\n",
       "      <td>Consolidated Facility List</td>\n",
       "      <td>3</td>\n",
       "    </tr>\n",
       "  </tbody>\n",
       "</table>\n",
       "</div>"
      ],
      "text/plain": [
       "        Region  District       Chiefdom Facility Name          ID  \\\n",
       "34     Eastern  Kailahun          Luawa       Ngeihun  11065091.0   \n",
       "137    Eastern    Kenema  Lower Bambara       Ngeihun  12084031.0   \n",
       "1021  Southern   Moyamba        Kagboro       Ngeihun  33076041.0   \n",
       "40     Eastern  Kailahun          Luawa      Kpandebu  11066021.0   \n",
       "88     Eastern    Kenema           Dama  Kpandebu Chc  12014011.0   \n",
       "\n",
       "     Facility Type  Latitude  Longitude    Altitude  GPS accuracy  \\\n",
       "34             CHP  8.201045 -10.647767  176.300003          4.90   \n",
       "137            CHC  8.201045 -10.647767  176.300003          4.90   \n",
       "1021          MCHP  8.201045 -10.647767  176.300003          4.90   \n",
       "40            MCHP  8.246528 -10.516489  323.150009          4.95   \n",
       "88             CHC  8.246528 -10.516489  323.150009          4.95   \n",
       "\n",
       "     Functional Status  Catchment population  \\\n",
       "34        Functioning                 8387.0   \n",
       "137       Functioning                 6269.0   \n",
       "1021      Functioning                 1701.0   \n",
       "40        Functioning                 2399.0   \n",
       "88        Functioning                 5469.0   \n",
       "\n",
       "      Number of villages within the catchment area Mobile Network coverage  \\\n",
       "34                                            13.0                      No   \n",
       "137                                            NaN                     Yes   \n",
       "1021                                          19.0                     Yes   \n",
       "40                                             4.0                     Yes   \n",
       "88                                             NaN                      No   \n",
       "\n",
       "     Short Name                      Source  count  \n",
       "34      Ngeihun  Consolidated Facility List      3  \n",
       "137     Ngeihun  Consolidated Facility List      3  \n",
       "1021    Ngeihun  Consolidated Facility List      3  \n",
       "40     Kpandebu  Consolidated Facility List      3  \n",
       "88     Kpandebu  Consolidated Facility List      3  "
      ]
     },
     "execution_count": 28,
     "metadata": {},
     "output_type": "execute_result"
    }
   ],
   "source": [
    "duplicates.head()"
   ]
  },
  {
   "cell_type": "code",
   "execution_count": 66,
   "metadata": {
    "scrolled": true
   },
   "outputs": [
    {
     "data": {
      "text/html": [
       "<div>\n",
       "<style scoped>\n",
       "    .dataframe tbody tr th:only-of-type {\n",
       "        vertical-align: middle;\n",
       "    }\n",
       "\n",
       "    .dataframe tbody tr th {\n",
       "        vertical-align: top;\n",
       "    }\n",
       "\n",
       "    .dataframe thead th {\n",
       "        text-align: right;\n",
       "    }\n",
       "</style>\n",
       "<table border=\"1\" class=\"dataframe\">\n",
       "  <thead>\n",
       "    <tr style=\"text-align: right;\">\n",
       "      <th></th>\n",
       "      <th>Region</th>\n",
       "      <th>District</th>\n",
       "      <th>Chiefdom</th>\n",
       "      <th>Facility Name</th>\n",
       "      <th>ID</th>\n",
       "      <th>Facility Type</th>\n",
       "      <th>Latitude</th>\n",
       "      <th>Longitude</th>\n",
       "      <th>Altitude</th>\n",
       "      <th>GPS accuracy</th>\n",
       "      <th>Functional Status</th>\n",
       "      <th>Catchment population</th>\n",
       "      <th>Number of villages within the catchment area</th>\n",
       "      <th>Mobile Network coverage</th>\n",
       "      <th>Short Name</th>\n",
       "      <th>Source</th>\n",
       "    </tr>\n",
       "  </thead>\n",
       "  <tbody>\n",
       "    <tr>\n",
       "      <th>0</th>\n",
       "      <td>Eastern</td>\n",
       "      <td>Kailahun</td>\n",
       "      <td>Dea</td>\n",
       "      <td>Baiwala</td>\n",
       "      <td>11014011.0</td>\n",
       "      <td>CHC</td>\n",
       "      <td>7.995473</td>\n",
       "      <td>-10.647431</td>\n",
       "      <td>196.599998</td>\n",
       "      <td>4.9</td>\n",
       "      <td>Functioning</td>\n",
       "      <td>5990.0</td>\n",
       "      <td>18.0</td>\n",
       "      <td>No</td>\n",
       "      <td>Baiwala</td>\n",
       "      <td>Consolidated Facility List</td>\n",
       "    </tr>\n",
       "    <tr>\n",
       "      <th>1</th>\n",
       "      <td>Eastern</td>\n",
       "      <td>Kailahun</td>\n",
       "      <td>Dea</td>\n",
       "      <td>Ngebana</td>\n",
       "      <td>11015011.0</td>\n",
       "      <td>CHP</td>\n",
       "      <td>7.928242</td>\n",
       "      <td>-10.674175</td>\n",
       "      <td>216.750000</td>\n",
       "      <td>5.0</td>\n",
       "      <td>Functioning</td>\n",
       "      <td>2907.0</td>\n",
       "      <td>10.0</td>\n",
       "      <td>Yes</td>\n",
       "      <td>Ngebana</td>\n",
       "      <td>Consolidated Facility List</td>\n",
       "    </tr>\n",
       "    <tr>\n",
       "      <th>2</th>\n",
       "      <td>Eastern</td>\n",
       "      <td>Kailahun</td>\n",
       "      <td>Dea</td>\n",
       "      <td>Sienga</td>\n",
       "      <td>11016011.0</td>\n",
       "      <td>MCHP</td>\n",
       "      <td>7.938098</td>\n",
       "      <td>-10.628222</td>\n",
       "      <td>207.300003</td>\n",
       "      <td>4.9</td>\n",
       "      <td>Functioning</td>\n",
       "      <td>2640.0</td>\n",
       "      <td>11.0</td>\n",
       "      <td>No</td>\n",
       "      <td>Sienga</td>\n",
       "      <td>Consolidated Facility List</td>\n",
       "    </tr>\n",
       "    <tr>\n",
       "      <th>3</th>\n",
       "      <td>Eastern</td>\n",
       "      <td>Kailahun</td>\n",
       "      <td>Jawie</td>\n",
       "      <td>Services Clinic (Military)</td>\n",
       "      <td>11023011.0</td>\n",
       "      <td>CLINIC</td>\n",
       "      <td>NaN</td>\n",
       "      <td>NaN</td>\n",
       "      <td>NaN</td>\n",
       "      <td>NaN</td>\n",
       "      <td>NaN</td>\n",
       "      <td>NaN</td>\n",
       "      <td>NaN</td>\n",
       "      <td>NaN</td>\n",
       "      <td>Services  (Military)</td>\n",
       "      <td>Consolidated Facility List</td>\n",
       "    </tr>\n",
       "    <tr>\n",
       "      <th>4</th>\n",
       "      <td>Eastern</td>\n",
       "      <td>Kailahun</td>\n",
       "      <td>Jawie</td>\n",
       "      <td>Daru</td>\n",
       "      <td>11024011.0</td>\n",
       "      <td>CHC</td>\n",
       "      <td>7.990132</td>\n",
       "      <td>-10.844050</td>\n",
       "      <td>200.699997</td>\n",
       "      <td>5.0</td>\n",
       "      <td>Functioning</td>\n",
       "      <td>17288.0</td>\n",
       "      <td>13.0</td>\n",
       "      <td>Yes</td>\n",
       "      <td>Daru</td>\n",
       "      <td>Consolidated Facility List</td>\n",
       "    </tr>\n",
       "  </tbody>\n",
       "</table>\n",
       "</div>"
      ],
      "text/plain": [
       "    Region  District Chiefdom               Facility Name          ID  \\\n",
       "0  Eastern  Kailahun      Dea                     Baiwala  11014011.0   \n",
       "1  Eastern  Kailahun      Dea                     Ngebana  11015011.0   \n",
       "2  Eastern  Kailahun      Dea                      Sienga  11016011.0   \n",
       "3  Eastern  Kailahun    Jawie  Services Clinic (Military)  11023011.0   \n",
       "4  Eastern  Kailahun    Jawie                        Daru  11024011.0   \n",
       "\n",
       "  Facility Type  Latitude  Longitude    Altitude  GPS accuracy  \\\n",
       "0           CHC  7.995473 -10.647431  196.599998           4.9   \n",
       "1           CHP  7.928242 -10.674175  216.750000           5.0   \n",
       "2          MCHP  7.938098 -10.628222  207.300003           4.9   \n",
       "3        CLINIC       NaN        NaN         NaN           NaN   \n",
       "4           CHC  7.990132 -10.844050  200.699997           5.0   \n",
       "\n",
       "  Functional Status  Catchment population  \\\n",
       "0      Functioning                 5990.0   \n",
       "1      Functioning                 2907.0   \n",
       "2      Functioning                 2640.0   \n",
       "3               NaN                   NaN   \n",
       "4      Functioning                17288.0   \n",
       "\n",
       "   Number of villages within the catchment area Mobile Network coverage  \\\n",
       "0                                          18.0                      No   \n",
       "1                                          10.0                     Yes   \n",
       "2                                          11.0                      No   \n",
       "3                                           NaN                     NaN   \n",
       "4                                          13.0                     Yes   \n",
       "\n",
       "             Short Name                      Source  \n",
       "0               Baiwala  Consolidated Facility List  \n",
       "1               Ngebana  Consolidated Facility List  \n",
       "2                Sienga  Consolidated Facility List  \n",
       "3  Services  (Military)  Consolidated Facility List  \n",
       "4                  Daru  Consolidated Facility List  "
      ]
     },
     "execution_count": 66,
     "metadata": {},
     "output_type": "execute_result"
    }
   ],
   "source": [
    "unicef.head()"
   ]
  },
  {
   "cell_type": "code",
   "execution_count": 32,
   "metadata": {},
   "outputs": [],
   "source": [
    "unicef.to_csv(dataDir + \"\\\\Cleaned Data\\\\Overall\\\\UNICEF DPPI 2016_cleaned_0814.csv\",\n",
    "             index=False)\n",
    "duplicates.drop(columns='count').to_csv(dataDir + \"\\\\Cleaned Data\\\\Duplicates\\\\UNICEF DPPI 2016_duplicates_0814.csv\",\n",
    "             index=False)"
   ]
  },
  {
   "cell_type": "code",
   "execution_count": 33,
   "metadata": {},
   "outputs": [],
   "source": [
    "unicef_geo = unicef.dropna(subset=['Latitude', 'Longitude'])\n",
    "unicef_geo.to_csv(dataDir + \"\\\\Cleaned Data\\\\No missing coordinates\\\\UNICEF DPPI 2016_geo_0814.csv\",\n",
    "                 index=False)"
   ]
  },
  {
   "cell_type": "markdown",
   "metadata": {},
   "source": [
    "# Draft Master Facility List _ SARA WHO DPPI 20170706"
   ]
  },
  {
   "cell_type": "markdown",
   "metadata": {},
   "source": [
    "## 1. List of fields"
   ]
  },
  {
   "cell_type": "code",
   "execution_count": 36,
   "metadata": {},
   "outputs": [
    {
     "name": "stdout",
     "output_type": "stream",
     "text": [
      "The fields are Index(['Facility name (Cleaned)', 'New Fac name', 'Facility name in SARA',\n",
      "       'Facility name in payroll verification', 'District', 'Region',\n",
      "       'Facility Type', 'Location of facility', 'BeMOC?', 'Managing authority',\n",
      "       'Urban/rural', 'Outpatient only', 'Waypoint name', 'Altitude',\n",
      "       'Latitude N/S', 'Latitude degrees', 'Longitude E/W',\n",
      "       'Longitude degrees', 'Accomodation provided for health facility',\n",
      "       'Capacity of accommodation', 'Number of housing units',\n",
      "       'Data source \\n(If in SARA, used SARA data. If not, used payroll data)',\n",
      "       'Category', 'cross ref'd in FHCI MFL?'],\n",
      "      dtype='object')\n"
     ]
    }
   ],
   "source": [
    "print(\"The fields are\", sara.columns)"
   ]
  },
  {
   "cell_type": "markdown",
   "metadata": {},
   "source": [
    "- Columns concerning facility name:\n",
    "    - `Facility name (Cleaned)`\n",
    "    - `New Fac name`\n",
    "    - `Facility name in SARA`\n",
    "    - `Facility name in payroll verification`\n",
    "- `District`: admin1 name\n",
    "- `Region`: values include South, North, East, Western\n",
    "- `Facility Type`\n",
    "- `Location of facility`\n",
    "- `BeMOC?`: either Yes or NA\n",
    "- `Managing authority`: values include Government/Public, NGO/Not-For-Profit, Private-For-Profit, Mission/Faith-Based\n",
    "- `Urban/rural`: values include Urban, Rural\n",
    "- `Outpatient only`: values include 1 or 2.\n",
    "- `Waypoint name`: ?\n",
    "- `Altitude`\n",
    "- `Latitude N/S`: values include 1 or 2.\n",
    "- `Latitude degrees`\n",
    "- `Longitude E/W`: values include 1 or 2.\n",
    "- `Longitude degrees`\n",
    "- `Accomodation provided for health facility`: values include Yes; not observed, Yes; observed, No, survey error.\n",
    "- `Capacity of accommodation`: some values are survey error.\n",
    "- `Number of housing units`: some values are survey error.\n",
    "- `Data source \\n(If in SARA, used SARA data. If not, used payroll data)`: SARA, Payroll audit, MOHS Aug Validation\n",
    "- `Category`: how the cleaned facility name is obtained. 7 unique values.\n",
    "- `cross ref'd in FHCI MFL?`: yes/no"
   ]
  },
  {
   "cell_type": "markdown",
   "metadata": {},
   "source": [
    "## 2. Missing values"
   ]
  },
  {
   "cell_type": "markdown",
   "metadata": {},
   "source": [
    "Columns `Capacity of accommodation` and `Number of housing units` have some values being survey error. Those values are considered missing here."
   ]
  },
  {
   "cell_type": "code",
   "execution_count": 37,
   "metadata": {},
   "outputs": [
    {
     "name": "stdout",
     "output_type": "stream",
     "text": [
      "NA values by column\n"
     ]
    },
    {
     "data": {
      "text/html": [
       "<div>\n",
       "<style scoped>\n",
       "    .dataframe tbody tr th:only-of-type {\n",
       "        vertical-align: middle;\n",
       "    }\n",
       "\n",
       "    .dataframe tbody tr th {\n",
       "        vertical-align: top;\n",
       "    }\n",
       "\n",
       "    .dataframe thead th {\n",
       "        text-align: right;\n",
       "    }\n",
       "</style>\n",
       "<table border=\"1\" class=\"dataframe\">\n",
       "  <thead>\n",
       "    <tr style=\"text-align: right;\">\n",
       "      <th></th>\n",
       "      <th>count</th>\n",
       "      <th>percentage</th>\n",
       "    </tr>\n",
       "  </thead>\n",
       "  <tbody>\n",
       "    <tr>\n",
       "      <th>Facility name (Cleaned)</th>\n",
       "      <td>0</td>\n",
       "      <td>0.0</td>\n",
       "    </tr>\n",
       "    <tr>\n",
       "      <th>New Fac name</th>\n",
       "      <td>0</td>\n",
       "      <td>0.0</td>\n",
       "    </tr>\n",
       "    <tr>\n",
       "      <th>Facility name in SARA</th>\n",
       "      <td>113</td>\n",
       "      <td>8.2</td>\n",
       "    </tr>\n",
       "    <tr>\n",
       "      <th>Facility name in payroll verification</th>\n",
       "      <td>63</td>\n",
       "      <td>4.6</td>\n",
       "    </tr>\n",
       "    <tr>\n",
       "      <th>District</th>\n",
       "      <td>0</td>\n",
       "      <td>0.0</td>\n",
       "    </tr>\n",
       "    <tr>\n",
       "      <th>Region</th>\n",
       "      <td>0</td>\n",
       "      <td>0.0</td>\n",
       "    </tr>\n",
       "    <tr>\n",
       "      <th>Facility Type</th>\n",
       "      <td>11</td>\n",
       "      <td>0.8</td>\n",
       "    </tr>\n",
       "    <tr>\n",
       "      <th>Location of facility</th>\n",
       "      <td>1</td>\n",
       "      <td>0.1</td>\n",
       "    </tr>\n",
       "    <tr>\n",
       "      <th>BeMOC?</th>\n",
       "      <td>1306</td>\n",
       "      <td>95.1</td>\n",
       "    </tr>\n",
       "    <tr>\n",
       "      <th>Managing authority</th>\n",
       "      <td>14</td>\n",
       "      <td>1.0</td>\n",
       "    </tr>\n",
       "    <tr>\n",
       "      <th>Urban/rural</th>\n",
       "      <td>107</td>\n",
       "      <td>7.8</td>\n",
       "    </tr>\n",
       "    <tr>\n",
       "      <th>Outpatient only</th>\n",
       "      <td>114</td>\n",
       "      <td>8.3</td>\n",
       "    </tr>\n",
       "    <tr>\n",
       "      <th>Waypoint name</th>\n",
       "      <td>114</td>\n",
       "      <td>8.3</td>\n",
       "    </tr>\n",
       "    <tr>\n",
       "      <th>Altitude</th>\n",
       "      <td>114</td>\n",
       "      <td>8.3</td>\n",
       "    </tr>\n",
       "    <tr>\n",
       "      <th>Latitude N/S</th>\n",
       "      <td>114</td>\n",
       "      <td>8.3</td>\n",
       "    </tr>\n",
       "    <tr>\n",
       "      <th>Latitude degrees</th>\n",
       "      <td>45</td>\n",
       "      <td>3.3</td>\n",
       "    </tr>\n",
       "    <tr>\n",
       "      <th>Longitude E/W</th>\n",
       "      <td>114</td>\n",
       "      <td>8.3</td>\n",
       "    </tr>\n",
       "    <tr>\n",
       "      <th>Longitude degrees</th>\n",
       "      <td>45</td>\n",
       "      <td>3.3</td>\n",
       "    </tr>\n",
       "    <tr>\n",
       "      <th>Accomodation provided for health facility</th>\n",
       "      <td>120</td>\n",
       "      <td>8.7</td>\n",
       "    </tr>\n",
       "    <tr>\n",
       "      <th>Capacity of accommodation</th>\n",
       "      <td>120</td>\n",
       "      <td>8.7</td>\n",
       "    </tr>\n",
       "    <tr>\n",
       "      <th>Number of housing units</th>\n",
       "      <td>120</td>\n",
       "      <td>8.7</td>\n",
       "    </tr>\n",
       "    <tr>\n",
       "      <th>Data source \\n(If in SARA, used SARA data. If not, used payroll data)</th>\n",
       "      <td>0</td>\n",
       "      <td>0.0</td>\n",
       "    </tr>\n",
       "    <tr>\n",
       "      <th>Category</th>\n",
       "      <td>0</td>\n",
       "      <td>0.0</td>\n",
       "    </tr>\n",
       "    <tr>\n",
       "      <th>cross ref'd in FHCI MFL?</th>\n",
       "      <td>1190</td>\n",
       "      <td>86.7</td>\n",
       "    </tr>\n",
       "  </tbody>\n",
       "</table>\n",
       "</div>"
      ],
      "text/plain": [
       "                                                    count  percentage\n",
       "Facility name (Cleaned)                                 0         0.0\n",
       "New Fac name                                            0         0.0\n",
       "Facility name in SARA                                 113         8.2\n",
       "Facility name in payroll verification                  63         4.6\n",
       "District                                                0         0.0\n",
       "Region                                                  0         0.0\n",
       "Facility Type                                          11         0.8\n",
       "Location of facility                                    1         0.1\n",
       "BeMOC?                                               1306        95.1\n",
       "Managing authority                                     14         1.0\n",
       "Urban/rural                                           107         7.8\n",
       "Outpatient only                                       114         8.3\n",
       "Waypoint name                                         114         8.3\n",
       "Altitude                                              114         8.3\n",
       "Latitude N/S                                          114         8.3\n",
       "Latitude degrees                                       45         3.3\n",
       "Longitude E/W                                         114         8.3\n",
       "Longitude degrees                                      45         3.3\n",
       "Accomodation provided for health facility             120         8.7\n",
       "Capacity of accommodation                             120         8.7\n",
       "Number of housing units                               120         8.7\n",
       "Data source \\n(If in SARA, used SARA data. If n...      0         0.0\n",
       "Category                                                0         0.0\n",
       "cross ref'd in FHCI MFL?                             1190        86.7"
      ]
     },
     "execution_count": 37,
     "metadata": {},
     "output_type": "execute_result"
    }
   ],
   "source": [
    "print(\"NA values by column\")\n",
    "pd.DataFrame({'count':sara.isna().sum(), \n",
    "              'percentage':round(sara.isna().sum() / sara.shape[0],3) * 100})"
   ]
  },
  {
   "cell_type": "markdown",
   "metadata": {},
   "source": [
    "## 3. Number of data points"
   ]
  },
  {
   "cell_type": "code",
   "execution_count": 38,
   "metadata": {},
   "outputs": [
    {
     "name": "stdout",
     "output_type": "stream",
     "text": [
      "Number of data points collected: 1373\n"
     ]
    }
   ],
   "source": [
    "print(\"Number of data points collected:\", sara.shape[0])"
   ]
  },
  {
   "cell_type": "markdown",
   "metadata": {},
   "source": [
    "## 4. Facility types"
   ]
  },
  {
   "cell_type": "code",
   "execution_count": 39,
   "metadata": {},
   "outputs": [
    {
     "name": "stdout",
     "output_type": "stream",
     "text": [
      "Dataset: SARA\n",
      "Number of unique facility types: 7\n"
     ]
    },
    {
     "data": {
      "text/plain": [
       "MCHP                 649\n",
       "CHP                  344\n",
       "CHC                  234\n",
       "CLINIC                70\n",
       "HOSPITAL              63\n",
       "OTHER - SPECIALTY      1\n",
       "OTHER                  1\n",
       "Name: Facility Type, dtype: int64"
      ]
     },
     "execution_count": 39,
     "metadata": {},
     "output_type": "execute_result"
    }
   ],
   "source": [
    "# upper case everything\n",
    "sara[type_dict['sara']] = sara[type_dict['sara']].str.upper()\n",
    "print('Dataset: SARA')\n",
    "print( \"Number of unique facility types:\", sara[type_dict['sara']].nunique())\n",
    "sara[type_dict['sara']].value_counts()"
   ]
  },
  {
   "cell_type": "markdown",
   "metadata": {},
   "source": [
    "## 5. Facility names"
   ]
  },
  {
   "cell_type": "markdown",
   "metadata": {},
   "source": [
    "### 5.1 How many of the facility names are empty, both null or no text?"
   ]
  },
  {
   "cell_type": "code",
   "execution_count": 40,
   "metadata": {},
   "outputs": [
    {
     "name": "stdout",
     "output_type": "stream",
     "text": [
      "Number of null values: 0\n"
     ]
    }
   ],
   "source": [
    "sara[name_dict['sara']] = sara[name_dict['sara']].str.strip()\n",
    "print(\"Number of null values:\", sara[name_dict['sara']].isna().sum())"
   ]
  },
  {
   "cell_type": "code",
   "execution_count": 41,
   "metadata": {},
   "outputs": [
    {
     "name": "stdout",
     "output_type": "stream",
     "text": [
      "Number of no text values: 0\n"
     ]
    }
   ],
   "source": [
    "print(\"Number of no text values:\", sum(sara[name_dict['sara']] == \"\"))"
   ]
  },
  {
   "cell_type": "markdown",
   "metadata": {},
   "source": [
    "### 5.2 Name cleaning"
   ]
  },
  {
   "cell_type": "code",
   "execution_count": 84,
   "metadata": {},
   "outputs": [],
   "source": [
    "cols_show = ['District', 'Facility name (Cleaned)', 'Facility Type']\n",
    "#sara[sara['Facility Type']=='Other - Specialty'][cols_show]"
   ]
  },
  {
   "cell_type": "code",
   "execution_count": 42,
   "metadata": {},
   "outputs": [],
   "source": [
    "sara['Short Name'] = sara[name_dict['sara']].str.replace('_',' ')\\\n",
    ".str.replace('-',' ')\\\n",
    ".str.replace(',',' ')\\\n",
    ".str.replace('.',' ') \\\n",
    ".str.replace(\"   \", \" \")\\\n",
    ".str.replace(\"  \", \" \")\\\n",
    ".str.replace(' Hosp | Hosp$',' Hospital ', case=False) \\\n",
    ".str.replace(' Gov ',' Government ', case=False) \\\n",
    ".str.replace(' Govt | Govt$',' Government ', case=False) \\\n",
    ".str.replace('underfive|underfives',' Under Five', case=False) \\\n",
    ".str.title() \\\n",
    ".str.replace('|'.join(common_types), '', regex=True, case = False) \\\n",
    ".str.strip()"
   ]
  },
  {
   "cell_type": "code",
   "execution_count": 45,
   "metadata": {},
   "outputs": [
    {
     "data": {
      "text/html": [
       "<div>\n",
       "<style scoped>\n",
       "    .dataframe tbody tr th:only-of-type {\n",
       "        vertical-align: middle;\n",
       "    }\n",
       "\n",
       "    .dataframe tbody tr th {\n",
       "        vertical-align: top;\n",
       "    }\n",
       "\n",
       "    .dataframe thead th {\n",
       "        text-align: right;\n",
       "    }\n",
       "</style>\n",
       "<table border=\"1\" class=\"dataframe\">\n",
       "  <thead>\n",
       "    <tr style=\"text-align: right;\">\n",
       "      <th></th>\n",
       "      <th>District</th>\n",
       "      <th>Facility name (Cleaned)</th>\n",
       "      <th>Facility Type</th>\n",
       "      <th>Short Name</th>\n",
       "    </tr>\n",
       "  </thead>\n",
       "  <tbody>\n",
       "    <tr>\n",
       "      <th>1305</th>\n",
       "      <td>Western Area Urban</td>\n",
       "      <td>Goderich Emergency Surgical Center</td>\n",
       "      <td>HOSPITAL</td>\n",
       "      <td>Goderich Emergency Surgical Center</td>\n",
       "    </tr>\n",
       "    <tr>\n",
       "      <th>146</th>\n",
       "      <td>Bombali</td>\n",
       "      <td>Amara Hawa Community Clinic</td>\n",
       "      <td>CLINIC</td>\n",
       "      <td>Amara Hawa Community</td>\n",
       "    </tr>\n",
       "    <tr>\n",
       "      <th>692</th>\n",
       "      <td>Koinadugu</td>\n",
       "      <td>SLRC Clinic Sengbeh</td>\n",
       "      <td>CLINIC</td>\n",
       "      <td>Slrc  Sengbeh</td>\n",
       "    </tr>\n",
       "    <tr>\n",
       "      <th>20</th>\n",
       "      <td>Bo</td>\n",
       "      <td>Dougountoni Hospital</td>\n",
       "      <td>HOSPITAL</td>\n",
       "      <td>Dougountoni</td>\n",
       "    </tr>\n",
       "    <tr>\n",
       "      <th>1372</th>\n",
       "      <td>Western Area Urban</td>\n",
       "      <td>Youyi Building Clinic</td>\n",
       "      <td>CLINIC</td>\n",
       "      <td>Youyi Building</td>\n",
       "    </tr>\n",
       "    <tr>\n",
       "      <th>259</th>\n",
       "      <td>Bombali</td>\n",
       "      <td>Stocco CHP</td>\n",
       "      <td>CLINIC</td>\n",
       "      <td>Stocco</td>\n",
       "    </tr>\n",
       "    <tr>\n",
       "      <th>996</th>\n",
       "      <td>Port Loko</td>\n",
       "      <td>Modia General Clinic</td>\n",
       "      <td>CLINIC</td>\n",
       "      <td>Modia General</td>\n",
       "    </tr>\n",
       "    <tr>\n",
       "      <th>697</th>\n",
       "      <td>Koinadugu</td>\n",
       "      <td>Wara Wara Community Faith Clinic</td>\n",
       "      <td>CLINIC</td>\n",
       "      <td>Wara Wara Community Faith</td>\n",
       "    </tr>\n",
       "    <tr>\n",
       "      <th>789</th>\n",
       "      <td>Kono</td>\n",
       "      <td>Under Five Clinic Kono</td>\n",
       "      <td>CLINIC</td>\n",
       "      <td>Under Five  Kono</td>\n",
       "    </tr>\n",
       "    <tr>\n",
       "      <th>227</th>\n",
       "      <td>Bombali</td>\n",
       "      <td>Manonkoh</td>\n",
       "      <td>CLINIC</td>\n",
       "      <td>Manonkoh</td>\n",
       "    </tr>\n",
       "  </tbody>\n",
       "</table>\n",
       "</div>"
      ],
      "text/plain": [
       "                District             Facility name (Cleaned) Facility Type  \\\n",
       "1305  Western Area Urban  Goderich Emergency Surgical Center      HOSPITAL   \n",
       "146              Bombali         Amara Hawa Community Clinic        CLINIC   \n",
       "692            Koinadugu                 SLRC Clinic Sengbeh        CLINIC   \n",
       "20                    Bo                Dougountoni Hospital      HOSPITAL   \n",
       "1372  Western Area Urban               Youyi Building Clinic        CLINIC   \n",
       "259              Bombali                          Stocco CHP        CLINIC   \n",
       "996            Port Loko                Modia General Clinic        CLINIC   \n",
       "697            Koinadugu    Wara Wara Community Faith Clinic        CLINIC   \n",
       "789                 Kono              Under Five Clinic Kono        CLINIC   \n",
       "227              Bombali                            Manonkoh        CLINIC   \n",
       "\n",
       "                              Short Name  \n",
       "1305  Goderich Emergency Surgical Center  \n",
       "146                 Amara Hawa Community  \n",
       "692                        Slrc  Sengbeh  \n",
       "20                           Dougountoni  \n",
       "1372                      Youyi Building  \n",
       "259                               Stocco  \n",
       "996                        Modia General  \n",
       "697            Wara Wara Community Faith  \n",
       "789                     Under Five  Kono  \n",
       "227                             Manonkoh  "
      ]
     },
     "execution_count": 45,
     "metadata": {},
     "output_type": "execute_result"
    }
   ],
   "source": [
    "cols_show = ['District', 'Facility name (Cleaned)', 'Facility Type', 'Short Name']\n",
    "sara[(sara['Facility Type']=='HOSPITAL')|(sara['Facility Type']=='CLINIC')][cols_show].sample(10)"
   ]
  },
  {
   "cell_type": "markdown",
   "metadata": {},
   "source": [
    "## 6. Fix location"
   ]
  },
  {
   "cell_type": "code",
   "execution_count": 46,
   "metadata": {},
   "outputs": [],
   "source": [
    "sara.reset_index(inplace=True)\n",
    "sara_cleaned = sara[['Region', 'District', 'index', 'Facility name (Cleaned)', 'Short Name', \n",
    "                     'Facility Type', 'Location of facility', 'Latitude degrees', 'Longitude degrees', 'Altitude',\n",
    "                     'BeMOC?', 'Managing authority', 'Urban/rural', 'Outpatient only', \n",
    "                     'Waypoint name', 'Accomodation provided for health facility',\n",
    "                     'Capacity of accommodation', 'Number of housing units',\n",
    "                     'Data source \\n(If in SARA, used SARA data. If not, used payroll data)',\n",
    "                     'Category', \"cross ref'd in FHCI MFL?\"]]\n",
    "\n",
    "sara_cleaned.rename(columns={'Facility name (Cleaned)':'Facility Name',\n",
    "                             'Data source \\n(If in SARA, used SARA data. If not, used payroll data)':'Data Source',\n",
    "                             'Accomodation provided for health facility':'Accomodation Provided',\n",
    "                            'index':'ID', \"cross ref'd in FHCI MFL?\":'cross referenced'}, inplace=True)"
   ]
  },
  {
   "cell_type": "code",
   "execution_count": 47,
   "metadata": {},
   "outputs": [],
   "source": [
    "cols_show = ['District', 'Facility name (Cleaned)', 'Facility Type', 'Latitude N/S',\n",
    "            'Latitude degrees', 'Longitude E/W', 'Longitude degrees']\n",
    "#sara2[sara2['Latitude N/S']==1][cols_show].sample(10)"
   ]
  },
  {
   "cell_type": "code",
   "execution_count": 48,
   "metadata": {},
   "outputs": [],
   "source": [
    "min_lat = unicef['Latitude'].min()\n",
    "max_lat = unicef['Latitude'].max()\n",
    "min_lon = unicef['Longitude'].min()\n",
    "max_lon = unicef['Longitude'].max()"
   ]
  },
  {
   "cell_type": "code",
   "execution_count": 49,
   "metadata": {},
   "outputs": [],
   "source": [
    "lats = []\n",
    "lons = []\n",
    "for idx, row in sara_cleaned.iterrows():\n",
    "    # if both latitude and longitude are NA, consider the coordinates as missing\n",
    "    if np.isnan(row['Longitude degrees']) and np.isnan(row['Latitude degrees']):\n",
    "        lats.append(np.nan)\n",
    "        lons.append(np.nan)\n",
    "    # if both latitude and longitude are 0, consider the coordinates as missing\n",
    "    elif row['Longitude degrees'] == 0 and row['Latitude degrees'] == 0:\n",
    "        lats.append(np.nan)\n",
    "        lons.append(np.nan)\n",
    "    # if both latitude and longitude are within the range of those in the unicef dataset,\n",
    "    # just append the original coordinates\n",
    "    elif row['Latitude degrees'] > min_lat and row['Latitude degrees'] < max_lat \\\n",
    "    and row['Longitude degrees'] > min_lon and row['Longitude degrees'] < max_lon:\n",
    "        lats.append(row['Latitude degrees'])\n",
    "        lons.append(row['Longitude degrees'])\n",
    "    # negate longitude, if both latitude and longitude are within the range of those in the unicef dataset,\n",
    "    # append the changed coordinates\n",
    "    elif row['Latitude degrees'] > min_lat and row['Latitude degrees'] < max_lat \\\n",
    "    and -row['Longitude degrees'] > min_lon and -row['Longitude degrees'] < max_lon:\n",
    "        lats.append(row['Latitude degrees'])\n",
    "        lons.append(-row['Longitude degrees'])\n",
    "    # swap lat and long, if both latitude and longitude are within the range of those in the unicef dataset,\n",
    "    # append the changed coordinates\n",
    "    elif row['Latitude degrees'] > min_lon and row['Latitude degrees'] < max_lon \\\n",
    "    and row['Longitude degrees'] > min_lat and row['Longitude degrees'] < max_lat:\n",
    "        lats.append(row['Longitude degrees'])\n",
    "        lons.append(row['Latitude degrees'])\n",
    "    # negate latitude and swap lat and long, if both latitude and longitude are within the range of\n",
    "    # those in the unicef dataset, append the changed coordinates\n",
    "    elif -row['Latitude degrees'] > min_lon and -row['Latitude degrees'] < max_lon \\\n",
    "    and row['Longitude degrees'] > min_lat and row['Longitude degrees'] < max_lat:\n",
    "        lons.append(-row['Latitude degrees'])\n",
    "        lats.append(row['Longitude degrees'])\n",
    "    # if none of the above fits, append the original coordinates\n",
    "    else:\n",
    "        lats.append(row['Latitude degrees'])\n",
    "        lons.append(row['Longitude degrees'])"
   ]
  },
  {
   "cell_type": "code",
   "execution_count": 50,
   "metadata": {},
   "outputs": [],
   "source": [
    "sara_cleaned['Latitude'] = lats\n",
    "sara_cleaned['Longitude'] = lons\n",
    "sara_cleaned.drop(columns=['Latitude degrees', 'Longitude degrees'],\n",
    "                 inplace=True)"
   ]
  },
  {
   "cell_type": "code",
   "execution_count": 51,
   "metadata": {},
   "outputs": [],
   "source": [
    "wrong_pts = sara_cleaned[(sara_cleaned['Latitude']<min_lat)|\n",
    "    (sara_cleaned['Longitude']<min_lon)|\n",
    "    (sara_cleaned['Latitude']>max_lat)|\n",
    "    (sara_cleaned['Longitude']>max_lon)]"
   ]
  },
  {
   "cell_type": "code",
   "execution_count": 52,
   "metadata": {},
   "outputs": [
    {
     "name": "stdout",
     "output_type": "stream",
     "text": [
      "Number of points that are still off: 16\n"
     ]
    }
   ],
   "source": [
    "print(\"Number of points that are still off:\", wrong_pts.shape[0])"
   ]
  },
  {
   "cell_type": "code",
   "execution_count": 53,
   "metadata": {},
   "outputs": [],
   "source": [
    "sara_cleaned['Source'] = 'SARA'"
   ]
  },
  {
   "cell_type": "code",
   "execution_count": 54,
   "metadata": {},
   "outputs": [],
   "source": [
    "# Region column\n",
    "region_dict = {'South':'Southern', 'North':'Northern', \n",
    "               'East':'Eastern', 'Western':'Western'}\n",
    "sara_cleaned['Region'] = [region_dict[reg] for reg in sara_cleaned['Region']]"
   ]
  },
  {
   "cell_type": "code",
   "execution_count": 56,
   "metadata": {},
   "outputs": [],
   "source": [
    "#sara_cleaned[sara_cleaned.duplicated(subset=['Region', 'District', \n",
    "#                         'Short Name', 'Facility Type'], keep = False)]"
   ]
  },
  {
   "cell_type": "code",
   "execution_count": 57,
   "metadata": {},
   "outputs": [],
   "source": [
    "duplicates = sara_cleaned[(sara_cleaned.duplicated(subset=['Longitude','Latitude'], keep = False))\\\n",
    "             &(~pd.isna(sara_cleaned['Longitude']))]\\\n",
    ".sort_values(['Longitude','Latitude'])"
   ]
  },
  {
   "cell_type": "code",
   "execution_count": 59,
   "metadata": {},
   "outputs": [],
   "source": [
    "sara_cleaned.to_csv(dataDir + \"\\\\Cleaned Data\\\\Overall\\\\sara_cleaned_0814.csv\",\n",
    "                   index=False)\n",
    "duplicates.to_csv(dataDir + \"\\\\Cleaned Data\\\\Duplicates\\\\sara_duplicates_0814.csv\",\n",
    "                   index=False)"
   ]
  },
  {
   "cell_type": "code",
   "execution_count": 60,
   "metadata": {},
   "outputs": [
    {
     "name": "stdout",
     "output_type": "stream",
     "text": [
      "Number of duplicates: 61\n"
     ]
    }
   ],
   "source": [
    "print(\"Number of duplicates:\", duplicates.shape[0])"
   ]
  },
  {
   "cell_type": "code",
   "execution_count": 61,
   "metadata": {},
   "outputs": [],
   "source": [
    "sara_geo = sara_cleaned.dropna(subset=['Latitude', 'Longitude'])\n",
    "sara_geo.to_csv(dataDir + \"\\\\Cleaned Data\\\\No missing coordinates\\\\sara_geo_0814.csv\",\n",
    "               index=False)"
   ]
  },
  {
   "cell_type": "code",
   "execution_count": 62,
   "metadata": {},
   "outputs": [],
   "source": [
    "#wrong_pts[['Facility name (Cleaned)', 'District', 'Latitude degrees',\n",
    "#          'Longitude degrees', 'Latitude', 'Longitude']]"
   ]
  },
  {
   "cell_type": "markdown",
   "metadata": {},
   "source": [
    "# Updated list of facilities _ DPPI Mar 2020"
   ]
  },
  {
   "cell_type": "markdown",
   "metadata": {},
   "source": [
    "## 1. List of fields"
   ]
  },
  {
   "cell_type": "code",
   "execution_count": 65,
   "metadata": {},
   "outputs": [
    {
     "name": "stdout",
     "output_type": "stream",
     "text": [
      "The fields are Index(['#', 'District', 'Chiefdom', 'Facility Name', 'Facility Type',\n",
      "       'Council'],\n",
      "      dtype='object')\n"
     ]
    }
   ],
   "source": [
    "print(\"The fields are\", mfl.columns)"
   ]
  },
  {
   "cell_type": "markdown",
   "metadata": {},
   "source": [
    "- `#`: row number\n",
    "- `District`: admin 1 name\n",
    "- `Chiefdom`: admin 2 name\n",
    "- `Facility Name`\n",
    "- `Facility Type`\n",
    "- `Council`"
   ]
  },
  {
   "cell_type": "markdown",
   "metadata": {},
   "source": [
    "## 2. Missing values"
   ]
  },
  {
   "cell_type": "code",
   "execution_count": 66,
   "metadata": {},
   "outputs": [
    {
     "name": "stdout",
     "output_type": "stream",
     "text": [
      "NA values by column\n"
     ]
    },
    {
     "data": {
      "text/html": [
       "<div>\n",
       "<style scoped>\n",
       "    .dataframe tbody tr th:only-of-type {\n",
       "        vertical-align: middle;\n",
       "    }\n",
       "\n",
       "    .dataframe tbody tr th {\n",
       "        vertical-align: top;\n",
       "    }\n",
       "\n",
       "    .dataframe thead th {\n",
       "        text-align: right;\n",
       "    }\n",
       "</style>\n",
       "<table border=\"1\" class=\"dataframe\">\n",
       "  <thead>\n",
       "    <tr style=\"text-align: right;\">\n",
       "      <th></th>\n",
       "      <th>count</th>\n",
       "      <th>percentage</th>\n",
       "    </tr>\n",
       "  </thead>\n",
       "  <tbody>\n",
       "    <tr>\n",
       "      <th>#</th>\n",
       "      <td>0</td>\n",
       "      <td>0.0</td>\n",
       "    </tr>\n",
       "    <tr>\n",
       "      <th>District</th>\n",
       "      <td>4</td>\n",
       "      <td>0.3</td>\n",
       "    </tr>\n",
       "    <tr>\n",
       "      <th>Chiefdom</th>\n",
       "      <td>1</td>\n",
       "      <td>0.1</td>\n",
       "    </tr>\n",
       "    <tr>\n",
       "      <th>Facility Name</th>\n",
       "      <td>1</td>\n",
       "      <td>0.1</td>\n",
       "    </tr>\n",
       "    <tr>\n",
       "      <th>Facility Type</th>\n",
       "      <td>1</td>\n",
       "      <td>0.1</td>\n",
       "    </tr>\n",
       "    <tr>\n",
       "      <th>Council</th>\n",
       "      <td>1</td>\n",
       "      <td>0.1</td>\n",
       "    </tr>\n",
       "  </tbody>\n",
       "</table>\n",
       "</div>"
      ],
      "text/plain": [
       "               count  percentage\n",
       "#                  0         0.0\n",
       "District           4         0.3\n",
       "Chiefdom           1         0.1\n",
       "Facility Name      1         0.1\n",
       "Facility Type      1         0.1\n",
       "Council            1         0.1"
      ]
     },
     "execution_count": 66,
     "metadata": {},
     "output_type": "execute_result"
    }
   ],
   "source": [
    "print(\"NA values by column\")\n",
    "pd.DataFrame({'count':mfl.isna().sum(), \n",
    "              'percentage':round(mfl.isna().sum() / mfl.shape[0],3) * 100})"
   ]
  },
  {
   "cell_type": "markdown",
   "metadata": {},
   "source": [
    "## 3. Number of data points"
   ]
  },
  {
   "cell_type": "code",
   "execution_count": 67,
   "metadata": {},
   "outputs": [
    {
     "name": "stdout",
     "output_type": "stream",
     "text": [
      "Number of data points collected: 1394\n"
     ]
    }
   ],
   "source": [
    "print(\"Number of data points collected:\", mfl.shape[0])"
   ]
  },
  {
   "cell_type": "markdown",
   "metadata": {},
   "source": [
    "## 4. Facility types"
   ]
  },
  {
   "cell_type": "code",
   "execution_count": 68,
   "metadata": {},
   "outputs": [],
   "source": [
    "# some corrections\n",
    "mfl[type_dict['mfl']] = mfl[type_dict['mfl']].str.strip()\\\n",
    ".str.replace('CLINIC', 'Clinic') \\\n",
    ".str.replace('CHp', 'CHP')"
   ]
  },
  {
   "cell_type": "code",
   "execution_count": 69,
   "metadata": {},
   "outputs": [],
   "source": [
    "mfl[type_dict['mfl']] = mfl[type_dict['mfl']].str.upper()"
   ]
  },
  {
   "cell_type": "code",
   "execution_count": 70,
   "metadata": {},
   "outputs": [
    {
     "name": "stdout",
     "output_type": "stream",
     "text": [
      "Dataset: MFL\n",
      "Number of unique facility types: 12\n"
     ]
    },
    {
     "data": {
      "text/plain": [
       "MCHP                   623\n",
       "CHP                    412\n",
       "CHC                    240\n",
       "CLINIC                  67\n",
       "HOSPITAL                43\n",
       "BEMONC - CHC             2\n",
       "MAMAGEWOH                1\n",
       "INDUSTRIAL HOSPITAL      1\n",
       "DUNAMOR                  1\n",
       "MISSION HOSPITAL         1\n",
       "REFERRAL HOSPITAL        1\n",
       "GOVERNMENT HOSPITAL      1\n",
       "Name: Facility Type, dtype: int64"
      ]
     },
     "execution_count": 70,
     "metadata": {},
     "output_type": "execute_result"
    }
   ],
   "source": [
    "print('Dataset: MFL')\n",
    "print( \"Number of unique facility types:\", mfl[type_dict['mfl']].nunique())\n",
    "mfl[type_dict['mfl']].value_counts()"
   ]
  },
  {
   "cell_type": "markdown",
   "metadata": {},
   "source": [
    "## 5. Facility names"
   ]
  },
  {
   "cell_type": "markdown",
   "metadata": {},
   "source": [
    "### 5.1 How many of the facility names are empty, both null or no text?"
   ]
  },
  {
   "cell_type": "code",
   "execution_count": 71,
   "metadata": {},
   "outputs": [
    {
     "name": "stdout",
     "output_type": "stream",
     "text": [
      "Number of null values: 1\n"
     ]
    }
   ],
   "source": [
    "print(\"Number of null values:\", mfl[name_dict['mfl']].isna().sum())"
   ]
  },
  {
   "cell_type": "code",
   "execution_count": 72,
   "metadata": {},
   "outputs": [
    {
     "name": "stdout",
     "output_type": "stream",
     "text": [
      "Number of no text values: 0\n"
     ]
    }
   ],
   "source": [
    "print(\"Number of no text values:\", sum(mfl[name_dict['mfl']] == \"\"))"
   ]
  },
  {
   "cell_type": "markdown",
   "metadata": {},
   "source": [
    "### 5.2 Name cleaning"
   ]
  },
  {
   "cell_type": "code",
   "execution_count": 73,
   "metadata": {},
   "outputs": [],
   "source": [
    "mfl['name_short'] = mfl[name_dict['mfl']].str.replace('_',' ')\\\n",
    ".str.replace('-',' ')\\\n",
    ".str.replace(',',' ')\\\n",
    ".str.replace('.',' ') \\\n",
    ".str.replace(\"   \", \" \")\\\n",
    ".str.replace(\"  \", \" \")\\\n",
    ".str.replace(' Hosp | Hosp$',' Hospital ', case=False) \\\n",
    ".str.replace(' Gov ',' Government ', case=False) \\\n",
    ".str.replace(' Govt | Govt$',' Government ', case=False) \\\n",
    ".str.replace('underfive|underfives',' Under Five', case=False) \\\n",
    ".str.title() \\\n",
    ".str.replace('|'.join(common_types), '', regex=True, case = False) \\\n",
    ".str.strip()"
   ]
  },
  {
   "cell_type": "code",
   "execution_count": 76,
   "metadata": {},
   "outputs": [],
   "source": [
    "#mfl.sample(10)"
   ]
  },
  {
   "cell_type": "code",
   "execution_count": 77,
   "metadata": {},
   "outputs": [],
   "source": [
    "mfl_cleaned = mfl[['#', 'District', 'Chiefdom', 'Facility Name',\n",
    "                  'name_short', 'Facility Type', 'Council']]\n",
    "mfl_cleaned.rename(columns={'#':'ID', 'name_short':'Short Name'}, inplace=True)\n",
    "mfl_cleaned['Source'] = 'MFL DPPI Mar 2020'"
   ]
  },
  {
   "cell_type": "code",
   "execution_count": 78,
   "metadata": {},
   "outputs": [],
   "source": [
    "mfl_cleaned['District'] = mfl_cleaned['District'].str.replace('district','',case=False)\\\n",
    ".str.strip()"
   ]
  },
  {
   "cell_type": "code",
   "execution_count": 79,
   "metadata": {},
   "outputs": [],
   "source": [
    "mfl_cleaned['Chiefdom'] = mfl_cleaned['Chiefdom'].str.replace('chiefdom','',case=False)\\\n",
    ".str.replace('area','',case=False)\\\n",
    ".str.replace('1','I')\\\n",
    ".str.replace('2','II')\\\n",
    ".str.replace('3','III')\\\n",
    ".str.strip().str.title()"
   ]
  },
  {
   "cell_type": "code",
   "execution_count": 80,
   "metadata": {
    "scrolled": true
   },
   "outputs": [
    {
     "data": {
      "text/html": [
       "<div>\n",
       "<style scoped>\n",
       "    .dataframe tbody tr th:only-of-type {\n",
       "        vertical-align: middle;\n",
       "    }\n",
       "\n",
       "    .dataframe tbody tr th {\n",
       "        vertical-align: top;\n",
       "    }\n",
       "\n",
       "    .dataframe thead th {\n",
       "        text-align: right;\n",
       "    }\n",
       "</style>\n",
       "<table border=\"1\" class=\"dataframe\">\n",
       "  <thead>\n",
       "    <tr style=\"text-align: right;\">\n",
       "      <th></th>\n",
       "      <th>ID</th>\n",
       "      <th>District</th>\n",
       "      <th>Chiefdom</th>\n",
       "      <th>Facility Name</th>\n",
       "      <th>Short Name</th>\n",
       "      <th>Facility Type</th>\n",
       "      <th>Council</th>\n",
       "      <th>Source</th>\n",
       "    </tr>\n",
       "  </thead>\n",
       "  <tbody>\n",
       "    <tr>\n",
       "      <th>0</th>\n",
       "      <td>1</td>\n",
       "      <td>Tonkolili</td>\n",
       "      <td>Polie</td>\n",
       "      <td>Mabarr Polie</td>\n",
       "      <td>Mabarr Polie</td>\n",
       "      <td>MCHP</td>\n",
       "      <td>Tonkolili District Council</td>\n",
       "      <td>MFL DPPI Mar 2020</td>\n",
       "    </tr>\n",
       "    <tr>\n",
       "      <th>1</th>\n",
       "      <td>2</td>\n",
       "      <td>Tonkolili</td>\n",
       "      <td>Yele</td>\n",
       "      <td>Mafay</td>\n",
       "      <td>Mafay</td>\n",
       "      <td>MCHP</td>\n",
       "      <td>Tonkolili District Council</td>\n",
       "      <td>MFL DPPI Mar 2020</td>\n",
       "    </tr>\n",
       "    <tr>\n",
       "      <th>2</th>\n",
       "      <td>3</td>\n",
       "      <td>Tonkolili</td>\n",
       "      <td>Mayepoi</td>\n",
       "      <td>Makonkorie</td>\n",
       "      <td>Makonkorie</td>\n",
       "      <td>CHP</td>\n",
       "      <td>Tonkolili District Council</td>\n",
       "      <td>MFL DPPI Mar 2020</td>\n",
       "    </tr>\n",
       "    <tr>\n",
       "      <th>3</th>\n",
       "      <td>4</td>\n",
       "      <td>Tonkolili</td>\n",
       "      <td>Yele</td>\n",
       "      <td>Manowo</td>\n",
       "      <td>Manowo</td>\n",
       "      <td>CHC</td>\n",
       "      <td>Tonkolili District Council</td>\n",
       "      <td>MFL DPPI Mar 2020</td>\n",
       "    </tr>\n",
       "    <tr>\n",
       "      <th>4</th>\n",
       "      <td>5</td>\n",
       "      <td>Tonkolili</td>\n",
       "      <td>Masankong</td>\n",
       "      <td>Mansumana</td>\n",
       "      <td>Mansumana</td>\n",
       "      <td>CHP</td>\n",
       "      <td>Tonkolili District Council</td>\n",
       "      <td>MFL DPPI Mar 2020</td>\n",
       "    </tr>\n",
       "  </tbody>\n",
       "</table>\n",
       "</div>"
      ],
      "text/plain": [
       "  ID   District   Chiefdom Facility Name    Short Name Facility Type  \\\n",
       "0  1  Tonkolili      Polie  Mabarr Polie  Mabarr Polie          MCHP   \n",
       "1  2  Tonkolili       Yele         Mafay         Mafay          MCHP   \n",
       "2  3  Tonkolili    Mayepoi    Makonkorie    Makonkorie           CHP   \n",
       "3  4  Tonkolili       Yele       Manowo         Manowo           CHC   \n",
       "4  5  Tonkolili  Masankong     Mansumana     Mansumana           CHP   \n",
       "\n",
       "                       Council             Source  \n",
       "0  Tonkolili District Council   MFL DPPI Mar 2020  \n",
       "1  Tonkolili District Council   MFL DPPI Mar 2020  \n",
       "2  Tonkolili District Council   MFL DPPI Mar 2020  \n",
       "3  Tonkolili District Council   MFL DPPI Mar 2020  \n",
       "4  Tonkolili District Council   MFL DPPI Mar 2020  "
      ]
     },
     "execution_count": 80,
     "metadata": {},
     "output_type": "execute_result"
    }
   ],
   "source": [
    "mfl_cleaned.head()"
   ]
  },
  {
   "cell_type": "code",
   "execution_count": 83,
   "metadata": {},
   "outputs": [
    {
     "data": {
      "text/html": [
       "<div>\n",
       "<style scoped>\n",
       "    .dataframe tbody tr th:only-of-type {\n",
       "        vertical-align: middle;\n",
       "    }\n",
       "\n",
       "    .dataframe tbody tr th {\n",
       "        vertical-align: top;\n",
       "    }\n",
       "\n",
       "    .dataframe thead th {\n",
       "        text-align: right;\n",
       "    }\n",
       "</style>\n",
       "<table border=\"1\" class=\"dataframe\">\n",
       "  <thead>\n",
       "    <tr style=\"text-align: right;\">\n",
       "      <th></th>\n",
       "      <th>ID</th>\n",
       "      <th>District</th>\n",
       "      <th>Chiefdom</th>\n",
       "      <th>Facility Name</th>\n",
       "      <th>Short Name</th>\n",
       "      <th>Facility Type</th>\n",
       "      <th>Council</th>\n",
       "      <th>Source</th>\n",
       "    </tr>\n",
       "  </thead>\n",
       "  <tbody>\n",
       "    <tr>\n",
       "      <th>1156</th>\n",
       "      <td>1157</td>\n",
       "      <td>Bombali</td>\n",
       "      <td>Mara</td>\n",
       "      <td>Mara</td>\n",
       "      <td>Mara</td>\n",
       "      <td>MCHP</td>\n",
       "      <td>Bombali District Council</td>\n",
       "      <td>MFL DPPI Mar 2020</td>\n",
       "    </tr>\n",
       "    <tr>\n",
       "      <th>1157</th>\n",
       "      <td>1158</td>\n",
       "      <td>Bombali</td>\n",
       "      <td>Mara</td>\n",
       "      <td>Mara</td>\n",
       "      <td>Mara</td>\n",
       "      <td>CHC</td>\n",
       "      <td>Bombali District Council</td>\n",
       "      <td>MFL DPPI Mar 2020</td>\n",
       "    </tr>\n",
       "  </tbody>\n",
       "</table>\n",
       "</div>"
      ],
      "text/plain": [
       "        ID District Chiefdom Facility Name Short Name Facility Type  \\\n",
       "1156  1157  Bombali     Mara          Mara       Mara          MCHP   \n",
       "1157  1158  Bombali     Mara          Mara       Mara           CHC   \n",
       "\n",
       "                       Council             Source  \n",
       "1156  Bombali District Council  MFL DPPI Mar 2020  \n",
       "1157  Bombali District Council  MFL DPPI Mar 2020  "
      ]
     },
     "execution_count": 83,
     "metadata": {},
     "output_type": "execute_result"
    }
   ],
   "source": [
    "mfl_cleaned[mfl_cleaned.duplicated(subset=['District','Chiefdom','Short Name'], keep=False)]"
   ]
  },
  {
   "cell_type": "code",
   "execution_count": 81,
   "metadata": {},
   "outputs": [],
   "source": [
    "mfl_cleaned.to_csv(dataDir + \"\\\\Cleaned Data\\\\Overall\\\\MFL DPPI Mar 2020_cleaned_0814.csv\",\n",
    "                  index=False)"
   ]
  },
  {
   "cell_type": "markdown",
   "metadata": {},
   "source": [
    "# FMFL with GPS Coordinates from MoHS"
   ]
  },
  {
   "cell_type": "markdown",
   "metadata": {},
   "source": [
    "## 1. List of fields"
   ]
  },
  {
   "cell_type": "code",
   "execution_count": 127,
   "metadata": {},
   "outputs": [
    {
     "name": "stdout",
     "output_type": "stream",
     "text": [
      "The fields are Index(['Unnamed: 0', 'FacilityName', 'Location', 'Region', 'District',\n",
      "       'Facility Type', 'Ownership', 'Urban / Rural ', 'Province', 'Chiefdom',\n",
      "       'Facility status as at 31/03/2015  (open = 1, closed = 2) ',\n",
      "       'GPS_latititude', 'GPS_longitude', 'GPS_altitude', 'GPS_precision',\n",
      "       'GPS_location (all)'],\n",
      "      dtype='object')\n"
     ]
    }
   ],
   "source": [
    "print(\"The fields are\", fmfl.columns)"
   ]
  },
  {
   "cell_type": "markdown",
   "metadata": {},
   "source": [
    "- `Unnamed: 0`: row number starting from 0.\n",
    "- `FacilityName`: facility name. \n",
    "- `Location`\n",
    "- `Region`: values include South, North, East, Western\n",
    "- `District`: admin 1 name.\n",
    "- `Facility Type`: facility type.\n",
    "- `Ownership`: values include Govt, NGO, Private, Mission, Other.\n",
    "- `Urban / Rural `: either Urban or Rural.\n",
    "- `Province`: values include Southern, Eastern, Northern, Western, may be same as `Region`. \n",
    "- `Chiefdom`: admin 2 name.\n",
    "- `Facility status as at 31/03/2015  (open = 1, closed = 2) `\n",
    "- `GPS_latititude`: latitude.\n",
    "- `GPS_longitude`: longitude.\n",
    "- `GPS_altitude`: altitude. \n",
    "- `GPS_precision`: score ranges from 3 to 52.\n",
    "- `GPS_location (all)`: combination of latitude, longitude, altitude and precision."
   ]
  },
  {
   "cell_type": "markdown",
   "metadata": {},
   "source": [
    "Some values in text columns like `District`, `Ownership` have an extra whitespace at the end or beginning. Corrections are made."
   ]
  },
  {
   "cell_type": "code",
   "execution_count": 128,
   "metadata": {},
   "outputs": [],
   "source": [
    "fmfl['FacilityName'] = fmfl['FacilityName'].str.strip()\n",
    "fmfl['District'] = fmfl['District'].str.strip()\n",
    "fmfl['Ownership'] = fmfl['Ownership'].str.strip()"
   ]
  },
  {
   "cell_type": "code",
   "execution_count": 129,
   "metadata": {},
   "outputs": [],
   "source": [
    "# Remove , in values like 1,675 so that altitude is encoded as a float\n",
    "fmfl['GPS_altitude'] = fmfl['GPS_altitude'].str.replace(',','')\n",
    "fmfl['GPS_altitude'] = pd.to_numeric(fmfl['GPS_altitude'])"
   ]
  },
  {
   "cell_type": "markdown",
   "metadata": {},
   "source": [
    "## 2. Missing values"
   ]
  },
  {
   "cell_type": "code",
   "execution_count": 130,
   "metadata": {},
   "outputs": [
    {
     "name": "stdout",
     "output_type": "stream",
     "text": [
      "NA values by column\n"
     ]
    },
    {
     "data": {
      "text/html": [
       "<div>\n",
       "<style scoped>\n",
       "    .dataframe tbody tr th:only-of-type {\n",
       "        vertical-align: middle;\n",
       "    }\n",
       "\n",
       "    .dataframe tbody tr th {\n",
       "        vertical-align: top;\n",
       "    }\n",
       "\n",
       "    .dataframe thead th {\n",
       "        text-align: right;\n",
       "    }\n",
       "</style>\n",
       "<table border=\"1\" class=\"dataframe\">\n",
       "  <thead>\n",
       "    <tr style=\"text-align: right;\">\n",
       "      <th></th>\n",
       "      <th>count</th>\n",
       "      <th>percentage</th>\n",
       "    </tr>\n",
       "  </thead>\n",
       "  <tbody>\n",
       "    <tr>\n",
       "      <th>Unnamed: 0</th>\n",
       "      <td>0</td>\n",
       "      <td>0.0</td>\n",
       "    </tr>\n",
       "    <tr>\n",
       "      <th>FacilityName</th>\n",
       "      <td>0</td>\n",
       "      <td>0.0</td>\n",
       "    </tr>\n",
       "    <tr>\n",
       "      <th>Location</th>\n",
       "      <td>27</td>\n",
       "      <td>2.0</td>\n",
       "    </tr>\n",
       "    <tr>\n",
       "      <th>Region</th>\n",
       "      <td>0</td>\n",
       "      <td>0.0</td>\n",
       "    </tr>\n",
       "    <tr>\n",
       "      <th>District</th>\n",
       "      <td>0</td>\n",
       "      <td>0.0</td>\n",
       "    </tr>\n",
       "    <tr>\n",
       "      <th>Facility Type</th>\n",
       "      <td>0</td>\n",
       "      <td>0.0</td>\n",
       "    </tr>\n",
       "    <tr>\n",
       "      <th>Ownership</th>\n",
       "      <td>45</td>\n",
       "      <td>3.4</td>\n",
       "    </tr>\n",
       "    <tr>\n",
       "      <th>Urban / Rural</th>\n",
       "      <td>45</td>\n",
       "      <td>3.4</td>\n",
       "    </tr>\n",
       "    <tr>\n",
       "      <th>Province</th>\n",
       "      <td>660</td>\n",
       "      <td>49.7</td>\n",
       "    </tr>\n",
       "    <tr>\n",
       "      <th>Chiefdom</th>\n",
       "      <td>660</td>\n",
       "      <td>49.7</td>\n",
       "    </tr>\n",
       "    <tr>\n",
       "      <th>Facility status as at 31/03/2015  (open = 1, closed = 2)</th>\n",
       "      <td>660</td>\n",
       "      <td>49.7</td>\n",
       "    </tr>\n",
       "    <tr>\n",
       "      <th>GPS_latititude</th>\n",
       "      <td>679</td>\n",
       "      <td>51.1</td>\n",
       "    </tr>\n",
       "    <tr>\n",
       "      <th>GPS_longitude</th>\n",
       "      <td>679</td>\n",
       "      <td>51.1</td>\n",
       "    </tr>\n",
       "    <tr>\n",
       "      <th>GPS_altitude</th>\n",
       "      <td>679</td>\n",
       "      <td>51.1</td>\n",
       "    </tr>\n",
       "    <tr>\n",
       "      <th>GPS_precision</th>\n",
       "      <td>679</td>\n",
       "      <td>51.1</td>\n",
       "    </tr>\n",
       "    <tr>\n",
       "      <th>GPS_location (all)</th>\n",
       "      <td>679</td>\n",
       "      <td>51.1</td>\n",
       "    </tr>\n",
       "  </tbody>\n",
       "</table>\n",
       "</div>"
      ],
      "text/plain": [
       "                                                    count  percentage\n",
       "Unnamed: 0                                              0         0.0\n",
       "FacilityName                                            0         0.0\n",
       "Location                                               27         2.0\n",
       "Region                                                  0         0.0\n",
       "District                                                0         0.0\n",
       "Facility Type                                           0         0.0\n",
       "Ownership                                              45         3.4\n",
       "Urban / Rural                                          45         3.4\n",
       "Province                                              660        49.7\n",
       "Chiefdom                                              660        49.7\n",
       "Facility status as at 31/03/2015  (open = 1, cl...    660        49.7\n",
       "GPS_latititude                                        679        51.1\n",
       "GPS_longitude                                         679        51.1\n",
       "GPS_altitude                                          679        51.1\n",
       "GPS_precision                                         679        51.1\n",
       "GPS_location (all)                                    679        51.1"
      ]
     },
     "execution_count": 130,
     "metadata": {},
     "output_type": "execute_result"
    }
   ],
   "source": [
    "print(\"NA values by column\")\n",
    "pd.DataFrame({'count':fmfl.isna().sum(), \n",
    "              'percentage':round(fmfl.isna().sum() / fmfl.shape[0],3) * 100})"
   ]
  },
  {
   "cell_type": "markdown",
   "metadata": {},
   "source": [
    "## 3. Number of data points"
   ]
  },
  {
   "cell_type": "code",
   "execution_count": 131,
   "metadata": {},
   "outputs": [
    {
     "name": "stdout",
     "output_type": "stream",
     "text": [
      "Number of data points collected: 1329\n"
     ]
    }
   ],
   "source": [
    "print(\"Number of data points collected:\", fmfl.shape[0])"
   ]
  },
  {
   "cell_type": "markdown",
   "metadata": {},
   "source": [
    "## 4. Facility types"
   ]
  },
  {
   "cell_type": "code",
   "execution_count": 132,
   "metadata": {},
   "outputs": [],
   "source": [
    "# Some corrections\n",
    "# upper case everything\n",
    "# replace HOSP with HOSPITAL\n",
    "fmfl[type_dict['fmfl']] = fmfl[type_dict['fmfl']].str.upper().str.replace('^HOSP$', 'HOSPITAL')"
   ]
  },
  {
   "cell_type": "code",
   "execution_count": 133,
   "metadata": {},
   "outputs": [
    {
     "name": "stdout",
     "output_type": "stream",
     "text": [
      "Dataset: FMFL from MoHS\n",
      "Number of unique facility types: 7\n"
     ]
    },
    {
     "data": {
      "text/plain": [
       "MCHP        639\n",
       "CHP         341\n",
       "CHC         231\n",
       "HOSPITAL     58\n",
       "CLINIC       54\n",
       "OTHER         5\n",
       "6             1\n",
       "Name: Facility Type, dtype: int64"
      ]
     },
     "execution_count": 133,
     "metadata": {},
     "output_type": "execute_result"
    }
   ],
   "source": [
    "print('Dataset: FMFL from MoHS')\n",
    "print( \"Number of unique facility types:\", fmfl[type_dict['fmfl']].nunique())\n",
    "fmfl[type_dict['fmfl']].value_counts()"
   ]
  },
  {
   "cell_type": "markdown",
   "metadata": {},
   "source": [
    "## 5. Facility names"
   ]
  },
  {
   "cell_type": "markdown",
   "metadata": {},
   "source": [
    "### 5.1 How many of the facility names are empty, both null or no text?"
   ]
  },
  {
   "cell_type": "code",
   "execution_count": 134,
   "metadata": {},
   "outputs": [
    {
     "name": "stdout",
     "output_type": "stream",
     "text": [
      "Number of null values: 0\n"
     ]
    }
   ],
   "source": [
    "print(\"Number of null values:\", fmfl[name_dict['fmfl']].isna().sum())"
   ]
  },
  {
   "cell_type": "code",
   "execution_count": 135,
   "metadata": {},
   "outputs": [
    {
     "name": "stdout",
     "output_type": "stream",
     "text": [
      "Number of no text values: 0\n"
     ]
    }
   ],
   "source": [
    "print(\"Number of no text values:\", sum(fmfl[name_dict['fmfl']] == \"\"))"
   ]
  },
  {
   "cell_type": "markdown",
   "metadata": {},
   "source": [
    "### 5.2 Name cleaning"
   ]
  },
  {
   "cell_type": "code",
   "execution_count": 136,
   "metadata": {},
   "outputs": [],
   "source": [
    "fmfl['name_short'] = fmfl[name_dict['fmfl']].str.replace('_',' ') \\\n",
    ".str.replace('.','') \\\n",
    ".str.replace(' Hosp | Hosp$',' Hospital ') \\\n",
    ".str.replace(' Govt | Govt$',' Government ') \\\n",
    ".str.replace(' Gov | Gov$',' Government ') \\\n",
    ".str.title() \\\n",
    ".str.replace('|'.join(common_types), '', regex=True, case = False) \\\n",
    ".str.strip()"
   ]
  },
  {
   "cell_type": "code",
   "execution_count": 140,
   "metadata": {},
   "outputs": [],
   "source": [
    "#fmfl[fmfl['Facility Type']=='HOSPITAL'][['District', 'Chiefdom', 'FacilityName', 'Facility Type', 'name_short']].sample(10)"
   ]
  },
  {
   "cell_type": "code",
   "execution_count": 141,
   "metadata": {},
   "outputs": [],
   "source": [
    "fmfl_cleaned = fmfl.dropna(subset=['GPS_latititude', 'GPS_longitude'])\n",
    "#fmfl_cleaned[['Unnamed: 0', 'FacilityName', 'Region', 'District',\n",
    "#       'Facility Type', 'Ownership', 'Chiefdom',\n",
    "#       'GPS_latititude', 'GPS_longitude',  'name_short']].to_csv(dataDir+'\\\\'+'fmfl2_0810.csv', index=False)"
   ]
  },
  {
   "cell_type": "markdown",
   "metadata": {},
   "source": [
    "## 6. Duplicates within dataset"
   ]
  },
  {
   "cell_type": "code",
   "execution_count": 137,
   "metadata": {},
   "outputs": [
    {
     "data": {
      "text/html": [
       "<div>\n",
       "<style scoped>\n",
       "    .dataframe tbody tr th:only-of-type {\n",
       "        vertical-align: middle;\n",
       "    }\n",
       "\n",
       "    .dataframe tbody tr th {\n",
       "        vertical-align: top;\n",
       "    }\n",
       "\n",
       "    .dataframe thead th {\n",
       "        text-align: right;\n",
       "    }\n",
       "</style>\n",
       "<table border=\"1\" class=\"dataframe\">\n",
       "  <thead>\n",
       "    <tr style=\"text-align: right;\">\n",
       "      <th></th>\n",
       "      <th></th>\n",
       "      <th></th>\n",
       "      <th></th>\n",
       "      <th></th>\n",
       "      <th>count</th>\n",
       "    </tr>\n",
       "    <tr>\n",
       "      <th>District</th>\n",
       "      <th>FacilityName</th>\n",
       "      <th>Facility Type</th>\n",
       "      <th>GPS_latititude</th>\n",
       "      <th>GPS_longitude</th>\n",
       "      <th></th>\n",
       "    </tr>\n",
       "  </thead>\n",
       "  <tbody>\n",
       "    <tr>\n",
       "      <th>Kenema</th>\n",
       "      <th>Sembehun</th>\n",
       "      <th>MCHP</th>\n",
       "      <th>8.020815</th>\n",
       "      <th>-11.327827</th>\n",
       "      <td>3</td>\n",
       "    </tr>\n",
       "    <tr>\n",
       "      <th rowspan=\"2\" valign=\"top\">Pujehun</th>\n",
       "      <th>Saahun</th>\n",
       "      <th>MCHP</th>\n",
       "      <th>7.487952</th>\n",
       "      <th>-11.417760</th>\n",
       "      <td>2</td>\n",
       "    </tr>\n",
       "    <tr>\n",
       "      <th>Nyandehun</th>\n",
       "      <th>MCHP</th>\n",
       "      <th>7.224288</th>\n",
       "      <th>-11.709803</th>\n",
       "      <td>2</td>\n",
       "    </tr>\n",
       "    <tr>\n",
       "      <th>Moyamba</th>\n",
       "      <th>Gondama</th>\n",
       "      <th>MCHP</th>\n",
       "      <th>7.751333</th>\n",
       "      <th>-12.134017</th>\n",
       "      <td>2</td>\n",
       "    </tr>\n",
       "    <tr>\n",
       "      <th>Pujehun</th>\n",
       "      <th>Taninahun</th>\n",
       "      <th>MCHP</th>\n",
       "      <th>7.548580</th>\n",
       "      <th>-11.804628</th>\n",
       "      <td>2</td>\n",
       "    </tr>\n",
       "  </tbody>\n",
       "</table>\n",
       "</div>"
      ],
      "text/plain": [
       "                                                                  count\n",
       "District FacilityName Facility Type GPS_latititude GPS_longitude       \n",
       "Kenema   Sembehun     MCHP          8.020815       -11.327827         3\n",
       "Pujehun  Saahun       MCHP          7.487952       -11.417760         2\n",
       "         Nyandehun    MCHP          7.224288       -11.709803         2\n",
       "Moyamba  Gondama      MCHP          7.751333       -12.134017         2\n",
       "Pujehun  Taninahun    MCHP          7.548580       -11.804628         2"
      ]
     },
     "execution_count": 137,
     "metadata": {},
     "output_type": "execute_result"
    }
   ],
   "source": [
    "fmfl.groupby(['District', 'FacilityName', 'Facility Type', 'GPS_latititude',\n",
    "                            'GPS_longitude']) \\\n",
    ".agg(count=('Unnamed: 0', 'count')).sort_values('count', ascending=False).head()"
   ]
  },
  {
   "cell_type": "code",
   "execution_count": 138,
   "metadata": {},
   "outputs": [],
   "source": [
    "# drop duplicates\n",
    "fmfl_cleaned = fmfl[~fmfl.duplicated(subset=['District', 'FacilityName', 'Facility Type', \n",
    "                             'GPS_latititude', 'GPS_longitude'],\n",
    "                    keep='last')]"
   ]
  },
  {
   "cell_type": "code",
   "execution_count": 139,
   "metadata": {},
   "outputs": [
    {
     "name": "stdout",
     "output_type": "stream",
     "text": [
      "Number of duplicates dropped: 23\n"
     ]
    }
   ],
   "source": [
    "print(\"Number of duplicates dropped:\", fmfl.shape[0]-fmfl_cleaned.shape[0])"
   ]
  },
  {
   "cell_type": "code",
   "execution_count": 140,
   "metadata": {},
   "outputs": [],
   "source": [
    "region_dict = {'South':'Southern', 'North':'Northern', \n",
    "               'East':'Eastern', 'Western':'Western'}\n",
    "fmfl_cleaned['Region'] = [region_dict[reg] for reg in fmfl_cleaned['Region']]"
   ]
  },
  {
   "cell_type": "code",
   "execution_count": 141,
   "metadata": {},
   "outputs": [],
   "source": [
    "fmfl_cleaned = fmfl_cleaned[['Unnamed: 0', 'Region', 'District', 'Chiefdom', 'FacilityName', \n",
    "                            'name_short', 'Facility Type', 'GPS_latititude', \n",
    "                             'GPS_longitude', 'GPS_altitude', 'GPS_precision',\n",
    "                            'Ownership', 'Urban / Rural ', \n",
    "                             'Facility status as at 31/03/2015  (open = 1, closed = 2) ']]\n",
    "fmfl_cleaned['Source'] = 'FMFL from MoHS'"
   ]
  },
  {
   "cell_type": "code",
   "execution_count": 142,
   "metadata": {},
   "outputs": [],
   "source": [
    "fmfl_cleaned.rename(columns={'Unnamed: 0':'ID', 'FacilityName':'Facility Name',\n",
    "                            'GPS_latititude':'Latitude', 'GPS_longitude':'Longitude',\n",
    "                             'GPS_altitude':'Altitude', 'GPS_precision':'GPS Accuracy',\n",
    "                            'Facility status as at 31/03/2015  (open = 1, closed = 2) ':'Functional Status',\n",
    "                            'Urban / Rural ':'Urban/Rural', \n",
    "                            'name_short':'Short Name'},\n",
    "                   inplace=True)"
   ]
  },
  {
   "cell_type": "code",
   "execution_count": 143,
   "metadata": {},
   "outputs": [],
   "source": [
    "#fmfl_cleaned.head()"
   ]
  },
  {
   "cell_type": "code",
   "execution_count": 144,
   "metadata": {},
   "outputs": [],
   "source": [
    "district_dict = {'Western Rural':'Western Area Rural', \n",
    "                 'Western Urban':'Western Area Urban'}\n",
    "fmfl_cleaned['District'] = [district_dict[dist] if dist in district_dict.keys() \\\n",
    "                            else dist for dist in fmfl_cleaned['District']]"
   ]
  },
  {
   "cell_type": "code",
   "execution_count": 167,
   "metadata": {},
   "outputs": [],
   "source": [
    "fmfl_cleaned.to_csv(dataDir + \"\\\\Cleaned Data\\\\Overall\\\\fmfl_cleaned_0812.csv\")"
   ]
  },
  {
   "cell_type": "code",
   "execution_count": 168,
   "metadata": {},
   "outputs": [],
   "source": [
    "fmfl_geo = fmfl_cleaned.dropna(subset=['Longitude','Latitude'])\n",
    "fmfl_geo.to_csv(dataDir + \"\\\\Cleaned Data\\\\No missing coordinates\\\\fmfl_geo_cleaned_0812.csv\")"
   ]
  },
  {
   "cell_type": "markdown",
   "metadata": {},
   "source": [
    "# MFL from Unicef and MoHS"
   ]
  },
  {
   "cell_type": "markdown",
   "metadata": {},
   "source": [
    "## Number of data points"
   ]
  },
  {
   "cell_type": "code",
   "execution_count": 145,
   "metadata": {},
   "outputs": [
    {
     "name": "stdout",
     "output_type": "stream",
     "text": [
      "Unicef: 1394\n",
      "MoHS: 1306\n"
     ]
    }
   ],
   "source": [
    "print(\"Unicef:\", mfl.shape[0])\n",
    "print(\"MoHS:\", fmfl_cleaned.shape[0])"
   ]
  },
  {
   "cell_type": "code",
   "execution_count": 147,
   "metadata": {},
   "outputs": [
    {
     "data": {
      "text/plain": [
       "Index(['ID', 'Region', 'District', 'Chiefdom', 'Facility Name', 'Short Name',\n",
       "       'Facility Type', 'Latitude', 'Longitude', 'Altitude', 'GPS Accuracy',\n",
       "       'Ownership', 'Urban/Rural', 'Functional Status', 'Source'],\n",
       "      dtype='object')"
      ]
     },
     "execution_count": 147,
     "metadata": {},
     "output_type": "execute_result"
    }
   ],
   "source": [
    "fmfl_cleaned.columns"
   ]
  },
  {
   "cell_type": "code",
   "execution_count": 148,
   "metadata": {},
   "outputs": [
    {
     "data": {
      "text/plain": [
       "Index(['ID', 'District', 'Chiefdom', 'Facility Name', 'Short Name',\n",
       "       'Facility Type', 'Council', 'Source'],\n",
       "      dtype='object')"
      ]
     },
     "execution_count": 148,
     "metadata": {},
     "output_type": "execute_result"
    }
   ],
   "source": [
    "mfl_cleaned.columns"
   ]
  },
  {
   "cell_type": "markdown",
   "metadata": {},
   "source": [
    "## Find overlap"
   ]
  },
  {
   "cell_type": "code",
   "execution_count": 149,
   "metadata": {},
   "outputs": [],
   "source": [
    "fmfl2 = fmfl_cleaned[['District', 'Chiefdom', 'Facility Name', 'Facility Type', 'Short Name',\n",
    "                     'Source']]\n",
    "\n",
    "mfl2 = mfl_cleaned[['District', 'Chiefdom', 'Facility Name', 'Facility Type', 'Short Name', 'Source']]"
   ]
  },
  {
   "cell_type": "code",
   "execution_count": 180,
   "metadata": {},
   "outputs": [],
   "source": [
    "#fmfl2['District'].unique()"
   ]
  },
  {
   "cell_type": "code",
   "execution_count": 151,
   "metadata": {},
   "outputs": [],
   "source": [
    "#mfl2['District'].unique()"
   ]
  },
  {
   "cell_type": "code",
   "execution_count": 152,
   "metadata": {},
   "outputs": [
    {
     "name": "stdout",
     "output_type": "stream",
     "text": [
      "Match on district and short name:\n",
      "Number of points overlap: 793\n"
     ]
    }
   ],
   "source": [
    "# match on short name\n",
    "short_name = mfl2.merge(fmfl2, on = ['District', 'Short Name'],\n",
    "          suffixes=['_mfl', '_fmfl'])\n",
    "print(\"Match on district and short name:\")\n",
    "print(\"Number of points overlap:\", short_name.shape[0])"
   ]
  },
  {
   "cell_type": "code",
   "execution_count": 154,
   "metadata": {},
   "outputs": [],
   "source": [
    "fac_type_dict = {'MCHP':'MCHP', 'CHP':'CHP', 'CHC':'CHC', \n",
    "                 'HOSPITAL':'HOSPITAL', 'CLINIC':'CLINIC', \n",
    "                 'REFERRAL HOSPITAL':'HOSPITAL',\n",
    "                 'DUNAMOR':'OTHER', 'BEMONC - CHC':'CHC', \n",
    "                 'GOVERNMENT HOSPITAL':'HOSPITAL',\n",
    "                 'MISSION HOSPITAL':'HOSPITAL', \n",
    "                 'INDUSTRIAL HOSPITAL':'HOSPITAL', \n",
    "                 'MAMAGEWOH':'OTHER', np.nan:np.nan}\n",
    "mfl2['Facility Type2'] = [fac_type_dict[ftype] for ftype in mfl2['Facility Type']]"
   ]
  },
  {
   "cell_type": "code",
   "execution_count": 155,
   "metadata": {},
   "outputs": [
    {
     "name": "stdout",
     "output_type": "stream",
     "text": [
      "Match on short name and facility type:\n",
      "Number of points overlap: 727\n"
     ]
    }
   ],
   "source": [
    "# match on exact facility name\n",
    "df = mfl2.merge(fmfl2, left_on = ['Short Name', 'Facility Type2'],\n",
    "                right_on = ['Short Name', 'Facility Type'],\n",
    "          suffixes=['_mfl', '_fmfl'])\n",
    "print(\"Match on short name and facility type:\")\n",
    "print(\"Number of points overlap:\", df.shape[0])"
   ]
  },
  {
   "cell_type": "code",
   "execution_count": 197,
   "metadata": {},
   "outputs": [],
   "source": [
    "#df[df['Facility Type2']=='HOSPITAL'].head()"
   ]
  },
  {
   "cell_type": "markdown",
   "metadata": {},
   "source": [
    "# Matching DPPI 2020 list and SARA data"
   ]
  },
  {
   "cell_type": "code",
   "execution_count": 156,
   "metadata": {},
   "outputs": [],
   "source": [
    "# drop 'district' from District column in DPPI 2020 list\n",
    "mfl2 = mfl_cleaned[['District', 'Chiefdom', 'Facility Name', 'Facility Type', 'Short Name']]"
   ]
  },
  {
   "cell_type": "code",
   "execution_count": 157,
   "metadata": {},
   "outputs": [],
   "source": [
    "sara2 = sara_cleaned[['District', 'Facility Name', 'Facility Type', 'Short Name',\n",
    "             'Latitude', 'Longitude']]"
   ]
  },
  {
   "cell_type": "code",
   "execution_count": 159,
   "metadata": {},
   "outputs": [
    {
     "name": "stdout",
     "output_type": "stream",
     "text": [
      "Match on district and short name:\n",
      "Number of points overlap: 777\n"
     ]
    }
   ],
   "source": [
    "# match on district and exact facility name\n",
    "df = mfl2.merge(sara2, on = ['District', 'Short Name'],\n",
    "          suffixes=['_mfl', '_sara'])\n",
    "print(\"Match on district and short name:\")\n",
    "print(\"Number of points overlap:\", df.shape[0])"
   ]
  },
  {
   "cell_type": "code",
   "execution_count": 160,
   "metadata": {},
   "outputs": [],
   "source": [
    "fac_type_dict = {'MCHP':'MCHP', 'CHP':'CHP', 'CHC':'CHC', \n",
    "                 'HOSPITAL':'HOSPITAL', 'CLINIC':'CLINIC', \n",
    "                 'REFERRAL HOSPITAL':'HOSPITAL',\n",
    "                 'DUNAMOR':'OTHER', 'BEMONC - CHC':'CHC', \n",
    "                 'GOVERNMENT HOSPITAL':'HOSPITAL',\n",
    "                 'MISSION HOSPITAL':'HOSPITAL', \n",
    "                 'INDUSTRIAL HOSPITAL':'HOSPITAL', \n",
    "                 'MAMAGEWOH':'OTHER', np.nan:np.nan}\n",
    "mfl2['Facility Type2'] = [fac_type_dict[ftype] for ftype in mfl2['Facility Type']]"
   ]
  },
  {
   "cell_type": "code",
   "execution_count": 161,
   "metadata": {},
   "outputs": [
    {
     "name": "stdout",
     "output_type": "stream",
     "text": [
      "Match on short name and facility type:\n",
      "Number of points overlap: 691\n"
     ]
    }
   ],
   "source": [
    "# match on short name and facility type\n",
    "df = mfl2.merge(sara2, left_on = ['Short Name', 'Facility Type2'],\n",
    "                right_on = ['Short Name', 'Facility Type'],\n",
    "          suffixes=['_mfl', '_sara'])\n",
    "print(\"Match on short name and facility type:\")\n",
    "print(\"Number of points overlap:\", df.shape[0])"
   ]
  },
  {
   "cell_type": "code",
   "execution_count": 163,
   "metadata": {},
   "outputs": [
    {
     "name": "stdout",
     "output_type": "stream",
     "text": [
      "Match on district, short name and facility type:\n",
      "Number of points overlap: 613\n"
     ]
    }
   ],
   "source": [
    "# match on short name and facility type\n",
    "df = mfl2.merge(sara2, left_on = ['District', 'Short Name', 'Facility Type2'],\n",
    "                right_on = ['District', 'Short Name', 'Facility Type'],\n",
    "          suffixes=['_mfl', '_sara'])\n",
    "print(\"Match on district, short name and facility type:\")\n",
    "print(\"Number of points overlap:\", df.shape[0])"
   ]
  }
 ],
 "metadata": {
  "kernelspec": {
   "display_name": "Python 3",
   "language": "python",
   "name": "python3"
  },
  "language_info": {
   "codemirror_mode": {
    "name": "ipython",
    "version": 3
   },
   "file_extension": ".py",
   "mimetype": "text/x-python",
   "name": "python",
   "nbconvert_exporter": "python",
   "pygments_lexer": "ipython3",
   "version": "3.7.6"
  }
 },
 "nbformat": 4,
 "nbformat_minor": 4
}
