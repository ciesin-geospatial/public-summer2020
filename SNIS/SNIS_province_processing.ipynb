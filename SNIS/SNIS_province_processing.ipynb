{
 "cells": [
  {
   "cell_type": "code",
   "execution_count": 59,
   "metadata": {},
   "outputs": [],
   "source": [
    "import pandas as pd\n",
    "import numpy as np"
   ]
  },
  {
   "cell_type": "code",
   "execution_count": 78,
   "metadata": {},
   "outputs": [
    {
     "name": "stdout",
     "output_type": "stream",
     "text": [
      "/Users/peycke/Documents/proj/grid3/3_province_guide\n"
     ]
    }
   ],
   "source": [
    "%cd /Users/peycke/Documents/proj/grid3/3_province_guide"
   ]
  },
  {
   "cell_type": "code",
   "execution_count": 79,
   "metadata": {},
   "outputs": [
    {
     "data": {
      "text/plain": [
       "(16602, 28)"
      ]
     },
     "execution_count": 79,
     "metadata": {},
     "output_type": "execute_result"
    }
   ],
   "source": [
    "df = pd.read_excel('/Users/peycke/Documents/proj/grid3/3_province_guide/3_province_draft.xlsx')\n",
    "# df = pd.read_excel('/Users/peycke/Documents/proj/grid3/3_province_guide/provinces/Maniema_draft_with_position.xlsx')\n",
    "\n",
    "df.shape"
   ]
  },
  {
   "cell_type": "markdown",
   "metadata": {},
   "source": [
    "### Cleaning\n",
    "#### Start by stripping leading and trailing spaces, and moving to all uppercase for string columns\n",
    "\n"
   ]
  },
  {
   "cell_type": "code",
   "execution_count": 80,
   "metadata": {},
   "outputs": [],
   "source": [
    "def spaces_and_case(column_name, df):\n",
    "    df[column_name] = df[column_name].astype(str).str.lstrip()\n",
    "    df[column_name] = df[column_name].astype(str).str.rstrip()\n",
    "    df[column_name] = df[column_name].apply(lambda x: x.upper())\n",
    "    return df\n",
    "\n",
    "\n",
    "df = spaces_and_case('TERRITOIRE', df)\n",
    "df = spaces_and_case('ACCESSIBILITE', df)\n",
    "df = spaces_and_case('TYPE', df)\n",
    "df = spaces_and_case('APPARTENANCE', df)\n",
    "df = spaces_and_case('SECTEUR', df)\n",
    "df = spaces_and_case('GROUPEMENT', df)\n",
    "df = spaces_and_case('AIRE DE SANTE', df)\n",
    "df = spaces_and_case('ZONE DE SANTE', df)\n",
    "df = spaces_and_case('NOM DE L\\'ENTITE', df)\n",
    "df = spaces_and_case('OBSERVATION', df)\n",
    "df = spaces_and_case('COMMUNE', df)\n",
    "df = spaces_and_case('QUARTIER', df)\n",
    "df = spaces_and_case('NOM DU RESPONSIBLE', df)"
   ]
  },
  {
   "cell_type": "markdown",
   "metadata": {},
   "source": [
    "### Spelling Variations\n",
    "#### Because of the wide variety of recorded entries it is necessary to review the value counts of each column\n",
    "#### These value counts populate the province reference example sheets"
   ]
  },
  {
   "cell_type": "code",
   "execution_count": 81,
   "metadata": {},
   "outputs": [],
   "source": [
    "# Everything within the square brackets after .replace is replaced by the entry before the closing paren\n",
    "# Example: if we are replacing vehilce and vehic with vehicule the syntax would be .replace(['vehilce', 'vehic'],'vehicule' )\n",
    "\n",
    "\n",
    "# Tshuapa and Kwango\n",
    "df['ACCESSIBILITE'] = df['ACCESSIBILITE'].replace(['VÉHICULE', 'VEHICUL', 'VOITURE', 'VEHUCULE', 'VEHUCUL', 'VEHUCIL','VÉHICUL',\n",
    "                                                   'VEHUCE', 'AUTO', 'VIHICUL','WEHICULE'], 'VEHICULE')\n",
    "\n",
    "df['ACCESSIBILITE'] = df['ACCESSIBILITE'].replace(['PIED', 'PIES', 'PIRDSS', 'PID', 'PIDS'], 'PIEDS')\n",
    "\n",
    "df['ACCESSIBILITE'] = df['ACCESSIBILITE'].replace(['VEH/MOTO', 'MOTO/VEH', 'VEHICULE, MOTO', 'VÉHICULE/MOTO',\n",
    "                                                   'MOTO/ VEHICULE', 'VÉHICULE / MOTO', 'MOTO/VEHICULE', 'MOTO VEHIC','VEHICULE/MOTO'], 'VEHIC/MOTO')\n",
    "\n",
    "df['ACCESSIBILITE'] = df['ACCESSIBILITE'].replace(['M', 'MOTOS', 'M0T0','TRAVERSABLE PAR MOTO'], 'MOTO')\n",
    "\n",
    "df['ACCESSIBILITE'] = df['ACCESSIBILITE'].replace(['H-B'], 'HORBORD')\n",
    "\n",
    "df['ACCESSIBILITE'] = df['ACCESSIBILITE'].replace(['MOTO,PIEDS','MOTO; PIEDS', 'MOTO/PIEDS', 'MOTO PIED', 'PIED MOTO',\n",
    "                                                   'MOTO  PIED', 'MOTO ET PIED', 'MOTO, ET PIEDS', 'MOTO  PIEDS', 'PIED   MOTO',\n",
    "                                                  'MOTO   PIED', 'MOTO ET PIEDS', 'MOTO,ET PIEDS'], 'MOTO/PIED')\n",
    "\n",
    "df['ACCESSIBILITE'] = df['ACCESSIBILITE'].replace([' CAMION'], 'CAMION')\n",
    "\n",
    "df['ACCESSIBILITE'] = df['ACCESSIBILITE'].replace(['MOTO CAMINION ET PIED', 'MOTO,CAMINION, ET PIEDS', 'MOTO CAMINION PIED',\n",
    "                                                  'MOTO,PIEDS ,CAMINION', 'MOTO;CAMINION,PIEDS', 'MOTO  CAMINION, ET PIEDS',\n",
    "                                                  'MOTO, CAMINION  ET PIEDS ', 'PIEDS CAMINION  MOTO', 'MOTO  PIED CAMINION', \n",
    "                                                  'MOTO,COMINION ET PIEDS', 'PIED MOTO CAMINION ', 'MOTO,CAMINION ,ET PIEDS', \n",
    "                                                  'PI ET MOTO CAMINION', 'PIED MOTO CAMINION', 'MOTO; CAMINION, PIEDS',\n",
    "                                                  'MOTO,CAMINION,EP', 'MOTO, CAMINION  ET PIEDS','MOTO PIED CAMINION'], 'MOTO PIED CAMION')\n",
    "df['ACCESSIBILITE'] = df['ACCESSIBILITE'].replace(['PIROGUE SEULE'], 'PIROGUE')\n",
    "df['ACCESSIBILITE'] = df['ACCESSIBILITE'].replace(['VEHICLE/MOTO/VELO'], 'VEHIC/MOTO/VELO')\n",
    "\n",
    "\n",
    "acc_dist = df['ACCESSIBILITE'].value_counts().to_frame()\n",
    "# acc_dist.head(50)\n",
    "# acc_dist.to_excel('acc_dist.xlsx')"
   ]
  },
  {
   "cell_type": "code",
   "execution_count": 82,
   "metadata": {},
   "outputs": [],
   "source": [
    "# Tshuapa and Kwango\n",
    "df['TYPE'] = df['TYPE'].replace(['REPERE GEO', 'REP GÉO', 'REER GEO', 'REPERE GEOGRAPHIQUE', 'REP G', 'REP  GEO', 'REPER GEO',\n",
    "                                 'REPGEO', 'RÉP.GÉO', 'REPERE GEOGRA', 'RÉG.GÉO', 'RÉP. GÉO', 'RÉP. GÉOGRA',\n",
    "                                'REF GEO','RÉPÈRE GÉO.','REP.GEO','REP, GEO', 'R.G', 'REPÈRE GÉOGRAPHI',\n",
    "                                'RÉP GÉO', 'REP. GEO', 'REP,GEO', 'REP,GÉO',' REP GÉO', 'REP.GÉO',\n",
    "                                'REPÈRE GÉOGRAPHIQUE','RÉP GEOGRA','REP. GÉO.', 'RÉPERE GÉO', 'REP GEQ', 'REPERE GÉOGRAPHIQUE',\n",
    "                                'RIP-GÉO', 'RÉPÈRE GÉO', 'REPGEOGRAPHIQUE', 'RÉPGÉO', 'Reo.geo', 'Rep   Geo', 'Rep   Géo', 'rep  géo',\n",
    "                                'REP GEO ', 'RG', 'REPERE GÉO', 'REO.GEO', 'REP   GEO', 'REP   GÉO', 'REP  GÉO', 'REP. GEO HHV',\n",
    "                                'REP.G', 'REPERE GÉO', 'RÈPERE GÉO','GÉO','RÉ. GÉOGR','RÉG.GÉOG','RÉG.GÉOGR','REP','REP  GEO.',\n",
    "                                'REP  GEOGR','RÉP  GEOGR','REP GEO.','REP GÉO.','RÉP GEOGR','REP GEOGRAPH','REP- GEO',\n",
    "                                'REP-GEO','REP, GÉO','RÉP, GÉO','RÉP,GÉO','REP.','REP. GÉO','RÉP. GEO','REP. GEO.','RÉP. GÉOGR',\n",
    "                                'REP.GEOG','RÉP.GÉOGE','REP.GEOGR','RÉP.GÉOGR','REP.GEOR','RIP','RIP GEO','RIP.GÉO','GEO','GEP GEO'], 'REP GEO')\n",
    "\n",
    "\n",
    "\n",
    "\n",
    "df['TYPE'] = df['TYPE'].replace(['REPERE'], 'REP')\n",
    "df['TYPE'] = df['TYPE'].replace(['VILL', 'VIL', 'VII', '¨VILL', 'VILAGE','VALLAGE','VILLA','VILLGE',\n",
    "                                'VLLAGE','-   VILLAGE'], 'VILLAGE')\n",
    "\n",
    "df['TYPE'] = df['TYPE'].replace(['P.S', 'P S'], 'PS')\n",
    "df['TYPE'] = df['TYPE'].replace(['HAM','HAMON','HAMMEAU','HAMEA','HOM','HANEAU', 'HAMAU', 'HAMAUX', 'HAMO',\n",
    "                                '- HAMEAU','HAMEAUX'], 'HAMEAU')\n",
    "df['TYPE'] = df['TYPE'].replace(['EP.','E.P', 'E P','E P','E  P','E,P','Ë.P','RP'], 'EP')\n",
    "df['TYPE'] = df['TYPE'].replace(['SCC'], 'SSC')\n",
    "df['TYPE'] = df['TYPE'].replace(['I.P', 'I P','I¨P','-   IP','PI'], 'IP')\n",
    "df['TYPE'] = df['TYPE'].replace(['AV','A.V','AV.'], 'AVENUE')\n",
    "df['TYPE'] = df['TYPE'].replace(['RIVIERE','RIV','RIVIERE TSHUAP','RIVIRRE'], 'RIVIÈRE')\n",
    "df['TYPE'] = df['TYPE'].replace(['DEBUT DE L\\' AVENUE'], 'DEBUT DE L\\'AVENUE')\n",
    "df['TYPE'] = df['TYPE'].replace(['ADM.','ADMST','ADMIN','ADMIN/POINTINT','ADMN'], 'ADM')\n",
    "df['TYPE'] = df['TYPE'].replace(['LYCEE'], 'LYCÉE')\n",
    "df['TYPE'] = df['TYPE'].replace(['EMAT', 'E MATER', 'E.M','E MAT.','E MAT'], 'EM')\n",
    "df['TYPE'] = df['TYPE'].replace(['C S', 'C.S','C .S','CENTRE DE SANTE BENDJALI'], 'CS')\n",
    "df['TYPE'] = df['TYPE'].replace(['INST.','INSTITUT', 'INSITUT', 'INSTIT', 'INST,','ISNT','INST;','INST;.','INT'], 'INST')\n",
    "df['TYPE'] = df['TYPE'].replace(['LMT.', 'LMT', 'L IMITE', 'LIM', 'LÎMITE','LIMITES','LIMITA','LJMITE'], 'LIMITE')\n",
    "df['TYPE'] = df['TYPE'].replace(['FORRET.','FORRET'], 'FORET')\n",
    "df['TYPE'] = df['TYPE'].replace(['DISP.'], 'DISP')\n",
    "df['TYPE'] = df['TYPE'].replace(['S.S.C','SC'], 'SSC')\n",
    "df['TYPE'] = df['TYPE'].replace(['AMON'], 'AMO')\n",
    "df['TYPE'] = df['TYPE'].replace(['UNIV.','UNIV'], 'UNIVERSITÉ')\n",
    "df['TYPE'] = df['TYPE'].replace(['AEDROME','AERO'], 'AERODROME')\n",
    "df['TYPE'] = df['TYPE'].replace(['BLV','BLVRD'], 'BLVD')\n",
    "df['TYPE'] = df['TYPE'].replace(['C.S.R'], 'CSR')\n",
    "df['TYPE'] = df['TYPE'].replace(['CAMPEMENT'], 'CAMP')\n",
    "df['TYPE'] = df['TYPE'].replace(['RIERE','REVIERE'], 'RIVIÈRE')\n",
    "df['TYPE'] = df['TYPE'].replace(['E.S'], 'ES')\n",
    "df['TYPE'] = df['TYPE'].replace(['LYC'], 'LYCÉE')\n",
    "df['TYPE'] = df['TYPE'].replace(['BR.ADM','BURADM'], 'BUREAU')\n",
    "df['TYPE'] = df['TYPE'].replace(['C HOSP','C.HOSP'],  'CH')\n",
    "df['TYPE'] = df['TYPE'].replace(['H.GR'], 'HGR')\n",
    "df['TYPE'] = df['TYPE'].replace(['MARHE'], 'MARCHE')\n",
    "\n",
    "\n",
    "type_dist = df['TYPE'].value_counts().to_frame()\n",
    "# type_dist.head(50)\n",
    "# type_dist.to_excel('type_dist.xlsx')"
   ]
  },
  {
   "cell_type": "code",
   "execution_count": 83,
   "metadata": {},
   "outputs": [],
   "source": [
    "df['APPARTENANCE'] = df['APPARTENANCE'].replace(['L\\'ÉTAT', 'L’ETAT','L\\'ETAT', 'L\\'état','ÉTAT','ETATIQUE','-(L\\'ÉTAT)','(L\\'ÉTAT)','ETAAT','ET','ETA','EYAT','ETTAT','ETET',\n",
    "                                                'L\\'ETA T','L\"ETAT','EETAT'], 'ETAT')\n",
    "\n",
    "df['APPARTENANCE'] = df['APPARTENANCE'].replace(['CONV PROTESTANTE','CONVENTIONNEE PROTESTANTE 25È CEK','CONVENTIONNE PROTESTANT','CONV.PROTESTANTE','CONVENTIONNÉE PROTESTANTE',\n",
    "                                                'CONV PROTESTANTE CEFMC','CONV PROTESTENTE','CONV PROTEST', 'CONV  PROTESTANTE', 'CONV PR', 'CONVENTIONNE PR','CONVENTIONNE PROT',\n",
    "                                                'CONVENTIONNÉ PROTESTENTE','CONVENTIONNÉ PROTSTANTE','CONV PROT','CONV.PROT.CEK', 'CONVENTIONNE PROTE', 'EGIE PROTETANT',\n",
    "                                                'CONVETIONNÉ PROTESTANTE','CONVENTIONNÉ PROTESTANTE','CONV.PROT. CEK', 'CONFETINNEL PROTE', 'ECV.PROTESTANTE', 'PROTEST CEFMC',\n",
    "                                                'CONVENTIONNE PROTESTENTE','CONV.PROTESTENT','CONV.PROTESTENTE CEK','CONV. PROTESTENT', 'ECV.PROTESTANT','POTESTANT CMCO',\n",
    "                                                'CONVENTIONNE  PROTESTENT','CONVENTIONÉ PROTEST','CONVENTIONNE  PROTESTANT','CONV. PROTEST','CONV PROTESTENT', 'PROTESTENT/CEFMC',\n",
    "                                                'CONVENTIONNÉ PROTETANTE','CONVENTIONNEE PROTESTANTE CEBAWB','CONV PROSTANTE','CONVENTIONNELLE PROTESTANTE', 'PROTESTANT CMCO',\n",
    "                                                'CONV  PROSTANTE','CONFESSIONNELLE PROTESTANTEΜ','CONV. PROTESTANTE','CONV. PROTESTANT','CONV.PROTESTANT', 'PROTESTANT CEK',\n",
    "                                                'CONV.PROT. CADC','CONV. PROTESTENT/ESECO','CONV.PROTEST','CONVENTINNÉ PROTESTANTE','CONVENSIONÉE PROTESTANTE', 'PROTESTATNTE',\n",
    "                                                'CONVENTIONNEE PROTESTANTE 44ÈCBFA','COVENTIONNÉ PROTESTENTE','CONV. PROT','CONV.PROTESTENT/CEMCO','¨CONVENTIONNE PROTESTANT',\n",
    "                                                'CONVENTIONNEE PROTESTANTE 53È CBK','CONVENTIONNE  PRETESTENTE','CONVENTIONÉ PROTESTANTE','CONVENTIONNE ¨PROTESTANT',\n",
    "                                                'CONV.PROT. CBSK','CONVENTIONNEE PROTESTANTE','CONV PROTESTENT/ESECO','CONVETIONNE PROTESTANTPIED','CONV.PROTEST/CLC', 'PROTESTENT/CEMCO',\n",
    "                                                'CNVENTIONNE PROTESTANT','COVENTIONNÉ PROSTESTENTE, ECOLE EN DURABLE MAIS EN MAUVAIS ETAT  PAS DE PIPITRE','CONV.PROTEST/ESECO',\n",
    "                                                'CONV. PROTESTENT/CELC','CONV PROTESTENT/CELC','CONVENTIONNEE PROTESTANTE CFO','CONVENT PROTESTANTE', 'CONF. PROT.','CONF. PROT',\n",
    "                                                'PROTESTANTE','PROTESTENT','PR0TESTANTE','PRORESTENT','PR0TESTANT','PROTEST','CONV PROTESTANT','CONFESSION PROTESTANTE', 'PROTESTENT CEMCO',\n",
    "                                                'CON. PROTESTANT','CONFESSION   PROTESTANTE','CONFESSION  PROTESTANTE','CONV.PROT','CP','ECOLE PROTESTANTE','ECP',\n",
    "                                                'REVEIL CONVEVENTIONNE PROTESTANTE'], 'PROTESTANT')\n",
    "\n",
    "df['APPARTENANCE'] = df['APPARTENANCE'].replace(['CONVENTIONNE CATHOLIQUE','CONV.CATHOLIQUE','CONVENTIONNÉE CATHOLIQUE', 'CONFETINNELLE CATH', 'CONV CATH', 'CONV CATHOLIQ',\n",
    "                                                'CONVENTIONNEE CATHOLIQUE','CONVENTIONNÉ CATHOLIQUE ','CONVENTIONNÉ CATHOLIQUE','CONV CATHOL', 'CONV CATOLIQUE', 'CTHOLIQUE',\n",
    "                                                'CONV. CATHOLIQUE','CONVENTIONNE  CATHOLIQUE','CONVENTIONNÉ  CATHOLIQUE','CONVENTIONNÉE  CATHOLIQUE','CONVENTIONNNE CATHOLIQUE',\n",
    "                                                'CONVENTION CATHOLIQUE','CONV.CATH','COVENTIONE CATHOLIQUE','CONV COTHOLIQUE','CONV,CATHOLIQUE','CONVENTIONÉ CATHO','CONV;CATHOLIQUE',\n",
    "                                                'ETAT  CONVENTIONE CATHOLIQUE','CONVETIONNE CATHOIUE','CONVCATHOLIQUE','CONV, CATHOLIQUE','CONVENTIONNELLE CATHOLIQUE',\n",
    "                                                'CATH','CATHOIQUE','CATHOLOQUE','CATHOILQUE','. CATHOLIQUE', 'CONV CATHOLIQUE', 'CON CATHOLIQUE', 'CONVENTIONNÉ CATHOLIQ',\n",
    "                                                'CONF. CATH.','CONFESSIONNELLE CATHOLIQUE','CONCESSION CATHOLIQUE','CONCESSION CATH','CONF.  CATH.', 'EC CATHOLIQUE',\n",
    "                                                'CONF.CATH.','CONFE CATH','CONFESSIN CATHOLIQUE','CONFESSIO  CATHOLIUE','CONFESSION   CATHOLIQUE', 'CONFESSION CATHOLIQUE',\n",
    "                                                'CONFESSION  CATHOLIQUE','CONVE. CATHOLIQUE','CONVENT CATHOLIQUE','CONVENTIONNE CATH','CONVENTIONNE CATHO','CONVENTIONNE CATHOL',\n",
    "                                                'ECCAT','ECCATH','ECCATHOL','ECC','ECCO','ECC0','ECECO','ECV. CATHOLIQUE','ECV.CATHOLIQUE','EGLISE CATHOLIQUE','EMC CATHOLIQUE'], 'CATHOLIQUE')\n",
    "\n",
    "\n",
    "df['APPARTENANCE'] = df['APPARTENANCE'].replace(['SAKIMA MINIERE','SOCIETE SAKIMA'], 'SAKIMA')\n",
    "\n",
    "\n",
    "df['APPARTENANCE'] = df['APPARTENANCE'].replace(['OFFICIELLE'], 'OFFICIEL')\n",
    "df['APPARTENANCE'] = df['APPARTENANCE'].replace(['REVEIL','RÉVEIL','RÉVEILLE'], 'REVEILLE')\n",
    "df['APPARTENANCE'] = df['APPARTENANCE'].replace(['CONV.'], 'CONVENTION')\n",
    "df['APPARTENANCE'] = df['APPARTENANCE'].replace(['NON CONVENTIONNE','NON COVENTIONNEE','NON CONV'], 'NON CONVENTIONNEE')\n",
    "df['APPARTENANCE'] = df['APPARTENANCE'].replace(['CONV.METHODISTE','CONV METHOD','CONFETINNEL METODISTE','CONV METHODISTE UNIE','CONVENT METHODISTE','CONVENTIONNEE 28E METHODISTE',\n",
    "                                                'CONVETIONNEE 28E METHODISTE','CONVMETHODISTE','ECM','ECV.METHODISTE','CONV METHODISTE'],'METHODISTE' )\n",
    "df['APPARTENANCE'] = df['APPARTENANCE'].replace(['PRIVÉ','¨PRIVEE','PRIVEE','PRIVÉE','PRIVÉ  INTEGRÉ','PRIVE AGREE','PRIVÉ/OSD','PRIVEE  AGREE','PRIVEE AGREE','PRIVVE'], 'PRIVE')\n",
    "df['APPARTENANCE'] = df['APPARTENANCE'].replace(['BRAHNAM','BRANAM','BRANHAM'], 'BRANAHAM')\n",
    "df['APPARTENANCE'] = df['APPARTENANCE'].replace(['19E  CEEBCO','19E CEBCO'], '19E CEEBCO')\n",
    "df['APPARTENANCE'] = df['APPARTENANCE'].replace(['BRAHAMANISTE','BRANAMISTE'], 'BRANAHAM')\n",
    "df['APPARTENANCE'] = df['APPARTENANCE'].replace(['CONFESSION'], 'CONFESSIONNELLE')\n",
    "df['APPARTENANCE'] = df['APPARTENANCE'].replace(['5E  COMMUNAUTE CELPA','5E COMM . CELPA','5E COMMUN. CELPA','5E FEPACO ZAMBE MALAMU','CONV 5È CELPA',\n",
    "                                                '5ÉM CELPA','5ÈME CELPA','5È CELPA','CONV. 5È CELPA'], '5E CELPA')\n",
    "\n",
    "df['APPARTENANCE'] = df['APPARTENANCE'].replace(['7E JOUR ADVENTISTE','7ÉM ECC','7ÉM ECGCO'], '7E CEGC')\n",
    "df['APPARTENANCE'] = df['APPARTENANCE'].replace(['81E C. METHODISTE','81E CM','CONV. 81È COM METHODISTE UNIE'], '81E COMMUN METHODISTE')\n",
    "df['APPARTENANCE'] = df['APPARTENANCE'].replace(['EGLISE DE REVEIL','EGLISE DE REVIEL','EGLISE REVEIL'], 'EGLISE DE REVEILLE')\n",
    "df['APPARTENANCE'] = df['APPARTENANCE'].replace(['MUSILMAN','MUSULMANE','MUSULMANS','CONV MUSULMANE'], 'MUSULMAN')\n",
    "df['APPARTENANCE'] = df['APPARTENANCE'].replace(['NEO','NEO AOSTOLIQUE','NEO AP','NEO APOST','NEO APOSTOL','NEO APPOSTOLIQUE','NEO-APOSTOLIQUE','NEOAPOSTOLIQUE'], 'NEO APOSTOLIQUE')\n",
    "df['APPARTENANCE'] = df['APPARTENANCE'].replace(['T  J','T.JEHOVA','TEMOIN','TEMOIN DE JEHOVA','TEMOIN DE JEHOVAH','TEMOIN DE JOHOVAH','TEMOIN DE JOVAH',\n",
    "                                                 'TEMOINS DE JEHOV','TEMOINS DE JEHOVA','TEMOINS DE JÉHOVA','TEMOINS DE JEHOVAH','TÉMOINS DE JEHOVAH','TEMOINS DE JOVAH','JEHOVISTE'], 'TÉMOINS DE JÉHOVAH')\n",
    "df['APPARTENANCE'] = df['APPARTENANCE'].replace(['8È CEPAC','8ECEPAC','CONV 8E CEPAC','CONV 8E CEPAC CONFESSIONNELLE','CONV.  8ÈME CEPAL'], '8E CEPAC')\n",
    "df['APPARTENANCE'] = df['APPARTENANCE'].replace(['CON. ISLAMIQUE','CONFESSION   ISLAMIQUE','CONFESSION  ISLAMIQUE','CONFESSION ISLAMIQUE','CONV ISLAM/','CONV ISLAMIQUE',\n",
    "                                                'CONV. ISLAMIQUE','CONV.ISLAMIQUE','CONVENT ISLAMIQUE','CONVENTIONNE ISLAMIQUE','CONVENTIONNEISLAMIQ','ECV.ISLAMIQUE','ISLAM','IBLAMIQUE'], 'ISLAMIQUE')\n",
    "df['APPARTENANCE'] = df['APPARTENANCE'].replace(['CONVENTIONNEE', 'CONVENTIONNÉE'], 'CONVENTIONNELLE')\n",
    "df['APPARTENANCE'] = df['APPARTENANCE'].replace(['KIMBAQUISTE','KIMBANGWISTE','KIMBANGUSTE','KIMBANGUST',\n",
    "                                                'CONFESSION   KIMBANGISTE','CONFESSION  KIMBANGISTE','CONFESSION KIMBANGISTE','CONFESSIONNELLE KIMBANGUISTE','CONV  KIMBANGUISTE',\n",
    "                                                 'CONV KIMB','CONV KIMBAGIUSTE','CONV KIMBAGUISTE','CONV KIMBAGUITE','CONV KIMBANGUISTE','CONV KIMBNGUISTE','CONV. KIMBANGISTE','CONV. KIMBANGUISTE',\n",
    "                                                 'CONV.KIMBANGUIST','CONV.KIMBANGUISTE','CONVENT KIMBANGUISTE','CONVENTION  KIMBANGUISTE','CONVENTIONNEE KIMBANGUISTE','CONVENTIONNÉE KIMBANGUISTE',\n",
    "                                                 'EC KIMBAGUITE','EC KIMBANGUISME','EKIMBANGUISTE','KIMBAGUISTE','KIMBANGISTE','KIMBANGUISME'], 'KIMBANGUISTE')\n",
    "\n",
    "\n",
    "app_dist = df['APPARTENANCE'].value_counts().to_frame()\n",
    "# app_dist.head(50)\n",
    "# app_dist.to_excel('app_dist.xlsx')"
   ]
  },
  {
   "cell_type": "code",
   "execution_count": 84,
   "metadata": {},
   "outputs": [],
   "source": [
    "df['ZONE DE SANTE'] = df['ZONE DE SANTE'].replace(['BONDE'], 'BOENDE')\n",
    "df['ZONE DE SANTE'] = df['ZONE DE SANTE'].replace(['BUSNGA'], 'BUSANGA')\n",
    "df['ZONE DE SANTE'] = df['ZONE DE SANTE'].replace(['MWELA -LEMBWA', 'MWELA - LEMBWA','MWELA-LEMBWA'], 'MWELA LEMBWA' )\n",
    "df['ZONE DE SANTE'] = df['ZONE DE SANTE'].replace(['WAMBA LUADI','WAMBA-LUADI'], 'WAMBA LWADI')\n",
    "df['ZONE DE SANTE'] = df['ZONE DE SANTE'].replace(['KASONGO-LUNDA'], 'KASONGO LUNDA')\n",
    "df['ZONE DE SANTE'] = df['ZONE DE SANTE'].replace(['LUBTU'], 'LUBUTU')\n",
    "df['ZONE DE SANTE'] = df['ZONE DE SANTE'].replace(['KIMBAU'], 'KIMBAO')\n",
    "df['ZONE DE SANTE'] = df['ZONE DE SANTE'].replace(['RURALE DE KAJIJI'], 'KAJIJI')\n",
    "\n",
    "\n",
    "zone_dist = df['ZONE DE SANTE'].value_counts().to_frame()\n",
    "# zone_dist.to_excel('zone_list.xlsx')"
   ]
  },
  {
   "cell_type": "code",
   "execution_count": 85,
   "metadata": {},
   "outputs": [],
   "source": [
    "# Tshuapa\n",
    "df['AIRE DE SANTE'] = df['AIRE DE SANTE'].replace(['YANYANGOMBULA'], 'YANYANGO MBULA')\n",
    "# Kwango\n",
    "# No changes needed for Kwango\n",
    "\n",
    "aire_dist = df['AIRE DE SANTE'].value_counts().to_frame()\n",
    "# aire_dist.to_excel('aire_dist.xlsx')"
   ]
  },
  {
   "cell_type": "code",
   "execution_count": 86,
   "metadata": {},
   "outputs": [],
   "source": [
    "# Tshuapa and Kwango\n",
    "df['TERRITOIRE'] = df['TERRITOIRE'].replace(['KASONGO LUNDA', 'KASONG-LUNDA'], 'KASONGO-LUNDA')\n",
    "df['TERRITOIRE'] = df['TERRITOIRE'].replace(['K°-LUNDA'], 'K°LUNDA')\n",
    "df['TERRITOIRE'] = df['TERRITOIRE'].replace(['BONDE'], 'BOENDE')\n",
    "df['TERRITOIRE'] = df['TERRITOIRE'].replace(['KABAMBARE BB SALAMABILA','KABAMBARE BB SALAMABILAMU','KABAMBAREBB AWAMAZ','KABAMBAREBB AWAMAZKANYENGELEETA','KABAMBAREBB SAL','KABAMBAREBB WAMAZA','KABAMMBARE','KAMBARE'], 'KABAMBARE')\n",
    "df['TERRITOIRE'] = df['TERRITOIRE'].replace(['KENGEII'], 'KENGE II')\n",
    "\n",
    "df['TERRITOIRE'] = df['TERRITOIRE'].replace(['LUBTUTU','LBUTU'], 'LUBUTU')\n",
    "df['TERRITOIRE'] = df['TERRITOIRE'].replace(['MONOTO'], 'MONKOTO')\n",
    "df['TERRITOIRE'] = df['TERRITOIRE'].replace(['PUNIK'], 'PUNIA')\n",
    "\n",
    "\n",
    "terr_dist = df['TERRITOIRE'].value_counts().to_frame()\n",
    "# terr_dist.to_excel('terr_dist.xlsx')\n"
   ]
  },
  {
   "cell_type": "code",
   "execution_count": 87,
   "metadata": {},
   "outputs": [],
   "source": [
    "# Tshuapa and Kwango\n",
    "df['SECTEUR'] = df['SECTEUR'].replace(['KASONG-LUNDA', 'KASONGO-LUNDA' ], 'KASONGO LUNDA')\n",
    "df['SECTEUR'] = df['SECTEUR'].replace(['PELENDE   NORD', 'PELENDE  NORD', 'PELENDENORD'], 'PELENDE NORD')\n",
    "df['SECTEUR'] = df['SECTEUR'].replace(['SWA- TENDA', 'SWA-TENDA'], 'SWA/TENDA')\n",
    "df['SECTEUR'] = df['SECTEUR'].replace(['GANA KETI'], 'GANAKETI')\n",
    "df['SECTEUR'] = df['SECTEUR'].replace(['AMWE'], 'AMBWE')\n",
    "df['SECTEUR'] = df['SECTEUR'].replace(['B. B LULINDI','B.B  LULINDI','B.B. LULINDI','B.BLULINDI','BB LULINDI'], 'B.B LULINDI')\n",
    "df['SECTEUR'] = df['SECTEUR'].replace(['BABANE'], 'BABENE')\n",
    "df['SECTEUR'] = df['SECTEUR'].replace(['BENY -SAMBA','BENYE   SAMBA','BENYE  SAMBA','BENYE-SAMBA'], 'BENYE SAMBA')\n",
    "df['SECTEUR'] = df['SECTEUR'].replace(['LOANDAO'], 'LOANDO')\n",
    "df['SECTEUR'] = df['SECTEUR'].replace(['MAMBA  KASENGA','MAMBA-KASENGA'], 'MAMBA KASENGA')\n",
    "df['SECTEUR'] = df['SECTEUR'].replace(['WAKABONGO 2'], 'WAKABANGO 2')\n",
    "\n",
    "\n",
    "sec_dist = df['SECTEUR'].value_counts().to_frame()\n",
    "# sec_dist.to_excel('sec_dist.xlsx')"
   ]
  },
  {
   "cell_type": "code",
   "execution_count": 88,
   "metadata": {},
   "outputs": [],
   "source": [
    "df['GROUPEMENT'] = df['GROUPEMENT'].replace(['BÎTADI'], 'BITADI')\n",
    "df['GROUPEMENT'] = df['GROUPEMENT'].replace(['TSAKUNKAKABATU'], 'TSAKUNKAKA BATU')\n",
    "df['GROUPEMENT'] = df['GROUPEMENT'].replace(['MWANA UTA'], 'MWANA-UTA')\n",
    "df['GROUPEMENT'] = df['GROUPEMENT'].replace(['MUSANZINGOMBO'], 'MUSANZI NGOMBO')\n",
    "df['GROUPEMENT'] = df['GROUPEMENT'].replace(['MULOPONDINDI'], 'MULOPO NDINDI')\n",
    "df['GROUPEMENT'] = df['GROUPEMENT'].replace(['PENETATAMBA'], 'PENEKATAMBA')\n",
    "df['GROUPEMENT'] = df['GROUPEMENT'].replace(['PENE  MWIMBA','PENE -MWIMBA'], 'PENE-MWIMBA')\n",
    "df['GROUPEMENT'] = df['GROUPEMENT'].replace(['NGOMBENYAMA'], 'NGOMBEMUNA')\n",
    "df['GROUPEMENT'] = df['GROUPEMENT'].replace(['MUHIYA2'], 'MUHIYA 2')\n",
    "df['GROUPEMENT'] = df['GROUPEMENT'].replace(['MUHIYA I', 'MUHIYA1'], 'MUHIYA 1')\n",
    "df['GROUPEMENT'] = df['GROUPEMENT'].replace(['MUDIKIKAMBA'], 'MUDKIKAMBA')\n",
    "df['GROUPEMENT'] = df['GROUPEMENT'].replace(['KASONGO-LUNDA'], 'KASONGO LUNDA')\n",
    "\n",
    "group_dist = df['GROUPEMENT'].value_counts().to_frame()\n",
    "# group_dist.to_excel('group_dist.xlsx')"
   ]
  },
  {
   "cell_type": "code",
   "execution_count": 89,
   "metadata": {},
   "outputs": [],
   "source": [
    "df['COMMUNE'] = df['COMMUNE'].replace(['PELENDDE NORD','PELENDE NODR', 'PELNDE NORD', 'PELEND NORD', 'PELEND NORD',\n",
    "                                       'PELENDE ONRD','PELENDE  NORD','PELEND  NORD','PLENDE NORD','PELNDE  NORD','PELENDE  NODR' ], 'PELENDE NORD')\n",
    "df['COMMUNE'] = df['COMMUNE'].replace(['COMMUNE DEPANGI','COMMUNEDE PANGI'],'COMMUNE DE PANGI')\n",
    "\n",
    "\n",
    "com_dist = df['COMMUNE'].value_counts().to_frame()\n",
    "# com_dist.to_excel('com_dist.xlsx')"
   ]
  },
  {
   "cell_type": "code",
   "execution_count": 90,
   "metadata": {},
   "outputs": [],
   "source": [
    "df['QUARTIER'] = df['QUARTIER'].replace(['SWA  KASONGO'], 'SWA KASONGO')\n",
    "df['QUARTIER'] = df['QUARTIER'].replace(['SWA  YAMFU'], 'SWA YAMFU')\n",
    "df['QUARTIER'] = df['QUARTIER'].replace(['MIRIPA'], 'MIRIPIA')\n",
    "df['QUARTIER'] = df['QUARTIER'].replace(['MUFALA  II'], 'MUFALA II')\n",
    "df['QUARTIER'] = df['QUARTIER'].replace(['NINGOBESA'], 'NIONGOBESSA')\n",
    "\n",
    "\n",
    "quarter_dist = df['QUARTIER'].value_counts().to_frame()\n",
    "# quarter_dist.to_excel('quarter_dist.xlsx')"
   ]
  },
  {
   "cell_type": "code",
   "execution_count": 91,
   "metadata": {},
   "outputs": [],
   "source": [
    "df['NOM DU RESPONSIBLE'] = df['NOM DU RESPONSIBLE'].replace(['KAZADI  AKIM'], 'KAZADI AKIM')\n",
    "df['NOM DU RESPONSIBLE'] = df['NOM DU RESPONSIBLE'].replace(['ANDRE SHAKO LOLONGA','ANDRÉ SHAKO LOLONGA'], 'ANDRÉ SHAKO  LOLONGA')\n",
    "df['NOM DU RESPONSIBLE'] = df['NOM DU RESPONSIBLE'].replace(['IDUMBA  WITAMWINO'], 'IDUMBA WITAMWINO')\n",
    "df['NOM DU RESPONSIBLE'] = df['NOM DU RESPONSIBLE'].replace(['KABALA NGONGO','KABALA NGONGO ASER'], 'KABALA NGONGO ARSENE')\n",
    "df['NOM DU RESPONSIBLE'] = df['NOM DU RESPONSIBLE'].replace(['KAKULI AWAZI'], 'KAKUKI AWAZI')\n",
    "df['NOM DU RESPONSIBLE'] = df['NOM DU RESPONSIBLE'].replace(['KIKUNI NGUMBI','KIKUNI INGIMBI','KIKUNI  NGIMBI'], 'KIKUNI NGIMBI')\n",
    "df['NOM DU RESPONSIBLE'] = df['NOM DU RESPONSIBLE'].replace(['LIKUTA SABITI LEONARD'], 'LIKUTA SABITI LÉONARD')\n",
    "\n",
    "\n",
    "name_dist = df['NOM DU RESPONSIBLE'].value_counts().to_frame()\n",
    "# name_dist.to_excel('name_dist.xlsx')"
   ]
  },
  {
   "cell_type": "markdown",
   "metadata": {},
   "source": [
    "### Join with Clean Zone List"
   ]
  },
  {
   "cell_type": "code",
   "execution_count": 92,
   "metadata": {},
   "outputs": [],
   "source": [
    "clean_zone_df = pd.read_excel('/Users/peycke/Documents/proj/grid3/3_province_guide/clean_zone_upper.xlsx')\n",
    "joint_df = pd.merge(df, clean_zone_df, on=['ZONE DE SANTE'])\n",
    "joint_df = joint_df.drop(columns=['Unnamed: 0.1', 'Unnamed: 0','DPS_ID', 'DPS_UID','DATE','Unnamed: 0.1.1']) # Drop empty or duplicate columns"
   ]
  },
  {
   "cell_type": "code",
   "execution_count": 93,
   "metadata": {},
   "outputs": [
    {
     "data": {
      "text/plain": [
       "Index(['NWAYPT', 'LATITUDE_EXCEL', 'LONGITUDE_EXCEL', 'NOM DE L'ENTITE',\n",
       "       'TYPE', 'OBSERVATION', 'TERRITOIRE', 'SECTEUR', 'GROUPEMENT',\n",
       "       'APPARTENANCE', 'ACCESSIBILITE', 'NOM DU RESPONSIBLE', 'AIRE DE SANTE',\n",
       "       'ZONE DE SANTE', 'GPS', 'COMMUNE', 'QUARTIER', 'DATETIME', 'ELEVATION',\n",
       "       'GEOMETRY', 'LATITUDE', 'LONGITUDE', 'SUBTYPE',\n",
       "       'LOCATION REVIEW PRIORITY', 'ZS_UID', 'ZS_PROVINCE', 'PROVINCE_CODE',\n",
       "       'PROVINCE_NAME'],\n",
       "      dtype='object')"
      ]
     },
     "execution_count": 93,
     "metadata": {},
     "output_type": "execute_result"
    }
   ],
   "source": [
    "joint_df.columns"
   ]
  },
  {
   "cell_type": "markdown",
   "metadata": {},
   "source": [
    "### Save Processed Versions"
   ]
  },
  {
   "cell_type": "code",
   "execution_count": 96,
   "metadata": {},
   "outputs": [],
   "source": [
    "# Check types before saving\n",
    "# Lat Lon must be numeric\n",
    "cols_list = joint_df.dtypes.to_frame()\n",
    "# cols_list\n",
    "# cols_list.to_excel('cols.xlsx')"
   ]
  },
  {
   "cell_type": "code",
   "execution_count": 19,
   "metadata": {},
   "outputs": [],
   "source": [
    "# Save full data to excel\n",
    "joint_df.to_excel('3_province_cleanedV1.xlsx')"
   ]
  },
  {
   "cell_type": "markdown",
   "metadata": {},
   "source": [
    "### Create Reference Sheets"
   ]
  },
  {
   "cell_type": "code",
   "execution_count": 94,
   "metadata": {},
   "outputs": [],
   "source": [
    "def full_reference_sheet():\n",
    "    writer = pd.ExcelWriter('full_reference_sheet.xlsx', engine='xlsxwriter')\n",
    "    # Write each dataframe to a different worksheet.\n",
    "    acc_dist.to_excel(writer, sheet_name='ACCESSIBILITE')\n",
    "    app_dist.to_excel(writer, sheet_name='APPARTENANCE')\n",
    "    type_dist.to_excel(writer, sheet_name='TYPE')\n",
    "    zone_dist.to_excel(writer, sheet_name='ZONE DE SANTE')\n",
    "    aire_dist.to_excel(writer, sheet_name='AIRE DE SANTE')\n",
    "    terr_dist.to_excel(writer, sheet_name='TERRITOIRE')\n",
    "    sec_dist.to_excel(writer, sheet_name='SECTEUR')\n",
    "    group_dist.to_excel(writer, sheet_name='GROUPEMENT')\n",
    "    com_dist.to_excel(writer, sheet_name='COMMUNE')\n",
    "    quarter_dist.to_excel(writer, sheet_name='QUARTIER')\n",
    "    name_dist.to_excel(writer, sheet_name='NOM DU RESPONSIBLE')\n",
    "    # Close the Pandas Excel writer and output the Excel file.\n",
    "    writer.save()\n",
    "\n",
    "def location_reference_sheet(province_name):\n",
    "    writer = pd.ExcelWriter(f'{province_name}_location_reference_sheet.xlsx', engine='xlsxwriter')\n",
    "    # Write each dataframe to a different worksheet.\n",
    "    zone_dist.to_excel(writer, sheet_name='ZONE DE SANTE')\n",
    "    aire_dist.to_excel(writer, sheet_name='AIRE DE SANTE')\n",
    "    terr_dist.to_excel(writer, sheet_name='TERRITOIRE')\n",
    "    sec_dist.to_excel(writer, sheet_name='SECTEUR')\n",
    "    group_dist.to_excel(writer, sheet_name='GROUPEMENT')\n",
    "    com_dist.to_excel(writer, sheet_name='COMMUNE')\n",
    "    quarter_dist.to_excel(writer, sheet_name='QUARTIER')\n",
    "    # Close the Pandas Excel writer and output the Excel file.\n",
    "    writer.save()\n",
    "    \n",
    "def location_independent_reference_sheet():\n",
    "    writer = pd.ExcelWriter('location_independent_reference_sheet.xlsx', engine='xlsxwriter')\n",
    "    # Write each dataframe to a different worksheet.\n",
    "    acc_dist.to_excel(writer, sheet_name='ACCESSIBILITE')\n",
    "    app_dist.to_excel(writer, sheet_name='APPARTENANCE')\n",
    "    type_dist.to_excel(writer, sheet_name='TYPE')\n",
    "    # Close the Pandas Excel writer and output the Excel file.\n",
    "    writer.save()\n",
    "    "
   ]
  },
  {
   "cell_type": "code",
   "execution_count": 95,
   "metadata": {},
   "outputs": [],
   "source": [
    "full_reference_sheet()\n",
    "location_reference_sheet('kwango')\n",
    "location_independent_reference_sheet()"
   ]
  },
  {
   "cell_type": "code",
   "execution_count": null,
   "metadata": {},
   "outputs": [],
   "source": []
  }
 ],
 "metadata": {
  "kernelspec": {
   "display_name": "grid3",
   "language": "python",
   "name": "grid3"
  },
  "language_info": {
   "codemirror_mode": {
    "name": "ipython",
    "version": 3
   },
   "file_extension": ".py",
   "mimetype": "text/x-python",
   "name": "python",
   "nbconvert_exporter": "python",
   "pygments_lexer": "ipython3",
   "version": "3.7.7"
  }
 },
 "nbformat": 4,
 "nbformat_minor": 4
}
