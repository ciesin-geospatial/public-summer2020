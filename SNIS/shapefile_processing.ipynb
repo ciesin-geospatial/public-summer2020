{
 "cells": [
  {
   "cell_type": "code",
   "execution_count": 2,
   "metadata": {},
   "outputs": [],
   "source": [
    "import geopandas as gpd\n",
    "import pandas as pd\n",
    "import os"
   ]
  },
  {
   "cell_type": "markdown",
   "metadata": {},
   "source": [
    "### If joining a single shapefile that contains data over multiple days, use the next two cells to load the file.\n",
    "\n",
    "### Otherwise, skip to the multi file section"
   ]
  },
  {
   "cell_type": "markdown",
   "metadata": {},
   "source": [
    "#### Load Shapefile - Single File"
   ]
  },
  {
   "cell_type": "code",
   "execution_count": null,
   "metadata": {},
   "outputs": [],
   "source": [
    "# cd to shapefile directory \n",
    "# shp_filepath = '45.shp'\n",
    "# shp_df = gpd.read_file(shp_filepath)"
   ]
  },
  {
   "cell_type": "markdown",
   "metadata": {},
   "source": [
    "### Multi File (skip next two cells if single file is used)\n",
    "\n",
    "### Use this section if there are multiple gpx shapefiles for a single device \n",
    "\n",
    "#### Load Shapefile - Multi File"
   ]
  },
  {
   "cell_type": "code",
   "execution_count": 110,
   "metadata": {},
   "outputs": [
    {
     "name": "stdout",
     "output_type": "stream",
     "text": [
      "/Users/peycke/Documents/proj/grid3/maniema/maniema_gps/Zs Tunda\n"
     ]
    }
   ],
   "source": [
    "# Change to directory of shapefiles\n",
    "%cd '~/Documents/proj/grid3/maniema/maniema_gps/Zs Tunda'"
   ]
  },
  {
   "cell_type": "code",
   "execution_count": 111,
   "metadata": {},
   "outputs": [
    {
     "name": "stdout",
     "output_type": "stream",
     "text": [
      "There are 5 waypoint files in the dataframe\n",
      "The shapefile dataframe shape is (45, 9)\n"
     ]
    }
   ],
   "source": [
    "cwd = os.path.abspath('') \n",
    "files = os.listdir(cwd)  \n",
    "df = pd.DataFrame()\n",
    "total_count = 0 # Total count should be the number of waypoint files\n",
    "for file in files:\n",
    "    if file.endswith('.shp'):\n",
    "        if total_count == 0:\n",
    "            shp_df = gpd.read_file(file)\n",
    "            total_count +=1\n",
    "        else:\n",
    "            shp_df = shp_df.append(gpd.read_file(file), ignore_index=True)\n",
    "            total_count+=1\n",
    "\n",
    "print(f'There are {total_count} waypoint files in the dataframe')\n",
    "print(f'The shapefile dataframe shape is {shp_df.shape}')"
   ]
  },
  {
   "cell_type": "markdown",
   "metadata": {},
   "source": [
    "### Shapefile Processing"
   ]
  },
  {
   "cell_type": "code",
   "execution_count": 112,
   "metadata": {},
   "outputs": [
    {
     "data": {
      "text/plain": [
       "WPT    45\n",
       "Name: Type, dtype: int64"
      ]
     },
     "execution_count": 112,
     "metadata": {},
     "output_type": "execute_result"
    }
   ],
   "source": [
    "shp_df = shp_df.rename(columns={\"Name\": \"NWAYPT\"})\n",
    "shp_df['NWAYPT'] = shp_df['NWAYPT'].astype(int)\n",
    "shp_df['Type'].value_counts()"
   ]
  },
  {
   "cell_type": "markdown",
   "metadata": {},
   "source": [
    "### Load Excel data"
   ]
  },
  {
   "cell_type": "code",
   "execution_count": 114,
   "metadata": {},
   "outputs": [
    {
     "name": "stdout",
     "output_type": "stream",
     "text": [
      "/Users/peycke/Documents/proj/grid3/maniema/arranged_data\n",
      "Excel date is 28/12/2018\n",
      "GPS date is 2018-12-05T18:49:41Z\n"
     ]
    }
   ],
   "source": [
    "excel_path = 'GPS04.xlsx'\n",
    "\n",
    "\n",
    "excel_df = pd.read_excel(excel_path)\n",
    "excel_df['NWAYPT'] = excel_df['NWAYPT'].astype(int)\n",
    "df = pd.merge(excel_df, shp_df, on=['NWAYPT'])\n",
    "#Verify dates are the same\n",
    "print(f'Excel date is {df.Date[0]}')\n",
    "print(f'GPS date is {df.DateTimeS[0]}')\n",
    "\n",
    "# Data collection regularly occurs over multiple days or weeks\n",
    "# If the output does not show an exact match, more dates should be examined before proceeding"
   ]
  },
  {
   "cell_type": "code",
   "execution_count": 115,
   "metadata": {},
   "outputs": [
    {
     "name": "stdout",
     "output_type": "stream",
     "text": [
      "Excel unique waypoints:42 \n",
      "GPS unique waypoints: 45\n"
     ]
    }
   ],
   "source": [
    "excel_wypts = excel_df['NWAYPT'].nunique()\n",
    "shp_wypts = shp_df['NWAYPT'].nunique()\n",
    "print(f'Excel unique waypoints:{excel_wypts} ')\n",
    "print(f'GPS unique waypoints: {shp_wypts}')\n",
    "# Because of locations with multiple entries at the same location\n",
    "# we look at number of unique entries for both GPS and excel data\n",
    "# More unique GPS waypoints is common\n",
    "# however if there are fewer unique GPS waypoints than unique excel waypoints there may be an issue\n",
    "# If this is the case the shapefile should be examined further before joining. "
   ]
  },
  {
   "cell_type": "code",
   "execution_count": 116,
   "metadata": {},
   "outputs": [],
   "source": [
    "# Format, Rename, and Drop columns. \n",
    "\n",
    "df = df.drop(columns=['Id', 'Descript','Type', 'Symbol', 'Comment']) # Drop empty or duplicate columns\n",
    "df.rename(columns={'Longitude': 'Longitude_excel', 'Latitude': 'Latitude_excel','DateTimeS':'DateTime'}, inplace=True)\n",
    "df.rename(columns={'lon_dd': 'Longitude', 'lat_dd': 'Latitude','DateTimeS':'DateTime'}, inplace=True)\n",
    "df.set_index('NWAYPT', inplace=True)\n",
    "df.columns = map(str.upper, df.columns)"
   ]
  },
  {
   "cell_type": "code",
   "execution_count": 118,
   "metadata": {},
   "outputs": [
    {
     "name": "stdout",
     "output_type": "stream",
     "text": [
      "/Users/peycke/Documents/proj/grid3/data/SNIS/processed/maniema/joined\n"
     ]
    }
   ],
   "source": [
    "# Write joined excel file\n",
    "# %cd '~/Documents/proj/grid3/data/SNIS/processed/maniema/joined'\n",
    "df.to_excel(excel_path)  "
   ]
  },
  {
   "cell_type": "markdown",
   "metadata": {},
   "source": [
    "### Notes"
   ]
  }
 ],
 "metadata": {
  "kernelspec": {
   "display_name": "Python 3",
   "language": "python",
   "name": "python3"
  },
  "language_info": {
   "codemirror_mode": {
    "name": "ipython",
    "version": 3
   },
   "file_extension": ".py",
   "mimetype": "text/x-python",
   "name": "python",
   "nbconvert_exporter": "python",
   "pygments_lexer": "ipython3",
   "version": "3.7.7"
  }
 },
 "nbformat": 4,
 "nbformat_minor": 4
}
